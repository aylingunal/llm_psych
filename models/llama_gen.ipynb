{
 "cells": [
  {
   "cell_type": "code",
   "execution_count": 1,
   "metadata": {},
   "outputs": [
    {
     "name": "stderr",
     "output_type": "stream",
     "text": [
      "/home/gunala/miniconda3/envs/DialGenEnv/lib/python3.11/site-packages/tqdm/auto.py:21: TqdmWarning: IProgress not found. Please update jupyter and ipywidgets. See https://ipywidgets.readthedocs.io/en/stable/user_install.html\n",
      "  from .autonotebook import tqdm as notebook_tqdm\n"
     ]
    }
   ],
   "source": [
    "from transformers import AutoTokenizer, AutoModelForCausalLM\n",
    "import transformers\n",
    "import torch\n",
    "import os\n",
    "os.environ[\"CUDA_VISIBLE_DEVICES\"] = \"1,3\"\n"
   ]
  },
  {
   "cell_type": "code",
   "execution_count": 2,
   "metadata": {},
   "outputs": [
    {
     "name": "stderr",
     "output_type": "stream",
     "text": [
      "Loading checkpoint shards: 100%|██████████| 2/2 [00:36<00:00, 18.34s/it]\n"
     ]
    }
   ],
   "source": [
    "model_path = \"/home/gunala/LLMDialGen/llama_model_7b_chat\"\n",
    "model = AutoModelForCausalLM.from_pretrained(model_path, torch_dtype=torch.float32, device_map=\"auto\").eval()\n",
    "use_fast_tokenizer = \"LlamaForCausalLM\" not in model.config.architectures\n",
    "tokenizer = AutoTokenizer.from_pretrained(model_path, padding_side='left', use_fast=use_fast_tokenizer)\n",
    "tokenizer.pad_token = tokenizer.eos_token"
   ]
  },
  {
   "cell_type": "code",
   "execution_count": 14,
   "metadata": {},
   "outputs": [],
   "source": [
    "LLAMA2_PROMPT = \" <s>[INST] <<SYS>> \\\n",
    "                {{  }} \\\n",
    "                <</SYS>> \\\n",
    "                {{  }} [/INST] \"        "
   ]
  },
  {
   "cell_type": "code",
   "execution_count": 15,
   "metadata": {},
   "outputs": [],
   "source": [
    "# generate the llama response provided   \n",
    "def generate_llama_response(system_prompt, user_prompt):\n",
    "    # generate individual response; assuming system prompt is staying the same\n",
    "    prompt_formatted = LLAMA2_PROMPT.format(system_prompt,user_prompt)\n",
    "    input_ids = tokenizer(prompt_formatted, padding=True, return_tensors=\"pt\")\n",
    "    input_ids['input_ids'] = input_ids['input_ids'].cuda()#.cuda()\n",
    "    input_ids['attention_mask'] = input_ids['attention_mask'].cuda()#.cuda()\n",
    "    num_input_tokens = input_ids['input_ids'].shape[1]\n",
    "    outputs = model.generate(input_ids['input_ids'], attention_mask=input_ids['attention_mask'].half(),\n",
    "                                max_new_tokens=64, do_sample=True, pad_token_id=tokenizer.pad_token_id)\n",
    "    generation = tokenizer.batch_decode(outputs[:, num_input_tokens:], skip_special_tokens=True)\n",
    "\n",
    "    return generation"
   ]
  },
  {
   "cell_type": "code",
   "execution_count": 16,
   "metadata": {},
   "outputs": [
    {
     "ename": "AttributeError",
     "evalue": "'set' object has no attribute 'format'",
     "output_type": "error",
     "traceback": [
      "\u001b[0;31m---------------------------------------------------------------------------\u001b[0m",
      "\u001b[0;31mAttributeError\u001b[0m                            Traceback (most recent call last)",
      "\u001b[1;32m/home/gunala/LLMDialGen/models/llama_gen.ipynb Cell 5\u001b[0m line \u001b[0;36m2\n\u001b[1;32m      <a href='vscode-notebook-cell://ssh-remote%2B7b22686f73744e616d65223a226c6974313030302e656563732e756d6963682e656475222c2275736572223a2267756e616c61227d/home/gunala/LLMDialGen/models/llama_gen.ipynb#X14sdnNjb2RlLXJlbW90ZQ%3D%3D?line=0'>1</a>\u001b[0m \u001b[39m# unit gen\u001b[39;00m\n\u001b[0;32m----> <a href='vscode-notebook-cell://ssh-remote%2B7b22686f73744e616d65223a226c6974313030302e656563732e756d6963682e656475222c2275736572223a2267756e616c61227d/home/gunala/LLMDialGen/models/llama_gen.ipynb#X14sdnNjb2RlLXJlbW90ZQ%3D%3D?line=1'>2</a>\u001b[0m \u001b[39mprint\u001b[39m(generate_llama_response(\u001b[39m'\u001b[39;49m\u001b[39myou are a healthy individual playing prisoners dilemma\u001b[39;49m\u001b[39m'\u001b[39;49m ,\u001b[39m'\u001b[39;49m\u001b[39mi would like to defect this round\u001b[39;49m\u001b[39m'\u001b[39;49m))\n",
      "\u001b[1;32m/home/gunala/LLMDialGen/models/llama_gen.ipynb Cell 5\u001b[0m line \u001b[0;36m4\n\u001b[1;32m      <a href='vscode-notebook-cell://ssh-remote%2B7b22686f73744e616d65223a226c6974313030302e656563732e756d6963682e656475222c2275736572223a2267756e616c61227d/home/gunala/LLMDialGen/models/llama_gen.ipynb#X14sdnNjb2RlLXJlbW90ZQ%3D%3D?line=1'>2</a>\u001b[0m \u001b[39mdef\u001b[39;00m \u001b[39mgenerate_llama_response\u001b[39m(system_prompt, user_prompt):\n\u001b[1;32m      <a href='vscode-notebook-cell://ssh-remote%2B7b22686f73744e616d65223a226c6974313030302e656563732e756d6963682e656475222c2275736572223a2267756e616c61227d/home/gunala/LLMDialGen/models/llama_gen.ipynb#X14sdnNjb2RlLXJlbW90ZQ%3D%3D?line=2'>3</a>\u001b[0m     \u001b[39m# generate individual response; assuming system prompt is staying the same\u001b[39;00m\n\u001b[0;32m----> <a href='vscode-notebook-cell://ssh-remote%2B7b22686f73744e616d65223a226c6974313030302e656563732e756d6963682e656475222c2275736572223a2267756e616c61227d/home/gunala/LLMDialGen/models/llama_gen.ipynb#X14sdnNjb2RlLXJlbW90ZQ%3D%3D?line=3'>4</a>\u001b[0m     prompt_formatted \u001b[39m=\u001b[39m LLAMA2_PROMPT\u001b[39m.\u001b[39;49mformat(system_prompt,user_prompt)\n\u001b[1;32m      <a href='vscode-notebook-cell://ssh-remote%2B7b22686f73744e616d65223a226c6974313030302e656563732e756d6963682e656475222c2275736572223a2267756e616c61227d/home/gunala/LLMDialGen/models/llama_gen.ipynb#X14sdnNjb2RlLXJlbW90ZQ%3D%3D?line=4'>5</a>\u001b[0m     input_ids \u001b[39m=\u001b[39m tokenizer(prompt_formatted, padding\u001b[39m=\u001b[39m\u001b[39mTrue\u001b[39;00m, return_tensors\u001b[39m=\u001b[39m\u001b[39m\"\u001b[39m\u001b[39mpt\u001b[39m\u001b[39m\"\u001b[39m)\n\u001b[1;32m      <a href='vscode-notebook-cell://ssh-remote%2B7b22686f73744e616d65223a226c6974313030302e656563732e756d6963682e656475222c2275736572223a2267756e616c61227d/home/gunala/LLMDialGen/models/llama_gen.ipynb#X14sdnNjb2RlLXJlbW90ZQ%3D%3D?line=5'>6</a>\u001b[0m     input_ids[\u001b[39m'\u001b[39m\u001b[39minput_ids\u001b[39m\u001b[39m'\u001b[39m] \u001b[39m=\u001b[39m input_ids[\u001b[39m'\u001b[39m\u001b[39minput_ids\u001b[39m\u001b[39m'\u001b[39m]\u001b[39m.\u001b[39mcuda()\u001b[39m#.cuda()\u001b[39;00m\n",
      "\u001b[0;31mAttributeError\u001b[0m: 'set' object has no attribute 'format'"
     ]
    }
   ],
   "source": [
    "# unit gen\n",
    "print(generate_llama_response('you are a healthy individual playing prisoners dilemma' ,'i would like to defect this round'))"
   ]
  }
 ],
 "metadata": {
  "kernelspec": {
   "display_name": "DialGenEnv",
   "language": "python",
   "name": "python3"
  },
  "language_info": {
   "codemirror_mode": {
    "name": "ipython",
    "version": 3
   },
   "file_extension": ".py",
   "mimetype": "text/x-python",
   "name": "python",
   "nbconvert_exporter": "python",
   "pygments_lexer": "ipython3",
   "version": "3.11.5"
  },
  "orig_nbformat": 4
 },
 "nbformat": 4,
 "nbformat_minor": 2
}
