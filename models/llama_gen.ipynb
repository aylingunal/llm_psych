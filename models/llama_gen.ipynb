{
 "cells": [
  {
   "cell_type": "code",
   "execution_count": 1,
   "metadata": {},
   "outputs": [
    {
     "name": "stderr",
     "output_type": "stream",
     "text": [
      "/home/gunala/miniconda3/envs/DialGenEnv/lib/python3.11/site-packages/tqdm/auto.py:21: TqdmWarning: IProgress not found. Please update jupyter and ipywidgets. See https://ipywidgets.readthedocs.io/en/stable/user_install.html\n",
      "  from .autonotebook import tqdm as notebook_tqdm\n"
     ]
    }
   ],
   "source": [
    "from transformers import AutoTokenizer, AutoModelForCausalLM\n",
    "import transformers\n",
    "import torch\n",
    "import os\n",
    "os.environ[\"CUDA_VISIBLE_DEVICES\"] = \"1,3\"\n"
   ]
  },
  {
   "cell_type": "code",
   "execution_count": 2,
   "metadata": {},
   "outputs": [
    {
     "name": "stderr",
     "output_type": "stream",
     "text": [
      "Loading checkpoint shards: 100%|██████████| 2/2 [00:07<00:00,  3.97s/it]\n"
     ]
    }
   ],
   "source": [
    "# a couple adjustments made bc i only have 2 GPUs right now;\n",
    "# --> float16 instead of float32, device='balanced' instead of auto\n",
    "model_path = \"/home/gunala/LLMDialGen/llama_model_7b_chat\"\n",
    "model = AutoModelForCausalLM.from_pretrained(model_path, torch_dtype=torch.float16, device_map=\"balanced\").eval()\n",
    "use_fast_tokenizer = \"LlamaForCausalLM\" not in model.config.architectures\n",
    "tokenizer = AutoTokenizer.from_pretrained(model_path, padding_side='left', use_fast=use_fast_tokenizer)\n",
    "tokenizer.pad_token = tokenizer.eos_token"
   ]
  },
  {
   "cell_type": "code",
   "execution_count": 3,
   "metadata": {},
   "outputs": [],
   "source": [
    "LLAMA2_PROMPT = \" <s>[INST] <<SYS>> \\\n",
    "                {{  }} \\\n",
    "                <</SYS>> \\\n",
    "                {{  }} [/INST] \"        "
   ]
  },
  {
   "cell_type": "code",
   "execution_count": 4,
   "metadata": {},
   "outputs": [],
   "source": [
    "# generate the llama response provided   \n",
    "def generate_llama_response(system_prompt, user_prompt):\n",
    "    # generate individual response; assuming system prompt is staying the same\n",
    "    prompt_formatted = LLAMA2_PROMPT.format(system_prompt,user_prompt)\n",
    "    input_ids = tokenizer(prompt_formatted, padding=True, return_tensors=\"pt\")\n",
    "    input_ids['input_ids'] = input_ids['input_ids'].cuda()#.cuda()\n",
    "    input_ids['attention_mask'] = input_ids['attention_mask'].cuda()#.cuda()\n",
    "    num_input_tokens = input_ids['input_ids'].shape[1]\n",
    "    outputs = model.generate(input_ids['input_ids'], attention_mask=input_ids['attention_mask'].half(),\n",
    "                                max_new_tokens=64, do_sample=True, pad_token_id=tokenizer.pad_token_id)\n",
    "    generation = tokenizer.batch_decode(outputs[:, num_input_tokens:], skip_special_tokens=True)\n",
    "\n",
    "    return generation"
   ]
  },
  {
   "cell_type": "code",
   "execution_count": 5,
   "metadata": {},
   "outputs": [
    {
     "name": "stdout",
     "output_type": "stream",
     "text": [
      "['I\\'m not sure I understand what you are saying with \"{ }\". Could you explain?']\n"
     ]
    }
   ],
   "source": [
    "# unit gen\n",
    "print(generate_llama_response('you are a healthy individual playing prisoners dilemma' ,'i would like to defect this round'))"
   ]
  }
 ],
 "metadata": {
  "kernelspec": {
   "display_name": "DialGenEnv",
   "language": "python",
   "name": "python3"
  },
  "language_info": {
   "codemirror_mode": {
    "name": "ipython",
    "version": 3
   },
   "file_extension": ".py",
   "mimetype": "text/x-python",
   "name": "python",
   "nbconvert_exporter": "python",
   "pygments_lexer": "ipython3",
   "version": "3.11.5"
  },
  "orig_nbformat": 4
 },
 "nbformat": 4,
 "nbformat_minor": 2
}
