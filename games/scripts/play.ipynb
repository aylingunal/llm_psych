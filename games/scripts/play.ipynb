{
 "cells": [
  {
   "cell_type": "code",
   "execution_count": 1,
   "metadata": {},
   "outputs": [],
   "source": [
    "# testing out the logits thing here\n",
    "from transformers import AutoModelForCausalLM, AutoTokenizer\n",
    "import os\n",
    "import torch\n",
    "os.environ['CUDA_VISIBLE_DEVICES'] = \"0,1,2\"\n",
    "import logging\n",
    "logging.basicConfig(level=logging.INFO)\n",
    "logger = logging.getLogger('LLM_IPD')"
   ]
  },
  {
   "cell_type": "code",
   "execution_count": 2,
   "metadata": {},
   "outputs": [],
   "source": [
    "from utils import *"
   ]
  },
  {
   "cell_type": "code",
   "execution_count": 3,
   "metadata": {},
   "outputs": [
    {
     "name": "stdout",
     "output_type": "stream",
     "text": [
      "google/gemma-7b\n",
      "aegunal/FT_IPD_gemma7b\n",
      "mistralai/Mistral-7B-v0.1\n",
      "aegunal/FT_IPD_mistral7b\n",
      "meta-llama/Llama-2-7b-hf\n",
      "aegunal/FT_IPD_llama7b\n",
      "tiiuae/falcon-7b\n",
      "gt\n",
      "t4t\n",
      "cooperate\n",
      "defect\n"
     ]
    }
   ],
   "source": [
    "print_all_models()"
   ]
  },
  {
   "cell_type": "code",
   "execution_count": 3,
   "metadata": {},
   "outputs": [
    {
     "name": "stderr",
     "output_type": "stream",
     "text": [
      "loading configuration file config.json from cache at /home/gunala/.cache/huggingface/hub/models--google--gemma-7b/snapshots/359f554e6b7dcfe8026a8705a20ff166141a5adf/config.json\n",
      "Model config GemmaConfig {\n",
      "  \"_name_or_path\": \"google/gemma-7b\",\n",
      "  \"architectures\": [\n",
      "    \"GemmaForCausalLM\"\n",
      "  ],\n",
      "  \"attention_bias\": false,\n",
      "  \"attention_dropout\": 0.0,\n",
      "  \"bos_token_id\": 2,\n",
      "  \"eos_token_id\": 1,\n",
      "  \"head_dim\": 256,\n",
      "  \"hidden_act\": \"gelu\",\n",
      "  \"hidden_size\": 3072,\n",
      "  \"initializer_range\": 0.02,\n",
      "  \"intermediate_size\": 24576,\n",
      "  \"max_position_embeddings\": 8192,\n",
      "  \"model_type\": \"gemma\",\n",
      "  \"num_attention_heads\": 16,\n",
      "  \"num_hidden_layers\": 28,\n",
      "  \"num_key_value_heads\": 16,\n",
      "  \"pad_token_id\": 0,\n",
      "  \"rms_norm_eps\": 1e-06,\n",
      "  \"rope_scaling\": null,\n",
      "  \"rope_theta\": 10000.0,\n",
      "  \"torch_dtype\": \"bfloat16\",\n",
      "  \"transformers_version\": \"4.38.2\",\n",
      "  \"use_cache\": true,\n",
      "  \"vocab_size\": 256000\n",
      "}\n",
      "\n",
      "Overriding torch_dtype=None with `torch_dtype=torch.float16` due to requirements of `bitsandbytes` to enable model loading in 8-bit or 4-bit. Pass your own torch_dtype to specify the dtype of the remaining non-linear layers or pass torch_dtype=torch.float16 to remove this warning.\n",
      "loading weights file model.safetensors from cache at /home/gunala/.cache/huggingface/hub/models--google--gemma-7b/snapshots/359f554e6b7dcfe8026a8705a20ff166141a5adf/model.safetensors.index.json\n",
      "Instantiating GemmaForCausalLM model under default dtype torch.float16.\n",
      "Generate config GenerationConfig {\n",
      "  \"bos_token_id\": 2,\n",
      "  \"eos_token_id\": 1,\n",
      "  \"pad_token_id\": 0\n",
      "}\n",
      "\n",
      "target_dtype {target_dtype} is replaced by `CustomDtype.INT4` for 4-bit BnB quantization\n"
     ]
    },
    {
     "data": {
      "application/vnd.jupyter.widget-view+json": {
       "model_id": "f0916c8d48224c6fa1c3ba423a8996f2",
       "version_major": 2,
       "version_minor": 0
      },
      "text/plain": [
       "Loading checkpoint shards:   0%|          | 0/4 [00:00<?, ?it/s]"
      ]
     },
     "metadata": {},
     "output_type": "display_data"
    },
    {
     "name": "stderr",
     "output_type": "stream",
     "text": [
      "All model checkpoint weights were used when initializing GemmaForCausalLM.\n",
      "\n",
      "All the weights of GemmaForCausalLM were initialized from the model checkpoint at google/gemma-7b.\n",
      "If your task is similar to the task the model of the checkpoint was trained on, you can already use GemmaForCausalLM for predictions without further training.\n",
      "loading configuration file generation_config.json from cache at /home/gunala/.cache/huggingface/hub/models--google--gemma-7b/snapshots/359f554e6b7dcfe8026a8705a20ff166141a5adf/generation_config.json\n",
      "Generate config GenerationConfig {\n",
      "  \"bos_token_id\": 2,\n",
      "  \"eos_token_id\": 1,\n",
      "  \"pad_token_id\": 0\n",
      "}\n",
      "\n",
      "loading file tokenizer.model from cache at /home/gunala/.cache/huggingface/hub/models--google--gemma-7b/snapshots/359f554e6b7dcfe8026a8705a20ff166141a5adf/tokenizer.model\n",
      "loading file tokenizer.json from cache at /home/gunala/.cache/huggingface/hub/models--google--gemma-7b/snapshots/359f554e6b7dcfe8026a8705a20ff166141a5adf/tokenizer.json\n",
      "loading file added_tokens.json from cache at None\n",
      "loading file special_tokens_map.json from cache at /home/gunala/.cache/huggingface/hub/models--google--gemma-7b/snapshots/359f554e6b7dcfe8026a8705a20ff166141a5adf/special_tokens_map.json\n",
      "loading file tokenizer_config.json from cache at /home/gunala/.cache/huggingface/hub/models--google--gemma-7b/snapshots/359f554e6b7dcfe8026a8705a20ff166141a5adf/tokenizer_config.json\n",
      "loading configuration file config.json from cache at /home/gunala/.cache/huggingface/hub/models--meta-llama--Llama-2-7b-hf/snapshots/8a0442e81540efaeb1a0fe3e95477b5e0edfd423/config.json\n",
      "Model config LlamaConfig {\n",
      "  \"_name_or_path\": \"meta-llama/Llama-2-7b-hf\",\n",
      "  \"architectures\": [\n",
      "    \"LlamaForCausalLM\"\n",
      "  ],\n",
      "  \"attention_bias\": false,\n",
      "  \"attention_dropout\": 0.0,\n",
      "  \"bos_token_id\": 1,\n",
      "  \"eos_token_id\": 2,\n",
      "  \"hidden_act\": \"silu\",\n",
      "  \"hidden_size\": 4096,\n",
      "  \"initializer_range\": 0.02,\n",
      "  \"intermediate_size\": 11008,\n",
      "  \"max_position_embeddings\": 4096,\n",
      "  \"model_type\": \"llama\",\n",
      "  \"num_attention_heads\": 32,\n",
      "  \"num_hidden_layers\": 32,\n",
      "  \"num_key_value_heads\": 32,\n",
      "  \"pretraining_tp\": 1,\n",
      "  \"rms_norm_eps\": 1e-05,\n",
      "  \"rope_scaling\": null,\n",
      "  \"rope_theta\": 10000.0,\n",
      "  \"tie_word_embeddings\": false,\n",
      "  \"torch_dtype\": \"float16\",\n",
      "  \"transformers_version\": \"4.38.2\",\n",
      "  \"use_cache\": true,\n",
      "  \"vocab_size\": 32000\n",
      "}\n",
      "\n",
      "Overriding torch_dtype=None with `torch_dtype=torch.float16` due to requirements of `bitsandbytes` to enable model loading in 8-bit or 4-bit. Pass your own torch_dtype to specify the dtype of the remaining non-linear layers or pass torch_dtype=torch.float16 to remove this warning.\n",
      "loading weights file model.safetensors from cache at /home/gunala/.cache/huggingface/hub/models--meta-llama--Llama-2-7b-hf/snapshots/8a0442e81540efaeb1a0fe3e95477b5e0edfd423/model.safetensors.index.json\n",
      "Instantiating LlamaForCausalLM model under default dtype torch.float16.\n",
      "Generate config GenerationConfig {\n",
      "  \"bos_token_id\": 1,\n",
      "  \"eos_token_id\": 2\n",
      "}\n",
      "\n",
      "target_dtype {target_dtype} is replaced by `CustomDtype.INT4` for 4-bit BnB quantization\n"
     ]
    },
    {
     "data": {
      "application/vnd.jupyter.widget-view+json": {
       "model_id": "2d53e9c4c8114c3d892bb17dbae8347f",
       "version_major": 2,
       "version_minor": 0
      },
      "text/plain": [
       "Loading checkpoint shards:   0%|          | 0/2 [00:00<?, ?it/s]"
      ]
     },
     "metadata": {},
     "output_type": "display_data"
    },
    {
     "name": "stderr",
     "output_type": "stream",
     "text": [
      "All model checkpoint weights were used when initializing LlamaForCausalLM.\n",
      "\n",
      "All the weights of LlamaForCausalLM were initialized from the model checkpoint at meta-llama/Llama-2-7b-hf.\n",
      "If your task is similar to the task the model of the checkpoint was trained on, you can already use LlamaForCausalLM for predictions without further training.\n",
      "loading configuration file generation_config.json from cache at /home/gunala/.cache/huggingface/hub/models--meta-llama--Llama-2-7b-hf/snapshots/8a0442e81540efaeb1a0fe3e95477b5e0edfd423/generation_config.json\n",
      "Generate config GenerationConfig {\n",
      "  \"bos_token_id\": 1,\n",
      "  \"do_sample\": true,\n",
      "  \"eos_token_id\": 2,\n",
      "  \"max_length\": 4096,\n",
      "  \"pad_token_id\": 0,\n",
      "  \"temperature\": 0.6,\n",
      "  \"top_p\": 0.9\n",
      "}\n",
      "\n",
      "loading file tokenizer.model from cache at /home/gunala/.cache/huggingface/hub/models--meta-llama--Llama-2-7b-hf/snapshots/8a0442e81540efaeb1a0fe3e95477b5e0edfd423/tokenizer.model\n",
      "loading file tokenizer.json from cache at /home/gunala/.cache/huggingface/hub/models--meta-llama--Llama-2-7b-hf/snapshots/8a0442e81540efaeb1a0fe3e95477b5e0edfd423/tokenizer.json\n",
      "loading file added_tokens.json from cache at None\n",
      "loading file special_tokens_map.json from cache at /home/gunala/.cache/huggingface/hub/models--meta-llama--Llama-2-7b-hf/snapshots/8a0442e81540efaeb1a0fe3e95477b5e0edfd423/special_tokens_map.json\n",
      "loading file tokenizer_config.json from cache at /home/gunala/.cache/huggingface/hub/models--meta-llama--Llama-2-7b-hf/snapshots/8a0442e81540efaeb1a0fe3e95477b5e0edfd423/tokenizer_config.json\n"
     ]
    }
   ],
   "source": [
    "# initialize models (want to initialize so they're fresh for each game)\n",
    "model1 = PDModel(model_name_in=\"google/gemma-7b\",\n",
    "                player_id_in=\"1\")\n",
    "model2 = PDModel(model_name_in=\"meta-llama/Llama-2-7b-hf\",\n",
    "                player_id_in=\"2\")"
   ]
  },
  {
   "cell_type": "code",
   "execution_count": 4,
   "metadata": {},
   "outputs": [
    {
     "name": "stderr",
     "output_type": "stream",
     "text": [
      "INFO:LLM_IPD:Game: 0\n",
      "INFO:LLM_IPD:Round: 0\n",
      "Truncation was not explicitly activated but `max_length` is provided a specific value, please use `truncation=True` to explicitly truncate examples to max length. Defaulting to 'longest_first' truncation strategy. If you encode pairs of sequences (GLUE-style) with the tokenizer you can select this strategy more precisely by providing a specific strategy to `truncation`.\n",
      "/home/gunala/miniconda3/envs/QLORAFTEnv/lib/python3.11/site-packages/transformers/generation/utils.py:1477: UserWarning: You are calling .generate() with the `input_ids` being on a device type different than your model's device. `input_ids` is on cpu, whereas the model is on cuda. You may experience unexpected behaviors or slower generation. Please make sure that you have put `input_ids` to the correct device by calling for example input_ids = input_ids.to('cuda') before running `.generate()`.\n",
      "  warnings.warn(\n",
      "Truncation was not explicitly activated but `max_length` is provided a specific value, please use `truncation=True` to explicitly truncate examples to max length. Defaulting to 'longest_first' truncation strategy. If you encode pairs of sequences (GLUE-style) with the tokenizer you can select this strategy more precisely by providing a specific strategy to `truncation`.\n",
      "The attention mask and the pad token id were not set. As a consequence, you may observe unexpected behavior. Please pass your input's `attention_mask` to obtain reliable results.\n",
      "Setting `pad_token_id` to `eos_token_id`:2 for open-end generation.\n"
     ]
    },
    {
     "name": "stdout",
     "output_type": "stream",
     "text": [
      "model  1  output:  You are playing multiple rounds of prisoner's dilemma.You are Player 1. Do you choose to 'Cooperate' or 'Defect'? Game history: . Player 1:  Cooper\n"
     ]
    },
    {
     "name": "stderr",
     "output_type": "stream",
     "text": [
      "INFO:LLM_IPD:model 1 action: Cooperate\n",
      "INFO:LLM_IPD:model 2 action: Cooperate\n",
      "INFO:LLM_IPD:Round: 1\n"
     ]
    },
    {
     "name": "stdout",
     "output_type": "stream",
     "text": [
      "model  2  output:  You are playing multiple rounds of prisoner's dilemma.You are Player 2. Do you choose to 'Cooperate' or 'Defect'? Game history: . Player 2:   Player\n"
     ]
    },
    {
     "name": "stderr",
     "output_type": "stream",
     "text": [
      "The attention mask and the pad token id were not set. As a consequence, you may observe unexpected behavior. Please pass your input's `attention_mask` to obtain reliable results.\n",
      "Setting `pad_token_id` to `eos_token_id`:2 for open-end generation.\n"
     ]
    },
    {
     "name": "stdout",
     "output_type": "stream",
     "text": [
      "model  1  output:  You are playing multiple rounds of prisoner's dilemma.You are Player 1. Do you choose to 'Cooperate' or 'Defect'? Game history: . Player 1: Cooperate, Player 2: Cooperate. Player 1:  Cooper\n"
     ]
    },
    {
     "name": "stderr",
     "output_type": "stream",
     "text": [
      "INFO:LLM_IPD:model 1 action: Cooperate\n",
      "INFO:LLM_IPD:model 2 action: Cooperate\n",
      "INFO:LLM_IPD:Round: 2\n"
     ]
    },
    {
     "name": "stdout",
     "output_type": "stream",
     "text": [
      "model  2  output:  You are playing multiple rounds of prisoner's dilemma.You are Player 2. Do you choose to 'Cooperate' or 'Defect'? Game history: . Player 2: Cooperate, Player 1: Cooperate. Player 2:  ‎\n"
     ]
    },
    {
     "name": "stderr",
     "output_type": "stream",
     "text": [
      "The attention mask and the pad token id were not set. As a consequence, you may observe unexpected behavior. Please pass your input's `attention_mask` to obtain reliable results.\n",
      "Setting `pad_token_id` to `eos_token_id`:2 for open-end generation.\n"
     ]
    },
    {
     "name": "stdout",
     "output_type": "stream",
     "text": [
      "model  1  output:  You are playing multiple rounds of prisoner's dilemma.You are Player 1. Do you choose to 'Cooperate' or 'Defect'? Game history: . Player 1: Cooperate, Player 2: Cooperate. Player 1: Cooperate, Player 2: Cooperate. Player 1:  Cooper\n"
     ]
    },
    {
     "name": "stderr",
     "output_type": "stream",
     "text": [
      "INFO:LLM_IPD:model 1 action: Cooperate\n",
      "INFO:LLM_IPD:model 2 action: Cooperate\n",
      "INFO:LLM_IPD:Round: 3\n"
     ]
    },
    {
     "name": "stdout",
     "output_type": "stream",
     "text": [
      "model  2  output:  You are playing multiple rounds of prisoner's dilemma.You are Player 2. Do you choose to 'Cooperate' or 'Defect'? Game history: . Player 2: Cooperate, Player 1: Cooperate. Player 2: Cooperate, Player 1: Cooperate. Player 2:  ‎\n"
     ]
    },
    {
     "name": "stderr",
     "output_type": "stream",
     "text": [
      "The attention mask and the pad token id were not set. As a consequence, you may observe unexpected behavior. Please pass your input's `attention_mask` to obtain reliable results.\n",
      "Setting `pad_token_id` to `eos_token_id`:2 for open-end generation.\n"
     ]
    },
    {
     "name": "stdout",
     "output_type": "stream",
     "text": [
      "model  1  output:  You are playing multiple rounds of prisoner's dilemma.You are Player 1. Do you choose to 'Cooperate' or 'Defect'? Game history: . Player 1: Cooperate, Player 2: Cooperate. Player 1: Cooperate, Player 2: Cooperate. Player 1: Cooperate, Player 2: Cooperate. Player 1:  Cooper\n"
     ]
    },
    {
     "name": "stderr",
     "output_type": "stream",
     "text": [
      "INFO:LLM_IPD:model 1 action: Cooperate\n",
      "INFO:LLM_IPD:model 2 action: Cooperate\n",
      "INFO:LLM_IPD:Round: 4\n"
     ]
    },
    {
     "name": "stdout",
     "output_type": "stream",
     "text": [
      "model  2  output:  You are playing multiple rounds of prisoner's dilemma.You are Player 2. Do you choose to 'Cooperate' or 'Defect'? Game history: . Player 2: Cooperate, Player 1: Cooperate. Player 2: Cooperate, Player 1: Cooperate. Player 2: Cooperate, Player 1: Cooperate. Player 2:  ‎\n"
     ]
    },
    {
     "name": "stderr",
     "output_type": "stream",
     "text": [
      "The attention mask and the pad token id were not set. As a consequence, you may observe unexpected behavior. Please pass your input's `attention_mask` to obtain reliable results.\n",
      "Setting `pad_token_id` to `eos_token_id`:2 for open-end generation.\n"
     ]
    },
    {
     "name": "stdout",
     "output_type": "stream",
     "text": [
      "model  1  output:  You are playing multiple rounds of prisoner's dilemma.You are Player 1. Do you choose to 'Cooperate' or 'Defect'? Game history: . Player 1: Cooperate, Player 2: Cooperate. Player 1: Cooperate, Player 2: Cooperate. Player 1: Cooperate, Player 2: Cooperate. Player 1: Cooperate, Player 2: Cooperate. Player 1:  Cooper\n"
     ]
    },
    {
     "name": "stderr",
     "output_type": "stream",
     "text": [
      "INFO:LLM_IPD:model 1 action: Cooperate\n",
      "INFO:LLM_IPD:model 2 action: Cooperate\n",
      "INFO:LLM_IPD:Round: 5\n"
     ]
    },
    {
     "name": "stdout",
     "output_type": "stream",
     "text": [
      "model  2  output:  You are playing multiple rounds of prisoner's dilemma.You are Player 2. Do you choose to 'Cooperate' or 'Defect'? Game history: . Player 2: Cooperate, Player 1: Cooperate. Player 2: Cooperate, Player 1: Cooperate. Player 2: Cooperate, Player 1: Cooperate. Player 2: Cooperate, Player 1: Cooperate. Player 2:  ‎\n"
     ]
    },
    {
     "name": "stderr",
     "output_type": "stream",
     "text": [
      "The attention mask and the pad token id were not set. As a consequence, you may observe unexpected behavior. Please pass your input's `attention_mask` to obtain reliable results.\n",
      "Setting `pad_token_id` to `eos_token_id`:2 for open-end generation.\n"
     ]
    },
    {
     "name": "stdout",
     "output_type": "stream",
     "text": [
      "model  1  output:  You are playing multiple rounds of prisoner's dilemma.You are Player 1. Do you choose to 'Cooperate' or 'Defect'? Game history: . Player 1: Cooperate, Player 2: Cooperate. Player 1: Cooperate, Player 2: Cooperate. Player 1: Cooperate, Player 2: Cooperate. Player 1: Cooperate, Player 2: Cooperate. Player 1: Cooperate, Player 2: Cooperate. Player 1:  Cooper\n"
     ]
    },
    {
     "name": "stderr",
     "output_type": "stream",
     "text": [
      "INFO:LLM_IPD:model 1 action: Cooperate\n",
      "INFO:LLM_IPD:model 2 action: Cooperate\n",
      "INFO:LLM_IPD:Round: 6\n"
     ]
    },
    {
     "name": "stdout",
     "output_type": "stream",
     "text": [
      "model  2  output:  You are playing multiple rounds of prisoner's dilemma.You are Player 2. Do you choose to 'Cooperate' or 'Defect'? Game history: . Player 2: Cooperate, Player 1: Cooperate. Player 2: Cooperate, Player 1: Cooperate. Player 2: Cooperate, Player 1: Cooperate. Player 2: Cooperate, Player 1: Cooperate. Player 2: Cooperate, Player 1: Cooperate. Player 2:   The\n"
     ]
    },
    {
     "name": "stderr",
     "output_type": "stream",
     "text": [
      "The attention mask and the pad token id were not set. As a consequence, you may observe unexpected behavior. Please pass your input's `attention_mask` to obtain reliable results.\n",
      "Setting `pad_token_id` to `eos_token_id`:2 for open-end generation.\n"
     ]
    },
    {
     "name": "stdout",
     "output_type": "stream",
     "text": [
      "model  1  output:  You are playing multiple rounds of prisoner's dilemma.You are Player 1. Do you choose to 'Cooperate' or 'Defect'? Game history: . Player 1: Cooperate, Player 2: Cooperate. Player 1: Cooperate, Player 2: Cooperate. Player 1: Cooperate, Player 2: Cooperate. Player 1: Cooperate, Player 2: Cooperate. Player 1: Cooperate, Player 2: Cooperate. Player 1: Cooperate, Player 2: Cooperate. Player 1:  Cooper\n"
     ]
    },
    {
     "name": "stderr",
     "output_type": "stream",
     "text": [
      "INFO:LLM_IPD:model 1 action: Cooperate\n",
      "INFO:LLM_IPD:model 2 action: Cooperate\n",
      "INFO:LLM_IPD:Round: 7\n"
     ]
    },
    {
     "name": "stdout",
     "output_type": "stream",
     "text": [
      "model  2  output:  You are playing multiple rounds of prisoner's dilemma.You are Player 2. Do you choose to 'Cooperate' or 'Defect'? Game history: . Player 2: Cooperate, Player 1: Cooperate. Player 2: Cooperate, Player 1: Cooperate. Player 2: Cooperate, Player 1: Cooperate. Player 2: Cooperate, Player 1: Cooperate. Player 2: Cooperate, Player 1: Cooperate. Player 2: Cooperate, Player 1: Cooperate. Player 2:   The\n"
     ]
    },
    {
     "name": "stderr",
     "output_type": "stream",
     "text": [
      "The attention mask and the pad token id were not set. As a consequence, you may observe unexpected behavior. Please pass your input's `attention_mask` to obtain reliable results.\n",
      "Setting `pad_token_id` to `eos_token_id`:2 for open-end generation.\n"
     ]
    },
    {
     "name": "stdout",
     "output_type": "stream",
     "text": [
      "model  1  output:  You are playing multiple rounds of prisoner's dilemma.You are Player 1. Do you choose to 'Cooperate' or 'Defect'? Game history: . Player 1: Cooperate, Player 2: Cooperate. Player 1: Cooperate, Player 2: Cooperate. Player 1: Cooperate, Player 2: Cooperate. Player 1: Cooperate, Player 2: Cooperate. Player 1: Cooperate, Player 2: Cooperate. Player 1: Cooperate, Player 2: Cooperate. Player 1: Cooperate, Player 2: Cooperate. Player 1:  Cooper\n"
     ]
    },
    {
     "name": "stderr",
     "output_type": "stream",
     "text": [
      "INFO:LLM_IPD:model 1 action: Cooperate\n",
      "INFO:LLM_IPD:model 2 action: Cooperate\n",
      "INFO:LLM_IPD:Round: 8\n"
     ]
    },
    {
     "name": "stdout",
     "output_type": "stream",
     "text": [
      "model  2  output:  You are playing multiple rounds of prisoner's dilemma.You are Player 2. Do you choose to 'Cooperate' or 'Defect'? Game history: . Player 2: Cooperate, Player 1: Cooperate. Player 2: Cooperate, Player 1: Cooperate. Player 2: Cooperate, Player 1: Cooperate. Player 2: Cooperate, Player 1: Cooperate. Player 2: Cooperate, Player 1: Cooperate. Player 2: Cooperate, Player 1: Cooperate. Player 2: Cooperate, Player 1: Cooperate. Player 2:   Cooper\n"
     ]
    },
    {
     "name": "stderr",
     "output_type": "stream",
     "text": [
      "The attention mask and the pad token id were not set. As a consequence, you may observe unexpected behavior. Please pass your input's `attention_mask` to obtain reliable results.\n",
      "Setting `pad_token_id` to `eos_token_id`:2 for open-end generation.\n"
     ]
    },
    {
     "name": "stdout",
     "output_type": "stream",
     "text": [
      "model  1  output:  You are playing multiple rounds of prisoner's dilemma.You are Player 1. Do you choose to 'Cooperate' or 'Defect'? Game history: . Player 1: Cooperate, Player 2: Cooperate. Player 1: Cooperate, Player 2: Cooperate. Player 1: Cooperate, Player 2: Cooperate. Player 1: Cooperate, Player 2: Cooperate. Player 1: Cooperate, Player 2: Cooperate. Player 1: Cooperate, Player 2: Cooperate. Player 1: Cooperate, Player 2: Cooperate. Player 1: Cooperate, Player 2: Cooperate. Player 1:  Cooper\n"
     ]
    },
    {
     "name": "stderr",
     "output_type": "stream",
     "text": [
      "INFO:LLM_IPD:model 1 action: Cooperate\n",
      "INFO:LLM_IPD:model 2 action: Cooperate\n",
      "INFO:LLM_IPD:Round: 9\n"
     ]
    },
    {
     "name": "stdout",
     "output_type": "stream",
     "text": [
      "model  2  output:  You are playing multiple rounds of prisoner's dilemma.You are Player 2. Do you choose to 'Cooperate' or 'Defect'? Game history: . Player 2: Cooperate, Player 1: Cooperate. Player 2: Cooperate, Player 1: Cooperate. Player 2: Cooperate, Player 1: Cooperate. Player 2: Cooperate, Player 1: Cooperate. Player 2: Cooperate, Player 1: Cooperate. Player 2: Cooperate, Player 1: Cooperate. Player 2: Cooperate, Player 1: Cooperate. Player 2: Cooperate, Player 1: Cooperate. Player 2:   Cooper\n"
     ]
    },
    {
     "name": "stderr",
     "output_type": "stream",
     "text": [
      "The attention mask and the pad token id were not set. As a consequence, you may observe unexpected behavior. Please pass your input's `attention_mask` to obtain reliable results.\n",
      "Setting `pad_token_id` to `eos_token_id`:2 for open-end generation.\n"
     ]
    },
    {
     "name": "stdout",
     "output_type": "stream",
     "text": [
      "model  1  output:  You are playing multiple rounds of prisoner's dilemma.You are Player 1. Do you choose to 'Cooperate' or 'Defect'? Game history: . Player 1: Cooperate, Player 2: Cooperate. Player 1: Cooperate, Player 2: Cooperate. Player 1: Cooperate, Player 2: Cooperate. Player 1: Cooperate, Player 2: Cooperate. Player 1: Cooperate, Player 2: Cooperate. Player 1: Cooperate, Player 2: Cooperate. Player 1: Cooperate, Player 2: Cooperate. Player 1: Cooperate, Player 2: Cooperate. Player 1: Cooperate, Player 2: Cooperate. Player 1:  Cooper\n"
     ]
    },
    {
     "name": "stderr",
     "output_type": "stream",
     "text": [
      "INFO:LLM_IPD:model 1 action: Cooperate\n",
      "INFO:LLM_IPD:model 2 action: Cooperate\n",
      "INFO:LLM_IPD:Round: 10\n"
     ]
    },
    {
     "name": "stdout",
     "output_type": "stream",
     "text": [
      "model  2  output:  You are playing multiple rounds of prisoner's dilemma.You are Player 2. Do you choose to 'Cooperate' or 'Defect'? Game history: . Player 2: Cooperate, Player 1: Cooperate. Player 2: Cooperate, Player 1: Cooperate. Player 2: Cooperate, Player 1: Cooperate. Player 2: Cooperate, Player 1: Cooperate. Player 2: Cooperate, Player 1: Cooperate. Player 2: Cooperate, Player 1: Cooperate. Player 2: Cooperate, Player 1: Cooperate. Player 2: Cooperate, Player 1: Cooperate. Player 2: Cooperate, Player 1: Cooperate. Player 2:   Cooper\n"
     ]
    },
    {
     "name": "stderr",
     "output_type": "stream",
     "text": [
      "The attention mask and the pad token id were not set. As a consequence, you may observe unexpected behavior. Please pass your input's `attention_mask` to obtain reliable results.\n",
      "Setting `pad_token_id` to `eos_token_id`:2 for open-end generation.\n"
     ]
    },
    {
     "name": "stdout",
     "output_type": "stream",
     "text": [
      "model  1  output:  You are playing multiple rounds of prisoner's dilemma.You are Player 1. Do you choose to 'Cooperate' or 'Defect'? Game history: . Player 1: Cooperate, Player 2: Cooperate. Player 1: Cooperate, Player 2: Cooperate. Player 1: Cooperate, Player 2: Cooperate. Player 1: Cooperate, Player 2: Cooperate. Player 1: Cooperate, Player 2: Cooperate. Player 1: Cooperate, Player 2: Cooperate. Player 1: Cooperate, Player 2: Cooperate. Player 1: Cooperate, Player 2: Cooperate. Player 1: Cooperate, Player 2: Cooperate. Player 1: Cooperate, Player 2: Cooperate. Player 1:  Cooper\n"
     ]
    },
    {
     "name": "stderr",
     "output_type": "stream",
     "text": [
      "INFO:LLM_IPD:model 1 action: Cooperate\n",
      "INFO:LLM_IPD:model 2 action: Cooperate\n",
      "INFO:LLM_IPD:Round: 11\n"
     ]
    },
    {
     "name": "stdout",
     "output_type": "stream",
     "text": [
      "model  2  output:  You are playing multiple rounds of prisoner's dilemma.You are Player 2. Do you choose to 'Cooperate' or 'Defect'? Game history: . Player 2: Cooperate, Player 1: Cooperate. Player 2: Cooperate, Player 1: Cooperate. Player 2: Cooperate, Player 1: Cooperate. Player 2: Cooperate, Player 1: Cooperate. Player 2: Cooperate, Player 1: Cooperate. Player 2: Cooperate, Player 1: Cooperate. Player 2: Cooperate, Player 1: Cooperate. Player 2: Cooperate, Player 1: Cooperate. Player 2: Cooperate, Player 1: Cooperate. Player 2: Cooperate, Player 1: Cooperate. Player 2:   Cooper\n"
     ]
    },
    {
     "name": "stderr",
     "output_type": "stream",
     "text": [
      "The attention mask and the pad token id were not set. As a consequence, you may observe unexpected behavior. Please pass your input's `attention_mask` to obtain reliable results.\n",
      "Setting `pad_token_id` to `eos_token_id`:2 for open-end generation.\n"
     ]
    },
    {
     "name": "stdout",
     "output_type": "stream",
     "text": [
      "model  1  output:  You are playing multiple rounds of prisoner's dilemma.You are Player 1. Do you choose to 'Cooperate' or 'Defect'? Game history: . Player 1: Cooperate, Player 2: Cooperate. Player 1: Cooperate, Player 2: Cooperate. Player 1: Cooperate, Player 2: Cooperate. Player 1: Cooperate, Player 2: Cooperate. Player 1: Cooperate, Player 2: Cooperate. Player 1: Cooperate, Player 2: Cooperate. Player 1: Cooperate, Player 2: Cooperate. Player 1: Cooperate, Player 2: Cooperate. Player 1: Cooperate, Player 2: Cooperate. Player 1: Cooperate, Player 2: Cooperate. Player 1: Cooperate, Player 2: Cooperate. Player 1:  Cooper\n"
     ]
    },
    {
     "name": "stderr",
     "output_type": "stream",
     "text": [
      "INFO:LLM_IPD:model 1 action: Cooperate\n",
      "INFO:LLM_IPD:model 2 action: Cooperate\n",
      "INFO:LLM_IPD:Round: 12\n"
     ]
    },
    {
     "name": "stdout",
     "output_type": "stream",
     "text": [
      "model  2  output:  You are playing multiple rounds of prisoner's dilemma.You are Player 2. Do you choose to 'Cooperate' or 'Defect'? Game history: . Player 2: Cooperate, Player 1: Cooperate. Player 2: Cooperate, Player 1: Cooperate. Player 2: Cooperate, Player 1: Cooperate. Player 2: Cooperate, Player 1: Cooperate. Player 2: Cooperate, Player 1: Cooperate. Player 2: Cooperate, Player 1: Cooperate. Player 2: Cooperate, Player 1: Cooperate. Player 2: Cooperate, Player 1: Cooperate. Player 2: Cooperate, Player 1: Cooperate. Player 2: Cooperate, Player 1: Cooperate. Player 2: Cooperate, Player 1: Cooperate. Player 2:   Cooper\n"
     ]
    },
    {
     "name": "stderr",
     "output_type": "stream",
     "text": [
      "The attention mask and the pad token id were not set. As a consequence, you may observe unexpected behavior. Please pass your input's `attention_mask` to obtain reliable results.\n",
      "Setting `pad_token_id` to `eos_token_id`:2 for open-end generation.\n"
     ]
    },
    {
     "name": "stdout",
     "output_type": "stream",
     "text": [
      "model  1  output:  You are playing multiple rounds of prisoner's dilemma.You are Player 1. Do you choose to 'Cooperate' or 'Defect'? Game history: . Player 1: Cooperate, Player 2: Cooperate. Player 1: Cooperate, Player 2: Cooperate. Player 1: Cooperate, Player 2: Cooperate. Player 1: Cooperate, Player 2: Cooperate. Player 1: Cooperate, Player 2: Cooperate. Player 1: Cooperate, Player 2: Cooperate. Player 1: Cooperate, Player 2: Cooperate. Player 1: Cooperate, Player 2: Cooperate. Player 1: Cooperate, Player 2: Cooperate. Player 1: Cooperate, Player 2: Cooperate. Player 1: Cooperate, Player 2: Cooperate. Player 1: Cooperate, Player 2: Cooperate. Player 1:  Cooper\n"
     ]
    },
    {
     "name": "stderr",
     "output_type": "stream",
     "text": [
      "INFO:LLM_IPD:model 1 action: Cooperate\n",
      "INFO:LLM_IPD:model 2 action: Cooperate\n",
      "INFO:LLM_IPD:Round: 13\n"
     ]
    },
    {
     "name": "stdout",
     "output_type": "stream",
     "text": [
      "model  2  output:  You are playing multiple rounds of prisoner's dilemma.You are Player 2. Do you choose to 'Cooperate' or 'Defect'? Game history: . Player 2: Cooperate, Player 1: Cooperate. Player 2: Cooperate, Player 1: Cooperate. Player 2: Cooperate, Player 1: Cooperate. Player 2: Cooperate, Player 1: Cooperate. Player 2: Cooperate, Player 1: Cooperate. Player 2: Cooperate, Player 1: Cooperate. Player 2: Cooperate, Player 1: Cooperate. Player 2: Cooperate, Player 1: Cooperate. Player 2: Cooperate, Player 1: Cooperate. Player 2: Cooperate, Player 1: Cooperate. Player 2: Cooperate, Player 1: Cooperate. Player 2: Cooperate, Player 1: Cooperate. Player 2:   Cooper\n"
     ]
    },
    {
     "name": "stderr",
     "output_type": "stream",
     "text": [
      "The attention mask and the pad token id were not set. As a consequence, you may observe unexpected behavior. Please pass your input's `attention_mask` to obtain reliable results.\n",
      "Setting `pad_token_id` to `eos_token_id`:2 for open-end generation.\n"
     ]
    },
    {
     "name": "stdout",
     "output_type": "stream",
     "text": [
      "model  1  output:  You are playing multiple rounds of prisoner's dilemma.You are Player 1. Do you choose to 'Cooperate' or 'Defect'? Game history: . Player 1: Cooperate, Player 2: Cooperate. Player 1: Cooperate, Player 2: Cooperate. Player 1: Cooperate, Player 2: Cooperate. Player 1: Cooperate, Player 2: Cooperate. Player 1: Cooperate, Player 2: Cooperate. Player 1: Cooperate, Player 2: Cooperate. Player 1: Cooperate, Player 2: Cooperate. Player 1: Cooperate, Player 2: Cooperate. Player 1: Cooperate, Player 2: Cooperate. Player 1: Cooperate, Player 2: Cooperate. Player 1: Cooperate, Player 2: Cooperate. Player 1: Cooperate, Player 2: Cooperate. Player 1: Cooperate, Player 2: Cooperate. Player 1:  Cooper\n"
     ]
    },
    {
     "name": "stderr",
     "output_type": "stream",
     "text": [
      "INFO:LLM_IPD:model 1 action: Cooperate\n",
      "INFO:LLM_IPD:model 2 action: Cooperate\n",
      "INFO:LLM_IPD:Round: 14\n"
     ]
    },
    {
     "name": "stdout",
     "output_type": "stream",
     "text": [
      "model  2  output:  You are playing multiple rounds of prisoner's dilemma.You are Player 2. Do you choose to 'Cooperate' or 'Defect'? Game history: . Player 2: Cooperate, Player 1: Cooperate. Player 2: Cooperate, Player 1: Cooperate. Player 2: Cooperate, Player 1: Cooperate. Player 2: Cooperate, Player 1: Cooperate. Player 2: Cooperate, Player 1: Cooperate. Player 2: Cooperate, Player 1: Cooperate. Player 2: Cooperate, Player 1: Cooperate. Player 2: Cooperate, Player 1: Cooperate. Player 2: Cooperate, Player 1: Cooperate. Player 2: Cooperate, Player 1: Cooperate. Player 2: Cooperate, Player 1: Cooperate. Player 2: Cooperate, Player 1: Cooperate. Player 2: Cooperate, Player 1: Cooperate. Player 2:   Cooper\n"
     ]
    },
    {
     "name": "stderr",
     "output_type": "stream",
     "text": [
      "The attention mask and the pad token id were not set. As a consequence, you may observe unexpected behavior. Please pass your input's `attention_mask` to obtain reliable results.\n",
      "Setting `pad_token_id` to `eos_token_id`:2 for open-end generation.\n"
     ]
    },
    {
     "name": "stdout",
     "output_type": "stream",
     "text": [
      "model  1  output:  You are playing multiple rounds of prisoner's dilemma.You are Player 1. Do you choose to 'Cooperate' or 'Defect'? Game history: . Player 1: Cooperate, Player 2: Cooperate. Player 1: Cooperate, Player 2: Cooperate. Player 1: Cooperate, Player 2: Cooperate. Player 1: Cooperate, Player 2: Cooperate. Player 1: Cooperate, Player 2: Cooperate. Player 1: Cooperate, Player 2: Cooperate. Player 1: Cooperate, Player 2: Cooperate. Player 1: Cooperate, Player 2: Cooperate. Player 1: Cooperate, Player 2: Cooperate. Player 1: Cooperate, Player 2: Cooperate. Player 1: Cooperate, Player 2: Cooperate. Player 1: Cooperate, Player 2: Cooperate. Player 1: Cooperate, Player 2: Cooperate. Player 1: Cooperate, Player 2: Cooperate. Player 1:  Cooper\n"
     ]
    },
    {
     "name": "stderr",
     "output_type": "stream",
     "text": [
      "INFO:LLM_IPD:model 1 action: Cooperate\n",
      "INFO:LLM_IPD:model 2 action: Cooperate\n",
      "INFO:LLM_IPD:Round: 15\n"
     ]
    },
    {
     "name": "stdout",
     "output_type": "stream",
     "text": [
      "model  2  output:  You are playing multiple rounds of prisoner's dilemma.You are Player 2. Do you choose to 'Cooperate' or 'Defect'? Game history: . Player 2: Cooperate, Player 1: Cooperate. Player 2: Cooperate, Player 1: Cooperate. Player 2: Cooperate, Player 1: Cooperate. Player 2: Cooperate, Player 1: Cooperate. Player 2: Cooperate, Player 1: Cooperate. Player 2: Cooperate, Player 1: Cooperate. Player 2: Cooperate, Player 1: Cooperate. Player 2: Cooperate, Player 1: Cooperate. Player 2: Cooperate, Player 1: Cooperate. Player 2: Cooperate, Player 1: Cooperate. Player 2: Cooperate, Player 1: Cooperate. Player 2: Cooperate, Player 1: Cooperate. Player 2: Cooperate, Player 1: Cooperate. Player 2: Cooperate, Player 1: Cooperate. Player 2:   Cooper\n"
     ]
    },
    {
     "name": "stderr",
     "output_type": "stream",
     "text": [
      "The attention mask and the pad token id were not set. As a consequence, you may observe unexpected behavior. Please pass your input's `attention_mask` to obtain reliable results.\n",
      "Setting `pad_token_id` to `eos_token_id`:2 for open-end generation.\n"
     ]
    },
    {
     "name": "stdout",
     "output_type": "stream",
     "text": [
      "model  1  output:  You are playing multiple rounds of prisoner's dilemma.You are Player 1. Do you choose to 'Cooperate' or 'Defect'? Game history: . Player 1: Cooperate, Player 2: Cooperate. Player 1: Cooperate, Player 2: Cooperate. Player 1: Cooperate, Player 2: Cooperate. Player 1: Cooperate, Player 2: Cooperate. Player 1: Cooperate, Player 2: Cooperate. Player 1: Cooperate, Player 2: Cooperate. Player 1: Cooperate, Player 2: Cooperate. Player 1: Cooperate, Player 2: Cooperate. Player 1: Cooperate, Player 2: Cooperate. Player 1: Cooperate, Player 2: Cooperate. Player 1: Cooperate, Player 2: Cooperate. Player 1: Cooperate, Player 2: Cooperate. Player 1: Cooperate, Player 2: Cooperate. Player 1: Cooperate, Player 2: Cooperate. Player 1: Cooperate, Player 2: Cooperate. Player 1:  Cooper\n"
     ]
    },
    {
     "name": "stderr",
     "output_type": "stream",
     "text": [
      "INFO:LLM_IPD:model 1 action: Cooperate\n",
      "INFO:LLM_IPD:model 2 action: Cooperate\n",
      "INFO:LLM_IPD:Round: 16\n"
     ]
    },
    {
     "name": "stdout",
     "output_type": "stream",
     "text": [
      "model  2  output:  You are playing multiple rounds of prisoner's dilemma.You are Player 2. Do you choose to 'Cooperate' or 'Defect'? Game history: . Player 2: Cooperate, Player 1: Cooperate. Player 2: Cooperate, Player 1: Cooperate. Player 2: Cooperate, Player 1: Cooperate. Player 2: Cooperate, Player 1: Cooperate. Player 2: Cooperate, Player 1: Cooperate. Player 2: Cooperate, Player 1: Cooperate. Player 2: Cooperate, Player 1: Cooperate. Player 2: Cooperate, Player 1: Cooperate. Player 2: Cooperate, Player 1: Cooperate. Player 2: Cooperate, Player 1: Cooperate. Player 2: Cooperate, Player 1: Cooperate. Player 2: Cooperate, Player 1: Cooperate. Player 2: Cooperate, Player 1: Cooperate. Player 2: Cooperate, Player 1: Cooperate. Player 2: Cooperate, Player 1: Cooperate. Player 2:   Cooper\n"
     ]
    },
    {
     "name": "stderr",
     "output_type": "stream",
     "text": [
      "The attention mask and the pad token id were not set. As a consequence, you may observe unexpected behavior. Please pass your input's `attention_mask` to obtain reliable results.\n",
      "Setting `pad_token_id` to `eos_token_id`:2 for open-end generation.\n"
     ]
    },
    {
     "name": "stdout",
     "output_type": "stream",
     "text": [
      "model  1  output:  You are playing multiple rounds of prisoner's dilemma.You are Player 1. Do you choose to 'Cooperate' or 'Defect'? Game history: . Player 1: Cooperate, Player 2: Cooperate. Player 1: Cooperate, Player 2: Cooperate. Player 1: Cooperate, Player 2: Cooperate. Player 1: Cooperate, Player 2: Cooperate. Player 1: Cooperate, Player 2: Cooperate. Player 1: Cooperate, Player 2: Cooperate. Player 1: Cooperate, Player 2: Cooperate. Player 1: Cooperate, Player 2: Cooperate. Player 1: Cooperate, Player 2: Cooperate. Player 1: Cooperate, Player 2: Cooperate. Player 1: Cooperate, Player 2: Cooperate. Player 1: Cooperate, Player 2: Cooperate. Player 1: Cooperate, Player 2: Cooperate. Player 1: Cooperate, Player 2: Cooperate. Player 1: Cooperate, Player 2: Cooperate. Player 1: Cooperate, Player 2: Cooperate. Player 1:  Cooper\n"
     ]
    },
    {
     "name": "stderr",
     "output_type": "stream",
     "text": [
      "INFO:LLM_IPD:model 1 action: Cooperate\n",
      "INFO:LLM_IPD:model 2 action: Cooperate\n",
      "INFO:LLM_IPD:Round: 17\n"
     ]
    },
    {
     "name": "stdout",
     "output_type": "stream",
     "text": [
      "model  2  output:  You are playing multiple rounds of prisoner's dilemma.You are Player 2. Do you choose to 'Cooperate' or 'Defect'? Game history: . Player 2: Cooperate, Player 1: Cooperate. Player 2: Cooperate, Player 1: Cooperate. Player 2: Cooperate, Player 1: Cooperate. Player 2: Cooperate, Player 1: Cooperate. Player 2: Cooperate, Player 1: Cooperate. Player 2: Cooperate, Player 1: Cooperate. Player 2: Cooperate, Player 1: Cooperate. Player 2: Cooperate, Player 1: Cooperate. Player 2: Cooperate, Player 1: Cooperate. Player 2: Cooperate, Player 1: Cooperate. Player 2: Cooperate, Player 1: Cooperate. Player 2: Cooperate, Player 1: Cooperate. Player 2: Cooperate, Player 1: Cooperate. Player 2: Cooperate, Player 1: Cooperate. Player 2: Cooperate, Player 1: Cooperate. Player 2: Cooperate, Player 1: Cooperate. Player 2:   Cooper\n"
     ]
    },
    {
     "name": "stderr",
     "output_type": "stream",
     "text": [
      "The attention mask and the pad token id were not set. As a consequence, you may observe unexpected behavior. Please pass your input's `attention_mask` to obtain reliable results.\n",
      "Setting `pad_token_id` to `eos_token_id`:2 for open-end generation.\n"
     ]
    },
    {
     "name": "stdout",
     "output_type": "stream",
     "text": [
      "model  1  output:  You are playing multiple rounds of prisoner's dilemma.You are Player 1. Do you choose to 'Cooperate' or 'Defect'? Game history: . Player 1: Cooperate, Player 2: Cooperate. Player 1: Cooperate, Player 2: Cooperate. Player 1: Cooperate, Player 2: Cooperate. Player 1: Cooperate, Player 2: Cooperate. Player 1: Cooperate, Player 2: Cooperate. Player 1: Cooperate, Player 2: Cooperate. Player 1: Cooperate, Player 2: Cooperate. Player 1: Cooperate, Player 2: Cooperate. Player 1: Cooperate, Player 2: Cooperate. Player 1: Cooperate, Player 2: Cooperate. Player 1: Cooperate, Player 2: Cooperate. Player 1: Cooperate, Player 2: Cooperate. Player 1: Cooperate, Player 2: Cooperate. Player 1: Cooperate, Player 2: Cooperate. Player 1: Cooperate, Player 2: Cooperate. Player 1: Cooperate, Player 2: Cooperate. Player 1: Cooperate, Player 2: Cooperate. Player 1:  Cooper\n"
     ]
    },
    {
     "name": "stderr",
     "output_type": "stream",
     "text": [
      "INFO:LLM_IPD:model 1 action: Cooperate\n",
      "INFO:LLM_IPD:model 2 action: Cooperate\n",
      "INFO:LLM_IPD:Round: 18\n"
     ]
    },
    {
     "name": "stdout",
     "output_type": "stream",
     "text": [
      "model  2  output:  You are playing multiple rounds of prisoner's dilemma.You are Player 2. Do you choose to 'Cooperate' or 'Defect'? Game history: . Player 2: Cooperate, Player 1: Cooperate. Player 2: Cooperate, Player 1: Cooperate. Player 2: Cooperate, Player 1: Cooperate. Player 2: Cooperate, Player 1: Cooperate. Player 2: Cooperate, Player 1: Cooperate. Player 2: Cooperate, Player 1: Cooperate. Player 2: Cooperate, Player 1: Cooperate. Player 2: Cooperate, Player 1: Cooperate. Player 2: Cooperate, Player 1: Cooperate. Player 2: Cooperate, Player 1: Cooperate. Player 2: Cooperate, Player 1: Cooperate. Player 2: Cooperate, Player 1: Cooperate. Player 2: Cooperate, Player 1: Cooperate. Player 2: Cooperate, Player 1: Cooperate. Player 2: Cooperate, Player 1: Cooperate. Player 2: Cooperate, Player 1: Cooperate. Player 2: Cooperate, Player 1: Cooperate. Player 2:   Cooper\n"
     ]
    },
    {
     "name": "stderr",
     "output_type": "stream",
     "text": [
      "The attention mask and the pad token id were not set. As a consequence, you may observe unexpected behavior. Please pass your input's `attention_mask` to obtain reliable results.\n",
      "Setting `pad_token_id` to `eos_token_id`:2 for open-end generation.\n"
     ]
    },
    {
     "name": "stdout",
     "output_type": "stream",
     "text": [
      "model  1  output:  You are playing multiple rounds of prisoner's dilemma.You are Player 1. Do you choose to 'Cooperate' or 'Defect'? Game history: . Player 1: Cooperate, Player 2: Cooperate. Player 1: Cooperate, Player 2: Cooperate. Player 1: Cooperate, Player 2: Cooperate. Player 1: Cooperate, Player 2: Cooperate. Player 1: Cooperate, Player 2: Cooperate. Player 1: Cooperate, Player 2: Cooperate. Player 1: Cooperate, Player 2: Cooperate. Player 1: Cooperate, Player 2: Cooperate. Player 1: Cooperate, Player 2: Cooperate. Player 1: Cooperate, Player 2: Cooperate. Player 1: Cooperate, Player 2: Cooperate. Player 1: Cooperate, Player 2: Cooperate. Player 1: Cooperate, Player 2: Cooperate. Player 1: Cooperate, Player 2: Cooperate. Player 1: Cooperate, Player 2: Cooperate. Player 1: Cooperate, Player 2: Cooperate. Player 1: Cooperate, Player 2: Cooperate. Player 1: Cooperate, Player 2: Cooperate. Player 1:  Cooper\n"
     ]
    },
    {
     "name": "stderr",
     "output_type": "stream",
     "text": [
      "INFO:LLM_IPD:model 1 action: Cooperate\n",
      "INFO:LLM_IPD:model 2 action: Cooperate\n",
      "INFO:LLM_IPD:Round: 19\n"
     ]
    },
    {
     "name": "stdout",
     "output_type": "stream",
     "text": [
      "model  2  output:  You are playing multiple rounds of prisoner's dilemma.You are Player 2. Do you choose to 'Cooperate' or 'Defect'? Game history: . Player 2: Cooperate, Player 1: Cooperate. Player 2: Cooperate, Player 1: Cooperate. Player 2: Cooperate, Player 1: Cooperate. Player 2: Cooperate, Player 1: Cooperate. Player 2: Cooperate, Player 1: Cooperate. Player 2: Cooperate, Player 1: Cooperate. Player 2: Cooperate, Player 1: Cooperate. Player 2: Cooperate, Player 1: Cooperate. Player 2: Cooperate, Player 1: Cooperate. Player 2: Cooperate, Player 1: Cooperate. Player 2: Cooperate, Player 1: Cooperate. Player 2: Cooperate, Player 1: Cooperate. Player 2: Cooperate, Player 1: Cooperate. Player 2: Cooperate, Player 1: Cooperate. Player 2: Cooperate, Player 1: Cooperate. Player 2: Cooperate, Player 1: Cooperate. Player 2: Cooperate, Player 1: Cooperate. Player 2: Cooperate, Player 1: Cooperate. Player 2:   Cooper\n"
     ]
    },
    {
     "name": "stderr",
     "output_type": "stream",
     "text": [
      "The attention mask and the pad token id were not set. As a consequence, you may observe unexpected behavior. Please pass your input's `attention_mask` to obtain reliable results.\n",
      "Setting `pad_token_id` to `eos_token_id`:2 for open-end generation.\n"
     ]
    },
    {
     "name": "stdout",
     "output_type": "stream",
     "text": [
      "model  1  output:  You are playing multiple rounds of prisoner's dilemma.You are Player 1. Do you choose to 'Cooperate' or 'Defect'? Game history: . Player 1: Cooperate, Player 2: Cooperate. Player 1: Cooperate, Player 2: Cooperate. Player 1: Cooperate, Player 2: Cooperate. Player 1: Cooperate, Player 2: Cooperate. Player 1: Cooperate, Player 2: Cooperate. Player 1: Cooperate, Player 2: Cooperate. Player 1: Cooperate, Player 2: Cooperate. Player 1: Cooperate, Player 2: Cooperate. Player 1: Cooperate, Player 2: Cooperate. Player 1: Cooperate, Player 2: Cooperate. Player 1: Cooperate, Player 2: Cooperate. Player 1: Cooperate, Player 2: Cooperate. Player 1: Cooperate, Player 2: Cooperate. Player 1: Cooperate, Player 2: Cooperate. Player 1: Cooperate, Player 2: Cooperate. Player 1: Cooperate, Player 2: Cooperate. Player 1: Cooperate, Player 2: Cooperate. Player 1: Cooperate, Player 2: Cooperate. Player 1: Cooperate, Player 2: Cooperate. Player 1:  Cooper\n"
     ]
    },
    {
     "name": "stderr",
     "output_type": "stream",
     "text": [
      "INFO:LLM_IPD:model 1 action: Cooperate\n",
      "INFO:LLM_IPD:model 2 action: Cooperate\n",
      "INFO:LLM_IPD:Game: 1\n",
      "INFO:LLM_IPD:Round: 0\n"
     ]
    },
    {
     "name": "stdout",
     "output_type": "stream",
     "text": [
      "model  2  output:  You are playing multiple rounds of prisoner's dilemma.You are Player 2. Do you choose to 'Cooperate' or 'Defect'? Game history: . Player 2: Cooperate, Player 1: Cooperate. Player 2: Cooperate, Player 1: Cooperate. Player 2: Cooperate, Player 1: Cooperate. Player 2: Cooperate, Player 1: Cooperate. Player 2: Cooperate, Player 1: Cooperate. Player 2: Cooperate, Player 1: Cooperate. Player 2: Cooperate, Player 1: Cooperate. Player 2: Cooperate, Player 1: Cooperate. Player 2: Cooperate, Player 1: Cooperate. Player 2: Cooperate, Player 1: Cooperate. Player 2: Cooperate, Player 1: Cooperate. Player 2: Cooperate, Player 1: Cooperate. Player 2: Cooperate, Player 1: Cooperate. Player 2: Cooperate, Player 1: Cooperate. Player 2: Cooperate, Player 1: Cooperate. Player 2: Cooperate, Player 1: Cooperate. Player 2: Cooperate, Player 1: Cooperate. Player 2: Cooperate, Player 1: Cooperate. Player 2: Cooperate, Player 1: Cooperate. Player 2:   Cooper\n"
     ]
    },
    {
     "name": "stderr",
     "output_type": "stream",
     "text": [
      "The attention mask and the pad token id were not set. As a consequence, you may observe unexpected behavior. Please pass your input's `attention_mask` to obtain reliable results.\n",
      "Setting `pad_token_id` to `eos_token_id`:2 for open-end generation.\n"
     ]
    },
    {
     "name": "stdout",
     "output_type": "stream",
     "text": [
      "model  1  output:  You are playing multiple rounds of prisoner's dilemma.You are Player 1. Do you choose to 'Cooperate' or 'Defect'? Game history: . Player 1:  Cooper\n"
     ]
    },
    {
     "name": "stderr",
     "output_type": "stream",
     "text": [
      "INFO:LLM_IPD:model 1 action: Cooperate\n",
      "INFO:LLM_IPD:model 2 action: Cooperate\n",
      "INFO:LLM_IPD:Round: 1\n"
     ]
    },
    {
     "name": "stdout",
     "output_type": "stream",
     "text": [
      "model  2  output:  You are playing multiple rounds of prisoner's dilemma.You are Player 2. Do you choose to 'Cooperate' or 'Defect'? Game history: . Player 2:   Player\n"
     ]
    },
    {
     "name": "stderr",
     "output_type": "stream",
     "text": [
      "The attention mask and the pad token id were not set. As a consequence, you may observe unexpected behavior. Please pass your input's `attention_mask` to obtain reliable results.\n",
      "Setting `pad_token_id` to `eos_token_id`:2 for open-end generation.\n"
     ]
    },
    {
     "name": "stdout",
     "output_type": "stream",
     "text": [
      "model  1  output:  You are playing multiple rounds of prisoner's dilemma.You are Player 1. Do you choose to 'Cooperate' or 'Defect'? Game history: . Player 1: Cooperate, Player 2: Cooperate. Player 1:  Cooper\n"
     ]
    },
    {
     "name": "stderr",
     "output_type": "stream",
     "text": [
      "INFO:LLM_IPD:model 1 action: Cooperate\n",
      "INFO:LLM_IPD:model 2 action: Cooperate\n",
      "INFO:LLM_IPD:Round: 2\n"
     ]
    },
    {
     "name": "stdout",
     "output_type": "stream",
     "text": [
      "model  2  output:  You are playing multiple rounds of prisoner's dilemma.You are Player 2. Do you choose to 'Cooperate' or 'Defect'? Game history: . Player 2: Cooperate, Player 1: Cooperate. Player 2:  ‎\n"
     ]
    },
    {
     "name": "stderr",
     "output_type": "stream",
     "text": [
      "The attention mask and the pad token id were not set. As a consequence, you may observe unexpected behavior. Please pass your input's `attention_mask` to obtain reliable results.\n",
      "Setting `pad_token_id` to `eos_token_id`:2 for open-end generation.\n"
     ]
    },
    {
     "name": "stdout",
     "output_type": "stream",
     "text": [
      "model  1  output:  You are playing multiple rounds of prisoner's dilemma.You are Player 1. Do you choose to 'Cooperate' or 'Defect'? Game history: . Player 1: Cooperate, Player 2: Cooperate. Player 1: Cooperate, Player 2: Cooperate. Player 1:  Cooper\n"
     ]
    },
    {
     "name": "stderr",
     "output_type": "stream",
     "text": [
      "INFO:LLM_IPD:model 1 action: Cooperate\n",
      "INFO:LLM_IPD:model 2 action: Cooperate\n",
      "INFO:LLM_IPD:Round: 3\n"
     ]
    },
    {
     "name": "stdout",
     "output_type": "stream",
     "text": [
      "model  2  output:  You are playing multiple rounds of prisoner's dilemma.You are Player 2. Do you choose to 'Cooperate' or 'Defect'? Game history: . Player 2: Cooperate, Player 1: Cooperate. Player 2: Cooperate, Player 1: Cooperate. Player 2:  ‎\n"
     ]
    },
    {
     "name": "stderr",
     "output_type": "stream",
     "text": [
      "The attention mask and the pad token id were not set. As a consequence, you may observe unexpected behavior. Please pass your input's `attention_mask` to obtain reliable results.\n",
      "Setting `pad_token_id` to `eos_token_id`:2 for open-end generation.\n"
     ]
    },
    {
     "name": "stdout",
     "output_type": "stream",
     "text": [
      "model  1  output:  You are playing multiple rounds of prisoner's dilemma.You are Player 1. Do you choose to 'Cooperate' or 'Defect'? Game history: . Player 1: Cooperate, Player 2: Cooperate. Player 1: Cooperate, Player 2: Cooperate. Player 1: Cooperate, Player 2: Cooperate. Player 1:  Cooper\n"
     ]
    },
    {
     "name": "stderr",
     "output_type": "stream",
     "text": [
      "INFO:LLM_IPD:model 1 action: Cooperate\n",
      "INFO:LLM_IPD:model 2 action: Cooperate\n",
      "INFO:LLM_IPD:Round: 4\n"
     ]
    },
    {
     "name": "stdout",
     "output_type": "stream",
     "text": [
      "model  2  output:  You are playing multiple rounds of prisoner's dilemma.You are Player 2. Do you choose to 'Cooperate' or 'Defect'? Game history: . Player 2: Cooperate, Player 1: Cooperate. Player 2: Cooperate, Player 1: Cooperate. Player 2: Cooperate, Player 1: Cooperate. Player 2:  ‎\n"
     ]
    },
    {
     "name": "stderr",
     "output_type": "stream",
     "text": [
      "The attention mask and the pad token id were not set. As a consequence, you may observe unexpected behavior. Please pass your input's `attention_mask` to obtain reliable results.\n",
      "Setting `pad_token_id` to `eos_token_id`:2 for open-end generation.\n"
     ]
    },
    {
     "name": "stdout",
     "output_type": "stream",
     "text": [
      "model  1  output:  You are playing multiple rounds of prisoner's dilemma.You are Player 1. Do you choose to 'Cooperate' or 'Defect'? Game history: . Player 1: Cooperate, Player 2: Cooperate. Player 1: Cooperate, Player 2: Cooperate. Player 1: Cooperate, Player 2: Cooperate. Player 1: Cooperate, Player 2: Cooperate. Player 1:  Cooper\n"
     ]
    },
    {
     "name": "stderr",
     "output_type": "stream",
     "text": [
      "INFO:LLM_IPD:model 1 action: Cooperate\n",
      "INFO:LLM_IPD:model 2 action: Cooperate\n",
      "INFO:LLM_IPD:Round: 5\n"
     ]
    },
    {
     "name": "stdout",
     "output_type": "stream",
     "text": [
      "model  2  output:  You are playing multiple rounds of prisoner's dilemma.You are Player 2. Do you choose to 'Cooperate' or 'Defect'? Game history: . Player 2: Cooperate, Player 1: Cooperate. Player 2: Cooperate, Player 1: Cooperate. Player 2: Cooperate, Player 1: Cooperate. Player 2: Cooperate, Player 1: Cooperate. Player 2:  ‎\n"
     ]
    },
    {
     "name": "stderr",
     "output_type": "stream",
     "text": [
      "The attention mask and the pad token id were not set. As a consequence, you may observe unexpected behavior. Please pass your input's `attention_mask` to obtain reliable results.\n",
      "Setting `pad_token_id` to `eos_token_id`:2 for open-end generation.\n"
     ]
    },
    {
     "name": "stdout",
     "output_type": "stream",
     "text": [
      "model  1  output:  You are playing multiple rounds of prisoner's dilemma.You are Player 1. Do you choose to 'Cooperate' or 'Defect'? Game history: . Player 1: Cooperate, Player 2: Cooperate. Player 1: Cooperate, Player 2: Cooperate. Player 1: Cooperate, Player 2: Cooperate. Player 1: Cooperate, Player 2: Cooperate. Player 1: Cooperate, Player 2: Cooperate. Player 1:  Cooper\n"
     ]
    },
    {
     "name": "stderr",
     "output_type": "stream",
     "text": [
      "INFO:LLM_IPD:model 1 action: Cooperate\n",
      "INFO:LLM_IPD:model 2 action: Cooperate\n",
      "INFO:LLM_IPD:Round: 6\n"
     ]
    },
    {
     "name": "stdout",
     "output_type": "stream",
     "text": [
      "model  2  output:  You are playing multiple rounds of prisoner's dilemma.You are Player 2. Do you choose to 'Cooperate' or 'Defect'? Game history: . Player 2: Cooperate, Player 1: Cooperate. Player 2: Cooperate, Player 1: Cooperate. Player 2: Cooperate, Player 1: Cooperate. Player 2: Cooperate, Player 1: Cooperate. Player 2: Cooperate, Player 1: Cooperate. Player 2:   The\n"
     ]
    },
    {
     "name": "stderr",
     "output_type": "stream",
     "text": [
      "The attention mask and the pad token id were not set. As a consequence, you may observe unexpected behavior. Please pass your input's `attention_mask` to obtain reliable results.\n",
      "Setting `pad_token_id` to `eos_token_id`:2 for open-end generation.\n"
     ]
    },
    {
     "name": "stdout",
     "output_type": "stream",
     "text": [
      "model  1  output:  You are playing multiple rounds of prisoner's dilemma.You are Player 1. Do you choose to 'Cooperate' or 'Defect'? Game history: . Player 1: Cooperate, Player 2: Cooperate. Player 1: Cooperate, Player 2: Cooperate. Player 1: Cooperate, Player 2: Cooperate. Player 1: Cooperate, Player 2: Cooperate. Player 1: Cooperate, Player 2: Cooperate. Player 1: Cooperate, Player 2: Cooperate. Player 1:  Cooper\n"
     ]
    },
    {
     "name": "stderr",
     "output_type": "stream",
     "text": [
      "INFO:LLM_IPD:model 1 action: Cooperate\n",
      "INFO:LLM_IPD:model 2 action: Cooperate\n",
      "INFO:LLM_IPD:Round: 7\n"
     ]
    },
    {
     "name": "stdout",
     "output_type": "stream",
     "text": [
      "model  2  output:  You are playing multiple rounds of prisoner's dilemma.You are Player 2. Do you choose to 'Cooperate' or 'Defect'? Game history: . Player 2: Cooperate, Player 1: Cooperate. Player 2: Cooperate, Player 1: Cooperate. Player 2: Cooperate, Player 1: Cooperate. Player 2: Cooperate, Player 1: Cooperate. Player 2: Cooperate, Player 1: Cooperate. Player 2: Cooperate, Player 1: Cooperate. Player 2:   The\n"
     ]
    },
    {
     "name": "stderr",
     "output_type": "stream",
     "text": [
      "The attention mask and the pad token id were not set. As a consequence, you may observe unexpected behavior. Please pass your input's `attention_mask` to obtain reliable results.\n",
      "Setting `pad_token_id` to `eos_token_id`:2 for open-end generation.\n"
     ]
    },
    {
     "name": "stdout",
     "output_type": "stream",
     "text": [
      "model  1  output:  You are playing multiple rounds of prisoner's dilemma.You are Player 1. Do you choose to 'Cooperate' or 'Defect'? Game history: . Player 1: Cooperate, Player 2: Cooperate. Player 1: Cooperate, Player 2: Cooperate. Player 1: Cooperate, Player 2: Cooperate. Player 1: Cooperate, Player 2: Cooperate. Player 1: Cooperate, Player 2: Cooperate. Player 1: Cooperate, Player 2: Cooperate. Player 1: Cooperate, Player 2: Cooperate. Player 1:  Cooper\n"
     ]
    },
    {
     "name": "stderr",
     "output_type": "stream",
     "text": [
      "INFO:LLM_IPD:model 1 action: Cooperate\n",
      "INFO:LLM_IPD:model 2 action: Cooperate\n",
      "INFO:LLM_IPD:Round: 8\n"
     ]
    },
    {
     "name": "stdout",
     "output_type": "stream",
     "text": [
      "model  2  output:  You are playing multiple rounds of prisoner's dilemma.You are Player 2. Do you choose to 'Cooperate' or 'Defect'? Game history: . Player 2: Cooperate, Player 1: Cooperate. Player 2: Cooperate, Player 1: Cooperate. Player 2: Cooperate, Player 1: Cooperate. Player 2: Cooperate, Player 1: Cooperate. Player 2: Cooperate, Player 1: Cooperate. Player 2: Cooperate, Player 1: Cooperate. Player 2: Cooperate, Player 1: Cooperate. Player 2:   Cooper\n"
     ]
    },
    {
     "name": "stderr",
     "output_type": "stream",
     "text": [
      "The attention mask and the pad token id were not set. As a consequence, you may observe unexpected behavior. Please pass your input's `attention_mask` to obtain reliable results.\n",
      "Setting `pad_token_id` to `eos_token_id`:2 for open-end generation.\n"
     ]
    },
    {
     "name": "stdout",
     "output_type": "stream",
     "text": [
      "model  1  output:  You are playing multiple rounds of prisoner's dilemma.You are Player 1. Do you choose to 'Cooperate' or 'Defect'? Game history: . Player 1: Cooperate, Player 2: Cooperate. Player 1: Cooperate, Player 2: Cooperate. Player 1: Cooperate, Player 2: Cooperate. Player 1: Cooperate, Player 2: Cooperate. Player 1: Cooperate, Player 2: Cooperate. Player 1: Cooperate, Player 2: Cooperate. Player 1: Cooperate, Player 2: Cooperate. Player 1: Cooperate, Player 2: Cooperate. Player 1:  Cooper\n"
     ]
    },
    {
     "name": "stderr",
     "output_type": "stream",
     "text": [
      "INFO:LLM_IPD:model 1 action: Cooperate\n",
      "INFO:LLM_IPD:model 2 action: Cooperate\n",
      "INFO:LLM_IPD:Round: 9\n"
     ]
    },
    {
     "name": "stdout",
     "output_type": "stream",
     "text": [
      "model  2  output:  You are playing multiple rounds of prisoner's dilemma.You are Player 2. Do you choose to 'Cooperate' or 'Defect'? Game history: . Player 2: Cooperate, Player 1: Cooperate. Player 2: Cooperate, Player 1: Cooperate. Player 2: Cooperate, Player 1: Cooperate. Player 2: Cooperate, Player 1: Cooperate. Player 2: Cooperate, Player 1: Cooperate. Player 2: Cooperate, Player 1: Cooperate. Player 2: Cooperate, Player 1: Cooperate. Player 2: Cooperate, Player 1: Cooperate. Player 2:   Cooper\n"
     ]
    },
    {
     "name": "stderr",
     "output_type": "stream",
     "text": [
      "The attention mask and the pad token id were not set. As a consequence, you may observe unexpected behavior. Please pass your input's `attention_mask` to obtain reliable results.\n",
      "Setting `pad_token_id` to `eos_token_id`:2 for open-end generation.\n"
     ]
    },
    {
     "name": "stdout",
     "output_type": "stream",
     "text": [
      "model  1  output:  You are playing multiple rounds of prisoner's dilemma.You are Player 1. Do you choose to 'Cooperate' or 'Defect'? Game history: . Player 1: Cooperate, Player 2: Cooperate. Player 1: Cooperate, Player 2: Cooperate. Player 1: Cooperate, Player 2: Cooperate. Player 1: Cooperate, Player 2: Cooperate. Player 1: Cooperate, Player 2: Cooperate. Player 1: Cooperate, Player 2: Cooperate. Player 1: Cooperate, Player 2: Cooperate. Player 1: Cooperate, Player 2: Cooperate. Player 1: Cooperate, Player 2: Cooperate. Player 1:  Cooper\n"
     ]
    },
    {
     "name": "stderr",
     "output_type": "stream",
     "text": [
      "INFO:LLM_IPD:model 1 action: Cooperate\n",
      "INFO:LLM_IPD:model 2 action: Cooperate\n",
      "INFO:LLM_IPD:Round: 10\n"
     ]
    },
    {
     "name": "stdout",
     "output_type": "stream",
     "text": [
      "model  2  output:  You are playing multiple rounds of prisoner's dilemma.You are Player 2. Do you choose to 'Cooperate' or 'Defect'? Game history: . Player 2: Cooperate, Player 1: Cooperate. Player 2: Cooperate, Player 1: Cooperate. Player 2: Cooperate, Player 1: Cooperate. Player 2: Cooperate, Player 1: Cooperate. Player 2: Cooperate, Player 1: Cooperate. Player 2: Cooperate, Player 1: Cooperate. Player 2: Cooperate, Player 1: Cooperate. Player 2: Cooperate, Player 1: Cooperate. Player 2: Cooperate, Player 1: Cooperate. Player 2:   Cooper\n"
     ]
    },
    {
     "name": "stderr",
     "output_type": "stream",
     "text": [
      "The attention mask and the pad token id were not set. As a consequence, you may observe unexpected behavior. Please pass your input's `attention_mask` to obtain reliable results.\n",
      "Setting `pad_token_id` to `eos_token_id`:2 for open-end generation.\n"
     ]
    },
    {
     "name": "stdout",
     "output_type": "stream",
     "text": [
      "model  1  output:  You are playing multiple rounds of prisoner's dilemma.You are Player 1. Do you choose to 'Cooperate' or 'Defect'? Game history: . Player 1: Cooperate, Player 2: Cooperate. Player 1: Cooperate, Player 2: Cooperate. Player 1: Cooperate, Player 2: Cooperate. Player 1: Cooperate, Player 2: Cooperate. Player 1: Cooperate, Player 2: Cooperate. Player 1: Cooperate, Player 2: Cooperate. Player 1: Cooperate, Player 2: Cooperate. Player 1: Cooperate, Player 2: Cooperate. Player 1: Cooperate, Player 2: Cooperate. Player 1: Cooperate, Player 2: Cooperate. Player 1:  Cooper\n"
     ]
    },
    {
     "name": "stderr",
     "output_type": "stream",
     "text": [
      "INFO:LLM_IPD:model 1 action: Cooperate\n",
      "INFO:LLM_IPD:model 2 action: Cooperate\n",
      "INFO:LLM_IPD:Round: 11\n"
     ]
    },
    {
     "name": "stdout",
     "output_type": "stream",
     "text": [
      "model  2  output:  You are playing multiple rounds of prisoner's dilemma.You are Player 2. Do you choose to 'Cooperate' or 'Defect'? Game history: . Player 2: Cooperate, Player 1: Cooperate. Player 2: Cooperate, Player 1: Cooperate. Player 2: Cooperate, Player 1: Cooperate. Player 2: Cooperate, Player 1: Cooperate. Player 2: Cooperate, Player 1: Cooperate. Player 2: Cooperate, Player 1: Cooperate. Player 2: Cooperate, Player 1: Cooperate. Player 2: Cooperate, Player 1: Cooperate. Player 2: Cooperate, Player 1: Cooperate. Player 2: Cooperate, Player 1: Cooperate. Player 2:   Cooper\n"
     ]
    },
    {
     "name": "stderr",
     "output_type": "stream",
     "text": [
      "The attention mask and the pad token id were not set. As a consequence, you may observe unexpected behavior. Please pass your input's `attention_mask` to obtain reliable results.\n",
      "Setting `pad_token_id` to `eos_token_id`:2 for open-end generation.\n"
     ]
    },
    {
     "name": "stdout",
     "output_type": "stream",
     "text": [
      "model  1  output:  You are playing multiple rounds of prisoner's dilemma.You are Player 1. Do you choose to 'Cooperate' or 'Defect'? Game history: . Player 1: Cooperate, Player 2: Cooperate. Player 1: Cooperate, Player 2: Cooperate. Player 1: Cooperate, Player 2: Cooperate. Player 1: Cooperate, Player 2: Cooperate. Player 1: Cooperate, Player 2: Cooperate. Player 1: Cooperate, Player 2: Cooperate. Player 1: Cooperate, Player 2: Cooperate. Player 1: Cooperate, Player 2: Cooperate. Player 1: Cooperate, Player 2: Cooperate. Player 1: Cooperate, Player 2: Cooperate. Player 1: Cooperate, Player 2: Cooperate. Player 1:  Cooper\n"
     ]
    },
    {
     "name": "stderr",
     "output_type": "stream",
     "text": [
      "INFO:LLM_IPD:model 1 action: Cooperate\n",
      "INFO:LLM_IPD:model 2 action: Cooperate\n",
      "INFO:LLM_IPD:Round: 12\n"
     ]
    },
    {
     "name": "stdout",
     "output_type": "stream",
     "text": [
      "model  2  output:  You are playing multiple rounds of prisoner's dilemma.You are Player 2. Do you choose to 'Cooperate' or 'Defect'? Game history: . Player 2: Cooperate, Player 1: Cooperate. Player 2: Cooperate, Player 1: Cooperate. Player 2: Cooperate, Player 1: Cooperate. Player 2: Cooperate, Player 1: Cooperate. Player 2: Cooperate, Player 1: Cooperate. Player 2: Cooperate, Player 1: Cooperate. Player 2: Cooperate, Player 1: Cooperate. Player 2: Cooperate, Player 1: Cooperate. Player 2: Cooperate, Player 1: Cooperate. Player 2: Cooperate, Player 1: Cooperate. Player 2: Cooperate, Player 1: Cooperate. Player 2:   Cooper\n"
     ]
    },
    {
     "name": "stderr",
     "output_type": "stream",
     "text": [
      "The attention mask and the pad token id were not set. As a consequence, you may observe unexpected behavior. Please pass your input's `attention_mask` to obtain reliable results.\n",
      "Setting `pad_token_id` to `eos_token_id`:2 for open-end generation.\n"
     ]
    },
    {
     "name": "stdout",
     "output_type": "stream",
     "text": [
      "model  1  output:  You are playing multiple rounds of prisoner's dilemma.You are Player 1. Do you choose to 'Cooperate' or 'Defect'? Game history: . Player 1: Cooperate, Player 2: Cooperate. Player 1: Cooperate, Player 2: Cooperate. Player 1: Cooperate, Player 2: Cooperate. Player 1: Cooperate, Player 2: Cooperate. Player 1: Cooperate, Player 2: Cooperate. Player 1: Cooperate, Player 2: Cooperate. Player 1: Cooperate, Player 2: Cooperate. Player 1: Cooperate, Player 2: Cooperate. Player 1: Cooperate, Player 2: Cooperate. Player 1: Cooperate, Player 2: Cooperate. Player 1: Cooperate, Player 2: Cooperate. Player 1: Cooperate, Player 2: Cooperate. Player 1:  Cooper\n"
     ]
    },
    {
     "name": "stderr",
     "output_type": "stream",
     "text": [
      "INFO:LLM_IPD:model 1 action: Cooperate\n",
      "INFO:LLM_IPD:model 2 action: Cooperate\n",
      "INFO:LLM_IPD:Round: 13\n"
     ]
    },
    {
     "name": "stdout",
     "output_type": "stream",
     "text": [
      "model  2  output:  You are playing multiple rounds of prisoner's dilemma.You are Player 2. Do you choose to 'Cooperate' or 'Defect'? Game history: . Player 2: Cooperate, Player 1: Cooperate. Player 2: Cooperate, Player 1: Cooperate. Player 2: Cooperate, Player 1: Cooperate. Player 2: Cooperate, Player 1: Cooperate. Player 2: Cooperate, Player 1: Cooperate. Player 2: Cooperate, Player 1: Cooperate. Player 2: Cooperate, Player 1: Cooperate. Player 2: Cooperate, Player 1: Cooperate. Player 2: Cooperate, Player 1: Cooperate. Player 2: Cooperate, Player 1: Cooperate. Player 2: Cooperate, Player 1: Cooperate. Player 2: Cooperate, Player 1: Cooperate. Player 2:   Cooper\n"
     ]
    },
    {
     "name": "stderr",
     "output_type": "stream",
     "text": [
      "The attention mask and the pad token id were not set. As a consequence, you may observe unexpected behavior. Please pass your input's `attention_mask` to obtain reliable results.\n",
      "Setting `pad_token_id` to `eos_token_id`:2 for open-end generation.\n"
     ]
    },
    {
     "name": "stdout",
     "output_type": "stream",
     "text": [
      "model  1  output:  You are playing multiple rounds of prisoner's dilemma.You are Player 1. Do you choose to 'Cooperate' or 'Defect'? Game history: . Player 1: Cooperate, Player 2: Cooperate. Player 1: Cooperate, Player 2: Cooperate. Player 1: Cooperate, Player 2: Cooperate. Player 1: Cooperate, Player 2: Cooperate. Player 1: Cooperate, Player 2: Cooperate. Player 1: Cooperate, Player 2: Cooperate. Player 1: Cooperate, Player 2: Cooperate. Player 1: Cooperate, Player 2: Cooperate. Player 1: Cooperate, Player 2: Cooperate. Player 1: Cooperate, Player 2: Cooperate. Player 1: Cooperate, Player 2: Cooperate. Player 1: Cooperate, Player 2: Cooperate. Player 1: Cooperate, Player 2: Cooperate. Player 1:  Cooper\n"
     ]
    },
    {
     "name": "stderr",
     "output_type": "stream",
     "text": [
      "INFO:LLM_IPD:model 1 action: Cooperate\n",
      "INFO:LLM_IPD:model 2 action: Cooperate\n",
      "INFO:LLM_IPD:Round: 14\n"
     ]
    },
    {
     "name": "stdout",
     "output_type": "stream",
     "text": [
      "model  2  output:  You are playing multiple rounds of prisoner's dilemma.You are Player 2. Do you choose to 'Cooperate' or 'Defect'? Game history: . Player 2: Cooperate, Player 1: Cooperate. Player 2: Cooperate, Player 1: Cooperate. Player 2: Cooperate, Player 1: Cooperate. Player 2: Cooperate, Player 1: Cooperate. Player 2: Cooperate, Player 1: Cooperate. Player 2: Cooperate, Player 1: Cooperate. Player 2: Cooperate, Player 1: Cooperate. Player 2: Cooperate, Player 1: Cooperate. Player 2: Cooperate, Player 1: Cooperate. Player 2: Cooperate, Player 1: Cooperate. Player 2: Cooperate, Player 1: Cooperate. Player 2: Cooperate, Player 1: Cooperate. Player 2: Cooperate, Player 1: Cooperate. Player 2:   Cooper\n"
     ]
    },
    {
     "name": "stderr",
     "output_type": "stream",
     "text": [
      "The attention mask and the pad token id were not set. As a consequence, you may observe unexpected behavior. Please pass your input's `attention_mask` to obtain reliable results.\n",
      "Setting `pad_token_id` to `eos_token_id`:2 for open-end generation.\n"
     ]
    },
    {
     "name": "stdout",
     "output_type": "stream",
     "text": [
      "model  1  output:  You are playing multiple rounds of prisoner's dilemma.You are Player 1. Do you choose to 'Cooperate' or 'Defect'? Game history: . Player 1: Cooperate, Player 2: Cooperate. Player 1: Cooperate, Player 2: Cooperate. Player 1: Cooperate, Player 2: Cooperate. Player 1: Cooperate, Player 2: Cooperate. Player 1: Cooperate, Player 2: Cooperate. Player 1: Cooperate, Player 2: Cooperate. Player 1: Cooperate, Player 2: Cooperate. Player 1: Cooperate, Player 2: Cooperate. Player 1: Cooperate, Player 2: Cooperate. Player 1: Cooperate, Player 2: Cooperate. Player 1: Cooperate, Player 2: Cooperate. Player 1: Cooperate, Player 2: Cooperate. Player 1: Cooperate, Player 2: Cooperate. Player 1: Cooperate, Player 2: Cooperate. Player 1:  Cooper\n"
     ]
    },
    {
     "name": "stderr",
     "output_type": "stream",
     "text": [
      "INFO:LLM_IPD:model 1 action: Cooperate\n",
      "INFO:LLM_IPD:model 2 action: Cooperate\n",
      "INFO:LLM_IPD:Round: 15\n"
     ]
    },
    {
     "name": "stdout",
     "output_type": "stream",
     "text": [
      "model  2  output:  You are playing multiple rounds of prisoner's dilemma.You are Player 2. Do you choose to 'Cooperate' or 'Defect'? Game history: . Player 2: Cooperate, Player 1: Cooperate. Player 2: Cooperate, Player 1: Cooperate. Player 2: Cooperate, Player 1: Cooperate. Player 2: Cooperate, Player 1: Cooperate. Player 2: Cooperate, Player 1: Cooperate. Player 2: Cooperate, Player 1: Cooperate. Player 2: Cooperate, Player 1: Cooperate. Player 2: Cooperate, Player 1: Cooperate. Player 2: Cooperate, Player 1: Cooperate. Player 2: Cooperate, Player 1: Cooperate. Player 2: Cooperate, Player 1: Cooperate. Player 2: Cooperate, Player 1: Cooperate. Player 2: Cooperate, Player 1: Cooperate. Player 2: Cooperate, Player 1: Cooperate. Player 2:   Cooper\n"
     ]
    },
    {
     "name": "stderr",
     "output_type": "stream",
     "text": [
      "The attention mask and the pad token id were not set. As a consequence, you may observe unexpected behavior. Please pass your input's `attention_mask` to obtain reliable results.\n",
      "Setting `pad_token_id` to `eos_token_id`:2 for open-end generation.\n"
     ]
    },
    {
     "name": "stdout",
     "output_type": "stream",
     "text": [
      "model  1  output:  You are playing multiple rounds of prisoner's dilemma.You are Player 1. Do you choose to 'Cooperate' or 'Defect'? Game history: . Player 1: Cooperate, Player 2: Cooperate. Player 1: Cooperate, Player 2: Cooperate. Player 1: Cooperate, Player 2: Cooperate. Player 1: Cooperate, Player 2: Cooperate. Player 1: Cooperate, Player 2: Cooperate. Player 1: Cooperate, Player 2: Cooperate. Player 1: Cooperate, Player 2: Cooperate. Player 1: Cooperate, Player 2: Cooperate. Player 1: Cooperate, Player 2: Cooperate. Player 1: Cooperate, Player 2: Cooperate. Player 1: Cooperate, Player 2: Cooperate. Player 1: Cooperate, Player 2: Cooperate. Player 1: Cooperate, Player 2: Cooperate. Player 1: Cooperate, Player 2: Cooperate. Player 1: Cooperate, Player 2: Cooperate. Player 1:  Cooper\n"
     ]
    },
    {
     "name": "stderr",
     "output_type": "stream",
     "text": [
      "INFO:LLM_IPD:model 1 action: Cooperate\n",
      "INFO:LLM_IPD:model 2 action: Cooperate\n",
      "INFO:LLM_IPD:Round: 16\n"
     ]
    },
    {
     "name": "stdout",
     "output_type": "stream",
     "text": [
      "model  2  output:  You are playing multiple rounds of prisoner's dilemma.You are Player 2. Do you choose to 'Cooperate' or 'Defect'? Game history: . Player 2: Cooperate, Player 1: Cooperate. Player 2: Cooperate, Player 1: Cooperate. Player 2: Cooperate, Player 1: Cooperate. Player 2: Cooperate, Player 1: Cooperate. Player 2: Cooperate, Player 1: Cooperate. Player 2: Cooperate, Player 1: Cooperate. Player 2: Cooperate, Player 1: Cooperate. Player 2: Cooperate, Player 1: Cooperate. Player 2: Cooperate, Player 1: Cooperate. Player 2: Cooperate, Player 1: Cooperate. Player 2: Cooperate, Player 1: Cooperate. Player 2: Cooperate, Player 1: Cooperate. Player 2: Cooperate, Player 1: Cooperate. Player 2: Cooperate, Player 1: Cooperate. Player 2: Cooperate, Player 1: Cooperate. Player 2:   Cooper\n"
     ]
    },
    {
     "name": "stderr",
     "output_type": "stream",
     "text": [
      "The attention mask and the pad token id were not set. As a consequence, you may observe unexpected behavior. Please pass your input's `attention_mask` to obtain reliable results.\n",
      "Setting `pad_token_id` to `eos_token_id`:2 for open-end generation.\n"
     ]
    },
    {
     "name": "stdout",
     "output_type": "stream",
     "text": [
      "model  1  output:  You are playing multiple rounds of prisoner's dilemma.You are Player 1. Do you choose to 'Cooperate' or 'Defect'? Game history: . Player 1: Cooperate, Player 2: Cooperate. Player 1: Cooperate, Player 2: Cooperate. Player 1: Cooperate, Player 2: Cooperate. Player 1: Cooperate, Player 2: Cooperate. Player 1: Cooperate, Player 2: Cooperate. Player 1: Cooperate, Player 2: Cooperate. Player 1: Cooperate, Player 2: Cooperate. Player 1: Cooperate, Player 2: Cooperate. Player 1: Cooperate, Player 2: Cooperate. Player 1: Cooperate, Player 2: Cooperate. Player 1: Cooperate, Player 2: Cooperate. Player 1: Cooperate, Player 2: Cooperate. Player 1: Cooperate, Player 2: Cooperate. Player 1: Cooperate, Player 2: Cooperate. Player 1: Cooperate, Player 2: Cooperate. Player 1: Cooperate, Player 2: Cooperate. Player 1:  Cooper\n"
     ]
    },
    {
     "name": "stderr",
     "output_type": "stream",
     "text": [
      "INFO:LLM_IPD:model 1 action: Cooperate\n",
      "INFO:LLM_IPD:model 2 action: Cooperate\n",
      "INFO:LLM_IPD:Round: 17\n"
     ]
    },
    {
     "name": "stdout",
     "output_type": "stream",
     "text": [
      "model  2  output:  You are playing multiple rounds of prisoner's dilemma.You are Player 2. Do you choose to 'Cooperate' or 'Defect'? Game history: . Player 2: Cooperate, Player 1: Cooperate. Player 2: Cooperate, Player 1: Cooperate. Player 2: Cooperate, Player 1: Cooperate. Player 2: Cooperate, Player 1: Cooperate. Player 2: Cooperate, Player 1: Cooperate. Player 2: Cooperate, Player 1: Cooperate. Player 2: Cooperate, Player 1: Cooperate. Player 2: Cooperate, Player 1: Cooperate. Player 2: Cooperate, Player 1: Cooperate. Player 2: Cooperate, Player 1: Cooperate. Player 2: Cooperate, Player 1: Cooperate. Player 2: Cooperate, Player 1: Cooperate. Player 2: Cooperate, Player 1: Cooperate. Player 2: Cooperate, Player 1: Cooperate. Player 2: Cooperate, Player 1: Cooperate. Player 2: Cooperate, Player 1: Cooperate. Player 2:   Cooper\n"
     ]
    },
    {
     "name": "stderr",
     "output_type": "stream",
     "text": [
      "The attention mask and the pad token id were not set. As a consequence, you may observe unexpected behavior. Please pass your input's `attention_mask` to obtain reliable results.\n",
      "Setting `pad_token_id` to `eos_token_id`:2 for open-end generation.\n"
     ]
    },
    {
     "name": "stdout",
     "output_type": "stream",
     "text": [
      "model  1  output:  You are playing multiple rounds of prisoner's dilemma.You are Player 1. Do you choose to 'Cooperate' or 'Defect'? Game history: . Player 1: Cooperate, Player 2: Cooperate. Player 1: Cooperate, Player 2: Cooperate. Player 1: Cooperate, Player 2: Cooperate. Player 1: Cooperate, Player 2: Cooperate. Player 1: Cooperate, Player 2: Cooperate. Player 1: Cooperate, Player 2: Cooperate. Player 1: Cooperate, Player 2: Cooperate. Player 1: Cooperate, Player 2: Cooperate. Player 1: Cooperate, Player 2: Cooperate. Player 1: Cooperate, Player 2: Cooperate. Player 1: Cooperate, Player 2: Cooperate. Player 1: Cooperate, Player 2: Cooperate. Player 1: Cooperate, Player 2: Cooperate. Player 1: Cooperate, Player 2: Cooperate. Player 1: Cooperate, Player 2: Cooperate. Player 1: Cooperate, Player 2: Cooperate. Player 1: Cooperate, Player 2: Cooperate. Player 1:  Cooper\n"
     ]
    },
    {
     "name": "stderr",
     "output_type": "stream",
     "text": [
      "INFO:LLM_IPD:model 1 action: Cooperate\n",
      "INFO:LLM_IPD:model 2 action: Cooperate\n",
      "INFO:LLM_IPD:Round: 18\n"
     ]
    },
    {
     "name": "stdout",
     "output_type": "stream",
     "text": [
      "model  2  output:  You are playing multiple rounds of prisoner's dilemma.You are Player 2. Do you choose to 'Cooperate' or 'Defect'? Game history: . Player 2: Cooperate, Player 1: Cooperate. Player 2: Cooperate, Player 1: Cooperate. Player 2: Cooperate, Player 1: Cooperate. Player 2: Cooperate, Player 1: Cooperate. Player 2: Cooperate, Player 1: Cooperate. Player 2: Cooperate, Player 1: Cooperate. Player 2: Cooperate, Player 1: Cooperate. Player 2: Cooperate, Player 1: Cooperate. Player 2: Cooperate, Player 1: Cooperate. Player 2: Cooperate, Player 1: Cooperate. Player 2: Cooperate, Player 1: Cooperate. Player 2: Cooperate, Player 1: Cooperate. Player 2: Cooperate, Player 1: Cooperate. Player 2: Cooperate, Player 1: Cooperate. Player 2: Cooperate, Player 1: Cooperate. Player 2: Cooperate, Player 1: Cooperate. Player 2: Cooperate, Player 1: Cooperate. Player 2:   Cooper\n"
     ]
    },
    {
     "name": "stderr",
     "output_type": "stream",
     "text": [
      "The attention mask and the pad token id were not set. As a consequence, you may observe unexpected behavior. Please pass your input's `attention_mask` to obtain reliable results.\n",
      "Setting `pad_token_id` to `eos_token_id`:2 for open-end generation.\n"
     ]
    },
    {
     "name": "stdout",
     "output_type": "stream",
     "text": [
      "model  1  output:  You are playing multiple rounds of prisoner's dilemma.You are Player 1. Do you choose to 'Cooperate' or 'Defect'? Game history: . Player 1: Cooperate, Player 2: Cooperate. Player 1: Cooperate, Player 2: Cooperate. Player 1: Cooperate, Player 2: Cooperate. Player 1: Cooperate, Player 2: Cooperate. Player 1: Cooperate, Player 2: Cooperate. Player 1: Cooperate, Player 2: Cooperate. Player 1: Cooperate, Player 2: Cooperate. Player 1: Cooperate, Player 2: Cooperate. Player 1: Cooperate, Player 2: Cooperate. Player 1: Cooperate, Player 2: Cooperate. Player 1: Cooperate, Player 2: Cooperate. Player 1: Cooperate, Player 2: Cooperate. Player 1: Cooperate, Player 2: Cooperate. Player 1: Cooperate, Player 2: Cooperate. Player 1: Cooperate, Player 2: Cooperate. Player 1: Cooperate, Player 2: Cooperate. Player 1: Cooperate, Player 2: Cooperate. Player 1: Cooperate, Player 2: Cooperate. Player 1:  Cooper\n"
     ]
    },
    {
     "name": "stderr",
     "output_type": "stream",
     "text": [
      "INFO:LLM_IPD:model 1 action: Cooperate\n",
      "INFO:LLM_IPD:model 2 action: Cooperate\n",
      "INFO:LLM_IPD:Round: 19\n"
     ]
    },
    {
     "name": "stdout",
     "output_type": "stream",
     "text": [
      "model  2  output:  You are playing multiple rounds of prisoner's dilemma.You are Player 2. Do you choose to 'Cooperate' or 'Defect'? Game history: . Player 2: Cooperate, Player 1: Cooperate. Player 2: Cooperate, Player 1: Cooperate. Player 2: Cooperate, Player 1: Cooperate. Player 2: Cooperate, Player 1: Cooperate. Player 2: Cooperate, Player 1: Cooperate. Player 2: Cooperate, Player 1: Cooperate. Player 2: Cooperate, Player 1: Cooperate. Player 2: Cooperate, Player 1: Cooperate. Player 2: Cooperate, Player 1: Cooperate. Player 2: Cooperate, Player 1: Cooperate. Player 2: Cooperate, Player 1: Cooperate. Player 2: Cooperate, Player 1: Cooperate. Player 2: Cooperate, Player 1: Cooperate. Player 2: Cooperate, Player 1: Cooperate. Player 2: Cooperate, Player 1: Cooperate. Player 2: Cooperate, Player 1: Cooperate. Player 2: Cooperate, Player 1: Cooperate. Player 2: Cooperate, Player 1: Cooperate. Player 2:   Cooper\n"
     ]
    },
    {
     "name": "stderr",
     "output_type": "stream",
     "text": [
      "The attention mask and the pad token id were not set. As a consequence, you may observe unexpected behavior. Please pass your input's `attention_mask` to obtain reliable results.\n",
      "Setting `pad_token_id` to `eos_token_id`:2 for open-end generation.\n"
     ]
    },
    {
     "name": "stdout",
     "output_type": "stream",
     "text": [
      "model  1  output:  You are playing multiple rounds of prisoner's dilemma.You are Player 1. Do you choose to 'Cooperate' or 'Defect'? Game history: . Player 1: Cooperate, Player 2: Cooperate. Player 1: Cooperate, Player 2: Cooperate. Player 1: Cooperate, Player 2: Cooperate. Player 1: Cooperate, Player 2: Cooperate. Player 1: Cooperate, Player 2: Cooperate. Player 1: Cooperate, Player 2: Cooperate. Player 1: Cooperate, Player 2: Cooperate. Player 1: Cooperate, Player 2: Cooperate. Player 1: Cooperate, Player 2: Cooperate. Player 1: Cooperate, Player 2: Cooperate. Player 1: Cooperate, Player 2: Cooperate. Player 1: Cooperate, Player 2: Cooperate. Player 1: Cooperate, Player 2: Cooperate. Player 1: Cooperate, Player 2: Cooperate. Player 1: Cooperate, Player 2: Cooperate. Player 1: Cooperate, Player 2: Cooperate. Player 1: Cooperate, Player 2: Cooperate. Player 1: Cooperate, Player 2: Cooperate. Player 1: Cooperate, Player 2: Cooperate. Player 1:  Cooper\n"
     ]
    },
    {
     "name": "stderr",
     "output_type": "stream",
     "text": [
      "INFO:LLM_IPD:model 1 action: Cooperate\n",
      "INFO:LLM_IPD:model 2 action: Cooperate\n",
      "INFO:LLM_IPD:Game: 2\n",
      "INFO:LLM_IPD:Round: 0\n"
     ]
    },
    {
     "name": "stdout",
     "output_type": "stream",
     "text": [
      "model  2  output:  You are playing multiple rounds of prisoner's dilemma.You are Player 2. Do you choose to 'Cooperate' or 'Defect'? Game history: . Player 2: Cooperate, Player 1: Cooperate. Player 2: Cooperate, Player 1: Cooperate. Player 2: Cooperate, Player 1: Cooperate. Player 2: Cooperate, Player 1: Cooperate. Player 2: Cooperate, Player 1: Cooperate. Player 2: Cooperate, Player 1: Cooperate. Player 2: Cooperate, Player 1: Cooperate. Player 2: Cooperate, Player 1: Cooperate. Player 2: Cooperate, Player 1: Cooperate. Player 2: Cooperate, Player 1: Cooperate. Player 2: Cooperate, Player 1: Cooperate. Player 2: Cooperate, Player 1: Cooperate. Player 2: Cooperate, Player 1: Cooperate. Player 2: Cooperate, Player 1: Cooperate. Player 2: Cooperate, Player 1: Cooperate. Player 2: Cooperate, Player 1: Cooperate. Player 2: Cooperate, Player 1: Cooperate. Player 2: Cooperate, Player 1: Cooperate. Player 2: Cooperate, Player 1: Cooperate. Player 2:   Cooper\n"
     ]
    },
    {
     "name": "stderr",
     "output_type": "stream",
     "text": [
      "The attention mask and the pad token id were not set. As a consequence, you may observe unexpected behavior. Please pass your input's `attention_mask` to obtain reliable results.\n",
      "Setting `pad_token_id` to `eos_token_id`:2 for open-end generation.\n"
     ]
    },
    {
     "name": "stdout",
     "output_type": "stream",
     "text": [
      "model  1  output:  You are playing multiple rounds of prisoner's dilemma.You are Player 1. Do you choose to 'Cooperate' or 'Defect'? Game history: . Player 1:  Cooper\n"
     ]
    },
    {
     "name": "stderr",
     "output_type": "stream",
     "text": [
      "INFO:LLM_IPD:model 1 action: Cooperate\n",
      "INFO:LLM_IPD:model 2 action: Cooperate\n",
      "INFO:LLM_IPD:Round: 1\n"
     ]
    },
    {
     "name": "stdout",
     "output_type": "stream",
     "text": [
      "model  2  output:  You are playing multiple rounds of prisoner's dilemma.You are Player 2. Do you choose to 'Cooperate' or 'Defect'? Game history: . Player 2:   Player\n"
     ]
    },
    {
     "name": "stderr",
     "output_type": "stream",
     "text": [
      "The attention mask and the pad token id were not set. As a consequence, you may observe unexpected behavior. Please pass your input's `attention_mask` to obtain reliable results.\n",
      "Setting `pad_token_id` to `eos_token_id`:2 for open-end generation.\n"
     ]
    },
    {
     "name": "stdout",
     "output_type": "stream",
     "text": [
      "model  1  output:  You are playing multiple rounds of prisoner's dilemma.You are Player 1. Do you choose to 'Cooperate' or 'Defect'? Game history: . Player 1: Cooperate, Player 2: Cooperate. Player 1:  Cooper\n"
     ]
    },
    {
     "name": "stderr",
     "output_type": "stream",
     "text": [
      "INFO:LLM_IPD:model 1 action: Cooperate\n",
      "INFO:LLM_IPD:model 2 action: Cooperate\n",
      "INFO:LLM_IPD:Round: 2\n"
     ]
    },
    {
     "name": "stdout",
     "output_type": "stream",
     "text": [
      "model  2  output:  You are playing multiple rounds of prisoner's dilemma.You are Player 2. Do you choose to 'Cooperate' or 'Defect'? Game history: . Player 2: Cooperate, Player 1: Cooperate. Player 2:  ‎\n"
     ]
    },
    {
     "name": "stderr",
     "output_type": "stream",
     "text": [
      "The attention mask and the pad token id were not set. As a consequence, you may observe unexpected behavior. Please pass your input's `attention_mask` to obtain reliable results.\n",
      "Setting `pad_token_id` to `eos_token_id`:2 for open-end generation.\n"
     ]
    },
    {
     "name": "stdout",
     "output_type": "stream",
     "text": [
      "model  1  output:  You are playing multiple rounds of prisoner's dilemma.You are Player 1. Do you choose to 'Cooperate' or 'Defect'? Game history: . Player 1: Cooperate, Player 2: Cooperate. Player 1: Cooperate, Player 2: Cooperate. Player 1:  Cooper\n"
     ]
    },
    {
     "name": "stderr",
     "output_type": "stream",
     "text": [
      "INFO:LLM_IPD:model 1 action: Cooperate\n",
      "INFO:LLM_IPD:model 2 action: Cooperate\n",
      "INFO:LLM_IPD:Round: 3\n"
     ]
    },
    {
     "name": "stdout",
     "output_type": "stream",
     "text": [
      "model  2  output:  You are playing multiple rounds of prisoner's dilemma.You are Player 2. Do you choose to 'Cooperate' or 'Defect'? Game history: . Player 2: Cooperate, Player 1: Cooperate. Player 2: Cooperate, Player 1: Cooperate. Player 2:  ‎\n"
     ]
    },
    {
     "name": "stderr",
     "output_type": "stream",
     "text": [
      "The attention mask and the pad token id were not set. As a consequence, you may observe unexpected behavior. Please pass your input's `attention_mask` to obtain reliable results.\n",
      "Setting `pad_token_id` to `eos_token_id`:2 for open-end generation.\n"
     ]
    },
    {
     "name": "stdout",
     "output_type": "stream",
     "text": [
      "model  1  output:  You are playing multiple rounds of prisoner's dilemma.You are Player 1. Do you choose to 'Cooperate' or 'Defect'? Game history: . Player 1: Cooperate, Player 2: Cooperate. Player 1: Cooperate, Player 2: Cooperate. Player 1: Cooperate, Player 2: Cooperate. Player 1:  Cooper\n"
     ]
    },
    {
     "name": "stderr",
     "output_type": "stream",
     "text": [
      "INFO:LLM_IPD:model 1 action: Cooperate\n",
      "INFO:LLM_IPD:model 2 action: Cooperate\n",
      "INFO:LLM_IPD:Round: 4\n"
     ]
    },
    {
     "name": "stdout",
     "output_type": "stream",
     "text": [
      "model  2  output:  You are playing multiple rounds of prisoner's dilemma.You are Player 2. Do you choose to 'Cooperate' or 'Defect'? Game history: . Player 2: Cooperate, Player 1: Cooperate. Player 2: Cooperate, Player 1: Cooperate. Player 2: Cooperate, Player 1: Cooperate. Player 2:  ‎\n"
     ]
    },
    {
     "name": "stderr",
     "output_type": "stream",
     "text": [
      "The attention mask and the pad token id were not set. As a consequence, you may observe unexpected behavior. Please pass your input's `attention_mask` to obtain reliable results.\n",
      "Setting `pad_token_id` to `eos_token_id`:2 for open-end generation.\n"
     ]
    },
    {
     "name": "stdout",
     "output_type": "stream",
     "text": [
      "model  1  output:  You are playing multiple rounds of prisoner's dilemma.You are Player 1. Do you choose to 'Cooperate' or 'Defect'? Game history: . Player 1: Cooperate, Player 2: Cooperate. Player 1: Cooperate, Player 2: Cooperate. Player 1: Cooperate, Player 2: Cooperate. Player 1: Cooperate, Player 2: Cooperate. Player 1:  Cooper\n"
     ]
    },
    {
     "name": "stderr",
     "output_type": "stream",
     "text": [
      "INFO:LLM_IPD:model 1 action: Cooperate\n",
      "INFO:LLM_IPD:model 2 action: Cooperate\n",
      "INFO:LLM_IPD:Round: 5\n"
     ]
    },
    {
     "name": "stdout",
     "output_type": "stream",
     "text": [
      "model  2  output:  You are playing multiple rounds of prisoner's dilemma.You are Player 2. Do you choose to 'Cooperate' or 'Defect'? Game history: . Player 2: Cooperate, Player 1: Cooperate. Player 2: Cooperate, Player 1: Cooperate. Player 2: Cooperate, Player 1: Cooperate. Player 2: Cooperate, Player 1: Cooperate. Player 2:  ‎\n"
     ]
    },
    {
     "name": "stderr",
     "output_type": "stream",
     "text": [
      "The attention mask and the pad token id were not set. As a consequence, you may observe unexpected behavior. Please pass your input's `attention_mask` to obtain reliable results.\n",
      "Setting `pad_token_id` to `eos_token_id`:2 for open-end generation.\n"
     ]
    },
    {
     "name": "stdout",
     "output_type": "stream",
     "text": [
      "model  1  output:  You are playing multiple rounds of prisoner's dilemma.You are Player 1. Do you choose to 'Cooperate' or 'Defect'? Game history: . Player 1: Cooperate, Player 2: Cooperate. Player 1: Cooperate, Player 2: Cooperate. Player 1: Cooperate, Player 2: Cooperate. Player 1: Cooperate, Player 2: Cooperate. Player 1: Cooperate, Player 2: Cooperate. Player 1:  Cooper\n"
     ]
    },
    {
     "name": "stderr",
     "output_type": "stream",
     "text": [
      "INFO:LLM_IPD:model 1 action: Cooperate\n",
      "INFO:LLM_IPD:model 2 action: Cooperate\n",
      "INFO:LLM_IPD:Round: 6\n"
     ]
    },
    {
     "name": "stdout",
     "output_type": "stream",
     "text": [
      "model  2  output:  You are playing multiple rounds of prisoner's dilemma.You are Player 2. Do you choose to 'Cooperate' or 'Defect'? Game history: . Player 2: Cooperate, Player 1: Cooperate. Player 2: Cooperate, Player 1: Cooperate. Player 2: Cooperate, Player 1: Cooperate. Player 2: Cooperate, Player 1: Cooperate. Player 2: Cooperate, Player 1: Cooperate. Player 2:   The\n"
     ]
    },
    {
     "name": "stderr",
     "output_type": "stream",
     "text": [
      "The attention mask and the pad token id were not set. As a consequence, you may observe unexpected behavior. Please pass your input's `attention_mask` to obtain reliable results.\n",
      "Setting `pad_token_id` to `eos_token_id`:2 for open-end generation.\n"
     ]
    },
    {
     "name": "stdout",
     "output_type": "stream",
     "text": [
      "model  1  output:  You are playing multiple rounds of prisoner's dilemma.You are Player 1. Do you choose to 'Cooperate' or 'Defect'? Game history: . Player 1: Cooperate, Player 2: Cooperate. Player 1: Cooperate, Player 2: Cooperate. Player 1: Cooperate, Player 2: Cooperate. Player 1: Cooperate, Player 2: Cooperate. Player 1: Cooperate, Player 2: Cooperate. Player 1: Cooperate, Player 2: Cooperate. Player 1:  Cooper\n"
     ]
    },
    {
     "name": "stderr",
     "output_type": "stream",
     "text": [
      "INFO:LLM_IPD:model 1 action: Cooperate\n",
      "INFO:LLM_IPD:model 2 action: Cooperate\n",
      "INFO:LLM_IPD:Round: 7\n"
     ]
    },
    {
     "name": "stdout",
     "output_type": "stream",
     "text": [
      "model  2  output:  You are playing multiple rounds of prisoner's dilemma.You are Player 2. Do you choose to 'Cooperate' or 'Defect'? Game history: . Player 2: Cooperate, Player 1: Cooperate. Player 2: Cooperate, Player 1: Cooperate. Player 2: Cooperate, Player 1: Cooperate. Player 2: Cooperate, Player 1: Cooperate. Player 2: Cooperate, Player 1: Cooperate. Player 2: Cooperate, Player 1: Cooperate. Player 2:   The\n"
     ]
    },
    {
     "name": "stderr",
     "output_type": "stream",
     "text": [
      "The attention mask and the pad token id were not set. As a consequence, you may observe unexpected behavior. Please pass your input's `attention_mask` to obtain reliable results.\n",
      "Setting `pad_token_id` to `eos_token_id`:2 for open-end generation.\n"
     ]
    },
    {
     "name": "stdout",
     "output_type": "stream",
     "text": [
      "model  1  output:  You are playing multiple rounds of prisoner's dilemma.You are Player 1. Do you choose to 'Cooperate' or 'Defect'? Game history: . Player 1: Cooperate, Player 2: Cooperate. Player 1: Cooperate, Player 2: Cooperate. Player 1: Cooperate, Player 2: Cooperate. Player 1: Cooperate, Player 2: Cooperate. Player 1: Cooperate, Player 2: Cooperate. Player 1: Cooperate, Player 2: Cooperate. Player 1: Cooperate, Player 2: Cooperate. Player 1:  Cooper\n"
     ]
    },
    {
     "name": "stderr",
     "output_type": "stream",
     "text": [
      "INFO:LLM_IPD:model 1 action: Cooperate\n",
      "INFO:LLM_IPD:model 2 action: Cooperate\n",
      "INFO:LLM_IPD:Round: 8\n"
     ]
    },
    {
     "name": "stdout",
     "output_type": "stream",
     "text": [
      "model  2  output:  You are playing multiple rounds of prisoner's dilemma.You are Player 2. Do you choose to 'Cooperate' or 'Defect'? Game history: . Player 2: Cooperate, Player 1: Cooperate. Player 2: Cooperate, Player 1: Cooperate. Player 2: Cooperate, Player 1: Cooperate. Player 2: Cooperate, Player 1: Cooperate. Player 2: Cooperate, Player 1: Cooperate. Player 2: Cooperate, Player 1: Cooperate. Player 2: Cooperate, Player 1: Cooperate. Player 2:   Cooper\n"
     ]
    },
    {
     "name": "stderr",
     "output_type": "stream",
     "text": [
      "The attention mask and the pad token id were not set. As a consequence, you may observe unexpected behavior. Please pass your input's `attention_mask` to obtain reliable results.\n",
      "Setting `pad_token_id` to `eos_token_id`:2 for open-end generation.\n"
     ]
    },
    {
     "name": "stdout",
     "output_type": "stream",
     "text": [
      "model  1  output:  You are playing multiple rounds of prisoner's dilemma.You are Player 1. Do you choose to 'Cooperate' or 'Defect'? Game history: . Player 1: Cooperate, Player 2: Cooperate. Player 1: Cooperate, Player 2: Cooperate. Player 1: Cooperate, Player 2: Cooperate. Player 1: Cooperate, Player 2: Cooperate. Player 1: Cooperate, Player 2: Cooperate. Player 1: Cooperate, Player 2: Cooperate. Player 1: Cooperate, Player 2: Cooperate. Player 1: Cooperate, Player 2: Cooperate. Player 1:  Cooper\n"
     ]
    },
    {
     "name": "stderr",
     "output_type": "stream",
     "text": [
      "INFO:LLM_IPD:model 1 action: Cooperate\n",
      "INFO:LLM_IPD:model 2 action: Cooperate\n",
      "INFO:LLM_IPD:Round: 9\n"
     ]
    },
    {
     "name": "stdout",
     "output_type": "stream",
     "text": [
      "model  2  output:  You are playing multiple rounds of prisoner's dilemma.You are Player 2. Do you choose to 'Cooperate' or 'Defect'? Game history: . Player 2: Cooperate, Player 1: Cooperate. Player 2: Cooperate, Player 1: Cooperate. Player 2: Cooperate, Player 1: Cooperate. Player 2: Cooperate, Player 1: Cooperate. Player 2: Cooperate, Player 1: Cooperate. Player 2: Cooperate, Player 1: Cooperate. Player 2: Cooperate, Player 1: Cooperate. Player 2: Cooperate, Player 1: Cooperate. Player 2:   Cooper\n"
     ]
    },
    {
     "name": "stderr",
     "output_type": "stream",
     "text": [
      "The attention mask and the pad token id were not set. As a consequence, you may observe unexpected behavior. Please pass your input's `attention_mask` to obtain reliable results.\n",
      "Setting `pad_token_id` to `eos_token_id`:2 for open-end generation.\n"
     ]
    },
    {
     "name": "stdout",
     "output_type": "stream",
     "text": [
      "model  1  output:  You are playing multiple rounds of prisoner's dilemma.You are Player 1. Do you choose to 'Cooperate' or 'Defect'? Game history: . Player 1: Cooperate, Player 2: Cooperate. Player 1: Cooperate, Player 2: Cooperate. Player 1: Cooperate, Player 2: Cooperate. Player 1: Cooperate, Player 2: Cooperate. Player 1: Cooperate, Player 2: Cooperate. Player 1: Cooperate, Player 2: Cooperate. Player 1: Cooperate, Player 2: Cooperate. Player 1: Cooperate, Player 2: Cooperate. Player 1: Cooperate, Player 2: Cooperate. Player 1:  Cooper\n"
     ]
    },
    {
     "name": "stderr",
     "output_type": "stream",
     "text": [
      "INFO:LLM_IPD:model 1 action: Cooperate\n",
      "INFO:LLM_IPD:model 2 action: Cooperate\n",
      "INFO:LLM_IPD:Round: 10\n"
     ]
    },
    {
     "name": "stdout",
     "output_type": "stream",
     "text": [
      "model  2  output:  You are playing multiple rounds of prisoner's dilemma.You are Player 2. Do you choose to 'Cooperate' or 'Defect'? Game history: . Player 2: Cooperate, Player 1: Cooperate. Player 2: Cooperate, Player 1: Cooperate. Player 2: Cooperate, Player 1: Cooperate. Player 2: Cooperate, Player 1: Cooperate. Player 2: Cooperate, Player 1: Cooperate. Player 2: Cooperate, Player 1: Cooperate. Player 2: Cooperate, Player 1: Cooperate. Player 2: Cooperate, Player 1: Cooperate. Player 2: Cooperate, Player 1: Cooperate. Player 2:   Cooper\n"
     ]
    },
    {
     "name": "stderr",
     "output_type": "stream",
     "text": [
      "The attention mask and the pad token id were not set. As a consequence, you may observe unexpected behavior. Please pass your input's `attention_mask` to obtain reliable results.\n",
      "Setting `pad_token_id` to `eos_token_id`:2 for open-end generation.\n"
     ]
    },
    {
     "name": "stdout",
     "output_type": "stream",
     "text": [
      "model  1  output:  You are playing multiple rounds of prisoner's dilemma.You are Player 1. Do you choose to 'Cooperate' or 'Defect'? Game history: . Player 1: Cooperate, Player 2: Cooperate. Player 1: Cooperate, Player 2: Cooperate. Player 1: Cooperate, Player 2: Cooperate. Player 1: Cooperate, Player 2: Cooperate. Player 1: Cooperate, Player 2: Cooperate. Player 1: Cooperate, Player 2: Cooperate. Player 1: Cooperate, Player 2: Cooperate. Player 1: Cooperate, Player 2: Cooperate. Player 1: Cooperate, Player 2: Cooperate. Player 1: Cooperate, Player 2: Cooperate. Player 1:  Cooper\n"
     ]
    },
    {
     "name": "stderr",
     "output_type": "stream",
     "text": [
      "INFO:LLM_IPD:model 1 action: Cooperate\n",
      "INFO:LLM_IPD:model 2 action: Cooperate\n",
      "INFO:LLM_IPD:Round: 11\n"
     ]
    },
    {
     "name": "stdout",
     "output_type": "stream",
     "text": [
      "model  2  output:  You are playing multiple rounds of prisoner's dilemma.You are Player 2. Do you choose to 'Cooperate' or 'Defect'? Game history: . Player 2: Cooperate, Player 1: Cooperate. Player 2: Cooperate, Player 1: Cooperate. Player 2: Cooperate, Player 1: Cooperate. Player 2: Cooperate, Player 1: Cooperate. Player 2: Cooperate, Player 1: Cooperate. Player 2: Cooperate, Player 1: Cooperate. Player 2: Cooperate, Player 1: Cooperate. Player 2: Cooperate, Player 1: Cooperate. Player 2: Cooperate, Player 1: Cooperate. Player 2: Cooperate, Player 1: Cooperate. Player 2:   Cooper\n"
     ]
    },
    {
     "name": "stderr",
     "output_type": "stream",
     "text": [
      "The attention mask and the pad token id were not set. As a consequence, you may observe unexpected behavior. Please pass your input's `attention_mask` to obtain reliable results.\n",
      "Setting `pad_token_id` to `eos_token_id`:2 for open-end generation.\n"
     ]
    },
    {
     "name": "stdout",
     "output_type": "stream",
     "text": [
      "model  1  output:  You are playing multiple rounds of prisoner's dilemma.You are Player 1. Do you choose to 'Cooperate' or 'Defect'? Game history: . Player 1: Cooperate, Player 2: Cooperate. Player 1: Cooperate, Player 2: Cooperate. Player 1: Cooperate, Player 2: Cooperate. Player 1: Cooperate, Player 2: Cooperate. Player 1: Cooperate, Player 2: Cooperate. Player 1: Cooperate, Player 2: Cooperate. Player 1: Cooperate, Player 2: Cooperate. Player 1: Cooperate, Player 2: Cooperate. Player 1: Cooperate, Player 2: Cooperate. Player 1: Cooperate, Player 2: Cooperate. Player 1: Cooperate, Player 2: Cooperate. Player 1:  Cooper\n"
     ]
    },
    {
     "name": "stderr",
     "output_type": "stream",
     "text": [
      "INFO:LLM_IPD:model 1 action: Cooperate\n",
      "INFO:LLM_IPD:model 2 action: Cooperate\n",
      "INFO:LLM_IPD:Round: 12\n"
     ]
    },
    {
     "name": "stdout",
     "output_type": "stream",
     "text": [
      "model  2  output:  You are playing multiple rounds of prisoner's dilemma.You are Player 2. Do you choose to 'Cooperate' or 'Defect'? Game history: . Player 2: Cooperate, Player 1: Cooperate. Player 2: Cooperate, Player 1: Cooperate. Player 2: Cooperate, Player 1: Cooperate. Player 2: Cooperate, Player 1: Cooperate. Player 2: Cooperate, Player 1: Cooperate. Player 2: Cooperate, Player 1: Cooperate. Player 2: Cooperate, Player 1: Cooperate. Player 2: Cooperate, Player 1: Cooperate. Player 2: Cooperate, Player 1: Cooperate. Player 2: Cooperate, Player 1: Cooperate. Player 2: Cooperate, Player 1: Cooperate. Player 2:   Cooper\n"
     ]
    },
    {
     "name": "stderr",
     "output_type": "stream",
     "text": [
      "The attention mask and the pad token id were not set. As a consequence, you may observe unexpected behavior. Please pass your input's `attention_mask` to obtain reliable results.\n",
      "Setting `pad_token_id` to `eos_token_id`:2 for open-end generation.\n"
     ]
    },
    {
     "name": "stdout",
     "output_type": "stream",
     "text": [
      "model  1  output:  You are playing multiple rounds of prisoner's dilemma.You are Player 1. Do you choose to 'Cooperate' or 'Defect'? Game history: . Player 1: Cooperate, Player 2: Cooperate. Player 1: Cooperate, Player 2: Cooperate. Player 1: Cooperate, Player 2: Cooperate. Player 1: Cooperate, Player 2: Cooperate. Player 1: Cooperate, Player 2: Cooperate. Player 1: Cooperate, Player 2: Cooperate. Player 1: Cooperate, Player 2: Cooperate. Player 1: Cooperate, Player 2: Cooperate. Player 1: Cooperate, Player 2: Cooperate. Player 1: Cooperate, Player 2: Cooperate. Player 1: Cooperate, Player 2: Cooperate. Player 1: Cooperate, Player 2: Cooperate. Player 1:  Cooper\n"
     ]
    },
    {
     "name": "stderr",
     "output_type": "stream",
     "text": [
      "INFO:LLM_IPD:model 1 action: Cooperate\n",
      "INFO:LLM_IPD:model 2 action: Cooperate\n",
      "INFO:LLM_IPD:Round: 13\n"
     ]
    },
    {
     "name": "stdout",
     "output_type": "stream",
     "text": [
      "model  2  output:  You are playing multiple rounds of prisoner's dilemma.You are Player 2. Do you choose to 'Cooperate' or 'Defect'? Game history: . Player 2: Cooperate, Player 1: Cooperate. Player 2: Cooperate, Player 1: Cooperate. Player 2: Cooperate, Player 1: Cooperate. Player 2: Cooperate, Player 1: Cooperate. Player 2: Cooperate, Player 1: Cooperate. Player 2: Cooperate, Player 1: Cooperate. Player 2: Cooperate, Player 1: Cooperate. Player 2: Cooperate, Player 1: Cooperate. Player 2: Cooperate, Player 1: Cooperate. Player 2: Cooperate, Player 1: Cooperate. Player 2: Cooperate, Player 1: Cooperate. Player 2: Cooperate, Player 1: Cooperate. Player 2:   Cooper\n"
     ]
    },
    {
     "name": "stderr",
     "output_type": "stream",
     "text": [
      "The attention mask and the pad token id were not set. As a consequence, you may observe unexpected behavior. Please pass your input's `attention_mask` to obtain reliable results.\n",
      "Setting `pad_token_id` to `eos_token_id`:2 for open-end generation.\n"
     ]
    },
    {
     "name": "stdout",
     "output_type": "stream",
     "text": [
      "model  1  output:  You are playing multiple rounds of prisoner's dilemma.You are Player 1. Do you choose to 'Cooperate' or 'Defect'? Game history: . Player 1: Cooperate, Player 2: Cooperate. Player 1: Cooperate, Player 2: Cooperate. Player 1: Cooperate, Player 2: Cooperate. Player 1: Cooperate, Player 2: Cooperate. Player 1: Cooperate, Player 2: Cooperate. Player 1: Cooperate, Player 2: Cooperate. Player 1: Cooperate, Player 2: Cooperate. Player 1: Cooperate, Player 2: Cooperate. Player 1: Cooperate, Player 2: Cooperate. Player 1: Cooperate, Player 2: Cooperate. Player 1: Cooperate, Player 2: Cooperate. Player 1: Cooperate, Player 2: Cooperate. Player 1: Cooperate, Player 2: Cooperate. Player 1:  Cooper\n"
     ]
    },
    {
     "name": "stderr",
     "output_type": "stream",
     "text": [
      "INFO:LLM_IPD:model 1 action: Cooperate\n",
      "INFO:LLM_IPD:model 2 action: Cooperate\n",
      "INFO:LLM_IPD:Round: 14\n"
     ]
    },
    {
     "name": "stdout",
     "output_type": "stream",
     "text": [
      "model  2  output:  You are playing multiple rounds of prisoner's dilemma.You are Player 2. Do you choose to 'Cooperate' or 'Defect'? Game history: . Player 2: Cooperate, Player 1: Cooperate. Player 2: Cooperate, Player 1: Cooperate. Player 2: Cooperate, Player 1: Cooperate. Player 2: Cooperate, Player 1: Cooperate. Player 2: Cooperate, Player 1: Cooperate. Player 2: Cooperate, Player 1: Cooperate. Player 2: Cooperate, Player 1: Cooperate. Player 2: Cooperate, Player 1: Cooperate. Player 2: Cooperate, Player 1: Cooperate. Player 2: Cooperate, Player 1: Cooperate. Player 2: Cooperate, Player 1: Cooperate. Player 2: Cooperate, Player 1: Cooperate. Player 2: Cooperate, Player 1: Cooperate. Player 2:   Cooper\n"
     ]
    },
    {
     "name": "stderr",
     "output_type": "stream",
     "text": [
      "The attention mask and the pad token id were not set. As a consequence, you may observe unexpected behavior. Please pass your input's `attention_mask` to obtain reliable results.\n",
      "Setting `pad_token_id` to `eos_token_id`:2 for open-end generation.\n"
     ]
    },
    {
     "name": "stdout",
     "output_type": "stream",
     "text": [
      "model  1  output:  You are playing multiple rounds of prisoner's dilemma.You are Player 1. Do you choose to 'Cooperate' or 'Defect'? Game history: . Player 1: Cooperate, Player 2: Cooperate. Player 1: Cooperate, Player 2: Cooperate. Player 1: Cooperate, Player 2: Cooperate. Player 1: Cooperate, Player 2: Cooperate. Player 1: Cooperate, Player 2: Cooperate. Player 1: Cooperate, Player 2: Cooperate. Player 1: Cooperate, Player 2: Cooperate. Player 1: Cooperate, Player 2: Cooperate. Player 1: Cooperate, Player 2: Cooperate. Player 1: Cooperate, Player 2: Cooperate. Player 1: Cooperate, Player 2: Cooperate. Player 1: Cooperate, Player 2: Cooperate. Player 1: Cooperate, Player 2: Cooperate. Player 1: Cooperate, Player 2: Cooperate. Player 1:  Cooper\n"
     ]
    },
    {
     "name": "stderr",
     "output_type": "stream",
     "text": [
      "INFO:LLM_IPD:model 1 action: Cooperate\n",
      "INFO:LLM_IPD:model 2 action: Cooperate\n",
      "INFO:LLM_IPD:Round: 15\n"
     ]
    },
    {
     "name": "stdout",
     "output_type": "stream",
     "text": [
      "model  2  output:  You are playing multiple rounds of prisoner's dilemma.You are Player 2. Do you choose to 'Cooperate' or 'Defect'? Game history: . Player 2: Cooperate, Player 1: Cooperate. Player 2: Cooperate, Player 1: Cooperate. Player 2: Cooperate, Player 1: Cooperate. Player 2: Cooperate, Player 1: Cooperate. Player 2: Cooperate, Player 1: Cooperate. Player 2: Cooperate, Player 1: Cooperate. Player 2: Cooperate, Player 1: Cooperate. Player 2: Cooperate, Player 1: Cooperate. Player 2: Cooperate, Player 1: Cooperate. Player 2: Cooperate, Player 1: Cooperate. Player 2: Cooperate, Player 1: Cooperate. Player 2: Cooperate, Player 1: Cooperate. Player 2: Cooperate, Player 1: Cooperate. Player 2: Cooperate, Player 1: Cooperate. Player 2:   Cooper\n"
     ]
    },
    {
     "name": "stderr",
     "output_type": "stream",
     "text": [
      "The attention mask and the pad token id were not set. As a consequence, you may observe unexpected behavior. Please pass your input's `attention_mask` to obtain reliable results.\n",
      "Setting `pad_token_id` to `eos_token_id`:2 for open-end generation.\n"
     ]
    },
    {
     "name": "stdout",
     "output_type": "stream",
     "text": [
      "model  1  output:  You are playing multiple rounds of prisoner's dilemma.You are Player 1. Do you choose to 'Cooperate' or 'Defect'? Game history: . Player 1: Cooperate, Player 2: Cooperate. Player 1: Cooperate, Player 2: Cooperate. Player 1: Cooperate, Player 2: Cooperate. Player 1: Cooperate, Player 2: Cooperate. Player 1: Cooperate, Player 2: Cooperate. Player 1: Cooperate, Player 2: Cooperate. Player 1: Cooperate, Player 2: Cooperate. Player 1: Cooperate, Player 2: Cooperate. Player 1: Cooperate, Player 2: Cooperate. Player 1: Cooperate, Player 2: Cooperate. Player 1: Cooperate, Player 2: Cooperate. Player 1: Cooperate, Player 2: Cooperate. Player 1: Cooperate, Player 2: Cooperate. Player 1: Cooperate, Player 2: Cooperate. Player 1: Cooperate, Player 2: Cooperate. Player 1:  Cooper\n"
     ]
    },
    {
     "name": "stderr",
     "output_type": "stream",
     "text": [
      "INFO:LLM_IPD:model 1 action: Cooperate\n",
      "INFO:LLM_IPD:model 2 action: Cooperate\n",
      "INFO:LLM_IPD:Round: 16\n"
     ]
    },
    {
     "name": "stdout",
     "output_type": "stream",
     "text": [
      "model  2  output:  You are playing multiple rounds of prisoner's dilemma.You are Player 2. Do you choose to 'Cooperate' or 'Defect'? Game history: . Player 2: Cooperate, Player 1: Cooperate. Player 2: Cooperate, Player 1: Cooperate. Player 2: Cooperate, Player 1: Cooperate. Player 2: Cooperate, Player 1: Cooperate. Player 2: Cooperate, Player 1: Cooperate. Player 2: Cooperate, Player 1: Cooperate. Player 2: Cooperate, Player 1: Cooperate. Player 2: Cooperate, Player 1: Cooperate. Player 2: Cooperate, Player 1: Cooperate. Player 2: Cooperate, Player 1: Cooperate. Player 2: Cooperate, Player 1: Cooperate. Player 2: Cooperate, Player 1: Cooperate. Player 2: Cooperate, Player 1: Cooperate. Player 2: Cooperate, Player 1: Cooperate. Player 2: Cooperate, Player 1: Cooperate. Player 2:   Cooper\n"
     ]
    },
    {
     "name": "stderr",
     "output_type": "stream",
     "text": [
      "The attention mask and the pad token id were not set. As a consequence, you may observe unexpected behavior. Please pass your input's `attention_mask` to obtain reliable results.\n",
      "Setting `pad_token_id` to `eos_token_id`:2 for open-end generation.\n"
     ]
    },
    {
     "name": "stdout",
     "output_type": "stream",
     "text": [
      "model  1  output:  You are playing multiple rounds of prisoner's dilemma.You are Player 1. Do you choose to 'Cooperate' or 'Defect'? Game history: . Player 1: Cooperate, Player 2: Cooperate. Player 1: Cooperate, Player 2: Cooperate. Player 1: Cooperate, Player 2: Cooperate. Player 1: Cooperate, Player 2: Cooperate. Player 1: Cooperate, Player 2: Cooperate. Player 1: Cooperate, Player 2: Cooperate. Player 1: Cooperate, Player 2: Cooperate. Player 1: Cooperate, Player 2: Cooperate. Player 1: Cooperate, Player 2: Cooperate. Player 1: Cooperate, Player 2: Cooperate. Player 1: Cooperate, Player 2: Cooperate. Player 1: Cooperate, Player 2: Cooperate. Player 1: Cooperate, Player 2: Cooperate. Player 1: Cooperate, Player 2: Cooperate. Player 1: Cooperate, Player 2: Cooperate. Player 1: Cooperate, Player 2: Cooperate. Player 1:  Cooper\n"
     ]
    },
    {
     "name": "stderr",
     "output_type": "stream",
     "text": [
      "INFO:LLM_IPD:model 1 action: Cooperate\n",
      "INFO:LLM_IPD:model 2 action: Cooperate\n",
      "INFO:LLM_IPD:Round: 17\n"
     ]
    },
    {
     "name": "stdout",
     "output_type": "stream",
     "text": [
      "model  2  output:  You are playing multiple rounds of prisoner's dilemma.You are Player 2. Do you choose to 'Cooperate' or 'Defect'? Game history: . Player 2: Cooperate, Player 1: Cooperate. Player 2: Cooperate, Player 1: Cooperate. Player 2: Cooperate, Player 1: Cooperate. Player 2: Cooperate, Player 1: Cooperate. Player 2: Cooperate, Player 1: Cooperate. Player 2: Cooperate, Player 1: Cooperate. Player 2: Cooperate, Player 1: Cooperate. Player 2: Cooperate, Player 1: Cooperate. Player 2: Cooperate, Player 1: Cooperate. Player 2: Cooperate, Player 1: Cooperate. Player 2: Cooperate, Player 1: Cooperate. Player 2: Cooperate, Player 1: Cooperate. Player 2: Cooperate, Player 1: Cooperate. Player 2: Cooperate, Player 1: Cooperate. Player 2: Cooperate, Player 1: Cooperate. Player 2: Cooperate, Player 1: Cooperate. Player 2:   Cooper\n"
     ]
    },
    {
     "name": "stderr",
     "output_type": "stream",
     "text": [
      "The attention mask and the pad token id were not set. As a consequence, you may observe unexpected behavior. Please pass your input's `attention_mask` to obtain reliable results.\n",
      "Setting `pad_token_id` to `eos_token_id`:2 for open-end generation.\n"
     ]
    },
    {
     "name": "stdout",
     "output_type": "stream",
     "text": [
      "model  1  output:  You are playing multiple rounds of prisoner's dilemma.You are Player 1. Do you choose to 'Cooperate' or 'Defect'? Game history: . Player 1: Cooperate, Player 2: Cooperate. Player 1: Cooperate, Player 2: Cooperate. Player 1: Cooperate, Player 2: Cooperate. Player 1: Cooperate, Player 2: Cooperate. Player 1: Cooperate, Player 2: Cooperate. Player 1: Cooperate, Player 2: Cooperate. Player 1: Cooperate, Player 2: Cooperate. Player 1: Cooperate, Player 2: Cooperate. Player 1: Cooperate, Player 2: Cooperate. Player 1: Cooperate, Player 2: Cooperate. Player 1: Cooperate, Player 2: Cooperate. Player 1: Cooperate, Player 2: Cooperate. Player 1: Cooperate, Player 2: Cooperate. Player 1: Cooperate, Player 2: Cooperate. Player 1: Cooperate, Player 2: Cooperate. Player 1: Cooperate, Player 2: Cooperate. Player 1: Cooperate, Player 2: Cooperate. Player 1:  Cooper\n"
     ]
    },
    {
     "name": "stderr",
     "output_type": "stream",
     "text": [
      "INFO:LLM_IPD:model 1 action: Cooperate\n",
      "INFO:LLM_IPD:model 2 action: Cooperate\n",
      "INFO:LLM_IPD:Round: 18\n"
     ]
    },
    {
     "name": "stdout",
     "output_type": "stream",
     "text": [
      "model  2  output:  You are playing multiple rounds of prisoner's dilemma.You are Player 2. Do you choose to 'Cooperate' or 'Defect'? Game history: . Player 2: Cooperate, Player 1: Cooperate. Player 2: Cooperate, Player 1: Cooperate. Player 2: Cooperate, Player 1: Cooperate. Player 2: Cooperate, Player 1: Cooperate. Player 2: Cooperate, Player 1: Cooperate. Player 2: Cooperate, Player 1: Cooperate. Player 2: Cooperate, Player 1: Cooperate. Player 2: Cooperate, Player 1: Cooperate. Player 2: Cooperate, Player 1: Cooperate. Player 2: Cooperate, Player 1: Cooperate. Player 2: Cooperate, Player 1: Cooperate. Player 2: Cooperate, Player 1: Cooperate. Player 2: Cooperate, Player 1: Cooperate. Player 2: Cooperate, Player 1: Cooperate. Player 2: Cooperate, Player 1: Cooperate. Player 2: Cooperate, Player 1: Cooperate. Player 2: Cooperate, Player 1: Cooperate. Player 2:   Cooper\n"
     ]
    },
    {
     "name": "stderr",
     "output_type": "stream",
     "text": [
      "The attention mask and the pad token id were not set. As a consequence, you may observe unexpected behavior. Please pass your input's `attention_mask` to obtain reliable results.\n",
      "Setting `pad_token_id` to `eos_token_id`:2 for open-end generation.\n"
     ]
    },
    {
     "name": "stdout",
     "output_type": "stream",
     "text": [
      "model  1  output:  You are playing multiple rounds of prisoner's dilemma.You are Player 1. Do you choose to 'Cooperate' or 'Defect'? Game history: . Player 1: Cooperate, Player 2: Cooperate. Player 1: Cooperate, Player 2: Cooperate. Player 1: Cooperate, Player 2: Cooperate. Player 1: Cooperate, Player 2: Cooperate. Player 1: Cooperate, Player 2: Cooperate. Player 1: Cooperate, Player 2: Cooperate. Player 1: Cooperate, Player 2: Cooperate. Player 1: Cooperate, Player 2: Cooperate. Player 1: Cooperate, Player 2: Cooperate. Player 1: Cooperate, Player 2: Cooperate. Player 1: Cooperate, Player 2: Cooperate. Player 1: Cooperate, Player 2: Cooperate. Player 1: Cooperate, Player 2: Cooperate. Player 1: Cooperate, Player 2: Cooperate. Player 1: Cooperate, Player 2: Cooperate. Player 1: Cooperate, Player 2: Cooperate. Player 1: Cooperate, Player 2: Cooperate. Player 1: Cooperate, Player 2: Cooperate. Player 1:  Cooper\n"
     ]
    },
    {
     "name": "stderr",
     "output_type": "stream",
     "text": [
      "INFO:LLM_IPD:model 1 action: Cooperate\n",
      "INFO:LLM_IPD:model 2 action: Cooperate\n",
      "INFO:LLM_IPD:Round: 19\n"
     ]
    },
    {
     "name": "stdout",
     "output_type": "stream",
     "text": [
      "model  2  output:  You are playing multiple rounds of prisoner's dilemma.You are Player 2. Do you choose to 'Cooperate' or 'Defect'? Game history: . Player 2: Cooperate, Player 1: Cooperate. Player 2: Cooperate, Player 1: Cooperate. Player 2: Cooperate, Player 1: Cooperate. Player 2: Cooperate, Player 1: Cooperate. Player 2: Cooperate, Player 1: Cooperate. Player 2: Cooperate, Player 1: Cooperate. Player 2: Cooperate, Player 1: Cooperate. Player 2: Cooperate, Player 1: Cooperate. Player 2: Cooperate, Player 1: Cooperate. Player 2: Cooperate, Player 1: Cooperate. Player 2: Cooperate, Player 1: Cooperate. Player 2: Cooperate, Player 1: Cooperate. Player 2: Cooperate, Player 1: Cooperate. Player 2: Cooperate, Player 1: Cooperate. Player 2: Cooperate, Player 1: Cooperate. Player 2: Cooperate, Player 1: Cooperate. Player 2: Cooperate, Player 1: Cooperate. Player 2: Cooperate, Player 1: Cooperate. Player 2:   Cooper\n"
     ]
    },
    {
     "name": "stderr",
     "output_type": "stream",
     "text": [
      "The attention mask and the pad token id were not set. As a consequence, you may observe unexpected behavior. Please pass your input's `attention_mask` to obtain reliable results.\n",
      "Setting `pad_token_id` to `eos_token_id`:2 for open-end generation.\n"
     ]
    },
    {
     "name": "stdout",
     "output_type": "stream",
     "text": [
      "model  1  output:  You are playing multiple rounds of prisoner's dilemma.You are Player 1. Do you choose to 'Cooperate' or 'Defect'? Game history: . Player 1: Cooperate, Player 2: Cooperate. Player 1: Cooperate, Player 2: Cooperate. Player 1: Cooperate, Player 2: Cooperate. Player 1: Cooperate, Player 2: Cooperate. Player 1: Cooperate, Player 2: Cooperate. Player 1: Cooperate, Player 2: Cooperate. Player 1: Cooperate, Player 2: Cooperate. Player 1: Cooperate, Player 2: Cooperate. Player 1: Cooperate, Player 2: Cooperate. Player 1: Cooperate, Player 2: Cooperate. Player 1: Cooperate, Player 2: Cooperate. Player 1: Cooperate, Player 2: Cooperate. Player 1: Cooperate, Player 2: Cooperate. Player 1: Cooperate, Player 2: Cooperate. Player 1: Cooperate, Player 2: Cooperate. Player 1: Cooperate, Player 2: Cooperate. Player 1: Cooperate, Player 2: Cooperate. Player 1: Cooperate, Player 2: Cooperate. Player 1: Cooperate, Player 2: Cooperate. Player 1:  Cooper\n"
     ]
    },
    {
     "name": "stderr",
     "output_type": "stream",
     "text": [
      "INFO:LLM_IPD:model 1 action: Cooperate\n",
      "INFO:LLM_IPD:model 2 action: Cooperate\n",
      "INFO:LLM_IPD:Game: 3\n",
      "INFO:LLM_IPD:Round: 0\n"
     ]
    },
    {
     "name": "stdout",
     "output_type": "stream",
     "text": [
      "model  2  output:  You are playing multiple rounds of prisoner's dilemma.You are Player 2. Do you choose to 'Cooperate' or 'Defect'? Game history: . Player 2: Cooperate, Player 1: Cooperate. Player 2: Cooperate, Player 1: Cooperate. Player 2: Cooperate, Player 1: Cooperate. Player 2: Cooperate, Player 1: Cooperate. Player 2: Cooperate, Player 1: Cooperate. Player 2: Cooperate, Player 1: Cooperate. Player 2: Cooperate, Player 1: Cooperate. Player 2: Cooperate, Player 1: Cooperate. Player 2: Cooperate, Player 1: Cooperate. Player 2: Cooperate, Player 1: Cooperate. Player 2: Cooperate, Player 1: Cooperate. Player 2: Cooperate, Player 1: Cooperate. Player 2: Cooperate, Player 1: Cooperate. Player 2: Cooperate, Player 1: Cooperate. Player 2: Cooperate, Player 1: Cooperate. Player 2: Cooperate, Player 1: Cooperate. Player 2: Cooperate, Player 1: Cooperate. Player 2: Cooperate, Player 1: Cooperate. Player 2: Cooperate, Player 1: Cooperate. Player 2:   Cooper\n"
     ]
    },
    {
     "name": "stderr",
     "output_type": "stream",
     "text": [
      "The attention mask and the pad token id were not set. As a consequence, you may observe unexpected behavior. Please pass your input's `attention_mask` to obtain reliable results.\n",
      "Setting `pad_token_id` to `eos_token_id`:2 for open-end generation.\n"
     ]
    },
    {
     "name": "stdout",
     "output_type": "stream",
     "text": [
      "model  1  output:  You are playing multiple rounds of prisoner's dilemma.You are Player 1. Do you choose to 'Cooperate' or 'Defect'? Game history: . Player 1:  Cooper\n"
     ]
    },
    {
     "name": "stderr",
     "output_type": "stream",
     "text": [
      "INFO:LLM_IPD:model 1 action: Cooperate\n",
      "INFO:LLM_IPD:model 2 action: Cooperate\n",
      "INFO:LLM_IPD:Round: 1\n"
     ]
    },
    {
     "name": "stdout",
     "output_type": "stream",
     "text": [
      "model  2  output:  You are playing multiple rounds of prisoner's dilemma.You are Player 2. Do you choose to 'Cooperate' or 'Defect'? Game history: . Player 2:   Player\n"
     ]
    },
    {
     "name": "stderr",
     "output_type": "stream",
     "text": [
      "The attention mask and the pad token id were not set. As a consequence, you may observe unexpected behavior. Please pass your input's `attention_mask` to obtain reliable results.\n",
      "Setting `pad_token_id` to `eos_token_id`:2 for open-end generation.\n"
     ]
    },
    {
     "name": "stdout",
     "output_type": "stream",
     "text": [
      "model  1  output:  You are playing multiple rounds of prisoner's dilemma.You are Player 1. Do you choose to 'Cooperate' or 'Defect'? Game history: . Player 1: Cooperate, Player 2: Cooperate. Player 1:  Cooper\n"
     ]
    },
    {
     "name": "stderr",
     "output_type": "stream",
     "text": [
      "INFO:LLM_IPD:model 1 action: Cooperate\n",
      "INFO:LLM_IPD:model 2 action: Cooperate\n",
      "INFO:LLM_IPD:Round: 2\n"
     ]
    },
    {
     "name": "stdout",
     "output_type": "stream",
     "text": [
      "model  2  output:  You are playing multiple rounds of prisoner's dilemma.You are Player 2. Do you choose to 'Cooperate' or 'Defect'? Game history: . Player 2: Cooperate, Player 1: Cooperate. Player 2:  ‎\n"
     ]
    },
    {
     "name": "stderr",
     "output_type": "stream",
     "text": [
      "The attention mask and the pad token id were not set. As a consequence, you may observe unexpected behavior. Please pass your input's `attention_mask` to obtain reliable results.\n",
      "Setting `pad_token_id` to `eos_token_id`:2 for open-end generation.\n"
     ]
    },
    {
     "name": "stdout",
     "output_type": "stream",
     "text": [
      "model  1  output:  You are playing multiple rounds of prisoner's dilemma.You are Player 1. Do you choose to 'Cooperate' or 'Defect'? Game history: . Player 1: Cooperate, Player 2: Cooperate. Player 1: Cooperate, Player 2: Cooperate. Player 1:  Cooper\n"
     ]
    },
    {
     "name": "stderr",
     "output_type": "stream",
     "text": [
      "INFO:LLM_IPD:model 1 action: Cooperate\n",
      "INFO:LLM_IPD:model 2 action: Cooperate\n",
      "INFO:LLM_IPD:Round: 3\n"
     ]
    },
    {
     "name": "stdout",
     "output_type": "stream",
     "text": [
      "model  2  output:  You are playing multiple rounds of prisoner's dilemma.You are Player 2. Do you choose to 'Cooperate' or 'Defect'? Game history: . Player 2: Cooperate, Player 1: Cooperate. Player 2: Cooperate, Player 1: Cooperate. Player 2:  ‎\n"
     ]
    },
    {
     "name": "stderr",
     "output_type": "stream",
     "text": [
      "The attention mask and the pad token id were not set. As a consequence, you may observe unexpected behavior. Please pass your input's `attention_mask` to obtain reliable results.\n",
      "Setting `pad_token_id` to `eos_token_id`:2 for open-end generation.\n"
     ]
    },
    {
     "name": "stdout",
     "output_type": "stream",
     "text": [
      "model  1  output:  You are playing multiple rounds of prisoner's dilemma.You are Player 1. Do you choose to 'Cooperate' or 'Defect'? Game history: . Player 1: Cooperate, Player 2: Cooperate. Player 1: Cooperate, Player 2: Cooperate. Player 1: Cooperate, Player 2: Cooperate. Player 1:  Cooper\n"
     ]
    },
    {
     "name": "stderr",
     "output_type": "stream",
     "text": [
      "INFO:LLM_IPD:model 1 action: Cooperate\n",
      "INFO:LLM_IPD:model 2 action: Cooperate\n",
      "INFO:LLM_IPD:Round: 4\n"
     ]
    },
    {
     "name": "stdout",
     "output_type": "stream",
     "text": [
      "model  2  output:  You are playing multiple rounds of prisoner's dilemma.You are Player 2. Do you choose to 'Cooperate' or 'Defect'? Game history: . Player 2: Cooperate, Player 1: Cooperate. Player 2: Cooperate, Player 1: Cooperate. Player 2: Cooperate, Player 1: Cooperate. Player 2:  ‎\n"
     ]
    },
    {
     "name": "stderr",
     "output_type": "stream",
     "text": [
      "The attention mask and the pad token id were not set. As a consequence, you may observe unexpected behavior. Please pass your input's `attention_mask` to obtain reliable results.\n",
      "Setting `pad_token_id` to `eos_token_id`:2 for open-end generation.\n"
     ]
    },
    {
     "name": "stdout",
     "output_type": "stream",
     "text": [
      "model  1  output:  You are playing multiple rounds of prisoner's dilemma.You are Player 1. Do you choose to 'Cooperate' or 'Defect'? Game history: . Player 1: Cooperate, Player 2: Cooperate. Player 1: Cooperate, Player 2: Cooperate. Player 1: Cooperate, Player 2: Cooperate. Player 1: Cooperate, Player 2: Cooperate. Player 1:  Cooper\n"
     ]
    },
    {
     "name": "stderr",
     "output_type": "stream",
     "text": [
      "INFO:LLM_IPD:model 1 action: Cooperate\n",
      "INFO:LLM_IPD:model 2 action: Cooperate\n",
      "INFO:LLM_IPD:Round: 5\n"
     ]
    },
    {
     "name": "stdout",
     "output_type": "stream",
     "text": [
      "model  2  output:  You are playing multiple rounds of prisoner's dilemma.You are Player 2. Do you choose to 'Cooperate' or 'Defect'? Game history: . Player 2: Cooperate, Player 1: Cooperate. Player 2: Cooperate, Player 1: Cooperate. Player 2: Cooperate, Player 1: Cooperate. Player 2: Cooperate, Player 1: Cooperate. Player 2:  ‎\n"
     ]
    },
    {
     "name": "stderr",
     "output_type": "stream",
     "text": [
      "The attention mask and the pad token id were not set. As a consequence, you may observe unexpected behavior. Please pass your input's `attention_mask` to obtain reliable results.\n",
      "Setting `pad_token_id` to `eos_token_id`:2 for open-end generation.\n"
     ]
    },
    {
     "name": "stdout",
     "output_type": "stream",
     "text": [
      "model  1  output:  You are playing multiple rounds of prisoner's dilemma.You are Player 1. Do you choose to 'Cooperate' or 'Defect'? Game history: . Player 1: Cooperate, Player 2: Cooperate. Player 1: Cooperate, Player 2: Cooperate. Player 1: Cooperate, Player 2: Cooperate. Player 1: Cooperate, Player 2: Cooperate. Player 1: Cooperate, Player 2: Cooperate. Player 1:  Cooper\n"
     ]
    },
    {
     "name": "stderr",
     "output_type": "stream",
     "text": [
      "INFO:LLM_IPD:model 1 action: Cooperate\n",
      "INFO:LLM_IPD:model 2 action: Cooperate\n",
      "INFO:LLM_IPD:Round: 6\n"
     ]
    },
    {
     "name": "stdout",
     "output_type": "stream",
     "text": [
      "model  2  output:  You are playing multiple rounds of prisoner's dilemma.You are Player 2. Do you choose to 'Cooperate' or 'Defect'? Game history: . Player 2: Cooperate, Player 1: Cooperate. Player 2: Cooperate, Player 1: Cooperate. Player 2: Cooperate, Player 1: Cooperate. Player 2: Cooperate, Player 1: Cooperate. Player 2: Cooperate, Player 1: Cooperate. Player 2:   The\n"
     ]
    },
    {
     "name": "stderr",
     "output_type": "stream",
     "text": [
      "The attention mask and the pad token id were not set. As a consequence, you may observe unexpected behavior. Please pass your input's `attention_mask` to obtain reliable results.\n",
      "Setting `pad_token_id` to `eos_token_id`:2 for open-end generation.\n"
     ]
    },
    {
     "name": "stdout",
     "output_type": "stream",
     "text": [
      "model  1  output:  You are playing multiple rounds of prisoner's dilemma.You are Player 1. Do you choose to 'Cooperate' or 'Defect'? Game history: . Player 1: Cooperate, Player 2: Cooperate. Player 1: Cooperate, Player 2: Cooperate. Player 1: Cooperate, Player 2: Cooperate. Player 1: Cooperate, Player 2: Cooperate. Player 1: Cooperate, Player 2: Cooperate. Player 1: Cooperate, Player 2: Cooperate. Player 1:  Cooper\n"
     ]
    },
    {
     "name": "stderr",
     "output_type": "stream",
     "text": [
      "INFO:LLM_IPD:model 1 action: Cooperate\n",
      "INFO:LLM_IPD:model 2 action: Cooperate\n",
      "INFO:LLM_IPD:Round: 7\n"
     ]
    },
    {
     "name": "stdout",
     "output_type": "stream",
     "text": [
      "model  2  output:  You are playing multiple rounds of prisoner's dilemma.You are Player 2. Do you choose to 'Cooperate' or 'Defect'? Game history: . Player 2: Cooperate, Player 1: Cooperate. Player 2: Cooperate, Player 1: Cooperate. Player 2: Cooperate, Player 1: Cooperate. Player 2: Cooperate, Player 1: Cooperate. Player 2: Cooperate, Player 1: Cooperate. Player 2: Cooperate, Player 1: Cooperate. Player 2:   The\n"
     ]
    },
    {
     "name": "stderr",
     "output_type": "stream",
     "text": [
      "The attention mask and the pad token id were not set. As a consequence, you may observe unexpected behavior. Please pass your input's `attention_mask` to obtain reliable results.\n",
      "Setting `pad_token_id` to `eos_token_id`:2 for open-end generation.\n"
     ]
    },
    {
     "name": "stdout",
     "output_type": "stream",
     "text": [
      "model  1  output:  You are playing multiple rounds of prisoner's dilemma.You are Player 1. Do you choose to 'Cooperate' or 'Defect'? Game history: . Player 1: Cooperate, Player 2: Cooperate. Player 1: Cooperate, Player 2: Cooperate. Player 1: Cooperate, Player 2: Cooperate. Player 1: Cooperate, Player 2: Cooperate. Player 1: Cooperate, Player 2: Cooperate. Player 1: Cooperate, Player 2: Cooperate. Player 1: Cooperate, Player 2: Cooperate. Player 1:  Cooper\n"
     ]
    },
    {
     "name": "stderr",
     "output_type": "stream",
     "text": [
      "INFO:LLM_IPD:model 1 action: Cooperate\n",
      "INFO:LLM_IPD:model 2 action: Cooperate\n",
      "INFO:LLM_IPD:Round: 8\n"
     ]
    },
    {
     "name": "stdout",
     "output_type": "stream",
     "text": [
      "model  2  output:  You are playing multiple rounds of prisoner's dilemma.You are Player 2. Do you choose to 'Cooperate' or 'Defect'? Game history: . Player 2: Cooperate, Player 1: Cooperate. Player 2: Cooperate, Player 1: Cooperate. Player 2: Cooperate, Player 1: Cooperate. Player 2: Cooperate, Player 1: Cooperate. Player 2: Cooperate, Player 1: Cooperate. Player 2: Cooperate, Player 1: Cooperate. Player 2: Cooperate, Player 1: Cooperate. Player 2:   Cooper\n"
     ]
    },
    {
     "name": "stderr",
     "output_type": "stream",
     "text": [
      "The attention mask and the pad token id were not set. As a consequence, you may observe unexpected behavior. Please pass your input's `attention_mask` to obtain reliable results.\n",
      "Setting `pad_token_id` to `eos_token_id`:2 for open-end generation.\n"
     ]
    },
    {
     "name": "stdout",
     "output_type": "stream",
     "text": [
      "model  1  output:  You are playing multiple rounds of prisoner's dilemma.You are Player 1. Do you choose to 'Cooperate' or 'Defect'? Game history: . Player 1: Cooperate, Player 2: Cooperate. Player 1: Cooperate, Player 2: Cooperate. Player 1: Cooperate, Player 2: Cooperate. Player 1: Cooperate, Player 2: Cooperate. Player 1: Cooperate, Player 2: Cooperate. Player 1: Cooperate, Player 2: Cooperate. Player 1: Cooperate, Player 2: Cooperate. Player 1: Cooperate, Player 2: Cooperate. Player 1:  Cooper\n"
     ]
    },
    {
     "name": "stderr",
     "output_type": "stream",
     "text": [
      "INFO:LLM_IPD:model 1 action: Cooperate\n",
      "INFO:LLM_IPD:model 2 action: Cooperate\n",
      "INFO:LLM_IPD:Round: 9\n"
     ]
    },
    {
     "name": "stdout",
     "output_type": "stream",
     "text": [
      "model  2  output:  You are playing multiple rounds of prisoner's dilemma.You are Player 2. Do you choose to 'Cooperate' or 'Defect'? Game history: . Player 2: Cooperate, Player 1: Cooperate. Player 2: Cooperate, Player 1: Cooperate. Player 2: Cooperate, Player 1: Cooperate. Player 2: Cooperate, Player 1: Cooperate. Player 2: Cooperate, Player 1: Cooperate. Player 2: Cooperate, Player 1: Cooperate. Player 2: Cooperate, Player 1: Cooperate. Player 2: Cooperate, Player 1: Cooperate. Player 2:   Cooper\n"
     ]
    },
    {
     "name": "stderr",
     "output_type": "stream",
     "text": [
      "The attention mask and the pad token id were not set. As a consequence, you may observe unexpected behavior. Please pass your input's `attention_mask` to obtain reliable results.\n",
      "Setting `pad_token_id` to `eos_token_id`:2 for open-end generation.\n"
     ]
    },
    {
     "name": "stdout",
     "output_type": "stream",
     "text": [
      "model  1  output:  You are playing multiple rounds of prisoner's dilemma.You are Player 1. Do you choose to 'Cooperate' or 'Defect'? Game history: . Player 1: Cooperate, Player 2: Cooperate. Player 1: Cooperate, Player 2: Cooperate. Player 1: Cooperate, Player 2: Cooperate. Player 1: Cooperate, Player 2: Cooperate. Player 1: Cooperate, Player 2: Cooperate. Player 1: Cooperate, Player 2: Cooperate. Player 1: Cooperate, Player 2: Cooperate. Player 1: Cooperate, Player 2: Cooperate. Player 1: Cooperate, Player 2: Cooperate. Player 1:  Cooper\n"
     ]
    },
    {
     "name": "stderr",
     "output_type": "stream",
     "text": [
      "INFO:LLM_IPD:model 1 action: Cooperate\n",
      "INFO:LLM_IPD:model 2 action: Cooperate\n",
      "INFO:LLM_IPD:Round: 10\n"
     ]
    },
    {
     "name": "stdout",
     "output_type": "stream",
     "text": [
      "model  2  output:  You are playing multiple rounds of prisoner's dilemma.You are Player 2. Do you choose to 'Cooperate' or 'Defect'? Game history: . Player 2: Cooperate, Player 1: Cooperate. Player 2: Cooperate, Player 1: Cooperate. Player 2: Cooperate, Player 1: Cooperate. Player 2: Cooperate, Player 1: Cooperate. Player 2: Cooperate, Player 1: Cooperate. Player 2: Cooperate, Player 1: Cooperate. Player 2: Cooperate, Player 1: Cooperate. Player 2: Cooperate, Player 1: Cooperate. Player 2: Cooperate, Player 1: Cooperate. Player 2:   Cooper\n"
     ]
    },
    {
     "name": "stderr",
     "output_type": "stream",
     "text": [
      "The attention mask and the pad token id were not set. As a consequence, you may observe unexpected behavior. Please pass your input's `attention_mask` to obtain reliable results.\n",
      "Setting `pad_token_id` to `eos_token_id`:2 for open-end generation.\n"
     ]
    },
    {
     "name": "stdout",
     "output_type": "stream",
     "text": [
      "model  1  output:  You are playing multiple rounds of prisoner's dilemma.You are Player 1. Do you choose to 'Cooperate' or 'Defect'? Game history: . Player 1: Cooperate, Player 2: Cooperate. Player 1: Cooperate, Player 2: Cooperate. Player 1: Cooperate, Player 2: Cooperate. Player 1: Cooperate, Player 2: Cooperate. Player 1: Cooperate, Player 2: Cooperate. Player 1: Cooperate, Player 2: Cooperate. Player 1: Cooperate, Player 2: Cooperate. Player 1: Cooperate, Player 2: Cooperate. Player 1: Cooperate, Player 2: Cooperate. Player 1: Cooperate, Player 2: Cooperate. Player 1:  Cooper\n"
     ]
    },
    {
     "name": "stderr",
     "output_type": "stream",
     "text": [
      "INFO:LLM_IPD:model 1 action: Cooperate\n",
      "INFO:LLM_IPD:model 2 action: Cooperate\n",
      "INFO:LLM_IPD:Round: 11\n"
     ]
    },
    {
     "name": "stdout",
     "output_type": "stream",
     "text": [
      "model  2  output:  You are playing multiple rounds of prisoner's dilemma.You are Player 2. Do you choose to 'Cooperate' or 'Defect'? Game history: . Player 2: Cooperate, Player 1: Cooperate. Player 2: Cooperate, Player 1: Cooperate. Player 2: Cooperate, Player 1: Cooperate. Player 2: Cooperate, Player 1: Cooperate. Player 2: Cooperate, Player 1: Cooperate. Player 2: Cooperate, Player 1: Cooperate. Player 2: Cooperate, Player 1: Cooperate. Player 2: Cooperate, Player 1: Cooperate. Player 2: Cooperate, Player 1: Cooperate. Player 2: Cooperate, Player 1: Cooperate. Player 2:   Cooper\n"
     ]
    },
    {
     "name": "stderr",
     "output_type": "stream",
     "text": [
      "The attention mask and the pad token id were not set. As a consequence, you may observe unexpected behavior. Please pass your input's `attention_mask` to obtain reliable results.\n",
      "Setting `pad_token_id` to `eos_token_id`:2 for open-end generation.\n"
     ]
    },
    {
     "name": "stdout",
     "output_type": "stream",
     "text": [
      "model  1  output:  You are playing multiple rounds of prisoner's dilemma.You are Player 1. Do you choose to 'Cooperate' or 'Defect'? Game history: . Player 1: Cooperate, Player 2: Cooperate. Player 1: Cooperate, Player 2: Cooperate. Player 1: Cooperate, Player 2: Cooperate. Player 1: Cooperate, Player 2: Cooperate. Player 1: Cooperate, Player 2: Cooperate. Player 1: Cooperate, Player 2: Cooperate. Player 1: Cooperate, Player 2: Cooperate. Player 1: Cooperate, Player 2: Cooperate. Player 1: Cooperate, Player 2: Cooperate. Player 1: Cooperate, Player 2: Cooperate. Player 1: Cooperate, Player 2: Cooperate. Player 1:  Cooper\n"
     ]
    },
    {
     "name": "stderr",
     "output_type": "stream",
     "text": [
      "INFO:LLM_IPD:model 1 action: Cooperate\n",
      "INFO:LLM_IPD:model 2 action: Cooperate\n",
      "INFO:LLM_IPD:Round: 12\n"
     ]
    },
    {
     "name": "stdout",
     "output_type": "stream",
     "text": [
      "model  2  output:  You are playing multiple rounds of prisoner's dilemma.You are Player 2. Do you choose to 'Cooperate' or 'Defect'? Game history: . Player 2: Cooperate, Player 1: Cooperate. Player 2: Cooperate, Player 1: Cooperate. Player 2: Cooperate, Player 1: Cooperate. Player 2: Cooperate, Player 1: Cooperate. Player 2: Cooperate, Player 1: Cooperate. Player 2: Cooperate, Player 1: Cooperate. Player 2: Cooperate, Player 1: Cooperate. Player 2: Cooperate, Player 1: Cooperate. Player 2: Cooperate, Player 1: Cooperate. Player 2: Cooperate, Player 1: Cooperate. Player 2: Cooperate, Player 1: Cooperate. Player 2:   Cooper\n"
     ]
    },
    {
     "name": "stderr",
     "output_type": "stream",
     "text": [
      "The attention mask and the pad token id were not set. As a consequence, you may observe unexpected behavior. Please pass your input's `attention_mask` to obtain reliable results.\n",
      "Setting `pad_token_id` to `eos_token_id`:2 for open-end generation.\n"
     ]
    },
    {
     "name": "stdout",
     "output_type": "stream",
     "text": [
      "model  1  output:  You are playing multiple rounds of prisoner's dilemma.You are Player 1. Do you choose to 'Cooperate' or 'Defect'? Game history: . Player 1: Cooperate, Player 2: Cooperate. Player 1: Cooperate, Player 2: Cooperate. Player 1: Cooperate, Player 2: Cooperate. Player 1: Cooperate, Player 2: Cooperate. Player 1: Cooperate, Player 2: Cooperate. Player 1: Cooperate, Player 2: Cooperate. Player 1: Cooperate, Player 2: Cooperate. Player 1: Cooperate, Player 2: Cooperate. Player 1: Cooperate, Player 2: Cooperate. Player 1: Cooperate, Player 2: Cooperate. Player 1: Cooperate, Player 2: Cooperate. Player 1: Cooperate, Player 2: Cooperate. Player 1:  Cooper\n"
     ]
    },
    {
     "name": "stderr",
     "output_type": "stream",
     "text": [
      "INFO:LLM_IPD:model 1 action: Cooperate\n",
      "INFO:LLM_IPD:model 2 action: Cooperate\n",
      "INFO:LLM_IPD:Round: 13\n"
     ]
    },
    {
     "name": "stdout",
     "output_type": "stream",
     "text": [
      "model  2  output:  You are playing multiple rounds of prisoner's dilemma.You are Player 2. Do you choose to 'Cooperate' or 'Defect'? Game history: . Player 2: Cooperate, Player 1: Cooperate. Player 2: Cooperate, Player 1: Cooperate. Player 2: Cooperate, Player 1: Cooperate. Player 2: Cooperate, Player 1: Cooperate. Player 2: Cooperate, Player 1: Cooperate. Player 2: Cooperate, Player 1: Cooperate. Player 2: Cooperate, Player 1: Cooperate. Player 2: Cooperate, Player 1: Cooperate. Player 2: Cooperate, Player 1: Cooperate. Player 2: Cooperate, Player 1: Cooperate. Player 2: Cooperate, Player 1: Cooperate. Player 2: Cooperate, Player 1: Cooperate. Player 2:   Cooper\n"
     ]
    },
    {
     "name": "stderr",
     "output_type": "stream",
     "text": [
      "The attention mask and the pad token id were not set. As a consequence, you may observe unexpected behavior. Please pass your input's `attention_mask` to obtain reliable results.\n",
      "Setting `pad_token_id` to `eos_token_id`:2 for open-end generation.\n"
     ]
    },
    {
     "name": "stdout",
     "output_type": "stream",
     "text": [
      "model  1  output:  You are playing multiple rounds of prisoner's dilemma.You are Player 1. Do you choose to 'Cooperate' or 'Defect'? Game history: . Player 1: Cooperate, Player 2: Cooperate. Player 1: Cooperate, Player 2: Cooperate. Player 1: Cooperate, Player 2: Cooperate. Player 1: Cooperate, Player 2: Cooperate. Player 1: Cooperate, Player 2: Cooperate. Player 1: Cooperate, Player 2: Cooperate. Player 1: Cooperate, Player 2: Cooperate. Player 1: Cooperate, Player 2: Cooperate. Player 1: Cooperate, Player 2: Cooperate. Player 1: Cooperate, Player 2: Cooperate. Player 1: Cooperate, Player 2: Cooperate. Player 1: Cooperate, Player 2: Cooperate. Player 1: Cooperate, Player 2: Cooperate. Player 1:  Cooper\n"
     ]
    },
    {
     "name": "stderr",
     "output_type": "stream",
     "text": [
      "INFO:LLM_IPD:model 1 action: Cooperate\n",
      "INFO:LLM_IPD:model 2 action: Cooperate\n",
      "INFO:LLM_IPD:Round: 14\n"
     ]
    },
    {
     "name": "stdout",
     "output_type": "stream",
     "text": [
      "model  2  output:  You are playing multiple rounds of prisoner's dilemma.You are Player 2. Do you choose to 'Cooperate' or 'Defect'? Game history: . Player 2: Cooperate, Player 1: Cooperate. Player 2: Cooperate, Player 1: Cooperate. Player 2: Cooperate, Player 1: Cooperate. Player 2: Cooperate, Player 1: Cooperate. Player 2: Cooperate, Player 1: Cooperate. Player 2: Cooperate, Player 1: Cooperate. Player 2: Cooperate, Player 1: Cooperate. Player 2: Cooperate, Player 1: Cooperate. Player 2: Cooperate, Player 1: Cooperate. Player 2: Cooperate, Player 1: Cooperate. Player 2: Cooperate, Player 1: Cooperate. Player 2: Cooperate, Player 1: Cooperate. Player 2: Cooperate, Player 1: Cooperate. Player 2:   Cooper\n"
     ]
    },
    {
     "name": "stderr",
     "output_type": "stream",
     "text": [
      "The attention mask and the pad token id were not set. As a consequence, you may observe unexpected behavior. Please pass your input's `attention_mask` to obtain reliable results.\n",
      "Setting `pad_token_id` to `eos_token_id`:2 for open-end generation.\n"
     ]
    },
    {
     "name": "stdout",
     "output_type": "stream",
     "text": [
      "model  1  output:  You are playing multiple rounds of prisoner's dilemma.You are Player 1. Do you choose to 'Cooperate' or 'Defect'? Game history: . Player 1: Cooperate, Player 2: Cooperate. Player 1: Cooperate, Player 2: Cooperate. Player 1: Cooperate, Player 2: Cooperate. Player 1: Cooperate, Player 2: Cooperate. Player 1: Cooperate, Player 2: Cooperate. Player 1: Cooperate, Player 2: Cooperate. Player 1: Cooperate, Player 2: Cooperate. Player 1: Cooperate, Player 2: Cooperate. Player 1: Cooperate, Player 2: Cooperate. Player 1: Cooperate, Player 2: Cooperate. Player 1: Cooperate, Player 2: Cooperate. Player 1: Cooperate, Player 2: Cooperate. Player 1: Cooperate, Player 2: Cooperate. Player 1: Cooperate, Player 2: Cooperate. Player 1:  Cooper\n"
     ]
    },
    {
     "name": "stderr",
     "output_type": "stream",
     "text": [
      "INFO:LLM_IPD:model 1 action: Cooperate\n",
      "INFO:LLM_IPD:model 2 action: Cooperate\n",
      "INFO:LLM_IPD:Round: 15\n"
     ]
    },
    {
     "name": "stdout",
     "output_type": "stream",
     "text": [
      "model  2  output:  You are playing multiple rounds of prisoner's dilemma.You are Player 2. Do you choose to 'Cooperate' or 'Defect'? Game history: . Player 2: Cooperate, Player 1: Cooperate. Player 2: Cooperate, Player 1: Cooperate. Player 2: Cooperate, Player 1: Cooperate. Player 2: Cooperate, Player 1: Cooperate. Player 2: Cooperate, Player 1: Cooperate. Player 2: Cooperate, Player 1: Cooperate. Player 2: Cooperate, Player 1: Cooperate. Player 2: Cooperate, Player 1: Cooperate. Player 2: Cooperate, Player 1: Cooperate. Player 2: Cooperate, Player 1: Cooperate. Player 2: Cooperate, Player 1: Cooperate. Player 2: Cooperate, Player 1: Cooperate. Player 2: Cooperate, Player 1: Cooperate. Player 2: Cooperate, Player 1: Cooperate. Player 2:   Cooper\n"
     ]
    },
    {
     "name": "stderr",
     "output_type": "stream",
     "text": [
      "The attention mask and the pad token id were not set. As a consequence, you may observe unexpected behavior. Please pass your input's `attention_mask` to obtain reliable results.\n",
      "Setting `pad_token_id` to `eos_token_id`:2 for open-end generation.\n"
     ]
    },
    {
     "name": "stdout",
     "output_type": "stream",
     "text": [
      "model  1  output:  You are playing multiple rounds of prisoner's dilemma.You are Player 1. Do you choose to 'Cooperate' or 'Defect'? Game history: . Player 1: Cooperate, Player 2: Cooperate. Player 1: Cooperate, Player 2: Cooperate. Player 1: Cooperate, Player 2: Cooperate. Player 1: Cooperate, Player 2: Cooperate. Player 1: Cooperate, Player 2: Cooperate. Player 1: Cooperate, Player 2: Cooperate. Player 1: Cooperate, Player 2: Cooperate. Player 1: Cooperate, Player 2: Cooperate. Player 1: Cooperate, Player 2: Cooperate. Player 1: Cooperate, Player 2: Cooperate. Player 1: Cooperate, Player 2: Cooperate. Player 1: Cooperate, Player 2: Cooperate. Player 1: Cooperate, Player 2: Cooperate. Player 1: Cooperate, Player 2: Cooperate. Player 1: Cooperate, Player 2: Cooperate. Player 1:  Cooper\n"
     ]
    },
    {
     "name": "stderr",
     "output_type": "stream",
     "text": [
      "INFO:LLM_IPD:model 1 action: Cooperate\n",
      "INFO:LLM_IPD:model 2 action: Cooperate\n",
      "INFO:LLM_IPD:Round: 16\n"
     ]
    },
    {
     "name": "stdout",
     "output_type": "stream",
     "text": [
      "model  2  output:  You are playing multiple rounds of prisoner's dilemma.You are Player 2. Do you choose to 'Cooperate' or 'Defect'? Game history: . Player 2: Cooperate, Player 1: Cooperate. Player 2: Cooperate, Player 1: Cooperate. Player 2: Cooperate, Player 1: Cooperate. Player 2: Cooperate, Player 1: Cooperate. Player 2: Cooperate, Player 1: Cooperate. Player 2: Cooperate, Player 1: Cooperate. Player 2: Cooperate, Player 1: Cooperate. Player 2: Cooperate, Player 1: Cooperate. Player 2: Cooperate, Player 1: Cooperate. Player 2: Cooperate, Player 1: Cooperate. Player 2: Cooperate, Player 1: Cooperate. Player 2: Cooperate, Player 1: Cooperate. Player 2: Cooperate, Player 1: Cooperate. Player 2: Cooperate, Player 1: Cooperate. Player 2: Cooperate, Player 1: Cooperate. Player 2:   Cooper\n"
     ]
    },
    {
     "name": "stderr",
     "output_type": "stream",
     "text": [
      "The attention mask and the pad token id were not set. As a consequence, you may observe unexpected behavior. Please pass your input's `attention_mask` to obtain reliable results.\n",
      "Setting `pad_token_id` to `eos_token_id`:2 for open-end generation.\n"
     ]
    },
    {
     "name": "stdout",
     "output_type": "stream",
     "text": [
      "model  1  output:  You are playing multiple rounds of prisoner's dilemma.You are Player 1. Do you choose to 'Cooperate' or 'Defect'? Game history: . Player 1: Cooperate, Player 2: Cooperate. Player 1: Cooperate, Player 2: Cooperate. Player 1: Cooperate, Player 2: Cooperate. Player 1: Cooperate, Player 2: Cooperate. Player 1: Cooperate, Player 2: Cooperate. Player 1: Cooperate, Player 2: Cooperate. Player 1: Cooperate, Player 2: Cooperate. Player 1: Cooperate, Player 2: Cooperate. Player 1: Cooperate, Player 2: Cooperate. Player 1: Cooperate, Player 2: Cooperate. Player 1: Cooperate, Player 2: Cooperate. Player 1: Cooperate, Player 2: Cooperate. Player 1: Cooperate, Player 2: Cooperate. Player 1: Cooperate, Player 2: Cooperate. Player 1: Cooperate, Player 2: Cooperate. Player 1: Cooperate, Player 2: Cooperate. Player 1:  Cooper\n"
     ]
    },
    {
     "name": "stderr",
     "output_type": "stream",
     "text": [
      "INFO:LLM_IPD:model 1 action: Cooperate\n",
      "INFO:LLM_IPD:model 2 action: Cooperate\n",
      "INFO:LLM_IPD:Round: 17\n"
     ]
    },
    {
     "name": "stdout",
     "output_type": "stream",
     "text": [
      "model  2  output:  You are playing multiple rounds of prisoner's dilemma.You are Player 2. Do you choose to 'Cooperate' or 'Defect'? Game history: . Player 2: Cooperate, Player 1: Cooperate. Player 2: Cooperate, Player 1: Cooperate. Player 2: Cooperate, Player 1: Cooperate. Player 2: Cooperate, Player 1: Cooperate. Player 2: Cooperate, Player 1: Cooperate. Player 2: Cooperate, Player 1: Cooperate. Player 2: Cooperate, Player 1: Cooperate. Player 2: Cooperate, Player 1: Cooperate. Player 2: Cooperate, Player 1: Cooperate. Player 2: Cooperate, Player 1: Cooperate. Player 2: Cooperate, Player 1: Cooperate. Player 2: Cooperate, Player 1: Cooperate. Player 2: Cooperate, Player 1: Cooperate. Player 2: Cooperate, Player 1: Cooperate. Player 2: Cooperate, Player 1: Cooperate. Player 2: Cooperate, Player 1: Cooperate. Player 2:   Cooper\n"
     ]
    },
    {
     "name": "stderr",
     "output_type": "stream",
     "text": [
      "The attention mask and the pad token id were not set. As a consequence, you may observe unexpected behavior. Please pass your input's `attention_mask` to obtain reliable results.\n",
      "Setting `pad_token_id` to `eos_token_id`:2 for open-end generation.\n"
     ]
    },
    {
     "name": "stdout",
     "output_type": "stream",
     "text": [
      "model  1  output:  You are playing multiple rounds of prisoner's dilemma.You are Player 1. Do you choose to 'Cooperate' or 'Defect'? Game history: . Player 1: Cooperate, Player 2: Cooperate. Player 1: Cooperate, Player 2: Cooperate. Player 1: Cooperate, Player 2: Cooperate. Player 1: Cooperate, Player 2: Cooperate. Player 1: Cooperate, Player 2: Cooperate. Player 1: Cooperate, Player 2: Cooperate. Player 1: Cooperate, Player 2: Cooperate. Player 1: Cooperate, Player 2: Cooperate. Player 1: Cooperate, Player 2: Cooperate. Player 1: Cooperate, Player 2: Cooperate. Player 1: Cooperate, Player 2: Cooperate. Player 1: Cooperate, Player 2: Cooperate. Player 1: Cooperate, Player 2: Cooperate. Player 1: Cooperate, Player 2: Cooperate. Player 1: Cooperate, Player 2: Cooperate. Player 1: Cooperate, Player 2: Cooperate. Player 1: Cooperate, Player 2: Cooperate. Player 1:  Cooper\n"
     ]
    },
    {
     "name": "stderr",
     "output_type": "stream",
     "text": [
      "INFO:LLM_IPD:model 1 action: Cooperate\n",
      "INFO:LLM_IPD:model 2 action: Cooperate\n",
      "INFO:LLM_IPD:Round: 18\n"
     ]
    },
    {
     "name": "stdout",
     "output_type": "stream",
     "text": [
      "model  2  output:  You are playing multiple rounds of prisoner's dilemma.You are Player 2. Do you choose to 'Cooperate' or 'Defect'? Game history: . Player 2: Cooperate, Player 1: Cooperate. Player 2: Cooperate, Player 1: Cooperate. Player 2: Cooperate, Player 1: Cooperate. Player 2: Cooperate, Player 1: Cooperate. Player 2: Cooperate, Player 1: Cooperate. Player 2: Cooperate, Player 1: Cooperate. Player 2: Cooperate, Player 1: Cooperate. Player 2: Cooperate, Player 1: Cooperate. Player 2: Cooperate, Player 1: Cooperate. Player 2: Cooperate, Player 1: Cooperate. Player 2: Cooperate, Player 1: Cooperate. Player 2: Cooperate, Player 1: Cooperate. Player 2: Cooperate, Player 1: Cooperate. Player 2: Cooperate, Player 1: Cooperate. Player 2: Cooperate, Player 1: Cooperate. Player 2: Cooperate, Player 1: Cooperate. Player 2: Cooperate, Player 1: Cooperate. Player 2:   Cooper\n"
     ]
    },
    {
     "name": "stderr",
     "output_type": "stream",
     "text": [
      "The attention mask and the pad token id were not set. As a consequence, you may observe unexpected behavior. Please pass your input's `attention_mask` to obtain reliable results.\n",
      "Setting `pad_token_id` to `eos_token_id`:2 for open-end generation.\n"
     ]
    },
    {
     "name": "stdout",
     "output_type": "stream",
     "text": [
      "model  1  output:  You are playing multiple rounds of prisoner's dilemma.You are Player 1. Do you choose to 'Cooperate' or 'Defect'? Game history: . Player 1: Cooperate, Player 2: Cooperate. Player 1: Cooperate, Player 2: Cooperate. Player 1: Cooperate, Player 2: Cooperate. Player 1: Cooperate, Player 2: Cooperate. Player 1: Cooperate, Player 2: Cooperate. Player 1: Cooperate, Player 2: Cooperate. Player 1: Cooperate, Player 2: Cooperate. Player 1: Cooperate, Player 2: Cooperate. Player 1: Cooperate, Player 2: Cooperate. Player 1: Cooperate, Player 2: Cooperate. Player 1: Cooperate, Player 2: Cooperate. Player 1: Cooperate, Player 2: Cooperate. Player 1: Cooperate, Player 2: Cooperate. Player 1: Cooperate, Player 2: Cooperate. Player 1: Cooperate, Player 2: Cooperate. Player 1: Cooperate, Player 2: Cooperate. Player 1: Cooperate, Player 2: Cooperate. Player 1: Cooperate, Player 2: Cooperate. Player 1:  Cooper\n"
     ]
    },
    {
     "name": "stderr",
     "output_type": "stream",
     "text": [
      "INFO:LLM_IPD:model 1 action: Cooperate\n",
      "INFO:LLM_IPD:model 2 action: Cooperate\n",
      "INFO:LLM_IPD:Round: 19\n"
     ]
    },
    {
     "name": "stdout",
     "output_type": "stream",
     "text": [
      "model  2  output:  You are playing multiple rounds of prisoner's dilemma.You are Player 2. Do you choose to 'Cooperate' or 'Defect'? Game history: . Player 2: Cooperate, Player 1: Cooperate. Player 2: Cooperate, Player 1: Cooperate. Player 2: Cooperate, Player 1: Cooperate. Player 2: Cooperate, Player 1: Cooperate. Player 2: Cooperate, Player 1: Cooperate. Player 2: Cooperate, Player 1: Cooperate. Player 2: Cooperate, Player 1: Cooperate. Player 2: Cooperate, Player 1: Cooperate. Player 2: Cooperate, Player 1: Cooperate. Player 2: Cooperate, Player 1: Cooperate. Player 2: Cooperate, Player 1: Cooperate. Player 2: Cooperate, Player 1: Cooperate. Player 2: Cooperate, Player 1: Cooperate. Player 2: Cooperate, Player 1: Cooperate. Player 2: Cooperate, Player 1: Cooperate. Player 2: Cooperate, Player 1: Cooperate. Player 2: Cooperate, Player 1: Cooperate. Player 2: Cooperate, Player 1: Cooperate. Player 2:   Cooper\n"
     ]
    },
    {
     "name": "stderr",
     "output_type": "stream",
     "text": [
      "The attention mask and the pad token id were not set. As a consequence, you may observe unexpected behavior. Please pass your input's `attention_mask` to obtain reliable results.\n",
      "Setting `pad_token_id` to `eos_token_id`:2 for open-end generation.\n"
     ]
    },
    {
     "name": "stdout",
     "output_type": "stream",
     "text": [
      "model  1  output:  You are playing multiple rounds of prisoner's dilemma.You are Player 1. Do you choose to 'Cooperate' or 'Defect'? Game history: . Player 1: Cooperate, Player 2: Cooperate. Player 1: Cooperate, Player 2: Cooperate. Player 1: Cooperate, Player 2: Cooperate. Player 1: Cooperate, Player 2: Cooperate. Player 1: Cooperate, Player 2: Cooperate. Player 1: Cooperate, Player 2: Cooperate. Player 1: Cooperate, Player 2: Cooperate. Player 1: Cooperate, Player 2: Cooperate. Player 1: Cooperate, Player 2: Cooperate. Player 1: Cooperate, Player 2: Cooperate. Player 1: Cooperate, Player 2: Cooperate. Player 1: Cooperate, Player 2: Cooperate. Player 1: Cooperate, Player 2: Cooperate. Player 1: Cooperate, Player 2: Cooperate. Player 1: Cooperate, Player 2: Cooperate. Player 1: Cooperate, Player 2: Cooperate. Player 1: Cooperate, Player 2: Cooperate. Player 1: Cooperate, Player 2: Cooperate. Player 1: Cooperate, Player 2: Cooperate. Player 1:  Cooper\n"
     ]
    },
    {
     "name": "stderr",
     "output_type": "stream",
     "text": [
      "INFO:LLM_IPD:model 1 action: Cooperate\n",
      "INFO:LLM_IPD:model 2 action: Cooperate\n",
      "INFO:LLM_IPD:Game: 4\n",
      "INFO:LLM_IPD:Round: 0\n"
     ]
    },
    {
     "name": "stdout",
     "output_type": "stream",
     "text": [
      "model  2  output:  You are playing multiple rounds of prisoner's dilemma.You are Player 2. Do you choose to 'Cooperate' or 'Defect'? Game history: . Player 2: Cooperate, Player 1: Cooperate. Player 2: Cooperate, Player 1: Cooperate. Player 2: Cooperate, Player 1: Cooperate. Player 2: Cooperate, Player 1: Cooperate. Player 2: Cooperate, Player 1: Cooperate. Player 2: Cooperate, Player 1: Cooperate. Player 2: Cooperate, Player 1: Cooperate. Player 2: Cooperate, Player 1: Cooperate. Player 2: Cooperate, Player 1: Cooperate. Player 2: Cooperate, Player 1: Cooperate. Player 2: Cooperate, Player 1: Cooperate. Player 2: Cooperate, Player 1: Cooperate. Player 2: Cooperate, Player 1: Cooperate. Player 2: Cooperate, Player 1: Cooperate. Player 2: Cooperate, Player 1: Cooperate. Player 2: Cooperate, Player 1: Cooperate. Player 2: Cooperate, Player 1: Cooperate. Player 2: Cooperate, Player 1: Cooperate. Player 2: Cooperate, Player 1: Cooperate. Player 2:   Cooper\n"
     ]
    },
    {
     "name": "stderr",
     "output_type": "stream",
     "text": [
      "The attention mask and the pad token id were not set. As a consequence, you may observe unexpected behavior. Please pass your input's `attention_mask` to obtain reliable results.\n",
      "Setting `pad_token_id` to `eos_token_id`:2 for open-end generation.\n"
     ]
    },
    {
     "name": "stdout",
     "output_type": "stream",
     "text": [
      "model  1  output:  You are playing multiple rounds of prisoner's dilemma.You are Player 1. Do you choose to 'Cooperate' or 'Defect'? Game history: . Player 1:  Cooper\n"
     ]
    },
    {
     "name": "stderr",
     "output_type": "stream",
     "text": [
      "INFO:LLM_IPD:model 1 action: Cooperate\n",
      "INFO:LLM_IPD:model 2 action: Cooperate\n",
      "INFO:LLM_IPD:Round: 1\n"
     ]
    },
    {
     "name": "stdout",
     "output_type": "stream",
     "text": [
      "model  2  output:  You are playing multiple rounds of prisoner's dilemma.You are Player 2. Do you choose to 'Cooperate' or 'Defect'? Game history: . Player 2:   Player\n"
     ]
    },
    {
     "name": "stderr",
     "output_type": "stream",
     "text": [
      "The attention mask and the pad token id were not set. As a consequence, you may observe unexpected behavior. Please pass your input's `attention_mask` to obtain reliable results.\n",
      "Setting `pad_token_id` to `eos_token_id`:2 for open-end generation.\n"
     ]
    },
    {
     "name": "stdout",
     "output_type": "stream",
     "text": [
      "model  1  output:  You are playing multiple rounds of prisoner's dilemma.You are Player 1. Do you choose to 'Cooperate' or 'Defect'? Game history: . Player 1: Cooperate, Player 2: Cooperate. Player 1:  Cooper\n"
     ]
    },
    {
     "name": "stderr",
     "output_type": "stream",
     "text": [
      "INFO:LLM_IPD:model 1 action: Cooperate\n",
      "INFO:LLM_IPD:model 2 action: Cooperate\n",
      "INFO:LLM_IPD:Round: 2\n"
     ]
    },
    {
     "name": "stdout",
     "output_type": "stream",
     "text": [
      "model  2  output:  You are playing multiple rounds of prisoner's dilemma.You are Player 2. Do you choose to 'Cooperate' or 'Defect'? Game history: . Player 2: Cooperate, Player 1: Cooperate. Player 2:  ‎\n"
     ]
    },
    {
     "name": "stderr",
     "output_type": "stream",
     "text": [
      "The attention mask and the pad token id were not set. As a consequence, you may observe unexpected behavior. Please pass your input's `attention_mask` to obtain reliable results.\n",
      "Setting `pad_token_id` to `eos_token_id`:2 for open-end generation.\n"
     ]
    },
    {
     "name": "stdout",
     "output_type": "stream",
     "text": [
      "model  1  output:  You are playing multiple rounds of prisoner's dilemma.You are Player 1. Do you choose to 'Cooperate' or 'Defect'? Game history: . Player 1: Cooperate, Player 2: Cooperate. Player 1: Cooperate, Player 2: Cooperate. Player 1:  Cooper\n"
     ]
    },
    {
     "name": "stderr",
     "output_type": "stream",
     "text": [
      "INFO:LLM_IPD:model 1 action: Cooperate\n",
      "INFO:LLM_IPD:model 2 action: Cooperate\n",
      "INFO:LLM_IPD:Round: 3\n"
     ]
    },
    {
     "name": "stdout",
     "output_type": "stream",
     "text": [
      "model  2  output:  You are playing multiple rounds of prisoner's dilemma.You are Player 2. Do you choose to 'Cooperate' or 'Defect'? Game history: . Player 2: Cooperate, Player 1: Cooperate. Player 2: Cooperate, Player 1: Cooperate. Player 2:  ‎\n"
     ]
    },
    {
     "name": "stderr",
     "output_type": "stream",
     "text": [
      "The attention mask and the pad token id were not set. As a consequence, you may observe unexpected behavior. Please pass your input's `attention_mask` to obtain reliable results.\n",
      "Setting `pad_token_id` to `eos_token_id`:2 for open-end generation.\n"
     ]
    },
    {
     "name": "stdout",
     "output_type": "stream",
     "text": [
      "model  1  output:  You are playing multiple rounds of prisoner's dilemma.You are Player 1. Do you choose to 'Cooperate' or 'Defect'? Game history: . Player 1: Cooperate, Player 2: Cooperate. Player 1: Cooperate, Player 2: Cooperate. Player 1: Cooperate, Player 2: Cooperate. Player 1:  Cooper\n"
     ]
    },
    {
     "name": "stderr",
     "output_type": "stream",
     "text": [
      "INFO:LLM_IPD:model 1 action: Cooperate\n",
      "INFO:LLM_IPD:model 2 action: Cooperate\n",
      "INFO:LLM_IPD:Round: 4\n"
     ]
    },
    {
     "name": "stdout",
     "output_type": "stream",
     "text": [
      "model  2  output:  You are playing multiple rounds of prisoner's dilemma.You are Player 2. Do you choose to 'Cooperate' or 'Defect'? Game history: . Player 2: Cooperate, Player 1: Cooperate. Player 2: Cooperate, Player 1: Cooperate. Player 2: Cooperate, Player 1: Cooperate. Player 2:  ‎\n"
     ]
    },
    {
     "name": "stderr",
     "output_type": "stream",
     "text": [
      "The attention mask and the pad token id were not set. As a consequence, you may observe unexpected behavior. Please pass your input's `attention_mask` to obtain reliable results.\n",
      "Setting `pad_token_id` to `eos_token_id`:2 for open-end generation.\n"
     ]
    },
    {
     "name": "stdout",
     "output_type": "stream",
     "text": [
      "model  1  output:  You are playing multiple rounds of prisoner's dilemma.You are Player 1. Do you choose to 'Cooperate' or 'Defect'? Game history: . Player 1: Cooperate, Player 2: Cooperate. Player 1: Cooperate, Player 2: Cooperate. Player 1: Cooperate, Player 2: Cooperate. Player 1: Cooperate, Player 2: Cooperate. Player 1:  Cooper\n"
     ]
    },
    {
     "name": "stderr",
     "output_type": "stream",
     "text": [
      "INFO:LLM_IPD:model 1 action: Cooperate\n",
      "INFO:LLM_IPD:model 2 action: Cooperate\n",
      "INFO:LLM_IPD:Round: 5\n"
     ]
    },
    {
     "name": "stdout",
     "output_type": "stream",
     "text": [
      "model  2  output:  You are playing multiple rounds of prisoner's dilemma.You are Player 2. Do you choose to 'Cooperate' or 'Defect'? Game history: . Player 2: Cooperate, Player 1: Cooperate. Player 2: Cooperate, Player 1: Cooperate. Player 2: Cooperate, Player 1: Cooperate. Player 2: Cooperate, Player 1: Cooperate. Player 2:  ‎\n"
     ]
    },
    {
     "name": "stderr",
     "output_type": "stream",
     "text": [
      "The attention mask and the pad token id were not set. As a consequence, you may observe unexpected behavior. Please pass your input's `attention_mask` to obtain reliable results.\n",
      "Setting `pad_token_id` to `eos_token_id`:2 for open-end generation.\n"
     ]
    },
    {
     "name": "stdout",
     "output_type": "stream",
     "text": [
      "model  1  output:  You are playing multiple rounds of prisoner's dilemma.You are Player 1. Do you choose to 'Cooperate' or 'Defect'? Game history: . Player 1: Cooperate, Player 2: Cooperate. Player 1: Cooperate, Player 2: Cooperate. Player 1: Cooperate, Player 2: Cooperate. Player 1: Cooperate, Player 2: Cooperate. Player 1: Cooperate, Player 2: Cooperate. Player 1:  Cooper\n"
     ]
    },
    {
     "name": "stderr",
     "output_type": "stream",
     "text": [
      "INFO:LLM_IPD:model 1 action: Cooperate\n",
      "INFO:LLM_IPD:model 2 action: Cooperate\n",
      "INFO:LLM_IPD:Round: 6\n"
     ]
    },
    {
     "name": "stdout",
     "output_type": "stream",
     "text": [
      "model  2  output:  You are playing multiple rounds of prisoner's dilemma.You are Player 2. Do you choose to 'Cooperate' or 'Defect'? Game history: . Player 2: Cooperate, Player 1: Cooperate. Player 2: Cooperate, Player 1: Cooperate. Player 2: Cooperate, Player 1: Cooperate. Player 2: Cooperate, Player 1: Cooperate. Player 2: Cooperate, Player 1: Cooperate. Player 2:   The\n"
     ]
    },
    {
     "name": "stderr",
     "output_type": "stream",
     "text": [
      "The attention mask and the pad token id were not set. As a consequence, you may observe unexpected behavior. Please pass your input's `attention_mask` to obtain reliable results.\n",
      "Setting `pad_token_id` to `eos_token_id`:2 for open-end generation.\n"
     ]
    },
    {
     "name": "stdout",
     "output_type": "stream",
     "text": [
      "model  1  output:  You are playing multiple rounds of prisoner's dilemma.You are Player 1. Do you choose to 'Cooperate' or 'Defect'? Game history: . Player 1: Cooperate, Player 2: Cooperate. Player 1: Cooperate, Player 2: Cooperate. Player 1: Cooperate, Player 2: Cooperate. Player 1: Cooperate, Player 2: Cooperate. Player 1: Cooperate, Player 2: Cooperate. Player 1: Cooperate, Player 2: Cooperate. Player 1:  Cooper\n"
     ]
    },
    {
     "name": "stderr",
     "output_type": "stream",
     "text": [
      "INFO:LLM_IPD:model 1 action: Cooperate\n",
      "INFO:LLM_IPD:model 2 action: Cooperate\n",
      "INFO:LLM_IPD:Round: 7\n"
     ]
    },
    {
     "name": "stdout",
     "output_type": "stream",
     "text": [
      "model  2  output:  You are playing multiple rounds of prisoner's dilemma.You are Player 2. Do you choose to 'Cooperate' or 'Defect'? Game history: . Player 2: Cooperate, Player 1: Cooperate. Player 2: Cooperate, Player 1: Cooperate. Player 2: Cooperate, Player 1: Cooperate. Player 2: Cooperate, Player 1: Cooperate. Player 2: Cooperate, Player 1: Cooperate. Player 2: Cooperate, Player 1: Cooperate. Player 2:   The\n"
     ]
    },
    {
     "name": "stderr",
     "output_type": "stream",
     "text": [
      "The attention mask and the pad token id were not set. As a consequence, you may observe unexpected behavior. Please pass your input's `attention_mask` to obtain reliable results.\n",
      "Setting `pad_token_id` to `eos_token_id`:2 for open-end generation.\n"
     ]
    },
    {
     "name": "stdout",
     "output_type": "stream",
     "text": [
      "model  1  output:  You are playing multiple rounds of prisoner's dilemma.You are Player 1. Do you choose to 'Cooperate' or 'Defect'? Game history: . Player 1: Cooperate, Player 2: Cooperate. Player 1: Cooperate, Player 2: Cooperate. Player 1: Cooperate, Player 2: Cooperate. Player 1: Cooperate, Player 2: Cooperate. Player 1: Cooperate, Player 2: Cooperate. Player 1: Cooperate, Player 2: Cooperate. Player 1: Cooperate, Player 2: Cooperate. Player 1:  Cooper\n"
     ]
    },
    {
     "name": "stderr",
     "output_type": "stream",
     "text": [
      "INFO:LLM_IPD:model 1 action: Cooperate\n",
      "INFO:LLM_IPD:model 2 action: Cooperate\n",
      "INFO:LLM_IPD:Round: 8\n"
     ]
    },
    {
     "name": "stdout",
     "output_type": "stream",
     "text": [
      "model  2  output:  You are playing multiple rounds of prisoner's dilemma.You are Player 2. Do you choose to 'Cooperate' or 'Defect'? Game history: . Player 2: Cooperate, Player 1: Cooperate. Player 2: Cooperate, Player 1: Cooperate. Player 2: Cooperate, Player 1: Cooperate. Player 2: Cooperate, Player 1: Cooperate. Player 2: Cooperate, Player 1: Cooperate. Player 2: Cooperate, Player 1: Cooperate. Player 2: Cooperate, Player 1: Cooperate. Player 2:   Cooper\n"
     ]
    },
    {
     "name": "stderr",
     "output_type": "stream",
     "text": [
      "The attention mask and the pad token id were not set. As a consequence, you may observe unexpected behavior. Please pass your input's `attention_mask` to obtain reliable results.\n",
      "Setting `pad_token_id` to `eos_token_id`:2 for open-end generation.\n"
     ]
    },
    {
     "name": "stdout",
     "output_type": "stream",
     "text": [
      "model  1  output:  You are playing multiple rounds of prisoner's dilemma.You are Player 1. Do you choose to 'Cooperate' or 'Defect'? Game history: . Player 1: Cooperate, Player 2: Cooperate. Player 1: Cooperate, Player 2: Cooperate. Player 1: Cooperate, Player 2: Cooperate. Player 1: Cooperate, Player 2: Cooperate. Player 1: Cooperate, Player 2: Cooperate. Player 1: Cooperate, Player 2: Cooperate. Player 1: Cooperate, Player 2: Cooperate. Player 1: Cooperate, Player 2: Cooperate. Player 1:  Cooper\n"
     ]
    },
    {
     "name": "stderr",
     "output_type": "stream",
     "text": [
      "INFO:LLM_IPD:model 1 action: Cooperate\n",
      "INFO:LLM_IPD:model 2 action: Cooperate\n",
      "INFO:LLM_IPD:Round: 9\n"
     ]
    },
    {
     "name": "stdout",
     "output_type": "stream",
     "text": [
      "model  2  output:  You are playing multiple rounds of prisoner's dilemma.You are Player 2. Do you choose to 'Cooperate' or 'Defect'? Game history: . Player 2: Cooperate, Player 1: Cooperate. Player 2: Cooperate, Player 1: Cooperate. Player 2: Cooperate, Player 1: Cooperate. Player 2: Cooperate, Player 1: Cooperate. Player 2: Cooperate, Player 1: Cooperate. Player 2: Cooperate, Player 1: Cooperate. Player 2: Cooperate, Player 1: Cooperate. Player 2: Cooperate, Player 1: Cooperate. Player 2:   Cooper\n"
     ]
    },
    {
     "name": "stderr",
     "output_type": "stream",
     "text": [
      "The attention mask and the pad token id were not set. As a consequence, you may observe unexpected behavior. Please pass your input's `attention_mask` to obtain reliable results.\n",
      "Setting `pad_token_id` to `eos_token_id`:2 for open-end generation.\n"
     ]
    },
    {
     "name": "stdout",
     "output_type": "stream",
     "text": [
      "model  1  output:  You are playing multiple rounds of prisoner's dilemma.You are Player 1. Do you choose to 'Cooperate' or 'Defect'? Game history: . Player 1: Cooperate, Player 2: Cooperate. Player 1: Cooperate, Player 2: Cooperate. Player 1: Cooperate, Player 2: Cooperate. Player 1: Cooperate, Player 2: Cooperate. Player 1: Cooperate, Player 2: Cooperate. Player 1: Cooperate, Player 2: Cooperate. Player 1: Cooperate, Player 2: Cooperate. Player 1: Cooperate, Player 2: Cooperate. Player 1: Cooperate, Player 2: Cooperate. Player 1:  Cooper\n"
     ]
    },
    {
     "name": "stderr",
     "output_type": "stream",
     "text": [
      "INFO:LLM_IPD:model 1 action: Cooperate\n",
      "INFO:LLM_IPD:model 2 action: Cooperate\n",
      "INFO:LLM_IPD:Round: 10\n"
     ]
    },
    {
     "name": "stdout",
     "output_type": "stream",
     "text": [
      "model  2  output:  You are playing multiple rounds of prisoner's dilemma.You are Player 2. Do you choose to 'Cooperate' or 'Defect'? Game history: . Player 2: Cooperate, Player 1: Cooperate. Player 2: Cooperate, Player 1: Cooperate. Player 2: Cooperate, Player 1: Cooperate. Player 2: Cooperate, Player 1: Cooperate. Player 2: Cooperate, Player 1: Cooperate. Player 2: Cooperate, Player 1: Cooperate. Player 2: Cooperate, Player 1: Cooperate. Player 2: Cooperate, Player 1: Cooperate. Player 2: Cooperate, Player 1: Cooperate. Player 2:   Cooper\n"
     ]
    },
    {
     "name": "stderr",
     "output_type": "stream",
     "text": [
      "The attention mask and the pad token id were not set. As a consequence, you may observe unexpected behavior. Please pass your input's `attention_mask` to obtain reliable results.\n",
      "Setting `pad_token_id` to `eos_token_id`:2 for open-end generation.\n"
     ]
    },
    {
     "name": "stdout",
     "output_type": "stream",
     "text": [
      "model  1  output:  You are playing multiple rounds of prisoner's dilemma.You are Player 1. Do you choose to 'Cooperate' or 'Defect'? Game history: . Player 1: Cooperate, Player 2: Cooperate. Player 1: Cooperate, Player 2: Cooperate. Player 1: Cooperate, Player 2: Cooperate. Player 1: Cooperate, Player 2: Cooperate. Player 1: Cooperate, Player 2: Cooperate. Player 1: Cooperate, Player 2: Cooperate. Player 1: Cooperate, Player 2: Cooperate. Player 1: Cooperate, Player 2: Cooperate. Player 1: Cooperate, Player 2: Cooperate. Player 1: Cooperate, Player 2: Cooperate. Player 1:  Cooper\n"
     ]
    },
    {
     "name": "stderr",
     "output_type": "stream",
     "text": [
      "INFO:LLM_IPD:model 1 action: Cooperate\n",
      "INFO:LLM_IPD:model 2 action: Cooperate\n",
      "INFO:LLM_IPD:Round: 11\n"
     ]
    },
    {
     "name": "stdout",
     "output_type": "stream",
     "text": [
      "model  2  output:  You are playing multiple rounds of prisoner's dilemma.You are Player 2. Do you choose to 'Cooperate' or 'Defect'? Game history: . Player 2: Cooperate, Player 1: Cooperate. Player 2: Cooperate, Player 1: Cooperate. Player 2: Cooperate, Player 1: Cooperate. Player 2: Cooperate, Player 1: Cooperate. Player 2: Cooperate, Player 1: Cooperate. Player 2: Cooperate, Player 1: Cooperate. Player 2: Cooperate, Player 1: Cooperate. Player 2: Cooperate, Player 1: Cooperate. Player 2: Cooperate, Player 1: Cooperate. Player 2: Cooperate, Player 1: Cooperate. Player 2:   Cooper\n"
     ]
    },
    {
     "name": "stderr",
     "output_type": "stream",
     "text": [
      "The attention mask and the pad token id were not set. As a consequence, you may observe unexpected behavior. Please pass your input's `attention_mask` to obtain reliable results.\n",
      "Setting `pad_token_id` to `eos_token_id`:2 for open-end generation.\n"
     ]
    },
    {
     "name": "stdout",
     "output_type": "stream",
     "text": [
      "model  1  output:  You are playing multiple rounds of prisoner's dilemma.You are Player 1. Do you choose to 'Cooperate' or 'Defect'? Game history: . Player 1: Cooperate, Player 2: Cooperate. Player 1: Cooperate, Player 2: Cooperate. Player 1: Cooperate, Player 2: Cooperate. Player 1: Cooperate, Player 2: Cooperate. Player 1: Cooperate, Player 2: Cooperate. Player 1: Cooperate, Player 2: Cooperate. Player 1: Cooperate, Player 2: Cooperate. Player 1: Cooperate, Player 2: Cooperate. Player 1: Cooperate, Player 2: Cooperate. Player 1: Cooperate, Player 2: Cooperate. Player 1: Cooperate, Player 2: Cooperate. Player 1:  Cooper\n"
     ]
    },
    {
     "name": "stderr",
     "output_type": "stream",
     "text": [
      "INFO:LLM_IPD:model 1 action: Cooperate\n",
      "INFO:LLM_IPD:model 2 action: Cooperate\n",
      "INFO:LLM_IPD:Round: 12\n"
     ]
    },
    {
     "name": "stdout",
     "output_type": "stream",
     "text": [
      "model  2  output:  You are playing multiple rounds of prisoner's dilemma.You are Player 2. Do you choose to 'Cooperate' or 'Defect'? Game history: . Player 2: Cooperate, Player 1: Cooperate. Player 2: Cooperate, Player 1: Cooperate. Player 2: Cooperate, Player 1: Cooperate. Player 2: Cooperate, Player 1: Cooperate. Player 2: Cooperate, Player 1: Cooperate. Player 2: Cooperate, Player 1: Cooperate. Player 2: Cooperate, Player 1: Cooperate. Player 2: Cooperate, Player 1: Cooperate. Player 2: Cooperate, Player 1: Cooperate. Player 2: Cooperate, Player 1: Cooperate. Player 2: Cooperate, Player 1: Cooperate. Player 2:   Cooper\n"
     ]
    },
    {
     "name": "stderr",
     "output_type": "stream",
     "text": [
      "The attention mask and the pad token id were not set. As a consequence, you may observe unexpected behavior. Please pass your input's `attention_mask` to obtain reliable results.\n",
      "Setting `pad_token_id` to `eos_token_id`:2 for open-end generation.\n"
     ]
    },
    {
     "name": "stdout",
     "output_type": "stream",
     "text": [
      "model  1  output:  You are playing multiple rounds of prisoner's dilemma.You are Player 1. Do you choose to 'Cooperate' or 'Defect'? Game history: . Player 1: Cooperate, Player 2: Cooperate. Player 1: Cooperate, Player 2: Cooperate. Player 1: Cooperate, Player 2: Cooperate. Player 1: Cooperate, Player 2: Cooperate. Player 1: Cooperate, Player 2: Cooperate. Player 1: Cooperate, Player 2: Cooperate. Player 1: Cooperate, Player 2: Cooperate. Player 1: Cooperate, Player 2: Cooperate. Player 1: Cooperate, Player 2: Cooperate. Player 1: Cooperate, Player 2: Cooperate. Player 1: Cooperate, Player 2: Cooperate. Player 1: Cooperate, Player 2: Cooperate. Player 1:  Cooper\n"
     ]
    },
    {
     "name": "stderr",
     "output_type": "stream",
     "text": [
      "INFO:LLM_IPD:model 1 action: Cooperate\n",
      "INFO:LLM_IPD:model 2 action: Cooperate\n",
      "INFO:LLM_IPD:Round: 13\n"
     ]
    },
    {
     "name": "stdout",
     "output_type": "stream",
     "text": [
      "model  2  output:  You are playing multiple rounds of prisoner's dilemma.You are Player 2. Do you choose to 'Cooperate' or 'Defect'? Game history: . Player 2: Cooperate, Player 1: Cooperate. Player 2: Cooperate, Player 1: Cooperate. Player 2: Cooperate, Player 1: Cooperate. Player 2: Cooperate, Player 1: Cooperate. Player 2: Cooperate, Player 1: Cooperate. Player 2: Cooperate, Player 1: Cooperate. Player 2: Cooperate, Player 1: Cooperate. Player 2: Cooperate, Player 1: Cooperate. Player 2: Cooperate, Player 1: Cooperate. Player 2: Cooperate, Player 1: Cooperate. Player 2: Cooperate, Player 1: Cooperate. Player 2: Cooperate, Player 1: Cooperate. Player 2:   Cooper\n"
     ]
    },
    {
     "name": "stderr",
     "output_type": "stream",
     "text": [
      "The attention mask and the pad token id were not set. As a consequence, you may observe unexpected behavior. Please pass your input's `attention_mask` to obtain reliable results.\n",
      "Setting `pad_token_id` to `eos_token_id`:2 for open-end generation.\n"
     ]
    },
    {
     "name": "stdout",
     "output_type": "stream",
     "text": [
      "model  1  output:  You are playing multiple rounds of prisoner's dilemma.You are Player 1. Do you choose to 'Cooperate' or 'Defect'? Game history: . Player 1: Cooperate, Player 2: Cooperate. Player 1: Cooperate, Player 2: Cooperate. Player 1: Cooperate, Player 2: Cooperate. Player 1: Cooperate, Player 2: Cooperate. Player 1: Cooperate, Player 2: Cooperate. Player 1: Cooperate, Player 2: Cooperate. Player 1: Cooperate, Player 2: Cooperate. Player 1: Cooperate, Player 2: Cooperate. Player 1: Cooperate, Player 2: Cooperate. Player 1: Cooperate, Player 2: Cooperate. Player 1: Cooperate, Player 2: Cooperate. Player 1: Cooperate, Player 2: Cooperate. Player 1: Cooperate, Player 2: Cooperate. Player 1:  Cooper\n"
     ]
    },
    {
     "name": "stderr",
     "output_type": "stream",
     "text": [
      "INFO:LLM_IPD:model 1 action: Cooperate\n",
      "INFO:LLM_IPD:model 2 action: Cooperate\n",
      "INFO:LLM_IPD:Round: 14\n"
     ]
    },
    {
     "name": "stdout",
     "output_type": "stream",
     "text": [
      "model  2  output:  You are playing multiple rounds of prisoner's dilemma.You are Player 2. Do you choose to 'Cooperate' or 'Defect'? Game history: . Player 2: Cooperate, Player 1: Cooperate. Player 2: Cooperate, Player 1: Cooperate. Player 2: Cooperate, Player 1: Cooperate. Player 2: Cooperate, Player 1: Cooperate. Player 2: Cooperate, Player 1: Cooperate. Player 2: Cooperate, Player 1: Cooperate. Player 2: Cooperate, Player 1: Cooperate. Player 2: Cooperate, Player 1: Cooperate. Player 2: Cooperate, Player 1: Cooperate. Player 2: Cooperate, Player 1: Cooperate. Player 2: Cooperate, Player 1: Cooperate. Player 2: Cooperate, Player 1: Cooperate. Player 2: Cooperate, Player 1: Cooperate. Player 2:   Cooper\n"
     ]
    },
    {
     "name": "stderr",
     "output_type": "stream",
     "text": [
      "The attention mask and the pad token id were not set. As a consequence, you may observe unexpected behavior. Please pass your input's `attention_mask` to obtain reliable results.\n",
      "Setting `pad_token_id` to `eos_token_id`:2 for open-end generation.\n"
     ]
    },
    {
     "name": "stdout",
     "output_type": "stream",
     "text": [
      "model  1  output:  You are playing multiple rounds of prisoner's dilemma.You are Player 1. Do you choose to 'Cooperate' or 'Defect'? Game history: . Player 1: Cooperate, Player 2: Cooperate. Player 1: Cooperate, Player 2: Cooperate. Player 1: Cooperate, Player 2: Cooperate. Player 1: Cooperate, Player 2: Cooperate. Player 1: Cooperate, Player 2: Cooperate. Player 1: Cooperate, Player 2: Cooperate. Player 1: Cooperate, Player 2: Cooperate. Player 1: Cooperate, Player 2: Cooperate. Player 1: Cooperate, Player 2: Cooperate. Player 1: Cooperate, Player 2: Cooperate. Player 1: Cooperate, Player 2: Cooperate. Player 1: Cooperate, Player 2: Cooperate. Player 1: Cooperate, Player 2: Cooperate. Player 1: Cooperate, Player 2: Cooperate. Player 1:  Cooper\n"
     ]
    },
    {
     "name": "stderr",
     "output_type": "stream",
     "text": [
      "INFO:LLM_IPD:model 1 action: Cooperate\n",
      "INFO:LLM_IPD:model 2 action: Cooperate\n",
      "INFO:LLM_IPD:Round: 15\n"
     ]
    },
    {
     "name": "stdout",
     "output_type": "stream",
     "text": [
      "model  2  output:  You are playing multiple rounds of prisoner's dilemma.You are Player 2. Do you choose to 'Cooperate' or 'Defect'? Game history: . Player 2: Cooperate, Player 1: Cooperate. Player 2: Cooperate, Player 1: Cooperate. Player 2: Cooperate, Player 1: Cooperate. Player 2: Cooperate, Player 1: Cooperate. Player 2: Cooperate, Player 1: Cooperate. Player 2: Cooperate, Player 1: Cooperate. Player 2: Cooperate, Player 1: Cooperate. Player 2: Cooperate, Player 1: Cooperate. Player 2: Cooperate, Player 1: Cooperate. Player 2: Cooperate, Player 1: Cooperate. Player 2: Cooperate, Player 1: Cooperate. Player 2: Cooperate, Player 1: Cooperate. Player 2: Cooperate, Player 1: Cooperate. Player 2: Cooperate, Player 1: Cooperate. Player 2:   Cooper\n"
     ]
    },
    {
     "name": "stderr",
     "output_type": "stream",
     "text": [
      "The attention mask and the pad token id were not set. As a consequence, you may observe unexpected behavior. Please pass your input's `attention_mask` to obtain reliable results.\n",
      "Setting `pad_token_id` to `eos_token_id`:2 for open-end generation.\n"
     ]
    },
    {
     "name": "stdout",
     "output_type": "stream",
     "text": [
      "model  1  output:  You are playing multiple rounds of prisoner's dilemma.You are Player 1. Do you choose to 'Cooperate' or 'Defect'? Game history: . Player 1: Cooperate, Player 2: Cooperate. Player 1: Cooperate, Player 2: Cooperate. Player 1: Cooperate, Player 2: Cooperate. Player 1: Cooperate, Player 2: Cooperate. Player 1: Cooperate, Player 2: Cooperate. Player 1: Cooperate, Player 2: Cooperate. Player 1: Cooperate, Player 2: Cooperate. Player 1: Cooperate, Player 2: Cooperate. Player 1: Cooperate, Player 2: Cooperate. Player 1: Cooperate, Player 2: Cooperate. Player 1: Cooperate, Player 2: Cooperate. Player 1: Cooperate, Player 2: Cooperate. Player 1: Cooperate, Player 2: Cooperate. Player 1: Cooperate, Player 2: Cooperate. Player 1: Cooperate, Player 2: Cooperate. Player 1:  Cooper\n"
     ]
    },
    {
     "name": "stderr",
     "output_type": "stream",
     "text": [
      "INFO:LLM_IPD:model 1 action: Cooperate\n",
      "INFO:LLM_IPD:model 2 action: Cooperate\n",
      "INFO:LLM_IPD:Round: 16\n"
     ]
    },
    {
     "name": "stdout",
     "output_type": "stream",
     "text": [
      "model  2  output:  You are playing multiple rounds of prisoner's dilemma.You are Player 2. Do you choose to 'Cooperate' or 'Defect'? Game history: . Player 2: Cooperate, Player 1: Cooperate. Player 2: Cooperate, Player 1: Cooperate. Player 2: Cooperate, Player 1: Cooperate. Player 2: Cooperate, Player 1: Cooperate. Player 2: Cooperate, Player 1: Cooperate. Player 2: Cooperate, Player 1: Cooperate. Player 2: Cooperate, Player 1: Cooperate. Player 2: Cooperate, Player 1: Cooperate. Player 2: Cooperate, Player 1: Cooperate. Player 2: Cooperate, Player 1: Cooperate. Player 2: Cooperate, Player 1: Cooperate. Player 2: Cooperate, Player 1: Cooperate. Player 2: Cooperate, Player 1: Cooperate. Player 2: Cooperate, Player 1: Cooperate. Player 2: Cooperate, Player 1: Cooperate. Player 2:   Cooper\n"
     ]
    },
    {
     "name": "stderr",
     "output_type": "stream",
     "text": [
      "The attention mask and the pad token id were not set. As a consequence, you may observe unexpected behavior. Please pass your input's `attention_mask` to obtain reliable results.\n",
      "Setting `pad_token_id` to `eos_token_id`:2 for open-end generation.\n"
     ]
    },
    {
     "name": "stdout",
     "output_type": "stream",
     "text": [
      "model  1  output:  You are playing multiple rounds of prisoner's dilemma.You are Player 1. Do you choose to 'Cooperate' or 'Defect'? Game history: . Player 1: Cooperate, Player 2: Cooperate. Player 1: Cooperate, Player 2: Cooperate. Player 1: Cooperate, Player 2: Cooperate. Player 1: Cooperate, Player 2: Cooperate. Player 1: Cooperate, Player 2: Cooperate. Player 1: Cooperate, Player 2: Cooperate. Player 1: Cooperate, Player 2: Cooperate. Player 1: Cooperate, Player 2: Cooperate. Player 1: Cooperate, Player 2: Cooperate. Player 1: Cooperate, Player 2: Cooperate. Player 1: Cooperate, Player 2: Cooperate. Player 1: Cooperate, Player 2: Cooperate. Player 1: Cooperate, Player 2: Cooperate. Player 1: Cooperate, Player 2: Cooperate. Player 1: Cooperate, Player 2: Cooperate. Player 1: Cooperate, Player 2: Cooperate. Player 1:  Cooper\n"
     ]
    },
    {
     "name": "stderr",
     "output_type": "stream",
     "text": [
      "INFO:LLM_IPD:model 1 action: Cooperate\n",
      "INFO:LLM_IPD:model 2 action: Cooperate\n",
      "INFO:LLM_IPD:Round: 17\n"
     ]
    },
    {
     "name": "stdout",
     "output_type": "stream",
     "text": [
      "model  2  output:  You are playing multiple rounds of prisoner's dilemma.You are Player 2. Do you choose to 'Cooperate' or 'Defect'? Game history: . Player 2: Cooperate, Player 1: Cooperate. Player 2: Cooperate, Player 1: Cooperate. Player 2: Cooperate, Player 1: Cooperate. Player 2: Cooperate, Player 1: Cooperate. Player 2: Cooperate, Player 1: Cooperate. Player 2: Cooperate, Player 1: Cooperate. Player 2: Cooperate, Player 1: Cooperate. Player 2: Cooperate, Player 1: Cooperate. Player 2: Cooperate, Player 1: Cooperate. Player 2: Cooperate, Player 1: Cooperate. Player 2: Cooperate, Player 1: Cooperate. Player 2: Cooperate, Player 1: Cooperate. Player 2: Cooperate, Player 1: Cooperate. Player 2: Cooperate, Player 1: Cooperate. Player 2: Cooperate, Player 1: Cooperate. Player 2: Cooperate, Player 1: Cooperate. Player 2:   Cooper\n"
     ]
    },
    {
     "name": "stderr",
     "output_type": "stream",
     "text": [
      "The attention mask and the pad token id were not set. As a consequence, you may observe unexpected behavior. Please pass your input's `attention_mask` to obtain reliable results.\n",
      "Setting `pad_token_id` to `eos_token_id`:2 for open-end generation.\n"
     ]
    },
    {
     "name": "stdout",
     "output_type": "stream",
     "text": [
      "model  1  output:  You are playing multiple rounds of prisoner's dilemma.You are Player 1. Do you choose to 'Cooperate' or 'Defect'? Game history: . Player 1: Cooperate, Player 2: Cooperate. Player 1: Cooperate, Player 2: Cooperate. Player 1: Cooperate, Player 2: Cooperate. Player 1: Cooperate, Player 2: Cooperate. Player 1: Cooperate, Player 2: Cooperate. Player 1: Cooperate, Player 2: Cooperate. Player 1: Cooperate, Player 2: Cooperate. Player 1: Cooperate, Player 2: Cooperate. Player 1: Cooperate, Player 2: Cooperate. Player 1: Cooperate, Player 2: Cooperate. Player 1: Cooperate, Player 2: Cooperate. Player 1: Cooperate, Player 2: Cooperate. Player 1: Cooperate, Player 2: Cooperate. Player 1: Cooperate, Player 2: Cooperate. Player 1: Cooperate, Player 2: Cooperate. Player 1: Cooperate, Player 2: Cooperate. Player 1: Cooperate, Player 2: Cooperate. Player 1:  Cooper\n"
     ]
    },
    {
     "name": "stderr",
     "output_type": "stream",
     "text": [
      "INFO:LLM_IPD:model 1 action: Cooperate\n",
      "INFO:LLM_IPD:model 2 action: Cooperate\n",
      "INFO:LLM_IPD:Round: 18\n"
     ]
    },
    {
     "name": "stdout",
     "output_type": "stream",
     "text": [
      "model  2  output:  You are playing multiple rounds of prisoner's dilemma.You are Player 2. Do you choose to 'Cooperate' or 'Defect'? Game history: . Player 2: Cooperate, Player 1: Cooperate. Player 2: Cooperate, Player 1: Cooperate. Player 2: Cooperate, Player 1: Cooperate. Player 2: Cooperate, Player 1: Cooperate. Player 2: Cooperate, Player 1: Cooperate. Player 2: Cooperate, Player 1: Cooperate. Player 2: Cooperate, Player 1: Cooperate. Player 2: Cooperate, Player 1: Cooperate. Player 2: Cooperate, Player 1: Cooperate. Player 2: Cooperate, Player 1: Cooperate. Player 2: Cooperate, Player 1: Cooperate. Player 2: Cooperate, Player 1: Cooperate. Player 2: Cooperate, Player 1: Cooperate. Player 2: Cooperate, Player 1: Cooperate. Player 2: Cooperate, Player 1: Cooperate. Player 2: Cooperate, Player 1: Cooperate. Player 2: Cooperate, Player 1: Cooperate. Player 2:   Cooper\n"
     ]
    },
    {
     "name": "stderr",
     "output_type": "stream",
     "text": [
      "The attention mask and the pad token id were not set. As a consequence, you may observe unexpected behavior. Please pass your input's `attention_mask` to obtain reliable results.\n",
      "Setting `pad_token_id` to `eos_token_id`:2 for open-end generation.\n"
     ]
    },
    {
     "name": "stdout",
     "output_type": "stream",
     "text": [
      "model  1  output:  You are playing multiple rounds of prisoner's dilemma.You are Player 1. Do you choose to 'Cooperate' or 'Defect'? Game history: . Player 1: Cooperate, Player 2: Cooperate. Player 1: Cooperate, Player 2: Cooperate. Player 1: Cooperate, Player 2: Cooperate. Player 1: Cooperate, Player 2: Cooperate. Player 1: Cooperate, Player 2: Cooperate. Player 1: Cooperate, Player 2: Cooperate. Player 1: Cooperate, Player 2: Cooperate. Player 1: Cooperate, Player 2: Cooperate. Player 1: Cooperate, Player 2: Cooperate. Player 1: Cooperate, Player 2: Cooperate. Player 1: Cooperate, Player 2: Cooperate. Player 1: Cooperate, Player 2: Cooperate. Player 1: Cooperate, Player 2: Cooperate. Player 1: Cooperate, Player 2: Cooperate. Player 1: Cooperate, Player 2: Cooperate. Player 1: Cooperate, Player 2: Cooperate. Player 1: Cooperate, Player 2: Cooperate. Player 1: Cooperate, Player 2: Cooperate. Player 1:  Cooper\n"
     ]
    },
    {
     "name": "stderr",
     "output_type": "stream",
     "text": [
      "INFO:LLM_IPD:model 1 action: Cooperate\n",
      "INFO:LLM_IPD:model 2 action: Cooperate\n",
      "INFO:LLM_IPD:Round: 19\n"
     ]
    },
    {
     "name": "stdout",
     "output_type": "stream",
     "text": [
      "model  2  output:  You are playing multiple rounds of prisoner's dilemma.You are Player 2. Do you choose to 'Cooperate' or 'Defect'? Game history: . Player 2: Cooperate, Player 1: Cooperate. Player 2: Cooperate, Player 1: Cooperate. Player 2: Cooperate, Player 1: Cooperate. Player 2: Cooperate, Player 1: Cooperate. Player 2: Cooperate, Player 1: Cooperate. Player 2: Cooperate, Player 1: Cooperate. Player 2: Cooperate, Player 1: Cooperate. Player 2: Cooperate, Player 1: Cooperate. Player 2: Cooperate, Player 1: Cooperate. Player 2: Cooperate, Player 1: Cooperate. Player 2: Cooperate, Player 1: Cooperate. Player 2: Cooperate, Player 1: Cooperate. Player 2: Cooperate, Player 1: Cooperate. Player 2: Cooperate, Player 1: Cooperate. Player 2: Cooperate, Player 1: Cooperate. Player 2: Cooperate, Player 1: Cooperate. Player 2: Cooperate, Player 1: Cooperate. Player 2: Cooperate, Player 1: Cooperate. Player 2:   Cooper\n"
     ]
    },
    {
     "name": "stderr",
     "output_type": "stream",
     "text": [
      "The attention mask and the pad token id were not set. As a consequence, you may observe unexpected behavior. Please pass your input's `attention_mask` to obtain reliable results.\n",
      "Setting `pad_token_id` to `eos_token_id`:2 for open-end generation.\n"
     ]
    },
    {
     "name": "stdout",
     "output_type": "stream",
     "text": [
      "model  1  output:  You are playing multiple rounds of prisoner's dilemma.You are Player 1. Do you choose to 'Cooperate' or 'Defect'? Game history: . Player 1: Cooperate, Player 2: Cooperate. Player 1: Cooperate, Player 2: Cooperate. Player 1: Cooperate, Player 2: Cooperate. Player 1: Cooperate, Player 2: Cooperate. Player 1: Cooperate, Player 2: Cooperate. Player 1: Cooperate, Player 2: Cooperate. Player 1: Cooperate, Player 2: Cooperate. Player 1: Cooperate, Player 2: Cooperate. Player 1: Cooperate, Player 2: Cooperate. Player 1: Cooperate, Player 2: Cooperate. Player 1: Cooperate, Player 2: Cooperate. Player 1: Cooperate, Player 2: Cooperate. Player 1: Cooperate, Player 2: Cooperate. Player 1: Cooperate, Player 2: Cooperate. Player 1: Cooperate, Player 2: Cooperate. Player 1: Cooperate, Player 2: Cooperate. Player 1: Cooperate, Player 2: Cooperate. Player 1: Cooperate, Player 2: Cooperate. Player 1: Cooperate, Player 2: Cooperate. Player 1:  Cooper\n"
     ]
    },
    {
     "name": "stderr",
     "output_type": "stream",
     "text": [
      "INFO:LLM_IPD:model 1 action: Cooperate\n",
      "INFO:LLM_IPD:model 2 action: Cooperate\n",
      "INFO:LLM_IPD:Game: 5\n",
      "INFO:LLM_IPD:Round: 0\n"
     ]
    },
    {
     "name": "stdout",
     "output_type": "stream",
     "text": [
      "model  2  output:  You are playing multiple rounds of prisoner's dilemma.You are Player 2. Do you choose to 'Cooperate' or 'Defect'? Game history: . Player 2: Cooperate, Player 1: Cooperate. Player 2: Cooperate, Player 1: Cooperate. Player 2: Cooperate, Player 1: Cooperate. Player 2: Cooperate, Player 1: Cooperate. Player 2: Cooperate, Player 1: Cooperate. Player 2: Cooperate, Player 1: Cooperate. Player 2: Cooperate, Player 1: Cooperate. Player 2: Cooperate, Player 1: Cooperate. Player 2: Cooperate, Player 1: Cooperate. Player 2: Cooperate, Player 1: Cooperate. Player 2: Cooperate, Player 1: Cooperate. Player 2: Cooperate, Player 1: Cooperate. Player 2: Cooperate, Player 1: Cooperate. Player 2: Cooperate, Player 1: Cooperate. Player 2: Cooperate, Player 1: Cooperate. Player 2: Cooperate, Player 1: Cooperate. Player 2: Cooperate, Player 1: Cooperate. Player 2: Cooperate, Player 1: Cooperate. Player 2: Cooperate, Player 1: Cooperate. Player 2:   Cooper\n"
     ]
    },
    {
     "name": "stderr",
     "output_type": "stream",
     "text": [
      "The attention mask and the pad token id were not set. As a consequence, you may observe unexpected behavior. Please pass your input's `attention_mask` to obtain reliable results.\n",
      "Setting `pad_token_id` to `eos_token_id`:2 for open-end generation.\n"
     ]
    },
    {
     "name": "stdout",
     "output_type": "stream",
     "text": [
      "model  1  output:  You are playing multiple rounds of prisoner's dilemma.You are Player 1. Do you choose to 'Cooperate' or 'Defect'? Game history: . Player 1:  Cooper\n"
     ]
    },
    {
     "name": "stderr",
     "output_type": "stream",
     "text": [
      "INFO:LLM_IPD:model 1 action: Cooperate\n",
      "INFO:LLM_IPD:model 2 action: Cooperate\n",
      "INFO:LLM_IPD:Round: 1\n"
     ]
    },
    {
     "name": "stdout",
     "output_type": "stream",
     "text": [
      "model  2  output:  You are playing multiple rounds of prisoner's dilemma.You are Player 2. Do you choose to 'Cooperate' or 'Defect'? Game history: . Player 2:   Player\n"
     ]
    },
    {
     "name": "stderr",
     "output_type": "stream",
     "text": [
      "The attention mask and the pad token id were not set. As a consequence, you may observe unexpected behavior. Please pass your input's `attention_mask` to obtain reliable results.\n",
      "Setting `pad_token_id` to `eos_token_id`:2 for open-end generation.\n"
     ]
    },
    {
     "name": "stdout",
     "output_type": "stream",
     "text": [
      "model  1  output:  You are playing multiple rounds of prisoner's dilemma.You are Player 1. Do you choose to 'Cooperate' or 'Defect'? Game history: . Player 1: Cooperate, Player 2: Cooperate. Player 1:  Cooper\n"
     ]
    },
    {
     "name": "stderr",
     "output_type": "stream",
     "text": [
      "INFO:LLM_IPD:model 1 action: Cooperate\n",
      "INFO:LLM_IPD:model 2 action: Cooperate\n",
      "INFO:LLM_IPD:Round: 2\n"
     ]
    },
    {
     "name": "stdout",
     "output_type": "stream",
     "text": [
      "model  2  output:  You are playing multiple rounds of prisoner's dilemma.You are Player 2. Do you choose to 'Cooperate' or 'Defect'? Game history: . Player 2: Cooperate, Player 1: Cooperate. Player 2:  ‎\n"
     ]
    },
    {
     "name": "stderr",
     "output_type": "stream",
     "text": [
      "The attention mask and the pad token id were not set. As a consequence, you may observe unexpected behavior. Please pass your input's `attention_mask` to obtain reliable results.\n",
      "Setting `pad_token_id` to `eos_token_id`:2 for open-end generation.\n"
     ]
    },
    {
     "name": "stdout",
     "output_type": "stream",
     "text": [
      "model  1  output:  You are playing multiple rounds of prisoner's dilemma.You are Player 1. Do you choose to 'Cooperate' or 'Defect'? Game history: . Player 1: Cooperate, Player 2: Cooperate. Player 1: Cooperate, Player 2: Cooperate. Player 1:  Cooper\n"
     ]
    },
    {
     "name": "stderr",
     "output_type": "stream",
     "text": [
      "INFO:LLM_IPD:model 1 action: Cooperate\n",
      "INFO:LLM_IPD:model 2 action: Cooperate\n",
      "INFO:LLM_IPD:Round: 3\n"
     ]
    },
    {
     "name": "stdout",
     "output_type": "stream",
     "text": [
      "model  2  output:  You are playing multiple rounds of prisoner's dilemma.You are Player 2. Do you choose to 'Cooperate' or 'Defect'? Game history: . Player 2: Cooperate, Player 1: Cooperate. Player 2: Cooperate, Player 1: Cooperate. Player 2:  ‎\n"
     ]
    },
    {
     "name": "stderr",
     "output_type": "stream",
     "text": [
      "The attention mask and the pad token id were not set. As a consequence, you may observe unexpected behavior. Please pass your input's `attention_mask` to obtain reliable results.\n",
      "Setting `pad_token_id` to `eos_token_id`:2 for open-end generation.\n"
     ]
    },
    {
     "name": "stdout",
     "output_type": "stream",
     "text": [
      "model  1  output:  You are playing multiple rounds of prisoner's dilemma.You are Player 1. Do you choose to 'Cooperate' or 'Defect'? Game history: . Player 1: Cooperate, Player 2: Cooperate. Player 1: Cooperate, Player 2: Cooperate. Player 1: Cooperate, Player 2: Cooperate. Player 1:  Cooper\n"
     ]
    },
    {
     "name": "stderr",
     "output_type": "stream",
     "text": [
      "INFO:LLM_IPD:model 1 action: Cooperate\n",
      "INFO:LLM_IPD:model 2 action: Cooperate\n",
      "INFO:LLM_IPD:Round: 4\n"
     ]
    },
    {
     "name": "stdout",
     "output_type": "stream",
     "text": [
      "model  2  output:  You are playing multiple rounds of prisoner's dilemma.You are Player 2. Do you choose to 'Cooperate' or 'Defect'? Game history: . Player 2: Cooperate, Player 1: Cooperate. Player 2: Cooperate, Player 1: Cooperate. Player 2: Cooperate, Player 1: Cooperate. Player 2:  ‎\n"
     ]
    },
    {
     "name": "stderr",
     "output_type": "stream",
     "text": [
      "The attention mask and the pad token id were not set. As a consequence, you may observe unexpected behavior. Please pass your input's `attention_mask` to obtain reliable results.\n",
      "Setting `pad_token_id` to `eos_token_id`:2 for open-end generation.\n"
     ]
    },
    {
     "name": "stdout",
     "output_type": "stream",
     "text": [
      "model  1  output:  You are playing multiple rounds of prisoner's dilemma.You are Player 1. Do you choose to 'Cooperate' or 'Defect'? Game history: . Player 1: Cooperate, Player 2: Cooperate. Player 1: Cooperate, Player 2: Cooperate. Player 1: Cooperate, Player 2: Cooperate. Player 1: Cooperate, Player 2: Cooperate. Player 1:  Cooper\n"
     ]
    },
    {
     "name": "stderr",
     "output_type": "stream",
     "text": [
      "INFO:LLM_IPD:model 1 action: Cooperate\n",
      "INFO:LLM_IPD:model 2 action: Cooperate\n",
      "INFO:LLM_IPD:Round: 5\n"
     ]
    },
    {
     "name": "stdout",
     "output_type": "stream",
     "text": [
      "model  2  output:  You are playing multiple rounds of prisoner's dilemma.You are Player 2. Do you choose to 'Cooperate' or 'Defect'? Game history: . Player 2: Cooperate, Player 1: Cooperate. Player 2: Cooperate, Player 1: Cooperate. Player 2: Cooperate, Player 1: Cooperate. Player 2: Cooperate, Player 1: Cooperate. Player 2:  ‎\n"
     ]
    },
    {
     "name": "stderr",
     "output_type": "stream",
     "text": [
      "The attention mask and the pad token id were not set. As a consequence, you may observe unexpected behavior. Please pass your input's `attention_mask` to obtain reliable results.\n",
      "Setting `pad_token_id` to `eos_token_id`:2 for open-end generation.\n"
     ]
    },
    {
     "name": "stdout",
     "output_type": "stream",
     "text": [
      "model  1  output:  You are playing multiple rounds of prisoner's dilemma.You are Player 1. Do you choose to 'Cooperate' or 'Defect'? Game history: . Player 1: Cooperate, Player 2: Cooperate. Player 1: Cooperate, Player 2: Cooperate. Player 1: Cooperate, Player 2: Cooperate. Player 1: Cooperate, Player 2: Cooperate. Player 1: Cooperate, Player 2: Cooperate. Player 1:  Cooper\n"
     ]
    },
    {
     "name": "stderr",
     "output_type": "stream",
     "text": [
      "INFO:LLM_IPD:model 1 action: Cooperate\n",
      "INFO:LLM_IPD:model 2 action: Cooperate\n",
      "INFO:LLM_IPD:Round: 6\n"
     ]
    },
    {
     "name": "stdout",
     "output_type": "stream",
     "text": [
      "model  2  output:  You are playing multiple rounds of prisoner's dilemma.You are Player 2. Do you choose to 'Cooperate' or 'Defect'? Game history: . Player 2: Cooperate, Player 1: Cooperate. Player 2: Cooperate, Player 1: Cooperate. Player 2: Cooperate, Player 1: Cooperate. Player 2: Cooperate, Player 1: Cooperate. Player 2: Cooperate, Player 1: Cooperate. Player 2:   The\n"
     ]
    },
    {
     "name": "stderr",
     "output_type": "stream",
     "text": [
      "The attention mask and the pad token id were not set. As a consequence, you may observe unexpected behavior. Please pass your input's `attention_mask` to obtain reliable results.\n",
      "Setting `pad_token_id` to `eos_token_id`:2 for open-end generation.\n"
     ]
    },
    {
     "name": "stdout",
     "output_type": "stream",
     "text": [
      "model  1  output:  You are playing multiple rounds of prisoner's dilemma.You are Player 1. Do you choose to 'Cooperate' or 'Defect'? Game history: . Player 1: Cooperate, Player 2: Cooperate. Player 1: Cooperate, Player 2: Cooperate. Player 1: Cooperate, Player 2: Cooperate. Player 1: Cooperate, Player 2: Cooperate. Player 1: Cooperate, Player 2: Cooperate. Player 1: Cooperate, Player 2: Cooperate. Player 1:  Cooper\n"
     ]
    },
    {
     "name": "stderr",
     "output_type": "stream",
     "text": [
      "INFO:LLM_IPD:model 1 action: Cooperate\n",
      "INFO:LLM_IPD:model 2 action: Cooperate\n",
      "INFO:LLM_IPD:Round: 7\n"
     ]
    },
    {
     "name": "stdout",
     "output_type": "stream",
     "text": [
      "model  2  output:  You are playing multiple rounds of prisoner's dilemma.You are Player 2. Do you choose to 'Cooperate' or 'Defect'? Game history: . Player 2: Cooperate, Player 1: Cooperate. Player 2: Cooperate, Player 1: Cooperate. Player 2: Cooperate, Player 1: Cooperate. Player 2: Cooperate, Player 1: Cooperate. Player 2: Cooperate, Player 1: Cooperate. Player 2: Cooperate, Player 1: Cooperate. Player 2:   The\n"
     ]
    },
    {
     "name": "stderr",
     "output_type": "stream",
     "text": [
      "The attention mask and the pad token id were not set. As a consequence, you may observe unexpected behavior. Please pass your input's `attention_mask` to obtain reliable results.\n",
      "Setting `pad_token_id` to `eos_token_id`:2 for open-end generation.\n"
     ]
    },
    {
     "name": "stdout",
     "output_type": "stream",
     "text": [
      "model  1  output:  You are playing multiple rounds of prisoner's dilemma.You are Player 1. Do you choose to 'Cooperate' or 'Defect'? Game history: . Player 1: Cooperate, Player 2: Cooperate. Player 1: Cooperate, Player 2: Cooperate. Player 1: Cooperate, Player 2: Cooperate. Player 1: Cooperate, Player 2: Cooperate. Player 1: Cooperate, Player 2: Cooperate. Player 1: Cooperate, Player 2: Cooperate. Player 1: Cooperate, Player 2: Cooperate. Player 1:  Cooper\n"
     ]
    },
    {
     "name": "stderr",
     "output_type": "stream",
     "text": [
      "INFO:LLM_IPD:model 1 action: Cooperate\n",
      "INFO:LLM_IPD:model 2 action: Cooperate\n",
      "INFO:LLM_IPD:Round: 8\n"
     ]
    },
    {
     "name": "stdout",
     "output_type": "stream",
     "text": [
      "model  2  output:  You are playing multiple rounds of prisoner's dilemma.You are Player 2. Do you choose to 'Cooperate' or 'Defect'? Game history: . Player 2: Cooperate, Player 1: Cooperate. Player 2: Cooperate, Player 1: Cooperate. Player 2: Cooperate, Player 1: Cooperate. Player 2: Cooperate, Player 1: Cooperate. Player 2: Cooperate, Player 1: Cooperate. Player 2: Cooperate, Player 1: Cooperate. Player 2: Cooperate, Player 1: Cooperate. Player 2:   Cooper\n"
     ]
    },
    {
     "name": "stderr",
     "output_type": "stream",
     "text": [
      "The attention mask and the pad token id were not set. As a consequence, you may observe unexpected behavior. Please pass your input's `attention_mask` to obtain reliable results.\n",
      "Setting `pad_token_id` to `eos_token_id`:2 for open-end generation.\n"
     ]
    },
    {
     "name": "stdout",
     "output_type": "stream",
     "text": [
      "model  1  output:  You are playing multiple rounds of prisoner's dilemma.You are Player 1. Do you choose to 'Cooperate' or 'Defect'? Game history: . Player 1: Cooperate, Player 2: Cooperate. Player 1: Cooperate, Player 2: Cooperate. Player 1: Cooperate, Player 2: Cooperate. Player 1: Cooperate, Player 2: Cooperate. Player 1: Cooperate, Player 2: Cooperate. Player 1: Cooperate, Player 2: Cooperate. Player 1: Cooperate, Player 2: Cooperate. Player 1: Cooperate, Player 2: Cooperate. Player 1:  Cooper\n"
     ]
    },
    {
     "name": "stderr",
     "output_type": "stream",
     "text": [
      "INFO:LLM_IPD:model 1 action: Cooperate\n",
      "INFO:LLM_IPD:model 2 action: Cooperate\n",
      "INFO:LLM_IPD:Round: 9\n"
     ]
    },
    {
     "name": "stdout",
     "output_type": "stream",
     "text": [
      "model  2  output:  You are playing multiple rounds of prisoner's dilemma.You are Player 2. Do you choose to 'Cooperate' or 'Defect'? Game history: . Player 2: Cooperate, Player 1: Cooperate. Player 2: Cooperate, Player 1: Cooperate. Player 2: Cooperate, Player 1: Cooperate. Player 2: Cooperate, Player 1: Cooperate. Player 2: Cooperate, Player 1: Cooperate. Player 2: Cooperate, Player 1: Cooperate. Player 2: Cooperate, Player 1: Cooperate. Player 2: Cooperate, Player 1: Cooperate. Player 2:   Cooper\n"
     ]
    },
    {
     "name": "stderr",
     "output_type": "stream",
     "text": [
      "The attention mask and the pad token id were not set. As a consequence, you may observe unexpected behavior. Please pass your input's `attention_mask` to obtain reliable results.\n",
      "Setting `pad_token_id` to `eos_token_id`:2 for open-end generation.\n"
     ]
    },
    {
     "name": "stdout",
     "output_type": "stream",
     "text": [
      "model  1  output:  You are playing multiple rounds of prisoner's dilemma.You are Player 1. Do you choose to 'Cooperate' or 'Defect'? Game history: . Player 1: Cooperate, Player 2: Cooperate. Player 1: Cooperate, Player 2: Cooperate. Player 1: Cooperate, Player 2: Cooperate. Player 1: Cooperate, Player 2: Cooperate. Player 1: Cooperate, Player 2: Cooperate. Player 1: Cooperate, Player 2: Cooperate. Player 1: Cooperate, Player 2: Cooperate. Player 1: Cooperate, Player 2: Cooperate. Player 1: Cooperate, Player 2: Cooperate. Player 1:  Cooper\n"
     ]
    },
    {
     "name": "stderr",
     "output_type": "stream",
     "text": [
      "INFO:LLM_IPD:model 1 action: Cooperate\n",
      "INFO:LLM_IPD:model 2 action: Cooperate\n",
      "INFO:LLM_IPD:Round: 10\n"
     ]
    },
    {
     "name": "stdout",
     "output_type": "stream",
     "text": [
      "model  2  output:  You are playing multiple rounds of prisoner's dilemma.You are Player 2. Do you choose to 'Cooperate' or 'Defect'? Game history: . Player 2: Cooperate, Player 1: Cooperate. Player 2: Cooperate, Player 1: Cooperate. Player 2: Cooperate, Player 1: Cooperate. Player 2: Cooperate, Player 1: Cooperate. Player 2: Cooperate, Player 1: Cooperate. Player 2: Cooperate, Player 1: Cooperate. Player 2: Cooperate, Player 1: Cooperate. Player 2: Cooperate, Player 1: Cooperate. Player 2: Cooperate, Player 1: Cooperate. Player 2:   Cooper\n"
     ]
    },
    {
     "name": "stderr",
     "output_type": "stream",
     "text": [
      "The attention mask and the pad token id were not set. As a consequence, you may observe unexpected behavior. Please pass your input's `attention_mask` to obtain reliable results.\n",
      "Setting `pad_token_id` to `eos_token_id`:2 for open-end generation.\n"
     ]
    },
    {
     "name": "stdout",
     "output_type": "stream",
     "text": [
      "model  1  output:  You are playing multiple rounds of prisoner's dilemma.You are Player 1. Do you choose to 'Cooperate' or 'Defect'? Game history: . Player 1: Cooperate, Player 2: Cooperate. Player 1: Cooperate, Player 2: Cooperate. Player 1: Cooperate, Player 2: Cooperate. Player 1: Cooperate, Player 2: Cooperate. Player 1: Cooperate, Player 2: Cooperate. Player 1: Cooperate, Player 2: Cooperate. Player 1: Cooperate, Player 2: Cooperate. Player 1: Cooperate, Player 2: Cooperate. Player 1: Cooperate, Player 2: Cooperate. Player 1: Cooperate, Player 2: Cooperate. Player 1:  Cooper\n"
     ]
    },
    {
     "name": "stderr",
     "output_type": "stream",
     "text": [
      "INFO:LLM_IPD:model 1 action: Cooperate\n",
      "INFO:LLM_IPD:model 2 action: Cooperate\n",
      "INFO:LLM_IPD:Round: 11\n"
     ]
    },
    {
     "name": "stdout",
     "output_type": "stream",
     "text": [
      "model  2  output:  You are playing multiple rounds of prisoner's dilemma.You are Player 2. Do you choose to 'Cooperate' or 'Defect'? Game history: . Player 2: Cooperate, Player 1: Cooperate. Player 2: Cooperate, Player 1: Cooperate. Player 2: Cooperate, Player 1: Cooperate. Player 2: Cooperate, Player 1: Cooperate. Player 2: Cooperate, Player 1: Cooperate. Player 2: Cooperate, Player 1: Cooperate. Player 2: Cooperate, Player 1: Cooperate. Player 2: Cooperate, Player 1: Cooperate. Player 2: Cooperate, Player 1: Cooperate. Player 2: Cooperate, Player 1: Cooperate. Player 2:   Cooper\n"
     ]
    },
    {
     "name": "stderr",
     "output_type": "stream",
     "text": [
      "The attention mask and the pad token id were not set. As a consequence, you may observe unexpected behavior. Please pass your input's `attention_mask` to obtain reliable results.\n",
      "Setting `pad_token_id` to `eos_token_id`:2 for open-end generation.\n"
     ]
    },
    {
     "name": "stdout",
     "output_type": "stream",
     "text": [
      "model  1  output:  You are playing multiple rounds of prisoner's dilemma.You are Player 1. Do you choose to 'Cooperate' or 'Defect'? Game history: . Player 1: Cooperate, Player 2: Cooperate. Player 1: Cooperate, Player 2: Cooperate. Player 1: Cooperate, Player 2: Cooperate. Player 1: Cooperate, Player 2: Cooperate. Player 1: Cooperate, Player 2: Cooperate. Player 1: Cooperate, Player 2: Cooperate. Player 1: Cooperate, Player 2: Cooperate. Player 1: Cooperate, Player 2: Cooperate. Player 1: Cooperate, Player 2: Cooperate. Player 1: Cooperate, Player 2: Cooperate. Player 1: Cooperate, Player 2: Cooperate. Player 1:  Cooper\n"
     ]
    },
    {
     "name": "stderr",
     "output_type": "stream",
     "text": [
      "INFO:LLM_IPD:model 1 action: Cooperate\n",
      "INFO:LLM_IPD:model 2 action: Cooperate\n",
      "INFO:LLM_IPD:Round: 12\n"
     ]
    },
    {
     "name": "stdout",
     "output_type": "stream",
     "text": [
      "model  2  output:  You are playing multiple rounds of prisoner's dilemma.You are Player 2. Do you choose to 'Cooperate' or 'Defect'? Game history: . Player 2: Cooperate, Player 1: Cooperate. Player 2: Cooperate, Player 1: Cooperate. Player 2: Cooperate, Player 1: Cooperate. Player 2: Cooperate, Player 1: Cooperate. Player 2: Cooperate, Player 1: Cooperate. Player 2: Cooperate, Player 1: Cooperate. Player 2: Cooperate, Player 1: Cooperate. Player 2: Cooperate, Player 1: Cooperate. Player 2: Cooperate, Player 1: Cooperate. Player 2: Cooperate, Player 1: Cooperate. Player 2: Cooperate, Player 1: Cooperate. Player 2:   Cooper\n"
     ]
    },
    {
     "name": "stderr",
     "output_type": "stream",
     "text": [
      "The attention mask and the pad token id were not set. As a consequence, you may observe unexpected behavior. Please pass your input's `attention_mask` to obtain reliable results.\n",
      "Setting `pad_token_id` to `eos_token_id`:2 for open-end generation.\n"
     ]
    },
    {
     "name": "stdout",
     "output_type": "stream",
     "text": [
      "model  1  output:  You are playing multiple rounds of prisoner's dilemma.You are Player 1. Do you choose to 'Cooperate' or 'Defect'? Game history: . Player 1: Cooperate, Player 2: Cooperate. Player 1: Cooperate, Player 2: Cooperate. Player 1: Cooperate, Player 2: Cooperate. Player 1: Cooperate, Player 2: Cooperate. Player 1: Cooperate, Player 2: Cooperate. Player 1: Cooperate, Player 2: Cooperate. Player 1: Cooperate, Player 2: Cooperate. Player 1: Cooperate, Player 2: Cooperate. Player 1: Cooperate, Player 2: Cooperate. Player 1: Cooperate, Player 2: Cooperate. Player 1: Cooperate, Player 2: Cooperate. Player 1: Cooperate, Player 2: Cooperate. Player 1:  Cooper\n"
     ]
    },
    {
     "name": "stderr",
     "output_type": "stream",
     "text": [
      "INFO:LLM_IPD:model 1 action: Cooperate\n",
      "INFO:LLM_IPD:model 2 action: Cooperate\n",
      "INFO:LLM_IPD:Round: 13\n"
     ]
    },
    {
     "name": "stdout",
     "output_type": "stream",
     "text": [
      "model  2  output:  You are playing multiple rounds of prisoner's dilemma.You are Player 2. Do you choose to 'Cooperate' or 'Defect'? Game history: . Player 2: Cooperate, Player 1: Cooperate. Player 2: Cooperate, Player 1: Cooperate. Player 2: Cooperate, Player 1: Cooperate. Player 2: Cooperate, Player 1: Cooperate. Player 2: Cooperate, Player 1: Cooperate. Player 2: Cooperate, Player 1: Cooperate. Player 2: Cooperate, Player 1: Cooperate. Player 2: Cooperate, Player 1: Cooperate. Player 2: Cooperate, Player 1: Cooperate. Player 2: Cooperate, Player 1: Cooperate. Player 2: Cooperate, Player 1: Cooperate. Player 2: Cooperate, Player 1: Cooperate. Player 2:   Cooper\n"
     ]
    },
    {
     "name": "stderr",
     "output_type": "stream",
     "text": [
      "The attention mask and the pad token id were not set. As a consequence, you may observe unexpected behavior. Please pass your input's `attention_mask` to obtain reliable results.\n",
      "Setting `pad_token_id` to `eos_token_id`:2 for open-end generation.\n"
     ]
    },
    {
     "name": "stdout",
     "output_type": "stream",
     "text": [
      "model  1  output:  You are playing multiple rounds of prisoner's dilemma.You are Player 1. Do you choose to 'Cooperate' or 'Defect'? Game history: . Player 1: Cooperate, Player 2: Cooperate. Player 1: Cooperate, Player 2: Cooperate. Player 1: Cooperate, Player 2: Cooperate. Player 1: Cooperate, Player 2: Cooperate. Player 1: Cooperate, Player 2: Cooperate. Player 1: Cooperate, Player 2: Cooperate. Player 1: Cooperate, Player 2: Cooperate. Player 1: Cooperate, Player 2: Cooperate. Player 1: Cooperate, Player 2: Cooperate. Player 1: Cooperate, Player 2: Cooperate. Player 1: Cooperate, Player 2: Cooperate. Player 1: Cooperate, Player 2: Cooperate. Player 1: Cooperate, Player 2: Cooperate. Player 1:  Cooper\n"
     ]
    },
    {
     "name": "stderr",
     "output_type": "stream",
     "text": [
      "INFO:LLM_IPD:model 1 action: Cooperate\n",
      "INFO:LLM_IPD:model 2 action: Cooperate\n",
      "INFO:LLM_IPD:Round: 14\n"
     ]
    },
    {
     "name": "stdout",
     "output_type": "stream",
     "text": [
      "model  2  output:  You are playing multiple rounds of prisoner's dilemma.You are Player 2. Do you choose to 'Cooperate' or 'Defect'? Game history: . Player 2: Cooperate, Player 1: Cooperate. Player 2: Cooperate, Player 1: Cooperate. Player 2: Cooperate, Player 1: Cooperate. Player 2: Cooperate, Player 1: Cooperate. Player 2: Cooperate, Player 1: Cooperate. Player 2: Cooperate, Player 1: Cooperate. Player 2: Cooperate, Player 1: Cooperate. Player 2: Cooperate, Player 1: Cooperate. Player 2: Cooperate, Player 1: Cooperate. Player 2: Cooperate, Player 1: Cooperate. Player 2: Cooperate, Player 1: Cooperate. Player 2: Cooperate, Player 1: Cooperate. Player 2: Cooperate, Player 1: Cooperate. Player 2:   Cooper\n"
     ]
    },
    {
     "name": "stderr",
     "output_type": "stream",
     "text": [
      "The attention mask and the pad token id were not set. As a consequence, you may observe unexpected behavior. Please pass your input's `attention_mask` to obtain reliable results.\n",
      "Setting `pad_token_id` to `eos_token_id`:2 for open-end generation.\n"
     ]
    },
    {
     "name": "stdout",
     "output_type": "stream",
     "text": [
      "model  1  output:  You are playing multiple rounds of prisoner's dilemma.You are Player 1. Do you choose to 'Cooperate' or 'Defect'? Game history: . Player 1: Cooperate, Player 2: Cooperate. Player 1: Cooperate, Player 2: Cooperate. Player 1: Cooperate, Player 2: Cooperate. Player 1: Cooperate, Player 2: Cooperate. Player 1: Cooperate, Player 2: Cooperate. Player 1: Cooperate, Player 2: Cooperate. Player 1: Cooperate, Player 2: Cooperate. Player 1: Cooperate, Player 2: Cooperate. Player 1: Cooperate, Player 2: Cooperate. Player 1: Cooperate, Player 2: Cooperate. Player 1: Cooperate, Player 2: Cooperate. Player 1: Cooperate, Player 2: Cooperate. Player 1: Cooperate, Player 2: Cooperate. Player 1: Cooperate, Player 2: Cooperate. Player 1:  Cooper\n"
     ]
    },
    {
     "name": "stderr",
     "output_type": "stream",
     "text": [
      "INFO:LLM_IPD:model 1 action: Cooperate\n",
      "INFO:LLM_IPD:model 2 action: Cooperate\n",
      "INFO:LLM_IPD:Round: 15\n"
     ]
    },
    {
     "name": "stdout",
     "output_type": "stream",
     "text": [
      "model  2  output:  You are playing multiple rounds of prisoner's dilemma.You are Player 2. Do you choose to 'Cooperate' or 'Defect'? Game history: . Player 2: Cooperate, Player 1: Cooperate. Player 2: Cooperate, Player 1: Cooperate. Player 2: Cooperate, Player 1: Cooperate. Player 2: Cooperate, Player 1: Cooperate. Player 2: Cooperate, Player 1: Cooperate. Player 2: Cooperate, Player 1: Cooperate. Player 2: Cooperate, Player 1: Cooperate. Player 2: Cooperate, Player 1: Cooperate. Player 2: Cooperate, Player 1: Cooperate. Player 2: Cooperate, Player 1: Cooperate. Player 2: Cooperate, Player 1: Cooperate. Player 2: Cooperate, Player 1: Cooperate. Player 2: Cooperate, Player 1: Cooperate. Player 2: Cooperate, Player 1: Cooperate. Player 2:   Cooper\n"
     ]
    },
    {
     "name": "stderr",
     "output_type": "stream",
     "text": [
      "The attention mask and the pad token id were not set. As a consequence, you may observe unexpected behavior. Please pass your input's `attention_mask` to obtain reliable results.\n",
      "Setting `pad_token_id` to `eos_token_id`:2 for open-end generation.\n"
     ]
    },
    {
     "name": "stdout",
     "output_type": "stream",
     "text": [
      "model  1  output:  You are playing multiple rounds of prisoner's dilemma.You are Player 1. Do you choose to 'Cooperate' or 'Defect'? Game history: . Player 1: Cooperate, Player 2: Cooperate. Player 1: Cooperate, Player 2: Cooperate. Player 1: Cooperate, Player 2: Cooperate. Player 1: Cooperate, Player 2: Cooperate. Player 1: Cooperate, Player 2: Cooperate. Player 1: Cooperate, Player 2: Cooperate. Player 1: Cooperate, Player 2: Cooperate. Player 1: Cooperate, Player 2: Cooperate. Player 1: Cooperate, Player 2: Cooperate. Player 1: Cooperate, Player 2: Cooperate. Player 1: Cooperate, Player 2: Cooperate. Player 1: Cooperate, Player 2: Cooperate. Player 1: Cooperate, Player 2: Cooperate. Player 1: Cooperate, Player 2: Cooperate. Player 1: Cooperate, Player 2: Cooperate. Player 1:  Cooper\n"
     ]
    },
    {
     "name": "stderr",
     "output_type": "stream",
     "text": [
      "INFO:LLM_IPD:model 1 action: Cooperate\n",
      "INFO:LLM_IPD:model 2 action: Cooperate\n",
      "INFO:LLM_IPD:Round: 16\n"
     ]
    },
    {
     "name": "stdout",
     "output_type": "stream",
     "text": [
      "model  2  output:  You are playing multiple rounds of prisoner's dilemma.You are Player 2. Do you choose to 'Cooperate' or 'Defect'? Game history: . Player 2: Cooperate, Player 1: Cooperate. Player 2: Cooperate, Player 1: Cooperate. Player 2: Cooperate, Player 1: Cooperate. Player 2: Cooperate, Player 1: Cooperate. Player 2: Cooperate, Player 1: Cooperate. Player 2: Cooperate, Player 1: Cooperate. Player 2: Cooperate, Player 1: Cooperate. Player 2: Cooperate, Player 1: Cooperate. Player 2: Cooperate, Player 1: Cooperate. Player 2: Cooperate, Player 1: Cooperate. Player 2: Cooperate, Player 1: Cooperate. Player 2: Cooperate, Player 1: Cooperate. Player 2: Cooperate, Player 1: Cooperate. Player 2: Cooperate, Player 1: Cooperate. Player 2: Cooperate, Player 1: Cooperate. Player 2:   Cooper\n"
     ]
    },
    {
     "name": "stderr",
     "output_type": "stream",
     "text": [
      "The attention mask and the pad token id were not set. As a consequence, you may observe unexpected behavior. Please pass your input's `attention_mask` to obtain reliable results.\n",
      "Setting `pad_token_id` to `eos_token_id`:2 for open-end generation.\n"
     ]
    },
    {
     "name": "stdout",
     "output_type": "stream",
     "text": [
      "model  1  output:  You are playing multiple rounds of prisoner's dilemma.You are Player 1. Do you choose to 'Cooperate' or 'Defect'? Game history: . Player 1: Cooperate, Player 2: Cooperate. Player 1: Cooperate, Player 2: Cooperate. Player 1: Cooperate, Player 2: Cooperate. Player 1: Cooperate, Player 2: Cooperate. Player 1: Cooperate, Player 2: Cooperate. Player 1: Cooperate, Player 2: Cooperate. Player 1: Cooperate, Player 2: Cooperate. Player 1: Cooperate, Player 2: Cooperate. Player 1: Cooperate, Player 2: Cooperate. Player 1: Cooperate, Player 2: Cooperate. Player 1: Cooperate, Player 2: Cooperate. Player 1: Cooperate, Player 2: Cooperate. Player 1: Cooperate, Player 2: Cooperate. Player 1: Cooperate, Player 2: Cooperate. Player 1: Cooperate, Player 2: Cooperate. Player 1: Cooperate, Player 2: Cooperate. Player 1:  Cooper\n"
     ]
    },
    {
     "name": "stderr",
     "output_type": "stream",
     "text": [
      "INFO:LLM_IPD:model 1 action: Cooperate\n",
      "INFO:LLM_IPD:model 2 action: Cooperate\n",
      "INFO:LLM_IPD:Round: 17\n"
     ]
    },
    {
     "name": "stdout",
     "output_type": "stream",
     "text": [
      "model  2  output:  You are playing multiple rounds of prisoner's dilemma.You are Player 2. Do you choose to 'Cooperate' or 'Defect'? Game history: . Player 2: Cooperate, Player 1: Cooperate. Player 2: Cooperate, Player 1: Cooperate. Player 2: Cooperate, Player 1: Cooperate. Player 2: Cooperate, Player 1: Cooperate. Player 2: Cooperate, Player 1: Cooperate. Player 2: Cooperate, Player 1: Cooperate. Player 2: Cooperate, Player 1: Cooperate. Player 2: Cooperate, Player 1: Cooperate. Player 2: Cooperate, Player 1: Cooperate. Player 2: Cooperate, Player 1: Cooperate. Player 2: Cooperate, Player 1: Cooperate. Player 2: Cooperate, Player 1: Cooperate. Player 2: Cooperate, Player 1: Cooperate. Player 2: Cooperate, Player 1: Cooperate. Player 2: Cooperate, Player 1: Cooperate. Player 2: Cooperate, Player 1: Cooperate. Player 2:   Cooper\n"
     ]
    },
    {
     "name": "stderr",
     "output_type": "stream",
     "text": [
      "The attention mask and the pad token id were not set. As a consequence, you may observe unexpected behavior. Please pass your input's `attention_mask` to obtain reliable results.\n",
      "Setting `pad_token_id` to `eos_token_id`:2 for open-end generation.\n"
     ]
    },
    {
     "name": "stdout",
     "output_type": "stream",
     "text": [
      "model  1  output:  You are playing multiple rounds of prisoner's dilemma.You are Player 1. Do you choose to 'Cooperate' or 'Defect'? Game history: . Player 1: Cooperate, Player 2: Cooperate. Player 1: Cooperate, Player 2: Cooperate. Player 1: Cooperate, Player 2: Cooperate. Player 1: Cooperate, Player 2: Cooperate. Player 1: Cooperate, Player 2: Cooperate. Player 1: Cooperate, Player 2: Cooperate. Player 1: Cooperate, Player 2: Cooperate. Player 1: Cooperate, Player 2: Cooperate. Player 1: Cooperate, Player 2: Cooperate. Player 1: Cooperate, Player 2: Cooperate. Player 1: Cooperate, Player 2: Cooperate. Player 1: Cooperate, Player 2: Cooperate. Player 1: Cooperate, Player 2: Cooperate. Player 1: Cooperate, Player 2: Cooperate. Player 1: Cooperate, Player 2: Cooperate. Player 1: Cooperate, Player 2: Cooperate. Player 1: Cooperate, Player 2: Cooperate. Player 1:  Cooper\n"
     ]
    },
    {
     "name": "stderr",
     "output_type": "stream",
     "text": [
      "INFO:LLM_IPD:model 1 action: Cooperate\n",
      "INFO:LLM_IPD:model 2 action: Cooperate\n",
      "INFO:LLM_IPD:Round: 18\n"
     ]
    },
    {
     "name": "stdout",
     "output_type": "stream",
     "text": [
      "model  2  output:  You are playing multiple rounds of prisoner's dilemma.You are Player 2. Do you choose to 'Cooperate' or 'Defect'? Game history: . Player 2: Cooperate, Player 1: Cooperate. Player 2: Cooperate, Player 1: Cooperate. Player 2: Cooperate, Player 1: Cooperate. Player 2: Cooperate, Player 1: Cooperate. Player 2: Cooperate, Player 1: Cooperate. Player 2: Cooperate, Player 1: Cooperate. Player 2: Cooperate, Player 1: Cooperate. Player 2: Cooperate, Player 1: Cooperate. Player 2: Cooperate, Player 1: Cooperate. Player 2: Cooperate, Player 1: Cooperate. Player 2: Cooperate, Player 1: Cooperate. Player 2: Cooperate, Player 1: Cooperate. Player 2: Cooperate, Player 1: Cooperate. Player 2: Cooperate, Player 1: Cooperate. Player 2: Cooperate, Player 1: Cooperate. Player 2: Cooperate, Player 1: Cooperate. Player 2: Cooperate, Player 1: Cooperate. Player 2:   Cooper\n"
     ]
    },
    {
     "name": "stderr",
     "output_type": "stream",
     "text": [
      "The attention mask and the pad token id were not set. As a consequence, you may observe unexpected behavior. Please pass your input's `attention_mask` to obtain reliable results.\n",
      "Setting `pad_token_id` to `eos_token_id`:2 for open-end generation.\n"
     ]
    },
    {
     "name": "stdout",
     "output_type": "stream",
     "text": [
      "model  1  output:  You are playing multiple rounds of prisoner's dilemma.You are Player 1. Do you choose to 'Cooperate' or 'Defect'? Game history: . Player 1: Cooperate, Player 2: Cooperate. Player 1: Cooperate, Player 2: Cooperate. Player 1: Cooperate, Player 2: Cooperate. Player 1: Cooperate, Player 2: Cooperate. Player 1: Cooperate, Player 2: Cooperate. Player 1: Cooperate, Player 2: Cooperate. Player 1: Cooperate, Player 2: Cooperate. Player 1: Cooperate, Player 2: Cooperate. Player 1: Cooperate, Player 2: Cooperate. Player 1: Cooperate, Player 2: Cooperate. Player 1: Cooperate, Player 2: Cooperate. Player 1: Cooperate, Player 2: Cooperate. Player 1: Cooperate, Player 2: Cooperate. Player 1: Cooperate, Player 2: Cooperate. Player 1: Cooperate, Player 2: Cooperate. Player 1: Cooperate, Player 2: Cooperate. Player 1: Cooperate, Player 2: Cooperate. Player 1: Cooperate, Player 2: Cooperate. Player 1:  Cooper\n"
     ]
    },
    {
     "name": "stderr",
     "output_type": "stream",
     "text": [
      "INFO:LLM_IPD:model 1 action: Cooperate\n",
      "INFO:LLM_IPD:model 2 action: Cooperate\n",
      "INFO:LLM_IPD:Round: 19\n"
     ]
    },
    {
     "name": "stdout",
     "output_type": "stream",
     "text": [
      "model  2  output:  You are playing multiple rounds of prisoner's dilemma.You are Player 2. Do you choose to 'Cooperate' or 'Defect'? Game history: . Player 2: Cooperate, Player 1: Cooperate. Player 2: Cooperate, Player 1: Cooperate. Player 2: Cooperate, Player 1: Cooperate. Player 2: Cooperate, Player 1: Cooperate. Player 2: Cooperate, Player 1: Cooperate. Player 2: Cooperate, Player 1: Cooperate. Player 2: Cooperate, Player 1: Cooperate. Player 2: Cooperate, Player 1: Cooperate. Player 2: Cooperate, Player 1: Cooperate. Player 2: Cooperate, Player 1: Cooperate. Player 2: Cooperate, Player 1: Cooperate. Player 2: Cooperate, Player 1: Cooperate. Player 2: Cooperate, Player 1: Cooperate. Player 2: Cooperate, Player 1: Cooperate. Player 2: Cooperate, Player 1: Cooperate. Player 2: Cooperate, Player 1: Cooperate. Player 2: Cooperate, Player 1: Cooperate. Player 2: Cooperate, Player 1: Cooperate. Player 2:   Cooper\n"
     ]
    },
    {
     "name": "stderr",
     "output_type": "stream",
     "text": [
      "The attention mask and the pad token id were not set. As a consequence, you may observe unexpected behavior. Please pass your input's `attention_mask` to obtain reliable results.\n",
      "Setting `pad_token_id` to `eos_token_id`:2 for open-end generation.\n"
     ]
    },
    {
     "name": "stdout",
     "output_type": "stream",
     "text": [
      "model  1  output:  You are playing multiple rounds of prisoner's dilemma.You are Player 1. Do you choose to 'Cooperate' or 'Defect'? Game history: . Player 1: Cooperate, Player 2: Cooperate. Player 1: Cooperate, Player 2: Cooperate. Player 1: Cooperate, Player 2: Cooperate. Player 1: Cooperate, Player 2: Cooperate. Player 1: Cooperate, Player 2: Cooperate. Player 1: Cooperate, Player 2: Cooperate. Player 1: Cooperate, Player 2: Cooperate. Player 1: Cooperate, Player 2: Cooperate. Player 1: Cooperate, Player 2: Cooperate. Player 1: Cooperate, Player 2: Cooperate. Player 1: Cooperate, Player 2: Cooperate. Player 1: Cooperate, Player 2: Cooperate. Player 1: Cooperate, Player 2: Cooperate. Player 1: Cooperate, Player 2: Cooperate. Player 1: Cooperate, Player 2: Cooperate. Player 1: Cooperate, Player 2: Cooperate. Player 1: Cooperate, Player 2: Cooperate. Player 1: Cooperate, Player 2: Cooperate. Player 1: Cooperate, Player 2: Cooperate. Player 1:  Cooper\n"
     ]
    },
    {
     "name": "stderr",
     "output_type": "stream",
     "text": [
      "INFO:LLM_IPD:model 1 action: Cooperate\n",
      "INFO:LLM_IPD:model 2 action: Cooperate\n",
      "INFO:LLM_IPD:Game: 6\n",
      "INFO:LLM_IPD:Round: 0\n"
     ]
    },
    {
     "name": "stdout",
     "output_type": "stream",
     "text": [
      "model  2  output:  You are playing multiple rounds of prisoner's dilemma.You are Player 2. Do you choose to 'Cooperate' or 'Defect'? Game history: . Player 2: Cooperate, Player 1: Cooperate. Player 2: Cooperate, Player 1: Cooperate. Player 2: Cooperate, Player 1: Cooperate. Player 2: Cooperate, Player 1: Cooperate. Player 2: Cooperate, Player 1: Cooperate. Player 2: Cooperate, Player 1: Cooperate. Player 2: Cooperate, Player 1: Cooperate. Player 2: Cooperate, Player 1: Cooperate. Player 2: Cooperate, Player 1: Cooperate. Player 2: Cooperate, Player 1: Cooperate. Player 2: Cooperate, Player 1: Cooperate. Player 2: Cooperate, Player 1: Cooperate. Player 2: Cooperate, Player 1: Cooperate. Player 2: Cooperate, Player 1: Cooperate. Player 2: Cooperate, Player 1: Cooperate. Player 2: Cooperate, Player 1: Cooperate. Player 2: Cooperate, Player 1: Cooperate. Player 2: Cooperate, Player 1: Cooperate. Player 2: Cooperate, Player 1: Cooperate. Player 2:   Cooper\n"
     ]
    },
    {
     "name": "stderr",
     "output_type": "stream",
     "text": [
      "The attention mask and the pad token id were not set. As a consequence, you may observe unexpected behavior. Please pass your input's `attention_mask` to obtain reliable results.\n",
      "Setting `pad_token_id` to `eos_token_id`:2 for open-end generation.\n"
     ]
    },
    {
     "name": "stdout",
     "output_type": "stream",
     "text": [
      "model  1  output:  You are playing multiple rounds of prisoner's dilemma.You are Player 1. Do you choose to 'Cooperate' or 'Defect'? Game history: . Player 1:  Cooper\n"
     ]
    },
    {
     "name": "stderr",
     "output_type": "stream",
     "text": [
      "INFO:LLM_IPD:model 1 action: Cooperate\n",
      "INFO:LLM_IPD:model 2 action: Cooperate\n",
      "INFO:LLM_IPD:Round: 1\n"
     ]
    },
    {
     "name": "stdout",
     "output_type": "stream",
     "text": [
      "model  2  output:  You are playing multiple rounds of prisoner's dilemma.You are Player 2. Do you choose to 'Cooperate' or 'Defect'? Game history: . Player 2:   Player\n"
     ]
    },
    {
     "name": "stderr",
     "output_type": "stream",
     "text": [
      "The attention mask and the pad token id were not set. As a consequence, you may observe unexpected behavior. Please pass your input's `attention_mask` to obtain reliable results.\n",
      "Setting `pad_token_id` to `eos_token_id`:2 for open-end generation.\n"
     ]
    },
    {
     "name": "stdout",
     "output_type": "stream",
     "text": [
      "model  1  output:  You are playing multiple rounds of prisoner's dilemma.You are Player 1. Do you choose to 'Cooperate' or 'Defect'? Game history: . Player 1: Cooperate, Player 2: Cooperate. Player 1:  Cooper\n"
     ]
    },
    {
     "name": "stderr",
     "output_type": "stream",
     "text": [
      "INFO:LLM_IPD:model 1 action: Cooperate\n",
      "INFO:LLM_IPD:model 2 action: Cooperate\n",
      "INFO:LLM_IPD:Round: 2\n"
     ]
    },
    {
     "name": "stdout",
     "output_type": "stream",
     "text": [
      "model  2  output:  You are playing multiple rounds of prisoner's dilemma.You are Player 2. Do you choose to 'Cooperate' or 'Defect'? Game history: . Player 2: Cooperate, Player 1: Cooperate. Player 2:  ‎\n"
     ]
    },
    {
     "name": "stderr",
     "output_type": "stream",
     "text": [
      "The attention mask and the pad token id were not set. As a consequence, you may observe unexpected behavior. Please pass your input's `attention_mask` to obtain reliable results.\n",
      "Setting `pad_token_id` to `eos_token_id`:2 for open-end generation.\n"
     ]
    },
    {
     "name": "stdout",
     "output_type": "stream",
     "text": [
      "model  1  output:  You are playing multiple rounds of prisoner's dilemma.You are Player 1. Do you choose to 'Cooperate' or 'Defect'? Game history: . Player 1: Cooperate, Player 2: Cooperate. Player 1: Cooperate, Player 2: Cooperate. Player 1:  Cooper\n"
     ]
    },
    {
     "name": "stderr",
     "output_type": "stream",
     "text": [
      "INFO:LLM_IPD:model 1 action: Cooperate\n",
      "INFO:LLM_IPD:model 2 action: Cooperate\n",
      "INFO:LLM_IPD:Round: 3\n"
     ]
    },
    {
     "name": "stdout",
     "output_type": "stream",
     "text": [
      "model  2  output:  You are playing multiple rounds of prisoner's dilemma.You are Player 2. Do you choose to 'Cooperate' or 'Defect'? Game history: . Player 2: Cooperate, Player 1: Cooperate. Player 2: Cooperate, Player 1: Cooperate. Player 2:  ‎\n"
     ]
    },
    {
     "name": "stderr",
     "output_type": "stream",
     "text": [
      "The attention mask and the pad token id were not set. As a consequence, you may observe unexpected behavior. Please pass your input's `attention_mask` to obtain reliable results.\n",
      "Setting `pad_token_id` to `eos_token_id`:2 for open-end generation.\n"
     ]
    },
    {
     "name": "stdout",
     "output_type": "stream",
     "text": [
      "model  1  output:  You are playing multiple rounds of prisoner's dilemma.You are Player 1. Do you choose to 'Cooperate' or 'Defect'? Game history: . Player 1: Cooperate, Player 2: Cooperate. Player 1: Cooperate, Player 2: Cooperate. Player 1: Cooperate, Player 2: Cooperate. Player 1:  Cooper\n"
     ]
    },
    {
     "name": "stderr",
     "output_type": "stream",
     "text": [
      "INFO:LLM_IPD:model 1 action: Cooperate\n",
      "INFO:LLM_IPD:model 2 action: Cooperate\n",
      "INFO:LLM_IPD:Round: 4\n"
     ]
    },
    {
     "name": "stdout",
     "output_type": "stream",
     "text": [
      "model  2  output:  You are playing multiple rounds of prisoner's dilemma.You are Player 2. Do you choose to 'Cooperate' or 'Defect'? Game history: . Player 2: Cooperate, Player 1: Cooperate. Player 2: Cooperate, Player 1: Cooperate. Player 2: Cooperate, Player 1: Cooperate. Player 2:  ‎\n"
     ]
    },
    {
     "name": "stderr",
     "output_type": "stream",
     "text": [
      "The attention mask and the pad token id were not set. As a consequence, you may observe unexpected behavior. Please pass your input's `attention_mask` to obtain reliable results.\n",
      "Setting `pad_token_id` to `eos_token_id`:2 for open-end generation.\n"
     ]
    },
    {
     "name": "stdout",
     "output_type": "stream",
     "text": [
      "model  1  output:  You are playing multiple rounds of prisoner's dilemma.You are Player 1. Do you choose to 'Cooperate' or 'Defect'? Game history: . Player 1: Cooperate, Player 2: Cooperate. Player 1: Cooperate, Player 2: Cooperate. Player 1: Cooperate, Player 2: Cooperate. Player 1: Cooperate, Player 2: Cooperate. Player 1:  Cooper\n"
     ]
    },
    {
     "name": "stderr",
     "output_type": "stream",
     "text": [
      "INFO:LLM_IPD:model 1 action: Cooperate\n",
      "INFO:LLM_IPD:model 2 action: Cooperate\n",
      "INFO:LLM_IPD:Round: 5\n"
     ]
    },
    {
     "name": "stdout",
     "output_type": "stream",
     "text": [
      "model  2  output:  You are playing multiple rounds of prisoner's dilemma.You are Player 2. Do you choose to 'Cooperate' or 'Defect'? Game history: . Player 2: Cooperate, Player 1: Cooperate. Player 2: Cooperate, Player 1: Cooperate. Player 2: Cooperate, Player 1: Cooperate. Player 2: Cooperate, Player 1: Cooperate. Player 2:  ‎\n"
     ]
    },
    {
     "name": "stderr",
     "output_type": "stream",
     "text": [
      "The attention mask and the pad token id were not set. As a consequence, you may observe unexpected behavior. Please pass your input's `attention_mask` to obtain reliable results.\n",
      "Setting `pad_token_id` to `eos_token_id`:2 for open-end generation.\n"
     ]
    },
    {
     "name": "stdout",
     "output_type": "stream",
     "text": [
      "model  1  output:  You are playing multiple rounds of prisoner's dilemma.You are Player 1. Do you choose to 'Cooperate' or 'Defect'? Game history: . Player 1: Cooperate, Player 2: Cooperate. Player 1: Cooperate, Player 2: Cooperate. Player 1: Cooperate, Player 2: Cooperate. Player 1: Cooperate, Player 2: Cooperate. Player 1: Cooperate, Player 2: Cooperate. Player 1:  Cooper\n"
     ]
    },
    {
     "name": "stderr",
     "output_type": "stream",
     "text": [
      "INFO:LLM_IPD:model 1 action: Cooperate\n",
      "INFO:LLM_IPD:model 2 action: Cooperate\n",
      "INFO:LLM_IPD:Round: 6\n"
     ]
    },
    {
     "name": "stdout",
     "output_type": "stream",
     "text": [
      "model  2  output:  You are playing multiple rounds of prisoner's dilemma.You are Player 2. Do you choose to 'Cooperate' or 'Defect'? Game history: . Player 2: Cooperate, Player 1: Cooperate. Player 2: Cooperate, Player 1: Cooperate. Player 2: Cooperate, Player 1: Cooperate. Player 2: Cooperate, Player 1: Cooperate. Player 2: Cooperate, Player 1: Cooperate. Player 2:   The\n"
     ]
    },
    {
     "name": "stderr",
     "output_type": "stream",
     "text": [
      "The attention mask and the pad token id were not set. As a consequence, you may observe unexpected behavior. Please pass your input's `attention_mask` to obtain reliable results.\n",
      "Setting `pad_token_id` to `eos_token_id`:2 for open-end generation.\n"
     ]
    },
    {
     "name": "stdout",
     "output_type": "stream",
     "text": [
      "model  1  output:  You are playing multiple rounds of prisoner's dilemma.You are Player 1. Do you choose to 'Cooperate' or 'Defect'? Game history: . Player 1: Cooperate, Player 2: Cooperate. Player 1: Cooperate, Player 2: Cooperate. Player 1: Cooperate, Player 2: Cooperate. Player 1: Cooperate, Player 2: Cooperate. Player 1: Cooperate, Player 2: Cooperate. Player 1: Cooperate, Player 2: Cooperate. Player 1:  Cooper\n"
     ]
    },
    {
     "name": "stderr",
     "output_type": "stream",
     "text": [
      "INFO:LLM_IPD:model 1 action: Cooperate\n",
      "INFO:LLM_IPD:model 2 action: Cooperate\n",
      "INFO:LLM_IPD:Round: 7\n"
     ]
    },
    {
     "name": "stdout",
     "output_type": "stream",
     "text": [
      "model  2  output:  You are playing multiple rounds of prisoner's dilemma.You are Player 2. Do you choose to 'Cooperate' or 'Defect'? Game history: . Player 2: Cooperate, Player 1: Cooperate. Player 2: Cooperate, Player 1: Cooperate. Player 2: Cooperate, Player 1: Cooperate. Player 2: Cooperate, Player 1: Cooperate. Player 2: Cooperate, Player 1: Cooperate. Player 2: Cooperate, Player 1: Cooperate. Player 2:   The\n"
     ]
    },
    {
     "name": "stderr",
     "output_type": "stream",
     "text": [
      "The attention mask and the pad token id were not set. As a consequence, you may observe unexpected behavior. Please pass your input's `attention_mask` to obtain reliable results.\n",
      "Setting `pad_token_id` to `eos_token_id`:2 for open-end generation.\n"
     ]
    },
    {
     "name": "stdout",
     "output_type": "stream",
     "text": [
      "model  1  output:  You are playing multiple rounds of prisoner's dilemma.You are Player 1. Do you choose to 'Cooperate' or 'Defect'? Game history: . Player 1: Cooperate, Player 2: Cooperate. Player 1: Cooperate, Player 2: Cooperate. Player 1: Cooperate, Player 2: Cooperate. Player 1: Cooperate, Player 2: Cooperate. Player 1: Cooperate, Player 2: Cooperate. Player 1: Cooperate, Player 2: Cooperate. Player 1: Cooperate, Player 2: Cooperate. Player 1:  Cooper\n"
     ]
    },
    {
     "name": "stderr",
     "output_type": "stream",
     "text": [
      "INFO:LLM_IPD:model 1 action: Cooperate\n",
      "INFO:LLM_IPD:model 2 action: Cooperate\n",
      "INFO:LLM_IPD:Round: 8\n"
     ]
    },
    {
     "name": "stdout",
     "output_type": "stream",
     "text": [
      "model  2  output:  You are playing multiple rounds of prisoner's dilemma.You are Player 2. Do you choose to 'Cooperate' or 'Defect'? Game history: . Player 2: Cooperate, Player 1: Cooperate. Player 2: Cooperate, Player 1: Cooperate. Player 2: Cooperate, Player 1: Cooperate. Player 2: Cooperate, Player 1: Cooperate. Player 2: Cooperate, Player 1: Cooperate. Player 2: Cooperate, Player 1: Cooperate. Player 2: Cooperate, Player 1: Cooperate. Player 2:   Cooper\n"
     ]
    },
    {
     "name": "stderr",
     "output_type": "stream",
     "text": [
      "The attention mask and the pad token id were not set. As a consequence, you may observe unexpected behavior. Please pass your input's `attention_mask` to obtain reliable results.\n",
      "Setting `pad_token_id` to `eos_token_id`:2 for open-end generation.\n"
     ]
    },
    {
     "name": "stdout",
     "output_type": "stream",
     "text": [
      "model  1  output:  You are playing multiple rounds of prisoner's dilemma.You are Player 1. Do you choose to 'Cooperate' or 'Defect'? Game history: . Player 1: Cooperate, Player 2: Cooperate. Player 1: Cooperate, Player 2: Cooperate. Player 1: Cooperate, Player 2: Cooperate. Player 1: Cooperate, Player 2: Cooperate. Player 1: Cooperate, Player 2: Cooperate. Player 1: Cooperate, Player 2: Cooperate. Player 1: Cooperate, Player 2: Cooperate. Player 1: Cooperate, Player 2: Cooperate. Player 1:  Cooper\n"
     ]
    },
    {
     "name": "stderr",
     "output_type": "stream",
     "text": [
      "INFO:LLM_IPD:model 1 action: Cooperate\n",
      "INFO:LLM_IPD:model 2 action: Cooperate\n",
      "INFO:LLM_IPD:Round: 9\n"
     ]
    },
    {
     "name": "stdout",
     "output_type": "stream",
     "text": [
      "model  2  output:  You are playing multiple rounds of prisoner's dilemma.You are Player 2. Do you choose to 'Cooperate' or 'Defect'? Game history: . Player 2: Cooperate, Player 1: Cooperate. Player 2: Cooperate, Player 1: Cooperate. Player 2: Cooperate, Player 1: Cooperate. Player 2: Cooperate, Player 1: Cooperate. Player 2: Cooperate, Player 1: Cooperate. Player 2: Cooperate, Player 1: Cooperate. Player 2: Cooperate, Player 1: Cooperate. Player 2: Cooperate, Player 1: Cooperate. Player 2:   Cooper\n"
     ]
    },
    {
     "name": "stderr",
     "output_type": "stream",
     "text": [
      "The attention mask and the pad token id were not set. As a consequence, you may observe unexpected behavior. Please pass your input's `attention_mask` to obtain reliable results.\n",
      "Setting `pad_token_id` to `eos_token_id`:2 for open-end generation.\n"
     ]
    },
    {
     "name": "stdout",
     "output_type": "stream",
     "text": [
      "model  1  output:  You are playing multiple rounds of prisoner's dilemma.You are Player 1. Do you choose to 'Cooperate' or 'Defect'? Game history: . Player 1: Cooperate, Player 2: Cooperate. Player 1: Cooperate, Player 2: Cooperate. Player 1: Cooperate, Player 2: Cooperate. Player 1: Cooperate, Player 2: Cooperate. Player 1: Cooperate, Player 2: Cooperate. Player 1: Cooperate, Player 2: Cooperate. Player 1: Cooperate, Player 2: Cooperate. Player 1: Cooperate, Player 2: Cooperate. Player 1: Cooperate, Player 2: Cooperate. Player 1:  Cooper\n"
     ]
    },
    {
     "name": "stderr",
     "output_type": "stream",
     "text": [
      "INFO:LLM_IPD:model 1 action: Cooperate\n",
      "INFO:LLM_IPD:model 2 action: Cooperate\n",
      "INFO:LLM_IPD:Round: 10\n"
     ]
    },
    {
     "name": "stdout",
     "output_type": "stream",
     "text": [
      "model  2  output:  You are playing multiple rounds of prisoner's dilemma.You are Player 2. Do you choose to 'Cooperate' or 'Defect'? Game history: . Player 2: Cooperate, Player 1: Cooperate. Player 2: Cooperate, Player 1: Cooperate. Player 2: Cooperate, Player 1: Cooperate. Player 2: Cooperate, Player 1: Cooperate. Player 2: Cooperate, Player 1: Cooperate. Player 2: Cooperate, Player 1: Cooperate. Player 2: Cooperate, Player 1: Cooperate. Player 2: Cooperate, Player 1: Cooperate. Player 2: Cooperate, Player 1: Cooperate. Player 2:   Cooper\n"
     ]
    },
    {
     "name": "stderr",
     "output_type": "stream",
     "text": [
      "The attention mask and the pad token id were not set. As a consequence, you may observe unexpected behavior. Please pass your input's `attention_mask` to obtain reliable results.\n",
      "Setting `pad_token_id` to `eos_token_id`:2 for open-end generation.\n"
     ]
    },
    {
     "name": "stdout",
     "output_type": "stream",
     "text": [
      "model  1  output:  You are playing multiple rounds of prisoner's dilemma.You are Player 1. Do you choose to 'Cooperate' or 'Defect'? Game history: . Player 1: Cooperate, Player 2: Cooperate. Player 1: Cooperate, Player 2: Cooperate. Player 1: Cooperate, Player 2: Cooperate. Player 1: Cooperate, Player 2: Cooperate. Player 1: Cooperate, Player 2: Cooperate. Player 1: Cooperate, Player 2: Cooperate. Player 1: Cooperate, Player 2: Cooperate. Player 1: Cooperate, Player 2: Cooperate. Player 1: Cooperate, Player 2: Cooperate. Player 1: Cooperate, Player 2: Cooperate. Player 1:  Cooper\n"
     ]
    },
    {
     "name": "stderr",
     "output_type": "stream",
     "text": [
      "INFO:LLM_IPD:model 1 action: Cooperate\n",
      "INFO:LLM_IPD:model 2 action: Cooperate\n",
      "INFO:LLM_IPD:Round: 11\n"
     ]
    },
    {
     "name": "stdout",
     "output_type": "stream",
     "text": [
      "model  2  output:  You are playing multiple rounds of prisoner's dilemma.You are Player 2. Do you choose to 'Cooperate' or 'Defect'? Game history: . Player 2: Cooperate, Player 1: Cooperate. Player 2: Cooperate, Player 1: Cooperate. Player 2: Cooperate, Player 1: Cooperate. Player 2: Cooperate, Player 1: Cooperate. Player 2: Cooperate, Player 1: Cooperate. Player 2: Cooperate, Player 1: Cooperate. Player 2: Cooperate, Player 1: Cooperate. Player 2: Cooperate, Player 1: Cooperate. Player 2: Cooperate, Player 1: Cooperate. Player 2: Cooperate, Player 1: Cooperate. Player 2:   Cooper\n"
     ]
    },
    {
     "name": "stderr",
     "output_type": "stream",
     "text": [
      "The attention mask and the pad token id were not set. As a consequence, you may observe unexpected behavior. Please pass your input's `attention_mask` to obtain reliable results.\n",
      "Setting `pad_token_id` to `eos_token_id`:2 for open-end generation.\n"
     ]
    },
    {
     "name": "stdout",
     "output_type": "stream",
     "text": [
      "model  1  output:  You are playing multiple rounds of prisoner's dilemma.You are Player 1. Do you choose to 'Cooperate' or 'Defect'? Game history: . Player 1: Cooperate, Player 2: Cooperate. Player 1: Cooperate, Player 2: Cooperate. Player 1: Cooperate, Player 2: Cooperate. Player 1: Cooperate, Player 2: Cooperate. Player 1: Cooperate, Player 2: Cooperate. Player 1: Cooperate, Player 2: Cooperate. Player 1: Cooperate, Player 2: Cooperate. Player 1: Cooperate, Player 2: Cooperate. Player 1: Cooperate, Player 2: Cooperate. Player 1: Cooperate, Player 2: Cooperate. Player 1: Cooperate, Player 2: Cooperate. Player 1:  Cooper\n"
     ]
    },
    {
     "name": "stderr",
     "output_type": "stream",
     "text": [
      "INFO:LLM_IPD:model 1 action: Cooperate\n",
      "INFO:LLM_IPD:model 2 action: Cooperate\n",
      "INFO:LLM_IPD:Round: 12\n"
     ]
    },
    {
     "name": "stdout",
     "output_type": "stream",
     "text": [
      "model  2  output:  You are playing multiple rounds of prisoner's dilemma.You are Player 2. Do you choose to 'Cooperate' or 'Defect'? Game history: . Player 2: Cooperate, Player 1: Cooperate. Player 2: Cooperate, Player 1: Cooperate. Player 2: Cooperate, Player 1: Cooperate. Player 2: Cooperate, Player 1: Cooperate. Player 2: Cooperate, Player 1: Cooperate. Player 2: Cooperate, Player 1: Cooperate. Player 2: Cooperate, Player 1: Cooperate. Player 2: Cooperate, Player 1: Cooperate. Player 2: Cooperate, Player 1: Cooperate. Player 2: Cooperate, Player 1: Cooperate. Player 2: Cooperate, Player 1: Cooperate. Player 2:   Cooper\n"
     ]
    },
    {
     "name": "stderr",
     "output_type": "stream",
     "text": [
      "The attention mask and the pad token id were not set. As a consequence, you may observe unexpected behavior. Please pass your input's `attention_mask` to obtain reliable results.\n",
      "Setting `pad_token_id` to `eos_token_id`:2 for open-end generation.\n"
     ]
    },
    {
     "name": "stdout",
     "output_type": "stream",
     "text": [
      "model  1  output:  You are playing multiple rounds of prisoner's dilemma.You are Player 1. Do you choose to 'Cooperate' or 'Defect'? Game history: . Player 1: Cooperate, Player 2: Cooperate. Player 1: Cooperate, Player 2: Cooperate. Player 1: Cooperate, Player 2: Cooperate. Player 1: Cooperate, Player 2: Cooperate. Player 1: Cooperate, Player 2: Cooperate. Player 1: Cooperate, Player 2: Cooperate. Player 1: Cooperate, Player 2: Cooperate. Player 1: Cooperate, Player 2: Cooperate. Player 1: Cooperate, Player 2: Cooperate. Player 1: Cooperate, Player 2: Cooperate. Player 1: Cooperate, Player 2: Cooperate. Player 1: Cooperate, Player 2: Cooperate. Player 1:  Cooper\n"
     ]
    },
    {
     "name": "stderr",
     "output_type": "stream",
     "text": [
      "INFO:LLM_IPD:model 1 action: Cooperate\n",
      "INFO:LLM_IPD:model 2 action: Cooperate\n",
      "INFO:LLM_IPD:Round: 13\n"
     ]
    },
    {
     "name": "stdout",
     "output_type": "stream",
     "text": [
      "model  2  output:  You are playing multiple rounds of prisoner's dilemma.You are Player 2. Do you choose to 'Cooperate' or 'Defect'? Game history: . Player 2: Cooperate, Player 1: Cooperate. Player 2: Cooperate, Player 1: Cooperate. Player 2: Cooperate, Player 1: Cooperate. Player 2: Cooperate, Player 1: Cooperate. Player 2: Cooperate, Player 1: Cooperate. Player 2: Cooperate, Player 1: Cooperate. Player 2: Cooperate, Player 1: Cooperate. Player 2: Cooperate, Player 1: Cooperate. Player 2: Cooperate, Player 1: Cooperate. Player 2: Cooperate, Player 1: Cooperate. Player 2: Cooperate, Player 1: Cooperate. Player 2: Cooperate, Player 1: Cooperate. Player 2:   Cooper\n"
     ]
    },
    {
     "name": "stderr",
     "output_type": "stream",
     "text": [
      "The attention mask and the pad token id were not set. As a consequence, you may observe unexpected behavior. Please pass your input's `attention_mask` to obtain reliable results.\n",
      "Setting `pad_token_id` to `eos_token_id`:2 for open-end generation.\n"
     ]
    },
    {
     "name": "stdout",
     "output_type": "stream",
     "text": [
      "model  1  output:  You are playing multiple rounds of prisoner's dilemma.You are Player 1. Do you choose to 'Cooperate' or 'Defect'? Game history: . Player 1: Cooperate, Player 2: Cooperate. Player 1: Cooperate, Player 2: Cooperate. Player 1: Cooperate, Player 2: Cooperate. Player 1: Cooperate, Player 2: Cooperate. Player 1: Cooperate, Player 2: Cooperate. Player 1: Cooperate, Player 2: Cooperate. Player 1: Cooperate, Player 2: Cooperate. Player 1: Cooperate, Player 2: Cooperate. Player 1: Cooperate, Player 2: Cooperate. Player 1: Cooperate, Player 2: Cooperate. Player 1: Cooperate, Player 2: Cooperate. Player 1: Cooperate, Player 2: Cooperate. Player 1: Cooperate, Player 2: Cooperate. Player 1:  Cooper\n"
     ]
    },
    {
     "name": "stderr",
     "output_type": "stream",
     "text": [
      "INFO:LLM_IPD:model 1 action: Cooperate\n",
      "INFO:LLM_IPD:model 2 action: Cooperate\n",
      "INFO:LLM_IPD:Round: 14\n"
     ]
    },
    {
     "name": "stdout",
     "output_type": "stream",
     "text": [
      "model  2  output:  You are playing multiple rounds of prisoner's dilemma.You are Player 2. Do you choose to 'Cooperate' or 'Defect'? Game history: . Player 2: Cooperate, Player 1: Cooperate. Player 2: Cooperate, Player 1: Cooperate. Player 2: Cooperate, Player 1: Cooperate. Player 2: Cooperate, Player 1: Cooperate. Player 2: Cooperate, Player 1: Cooperate. Player 2: Cooperate, Player 1: Cooperate. Player 2: Cooperate, Player 1: Cooperate. Player 2: Cooperate, Player 1: Cooperate. Player 2: Cooperate, Player 1: Cooperate. Player 2: Cooperate, Player 1: Cooperate. Player 2: Cooperate, Player 1: Cooperate. Player 2: Cooperate, Player 1: Cooperate. Player 2: Cooperate, Player 1: Cooperate. Player 2:   Cooper\n"
     ]
    },
    {
     "name": "stderr",
     "output_type": "stream",
     "text": [
      "The attention mask and the pad token id were not set. As a consequence, you may observe unexpected behavior. Please pass your input's `attention_mask` to obtain reliable results.\n",
      "Setting `pad_token_id` to `eos_token_id`:2 for open-end generation.\n"
     ]
    },
    {
     "name": "stdout",
     "output_type": "stream",
     "text": [
      "model  1  output:  You are playing multiple rounds of prisoner's dilemma.You are Player 1. Do you choose to 'Cooperate' or 'Defect'? Game history: . Player 1: Cooperate, Player 2: Cooperate. Player 1: Cooperate, Player 2: Cooperate. Player 1: Cooperate, Player 2: Cooperate. Player 1: Cooperate, Player 2: Cooperate. Player 1: Cooperate, Player 2: Cooperate. Player 1: Cooperate, Player 2: Cooperate. Player 1: Cooperate, Player 2: Cooperate. Player 1: Cooperate, Player 2: Cooperate. Player 1: Cooperate, Player 2: Cooperate. Player 1: Cooperate, Player 2: Cooperate. Player 1: Cooperate, Player 2: Cooperate. Player 1: Cooperate, Player 2: Cooperate. Player 1: Cooperate, Player 2: Cooperate. Player 1: Cooperate, Player 2: Cooperate. Player 1:  Cooper\n"
     ]
    },
    {
     "name": "stderr",
     "output_type": "stream",
     "text": [
      "INFO:LLM_IPD:model 1 action: Cooperate\n",
      "INFO:LLM_IPD:model 2 action: Cooperate\n",
      "INFO:LLM_IPD:Round: 15\n"
     ]
    },
    {
     "name": "stdout",
     "output_type": "stream",
     "text": [
      "model  2  output:  You are playing multiple rounds of prisoner's dilemma.You are Player 2. Do you choose to 'Cooperate' or 'Defect'? Game history: . Player 2: Cooperate, Player 1: Cooperate. Player 2: Cooperate, Player 1: Cooperate. Player 2: Cooperate, Player 1: Cooperate. Player 2: Cooperate, Player 1: Cooperate. Player 2: Cooperate, Player 1: Cooperate. Player 2: Cooperate, Player 1: Cooperate. Player 2: Cooperate, Player 1: Cooperate. Player 2: Cooperate, Player 1: Cooperate. Player 2: Cooperate, Player 1: Cooperate. Player 2: Cooperate, Player 1: Cooperate. Player 2: Cooperate, Player 1: Cooperate. Player 2: Cooperate, Player 1: Cooperate. Player 2: Cooperate, Player 1: Cooperate. Player 2: Cooperate, Player 1: Cooperate. Player 2:   Cooper\n"
     ]
    },
    {
     "name": "stderr",
     "output_type": "stream",
     "text": [
      "The attention mask and the pad token id were not set. As a consequence, you may observe unexpected behavior. Please pass your input's `attention_mask` to obtain reliable results.\n",
      "Setting `pad_token_id` to `eos_token_id`:2 for open-end generation.\n"
     ]
    },
    {
     "name": "stdout",
     "output_type": "stream",
     "text": [
      "model  1  output:  You are playing multiple rounds of prisoner's dilemma.You are Player 1. Do you choose to 'Cooperate' or 'Defect'? Game history: . Player 1: Cooperate, Player 2: Cooperate. Player 1: Cooperate, Player 2: Cooperate. Player 1: Cooperate, Player 2: Cooperate. Player 1: Cooperate, Player 2: Cooperate. Player 1: Cooperate, Player 2: Cooperate. Player 1: Cooperate, Player 2: Cooperate. Player 1: Cooperate, Player 2: Cooperate. Player 1: Cooperate, Player 2: Cooperate. Player 1: Cooperate, Player 2: Cooperate. Player 1: Cooperate, Player 2: Cooperate. Player 1: Cooperate, Player 2: Cooperate. Player 1: Cooperate, Player 2: Cooperate. Player 1: Cooperate, Player 2: Cooperate. Player 1: Cooperate, Player 2: Cooperate. Player 1: Cooperate, Player 2: Cooperate. Player 1:  Cooper\n"
     ]
    },
    {
     "name": "stderr",
     "output_type": "stream",
     "text": [
      "INFO:LLM_IPD:model 1 action: Cooperate\n",
      "INFO:LLM_IPD:model 2 action: Cooperate\n",
      "INFO:LLM_IPD:Round: 16\n"
     ]
    },
    {
     "name": "stdout",
     "output_type": "stream",
     "text": [
      "model  2  output:  You are playing multiple rounds of prisoner's dilemma.You are Player 2. Do you choose to 'Cooperate' or 'Defect'? Game history: . Player 2: Cooperate, Player 1: Cooperate. Player 2: Cooperate, Player 1: Cooperate. Player 2: Cooperate, Player 1: Cooperate. Player 2: Cooperate, Player 1: Cooperate. Player 2: Cooperate, Player 1: Cooperate. Player 2: Cooperate, Player 1: Cooperate. Player 2: Cooperate, Player 1: Cooperate. Player 2: Cooperate, Player 1: Cooperate. Player 2: Cooperate, Player 1: Cooperate. Player 2: Cooperate, Player 1: Cooperate. Player 2: Cooperate, Player 1: Cooperate. Player 2: Cooperate, Player 1: Cooperate. Player 2: Cooperate, Player 1: Cooperate. Player 2: Cooperate, Player 1: Cooperate. Player 2: Cooperate, Player 1: Cooperate. Player 2:   Cooper\n"
     ]
    },
    {
     "name": "stderr",
     "output_type": "stream",
     "text": [
      "The attention mask and the pad token id were not set. As a consequence, you may observe unexpected behavior. Please pass your input's `attention_mask` to obtain reliable results.\n",
      "Setting `pad_token_id` to `eos_token_id`:2 for open-end generation.\n"
     ]
    },
    {
     "name": "stdout",
     "output_type": "stream",
     "text": [
      "model  1  output:  You are playing multiple rounds of prisoner's dilemma.You are Player 1. Do you choose to 'Cooperate' or 'Defect'? Game history: . Player 1: Cooperate, Player 2: Cooperate. Player 1: Cooperate, Player 2: Cooperate. Player 1: Cooperate, Player 2: Cooperate. Player 1: Cooperate, Player 2: Cooperate. Player 1: Cooperate, Player 2: Cooperate. Player 1: Cooperate, Player 2: Cooperate. Player 1: Cooperate, Player 2: Cooperate. Player 1: Cooperate, Player 2: Cooperate. Player 1: Cooperate, Player 2: Cooperate. Player 1: Cooperate, Player 2: Cooperate. Player 1: Cooperate, Player 2: Cooperate. Player 1: Cooperate, Player 2: Cooperate. Player 1: Cooperate, Player 2: Cooperate. Player 1: Cooperate, Player 2: Cooperate. Player 1: Cooperate, Player 2: Cooperate. Player 1: Cooperate, Player 2: Cooperate. Player 1:  Cooper\n"
     ]
    },
    {
     "name": "stderr",
     "output_type": "stream",
     "text": [
      "INFO:LLM_IPD:model 1 action: Cooperate\n",
      "INFO:LLM_IPD:model 2 action: Cooperate\n",
      "INFO:LLM_IPD:Round: 17\n"
     ]
    },
    {
     "name": "stdout",
     "output_type": "stream",
     "text": [
      "model  2  output:  You are playing multiple rounds of prisoner's dilemma.You are Player 2. Do you choose to 'Cooperate' or 'Defect'? Game history: . Player 2: Cooperate, Player 1: Cooperate. Player 2: Cooperate, Player 1: Cooperate. Player 2: Cooperate, Player 1: Cooperate. Player 2: Cooperate, Player 1: Cooperate. Player 2: Cooperate, Player 1: Cooperate. Player 2: Cooperate, Player 1: Cooperate. Player 2: Cooperate, Player 1: Cooperate. Player 2: Cooperate, Player 1: Cooperate. Player 2: Cooperate, Player 1: Cooperate. Player 2: Cooperate, Player 1: Cooperate. Player 2: Cooperate, Player 1: Cooperate. Player 2: Cooperate, Player 1: Cooperate. Player 2: Cooperate, Player 1: Cooperate. Player 2: Cooperate, Player 1: Cooperate. Player 2: Cooperate, Player 1: Cooperate. Player 2: Cooperate, Player 1: Cooperate. Player 2:   Cooper\n"
     ]
    },
    {
     "name": "stderr",
     "output_type": "stream",
     "text": [
      "The attention mask and the pad token id were not set. As a consequence, you may observe unexpected behavior. Please pass your input's `attention_mask` to obtain reliable results.\n",
      "Setting `pad_token_id` to `eos_token_id`:2 for open-end generation.\n"
     ]
    },
    {
     "name": "stdout",
     "output_type": "stream",
     "text": [
      "model  1  output:  You are playing multiple rounds of prisoner's dilemma.You are Player 1. Do you choose to 'Cooperate' or 'Defect'? Game history: . Player 1: Cooperate, Player 2: Cooperate. Player 1: Cooperate, Player 2: Cooperate. Player 1: Cooperate, Player 2: Cooperate. Player 1: Cooperate, Player 2: Cooperate. Player 1: Cooperate, Player 2: Cooperate. Player 1: Cooperate, Player 2: Cooperate. Player 1: Cooperate, Player 2: Cooperate. Player 1: Cooperate, Player 2: Cooperate. Player 1: Cooperate, Player 2: Cooperate. Player 1: Cooperate, Player 2: Cooperate. Player 1: Cooperate, Player 2: Cooperate. Player 1: Cooperate, Player 2: Cooperate. Player 1: Cooperate, Player 2: Cooperate. Player 1: Cooperate, Player 2: Cooperate. Player 1: Cooperate, Player 2: Cooperate. Player 1: Cooperate, Player 2: Cooperate. Player 1: Cooperate, Player 2: Cooperate. Player 1:  Cooper\n"
     ]
    },
    {
     "name": "stderr",
     "output_type": "stream",
     "text": [
      "INFO:LLM_IPD:model 1 action: Cooperate\n",
      "INFO:LLM_IPD:model 2 action: Cooperate\n",
      "INFO:LLM_IPD:Round: 18\n"
     ]
    },
    {
     "name": "stdout",
     "output_type": "stream",
     "text": [
      "model  2  output:  You are playing multiple rounds of prisoner's dilemma.You are Player 2. Do you choose to 'Cooperate' or 'Defect'? Game history: . Player 2: Cooperate, Player 1: Cooperate. Player 2: Cooperate, Player 1: Cooperate. Player 2: Cooperate, Player 1: Cooperate. Player 2: Cooperate, Player 1: Cooperate. Player 2: Cooperate, Player 1: Cooperate. Player 2: Cooperate, Player 1: Cooperate. Player 2: Cooperate, Player 1: Cooperate. Player 2: Cooperate, Player 1: Cooperate. Player 2: Cooperate, Player 1: Cooperate. Player 2: Cooperate, Player 1: Cooperate. Player 2: Cooperate, Player 1: Cooperate. Player 2: Cooperate, Player 1: Cooperate. Player 2: Cooperate, Player 1: Cooperate. Player 2: Cooperate, Player 1: Cooperate. Player 2: Cooperate, Player 1: Cooperate. Player 2: Cooperate, Player 1: Cooperate. Player 2: Cooperate, Player 1: Cooperate. Player 2:   Cooper\n"
     ]
    },
    {
     "name": "stderr",
     "output_type": "stream",
     "text": [
      "The attention mask and the pad token id were not set. As a consequence, you may observe unexpected behavior. Please pass your input's `attention_mask` to obtain reliable results.\n",
      "Setting `pad_token_id` to `eos_token_id`:2 for open-end generation.\n"
     ]
    },
    {
     "name": "stdout",
     "output_type": "stream",
     "text": [
      "model  1  output:  You are playing multiple rounds of prisoner's dilemma.You are Player 1. Do you choose to 'Cooperate' or 'Defect'? Game history: . Player 1: Cooperate, Player 2: Cooperate. Player 1: Cooperate, Player 2: Cooperate. Player 1: Cooperate, Player 2: Cooperate. Player 1: Cooperate, Player 2: Cooperate. Player 1: Cooperate, Player 2: Cooperate. Player 1: Cooperate, Player 2: Cooperate. Player 1: Cooperate, Player 2: Cooperate. Player 1: Cooperate, Player 2: Cooperate. Player 1: Cooperate, Player 2: Cooperate. Player 1: Cooperate, Player 2: Cooperate. Player 1: Cooperate, Player 2: Cooperate. Player 1: Cooperate, Player 2: Cooperate. Player 1: Cooperate, Player 2: Cooperate. Player 1: Cooperate, Player 2: Cooperate. Player 1: Cooperate, Player 2: Cooperate. Player 1: Cooperate, Player 2: Cooperate. Player 1: Cooperate, Player 2: Cooperate. Player 1: Cooperate, Player 2: Cooperate. Player 1:  Cooper\n"
     ]
    },
    {
     "name": "stderr",
     "output_type": "stream",
     "text": [
      "INFO:LLM_IPD:model 1 action: Cooperate\n",
      "INFO:LLM_IPD:model 2 action: Cooperate\n",
      "INFO:LLM_IPD:Round: 19\n"
     ]
    },
    {
     "name": "stdout",
     "output_type": "stream",
     "text": [
      "model  2  output:  You are playing multiple rounds of prisoner's dilemma.You are Player 2. Do you choose to 'Cooperate' or 'Defect'? Game history: . Player 2: Cooperate, Player 1: Cooperate. Player 2: Cooperate, Player 1: Cooperate. Player 2: Cooperate, Player 1: Cooperate. Player 2: Cooperate, Player 1: Cooperate. Player 2: Cooperate, Player 1: Cooperate. Player 2: Cooperate, Player 1: Cooperate. Player 2: Cooperate, Player 1: Cooperate. Player 2: Cooperate, Player 1: Cooperate. Player 2: Cooperate, Player 1: Cooperate. Player 2: Cooperate, Player 1: Cooperate. Player 2: Cooperate, Player 1: Cooperate. Player 2: Cooperate, Player 1: Cooperate. Player 2: Cooperate, Player 1: Cooperate. Player 2: Cooperate, Player 1: Cooperate. Player 2: Cooperate, Player 1: Cooperate. Player 2: Cooperate, Player 1: Cooperate. Player 2: Cooperate, Player 1: Cooperate. Player 2: Cooperate, Player 1: Cooperate. Player 2:   Cooper\n"
     ]
    },
    {
     "name": "stderr",
     "output_type": "stream",
     "text": [
      "The attention mask and the pad token id were not set. As a consequence, you may observe unexpected behavior. Please pass your input's `attention_mask` to obtain reliable results.\n",
      "Setting `pad_token_id` to `eos_token_id`:2 for open-end generation.\n"
     ]
    },
    {
     "name": "stdout",
     "output_type": "stream",
     "text": [
      "model  1  output:  You are playing multiple rounds of prisoner's dilemma.You are Player 1. Do you choose to 'Cooperate' or 'Defect'? Game history: . Player 1: Cooperate, Player 2: Cooperate. Player 1: Cooperate, Player 2: Cooperate. Player 1: Cooperate, Player 2: Cooperate. Player 1: Cooperate, Player 2: Cooperate. Player 1: Cooperate, Player 2: Cooperate. Player 1: Cooperate, Player 2: Cooperate. Player 1: Cooperate, Player 2: Cooperate. Player 1: Cooperate, Player 2: Cooperate. Player 1: Cooperate, Player 2: Cooperate. Player 1: Cooperate, Player 2: Cooperate. Player 1: Cooperate, Player 2: Cooperate. Player 1: Cooperate, Player 2: Cooperate. Player 1: Cooperate, Player 2: Cooperate. Player 1: Cooperate, Player 2: Cooperate. Player 1: Cooperate, Player 2: Cooperate. Player 1: Cooperate, Player 2: Cooperate. Player 1: Cooperate, Player 2: Cooperate. Player 1: Cooperate, Player 2: Cooperate. Player 1: Cooperate, Player 2: Cooperate. Player 1:  Cooper\n"
     ]
    },
    {
     "name": "stderr",
     "output_type": "stream",
     "text": [
      "INFO:LLM_IPD:model 1 action: Cooperate\n",
      "INFO:LLM_IPD:model 2 action: Cooperate\n",
      "INFO:LLM_IPD:Game: 7\n",
      "INFO:LLM_IPD:Round: 0\n"
     ]
    },
    {
     "name": "stdout",
     "output_type": "stream",
     "text": [
      "model  2  output:  You are playing multiple rounds of prisoner's dilemma.You are Player 2. Do you choose to 'Cooperate' or 'Defect'? Game history: . Player 2: Cooperate, Player 1: Cooperate. Player 2: Cooperate, Player 1: Cooperate. Player 2: Cooperate, Player 1: Cooperate. Player 2: Cooperate, Player 1: Cooperate. Player 2: Cooperate, Player 1: Cooperate. Player 2: Cooperate, Player 1: Cooperate. Player 2: Cooperate, Player 1: Cooperate. Player 2: Cooperate, Player 1: Cooperate. Player 2: Cooperate, Player 1: Cooperate. Player 2: Cooperate, Player 1: Cooperate. Player 2: Cooperate, Player 1: Cooperate. Player 2: Cooperate, Player 1: Cooperate. Player 2: Cooperate, Player 1: Cooperate. Player 2: Cooperate, Player 1: Cooperate. Player 2: Cooperate, Player 1: Cooperate. Player 2: Cooperate, Player 1: Cooperate. Player 2: Cooperate, Player 1: Cooperate. Player 2: Cooperate, Player 1: Cooperate. Player 2: Cooperate, Player 1: Cooperate. Player 2:   Cooper\n"
     ]
    },
    {
     "name": "stderr",
     "output_type": "stream",
     "text": [
      "The attention mask and the pad token id were not set. As a consequence, you may observe unexpected behavior. Please pass your input's `attention_mask` to obtain reliable results.\n",
      "Setting `pad_token_id` to `eos_token_id`:2 for open-end generation.\n"
     ]
    },
    {
     "name": "stdout",
     "output_type": "stream",
     "text": [
      "model  1  output:  You are playing multiple rounds of prisoner's dilemma.You are Player 1. Do you choose to 'Cooperate' or 'Defect'? Game history: . Player 1:  Cooper\n"
     ]
    },
    {
     "name": "stderr",
     "output_type": "stream",
     "text": [
      "INFO:LLM_IPD:model 1 action: Cooperate\n",
      "INFO:LLM_IPD:model 2 action: Cooperate\n",
      "INFO:LLM_IPD:Round: 1\n"
     ]
    },
    {
     "name": "stdout",
     "output_type": "stream",
     "text": [
      "model  2  output:  You are playing multiple rounds of prisoner's dilemma.You are Player 2. Do you choose to 'Cooperate' or 'Defect'? Game history: . Player 2:   Player\n"
     ]
    },
    {
     "name": "stderr",
     "output_type": "stream",
     "text": [
      "The attention mask and the pad token id were not set. As a consequence, you may observe unexpected behavior. Please pass your input's `attention_mask` to obtain reliable results.\n",
      "Setting `pad_token_id` to `eos_token_id`:2 for open-end generation.\n"
     ]
    },
    {
     "name": "stdout",
     "output_type": "stream",
     "text": [
      "model  1  output:  You are playing multiple rounds of prisoner's dilemma.You are Player 1. Do you choose to 'Cooperate' or 'Defect'? Game history: . Player 1: Cooperate, Player 2: Cooperate. Player 1:  Cooper\n"
     ]
    },
    {
     "name": "stderr",
     "output_type": "stream",
     "text": [
      "INFO:LLM_IPD:model 1 action: Cooperate\n",
      "INFO:LLM_IPD:model 2 action: Cooperate\n",
      "INFO:LLM_IPD:Round: 2\n"
     ]
    },
    {
     "name": "stdout",
     "output_type": "stream",
     "text": [
      "model  2  output:  You are playing multiple rounds of prisoner's dilemma.You are Player 2. Do you choose to 'Cooperate' or 'Defect'? Game history: . Player 2: Cooperate, Player 1: Cooperate. Player 2:  ‎\n"
     ]
    },
    {
     "name": "stderr",
     "output_type": "stream",
     "text": [
      "The attention mask and the pad token id were not set. As a consequence, you may observe unexpected behavior. Please pass your input's `attention_mask` to obtain reliable results.\n",
      "Setting `pad_token_id` to `eos_token_id`:2 for open-end generation.\n"
     ]
    },
    {
     "name": "stdout",
     "output_type": "stream",
     "text": [
      "model  1  output:  You are playing multiple rounds of prisoner's dilemma.You are Player 1. Do you choose to 'Cooperate' or 'Defect'? Game history: . Player 1: Cooperate, Player 2: Cooperate. Player 1: Cooperate, Player 2: Cooperate. Player 1:  Cooper\n"
     ]
    },
    {
     "name": "stderr",
     "output_type": "stream",
     "text": [
      "INFO:LLM_IPD:model 1 action: Cooperate\n",
      "INFO:LLM_IPD:model 2 action: Cooperate\n",
      "INFO:LLM_IPD:Round: 3\n"
     ]
    },
    {
     "name": "stdout",
     "output_type": "stream",
     "text": [
      "model  2  output:  You are playing multiple rounds of prisoner's dilemma.You are Player 2. Do you choose to 'Cooperate' or 'Defect'? Game history: . Player 2: Cooperate, Player 1: Cooperate. Player 2: Cooperate, Player 1: Cooperate. Player 2:  ‎\n"
     ]
    },
    {
     "name": "stderr",
     "output_type": "stream",
     "text": [
      "The attention mask and the pad token id were not set. As a consequence, you may observe unexpected behavior. Please pass your input's `attention_mask` to obtain reliable results.\n",
      "Setting `pad_token_id` to `eos_token_id`:2 for open-end generation.\n"
     ]
    },
    {
     "name": "stdout",
     "output_type": "stream",
     "text": [
      "model  1  output:  You are playing multiple rounds of prisoner's dilemma.You are Player 1. Do you choose to 'Cooperate' or 'Defect'? Game history: . Player 1: Cooperate, Player 2: Cooperate. Player 1: Cooperate, Player 2: Cooperate. Player 1: Cooperate, Player 2: Cooperate. Player 1:  Cooper\n"
     ]
    },
    {
     "name": "stderr",
     "output_type": "stream",
     "text": [
      "INFO:LLM_IPD:model 1 action: Cooperate\n",
      "INFO:LLM_IPD:model 2 action: Cooperate\n",
      "INFO:LLM_IPD:Round: 4\n"
     ]
    },
    {
     "name": "stdout",
     "output_type": "stream",
     "text": [
      "model  2  output:  You are playing multiple rounds of prisoner's dilemma.You are Player 2. Do you choose to 'Cooperate' or 'Defect'? Game history: . Player 2: Cooperate, Player 1: Cooperate. Player 2: Cooperate, Player 1: Cooperate. Player 2: Cooperate, Player 1: Cooperate. Player 2:  ‎\n"
     ]
    },
    {
     "name": "stderr",
     "output_type": "stream",
     "text": [
      "The attention mask and the pad token id were not set. As a consequence, you may observe unexpected behavior. Please pass your input's `attention_mask` to obtain reliable results.\n",
      "Setting `pad_token_id` to `eos_token_id`:2 for open-end generation.\n"
     ]
    },
    {
     "name": "stdout",
     "output_type": "stream",
     "text": [
      "model  1  output:  You are playing multiple rounds of prisoner's dilemma.You are Player 1. Do you choose to 'Cooperate' or 'Defect'? Game history: . Player 1: Cooperate, Player 2: Cooperate. Player 1: Cooperate, Player 2: Cooperate. Player 1: Cooperate, Player 2: Cooperate. Player 1: Cooperate, Player 2: Cooperate. Player 1:  Cooper\n"
     ]
    },
    {
     "name": "stderr",
     "output_type": "stream",
     "text": [
      "INFO:LLM_IPD:model 1 action: Cooperate\n",
      "INFO:LLM_IPD:model 2 action: Cooperate\n",
      "INFO:LLM_IPD:Round: 5\n"
     ]
    },
    {
     "name": "stdout",
     "output_type": "stream",
     "text": [
      "model  2  output:  You are playing multiple rounds of prisoner's dilemma.You are Player 2. Do you choose to 'Cooperate' or 'Defect'? Game history: . Player 2: Cooperate, Player 1: Cooperate. Player 2: Cooperate, Player 1: Cooperate. Player 2: Cooperate, Player 1: Cooperate. Player 2: Cooperate, Player 1: Cooperate. Player 2:  ‎\n"
     ]
    },
    {
     "name": "stderr",
     "output_type": "stream",
     "text": [
      "The attention mask and the pad token id were not set. As a consequence, you may observe unexpected behavior. Please pass your input's `attention_mask` to obtain reliable results.\n",
      "Setting `pad_token_id` to `eos_token_id`:2 for open-end generation.\n"
     ]
    },
    {
     "name": "stdout",
     "output_type": "stream",
     "text": [
      "model  1  output:  You are playing multiple rounds of prisoner's dilemma.You are Player 1. Do you choose to 'Cooperate' or 'Defect'? Game history: . Player 1: Cooperate, Player 2: Cooperate. Player 1: Cooperate, Player 2: Cooperate. Player 1: Cooperate, Player 2: Cooperate. Player 1: Cooperate, Player 2: Cooperate. Player 1: Cooperate, Player 2: Cooperate. Player 1:  Cooper\n"
     ]
    },
    {
     "name": "stderr",
     "output_type": "stream",
     "text": [
      "INFO:LLM_IPD:model 1 action: Cooperate\n",
      "INFO:LLM_IPD:model 2 action: Cooperate\n",
      "INFO:LLM_IPD:Round: 6\n"
     ]
    },
    {
     "name": "stdout",
     "output_type": "stream",
     "text": [
      "model  2  output:  You are playing multiple rounds of prisoner's dilemma.You are Player 2. Do you choose to 'Cooperate' or 'Defect'? Game history: . Player 2: Cooperate, Player 1: Cooperate. Player 2: Cooperate, Player 1: Cooperate. Player 2: Cooperate, Player 1: Cooperate. Player 2: Cooperate, Player 1: Cooperate. Player 2: Cooperate, Player 1: Cooperate. Player 2:   The\n"
     ]
    },
    {
     "name": "stderr",
     "output_type": "stream",
     "text": [
      "The attention mask and the pad token id were not set. As a consequence, you may observe unexpected behavior. Please pass your input's `attention_mask` to obtain reliable results.\n",
      "Setting `pad_token_id` to `eos_token_id`:2 for open-end generation.\n"
     ]
    },
    {
     "name": "stdout",
     "output_type": "stream",
     "text": [
      "model  1  output:  You are playing multiple rounds of prisoner's dilemma.You are Player 1. Do you choose to 'Cooperate' or 'Defect'? Game history: . Player 1: Cooperate, Player 2: Cooperate. Player 1: Cooperate, Player 2: Cooperate. Player 1: Cooperate, Player 2: Cooperate. Player 1: Cooperate, Player 2: Cooperate. Player 1: Cooperate, Player 2: Cooperate. Player 1: Cooperate, Player 2: Cooperate. Player 1:  Cooper\n"
     ]
    },
    {
     "name": "stderr",
     "output_type": "stream",
     "text": [
      "INFO:LLM_IPD:model 1 action: Cooperate\n",
      "INFO:LLM_IPD:model 2 action: Cooperate\n",
      "INFO:LLM_IPD:Round: 7\n"
     ]
    },
    {
     "name": "stdout",
     "output_type": "stream",
     "text": [
      "model  2  output:  You are playing multiple rounds of prisoner's dilemma.You are Player 2. Do you choose to 'Cooperate' or 'Defect'? Game history: . Player 2: Cooperate, Player 1: Cooperate. Player 2: Cooperate, Player 1: Cooperate. Player 2: Cooperate, Player 1: Cooperate. Player 2: Cooperate, Player 1: Cooperate. Player 2: Cooperate, Player 1: Cooperate. Player 2: Cooperate, Player 1: Cooperate. Player 2:   The\n"
     ]
    },
    {
     "name": "stderr",
     "output_type": "stream",
     "text": [
      "The attention mask and the pad token id were not set. As a consequence, you may observe unexpected behavior. Please pass your input's `attention_mask` to obtain reliable results.\n",
      "Setting `pad_token_id` to `eos_token_id`:2 for open-end generation.\n"
     ]
    },
    {
     "name": "stdout",
     "output_type": "stream",
     "text": [
      "model  1  output:  You are playing multiple rounds of prisoner's dilemma.You are Player 1. Do you choose to 'Cooperate' or 'Defect'? Game history: . Player 1: Cooperate, Player 2: Cooperate. Player 1: Cooperate, Player 2: Cooperate. Player 1: Cooperate, Player 2: Cooperate. Player 1: Cooperate, Player 2: Cooperate. Player 1: Cooperate, Player 2: Cooperate. Player 1: Cooperate, Player 2: Cooperate. Player 1: Cooperate, Player 2: Cooperate. Player 1:  Cooper\n"
     ]
    },
    {
     "name": "stderr",
     "output_type": "stream",
     "text": [
      "INFO:LLM_IPD:model 1 action: Cooperate\n",
      "INFO:LLM_IPD:model 2 action: Cooperate\n",
      "INFO:LLM_IPD:Round: 8\n"
     ]
    },
    {
     "name": "stdout",
     "output_type": "stream",
     "text": [
      "model  2  output:  You are playing multiple rounds of prisoner's dilemma.You are Player 2. Do you choose to 'Cooperate' or 'Defect'? Game history: . Player 2: Cooperate, Player 1: Cooperate. Player 2: Cooperate, Player 1: Cooperate. Player 2: Cooperate, Player 1: Cooperate. Player 2: Cooperate, Player 1: Cooperate. Player 2: Cooperate, Player 1: Cooperate. Player 2: Cooperate, Player 1: Cooperate. Player 2: Cooperate, Player 1: Cooperate. Player 2:   Cooper\n"
     ]
    },
    {
     "name": "stderr",
     "output_type": "stream",
     "text": [
      "The attention mask and the pad token id were not set. As a consequence, you may observe unexpected behavior. Please pass your input's `attention_mask` to obtain reliable results.\n",
      "Setting `pad_token_id` to `eos_token_id`:2 for open-end generation.\n"
     ]
    },
    {
     "name": "stdout",
     "output_type": "stream",
     "text": [
      "model  1  output:  You are playing multiple rounds of prisoner's dilemma.You are Player 1. Do you choose to 'Cooperate' or 'Defect'? Game history: . Player 1: Cooperate, Player 2: Cooperate. Player 1: Cooperate, Player 2: Cooperate. Player 1: Cooperate, Player 2: Cooperate. Player 1: Cooperate, Player 2: Cooperate. Player 1: Cooperate, Player 2: Cooperate. Player 1: Cooperate, Player 2: Cooperate. Player 1: Cooperate, Player 2: Cooperate. Player 1: Cooperate, Player 2: Cooperate. Player 1:  Cooper\n"
     ]
    },
    {
     "name": "stderr",
     "output_type": "stream",
     "text": [
      "INFO:LLM_IPD:model 1 action: Cooperate\n",
      "INFO:LLM_IPD:model 2 action: Cooperate\n",
      "INFO:LLM_IPD:Round: 9\n"
     ]
    },
    {
     "name": "stdout",
     "output_type": "stream",
     "text": [
      "model  2  output:  You are playing multiple rounds of prisoner's dilemma.You are Player 2. Do you choose to 'Cooperate' or 'Defect'? Game history: . Player 2: Cooperate, Player 1: Cooperate. Player 2: Cooperate, Player 1: Cooperate. Player 2: Cooperate, Player 1: Cooperate. Player 2: Cooperate, Player 1: Cooperate. Player 2: Cooperate, Player 1: Cooperate. Player 2: Cooperate, Player 1: Cooperate. Player 2: Cooperate, Player 1: Cooperate. Player 2: Cooperate, Player 1: Cooperate. Player 2:   Cooper\n"
     ]
    },
    {
     "name": "stderr",
     "output_type": "stream",
     "text": [
      "The attention mask and the pad token id were not set. As a consequence, you may observe unexpected behavior. Please pass your input's `attention_mask` to obtain reliable results.\n",
      "Setting `pad_token_id` to `eos_token_id`:2 for open-end generation.\n"
     ]
    },
    {
     "name": "stdout",
     "output_type": "stream",
     "text": [
      "model  1  output:  You are playing multiple rounds of prisoner's dilemma.You are Player 1. Do you choose to 'Cooperate' or 'Defect'? Game history: . Player 1: Cooperate, Player 2: Cooperate. Player 1: Cooperate, Player 2: Cooperate. Player 1: Cooperate, Player 2: Cooperate. Player 1: Cooperate, Player 2: Cooperate. Player 1: Cooperate, Player 2: Cooperate. Player 1: Cooperate, Player 2: Cooperate. Player 1: Cooperate, Player 2: Cooperate. Player 1: Cooperate, Player 2: Cooperate. Player 1: Cooperate, Player 2: Cooperate. Player 1:  Cooper\n"
     ]
    },
    {
     "name": "stderr",
     "output_type": "stream",
     "text": [
      "INFO:LLM_IPD:model 1 action: Cooperate\n",
      "INFO:LLM_IPD:model 2 action: Cooperate\n",
      "INFO:LLM_IPD:Round: 10\n"
     ]
    },
    {
     "name": "stdout",
     "output_type": "stream",
     "text": [
      "model  2  output:  You are playing multiple rounds of prisoner's dilemma.You are Player 2. Do you choose to 'Cooperate' or 'Defect'? Game history: . Player 2: Cooperate, Player 1: Cooperate. Player 2: Cooperate, Player 1: Cooperate. Player 2: Cooperate, Player 1: Cooperate. Player 2: Cooperate, Player 1: Cooperate. Player 2: Cooperate, Player 1: Cooperate. Player 2: Cooperate, Player 1: Cooperate. Player 2: Cooperate, Player 1: Cooperate. Player 2: Cooperate, Player 1: Cooperate. Player 2: Cooperate, Player 1: Cooperate. Player 2:   Cooper\n"
     ]
    },
    {
     "name": "stderr",
     "output_type": "stream",
     "text": [
      "The attention mask and the pad token id were not set. As a consequence, you may observe unexpected behavior. Please pass your input's `attention_mask` to obtain reliable results.\n",
      "Setting `pad_token_id` to `eos_token_id`:2 for open-end generation.\n"
     ]
    },
    {
     "name": "stdout",
     "output_type": "stream",
     "text": [
      "model  1  output:  You are playing multiple rounds of prisoner's dilemma.You are Player 1. Do you choose to 'Cooperate' or 'Defect'? Game history: . Player 1: Cooperate, Player 2: Cooperate. Player 1: Cooperate, Player 2: Cooperate. Player 1: Cooperate, Player 2: Cooperate. Player 1: Cooperate, Player 2: Cooperate. Player 1: Cooperate, Player 2: Cooperate. Player 1: Cooperate, Player 2: Cooperate. Player 1: Cooperate, Player 2: Cooperate. Player 1: Cooperate, Player 2: Cooperate. Player 1: Cooperate, Player 2: Cooperate. Player 1: Cooperate, Player 2: Cooperate. Player 1:  Cooper\n"
     ]
    },
    {
     "name": "stderr",
     "output_type": "stream",
     "text": [
      "INFO:LLM_IPD:model 1 action: Cooperate\n",
      "INFO:LLM_IPD:model 2 action: Cooperate\n",
      "INFO:LLM_IPD:Round: 11\n"
     ]
    },
    {
     "name": "stdout",
     "output_type": "stream",
     "text": [
      "model  2  output:  You are playing multiple rounds of prisoner's dilemma.You are Player 2. Do you choose to 'Cooperate' or 'Defect'? Game history: . Player 2: Cooperate, Player 1: Cooperate. Player 2: Cooperate, Player 1: Cooperate. Player 2: Cooperate, Player 1: Cooperate. Player 2: Cooperate, Player 1: Cooperate. Player 2: Cooperate, Player 1: Cooperate. Player 2: Cooperate, Player 1: Cooperate. Player 2: Cooperate, Player 1: Cooperate. Player 2: Cooperate, Player 1: Cooperate. Player 2: Cooperate, Player 1: Cooperate. Player 2: Cooperate, Player 1: Cooperate. Player 2:   Cooper\n"
     ]
    },
    {
     "name": "stderr",
     "output_type": "stream",
     "text": [
      "The attention mask and the pad token id were not set. As a consequence, you may observe unexpected behavior. Please pass your input's `attention_mask` to obtain reliable results.\n",
      "Setting `pad_token_id` to `eos_token_id`:2 for open-end generation.\n"
     ]
    },
    {
     "name": "stdout",
     "output_type": "stream",
     "text": [
      "model  1  output:  You are playing multiple rounds of prisoner's dilemma.You are Player 1. Do you choose to 'Cooperate' or 'Defect'? Game history: . Player 1: Cooperate, Player 2: Cooperate. Player 1: Cooperate, Player 2: Cooperate. Player 1: Cooperate, Player 2: Cooperate. Player 1: Cooperate, Player 2: Cooperate. Player 1: Cooperate, Player 2: Cooperate. Player 1: Cooperate, Player 2: Cooperate. Player 1: Cooperate, Player 2: Cooperate. Player 1: Cooperate, Player 2: Cooperate. Player 1: Cooperate, Player 2: Cooperate. Player 1: Cooperate, Player 2: Cooperate. Player 1: Cooperate, Player 2: Cooperate. Player 1:  Cooper\n"
     ]
    },
    {
     "name": "stderr",
     "output_type": "stream",
     "text": [
      "INFO:LLM_IPD:model 1 action: Cooperate\n",
      "INFO:LLM_IPD:model 2 action: Cooperate\n",
      "INFO:LLM_IPD:Round: 12\n"
     ]
    },
    {
     "name": "stdout",
     "output_type": "stream",
     "text": [
      "model  2  output:  You are playing multiple rounds of prisoner's dilemma.You are Player 2. Do you choose to 'Cooperate' or 'Defect'? Game history: . Player 2: Cooperate, Player 1: Cooperate. Player 2: Cooperate, Player 1: Cooperate. Player 2: Cooperate, Player 1: Cooperate. Player 2: Cooperate, Player 1: Cooperate. Player 2: Cooperate, Player 1: Cooperate. Player 2: Cooperate, Player 1: Cooperate. Player 2: Cooperate, Player 1: Cooperate. Player 2: Cooperate, Player 1: Cooperate. Player 2: Cooperate, Player 1: Cooperate. Player 2: Cooperate, Player 1: Cooperate. Player 2: Cooperate, Player 1: Cooperate. Player 2:   Cooper\n"
     ]
    },
    {
     "name": "stderr",
     "output_type": "stream",
     "text": [
      "The attention mask and the pad token id were not set. As a consequence, you may observe unexpected behavior. Please pass your input's `attention_mask` to obtain reliable results.\n",
      "Setting `pad_token_id` to `eos_token_id`:2 for open-end generation.\n"
     ]
    },
    {
     "name": "stdout",
     "output_type": "stream",
     "text": [
      "model  1  output:  You are playing multiple rounds of prisoner's dilemma.You are Player 1. Do you choose to 'Cooperate' or 'Defect'? Game history: . Player 1: Cooperate, Player 2: Cooperate. Player 1: Cooperate, Player 2: Cooperate. Player 1: Cooperate, Player 2: Cooperate. Player 1: Cooperate, Player 2: Cooperate. Player 1: Cooperate, Player 2: Cooperate. Player 1: Cooperate, Player 2: Cooperate. Player 1: Cooperate, Player 2: Cooperate. Player 1: Cooperate, Player 2: Cooperate. Player 1: Cooperate, Player 2: Cooperate. Player 1: Cooperate, Player 2: Cooperate. Player 1: Cooperate, Player 2: Cooperate. Player 1: Cooperate, Player 2: Cooperate. Player 1:  Cooper\n"
     ]
    },
    {
     "name": "stderr",
     "output_type": "stream",
     "text": [
      "INFO:LLM_IPD:model 1 action: Cooperate\n",
      "INFO:LLM_IPD:model 2 action: Cooperate\n",
      "INFO:LLM_IPD:Round: 13\n"
     ]
    },
    {
     "name": "stdout",
     "output_type": "stream",
     "text": [
      "model  2  output:  You are playing multiple rounds of prisoner's dilemma.You are Player 2. Do you choose to 'Cooperate' or 'Defect'? Game history: . Player 2: Cooperate, Player 1: Cooperate. Player 2: Cooperate, Player 1: Cooperate. Player 2: Cooperate, Player 1: Cooperate. Player 2: Cooperate, Player 1: Cooperate. Player 2: Cooperate, Player 1: Cooperate. Player 2: Cooperate, Player 1: Cooperate. Player 2: Cooperate, Player 1: Cooperate. Player 2: Cooperate, Player 1: Cooperate. Player 2: Cooperate, Player 1: Cooperate. Player 2: Cooperate, Player 1: Cooperate. Player 2: Cooperate, Player 1: Cooperate. Player 2: Cooperate, Player 1: Cooperate. Player 2:   Cooper\n"
     ]
    },
    {
     "name": "stderr",
     "output_type": "stream",
     "text": [
      "The attention mask and the pad token id were not set. As a consequence, you may observe unexpected behavior. Please pass your input's `attention_mask` to obtain reliable results.\n",
      "Setting `pad_token_id` to `eos_token_id`:2 for open-end generation.\n"
     ]
    },
    {
     "name": "stdout",
     "output_type": "stream",
     "text": [
      "model  1  output:  You are playing multiple rounds of prisoner's dilemma.You are Player 1. Do you choose to 'Cooperate' or 'Defect'? Game history: . Player 1: Cooperate, Player 2: Cooperate. Player 1: Cooperate, Player 2: Cooperate. Player 1: Cooperate, Player 2: Cooperate. Player 1: Cooperate, Player 2: Cooperate. Player 1: Cooperate, Player 2: Cooperate. Player 1: Cooperate, Player 2: Cooperate. Player 1: Cooperate, Player 2: Cooperate. Player 1: Cooperate, Player 2: Cooperate. Player 1: Cooperate, Player 2: Cooperate. Player 1: Cooperate, Player 2: Cooperate. Player 1: Cooperate, Player 2: Cooperate. Player 1: Cooperate, Player 2: Cooperate. Player 1: Cooperate, Player 2: Cooperate. Player 1:  Cooper\n"
     ]
    },
    {
     "name": "stderr",
     "output_type": "stream",
     "text": [
      "INFO:LLM_IPD:model 1 action: Cooperate\n",
      "INFO:LLM_IPD:model 2 action: Cooperate\n",
      "INFO:LLM_IPD:Round: 14\n"
     ]
    },
    {
     "name": "stdout",
     "output_type": "stream",
     "text": [
      "model  2  output:  You are playing multiple rounds of prisoner's dilemma.You are Player 2. Do you choose to 'Cooperate' or 'Defect'? Game history: . Player 2: Cooperate, Player 1: Cooperate. Player 2: Cooperate, Player 1: Cooperate. Player 2: Cooperate, Player 1: Cooperate. Player 2: Cooperate, Player 1: Cooperate. Player 2: Cooperate, Player 1: Cooperate. Player 2: Cooperate, Player 1: Cooperate. Player 2: Cooperate, Player 1: Cooperate. Player 2: Cooperate, Player 1: Cooperate. Player 2: Cooperate, Player 1: Cooperate. Player 2: Cooperate, Player 1: Cooperate. Player 2: Cooperate, Player 1: Cooperate. Player 2: Cooperate, Player 1: Cooperate. Player 2: Cooperate, Player 1: Cooperate. Player 2:   Cooper\n"
     ]
    },
    {
     "name": "stderr",
     "output_type": "stream",
     "text": [
      "The attention mask and the pad token id were not set. As a consequence, you may observe unexpected behavior. Please pass your input's `attention_mask` to obtain reliable results.\n",
      "Setting `pad_token_id` to `eos_token_id`:2 for open-end generation.\n"
     ]
    },
    {
     "name": "stdout",
     "output_type": "stream",
     "text": [
      "model  1  output:  You are playing multiple rounds of prisoner's dilemma.You are Player 1. Do you choose to 'Cooperate' or 'Defect'? Game history: . Player 1: Cooperate, Player 2: Cooperate. Player 1: Cooperate, Player 2: Cooperate. Player 1: Cooperate, Player 2: Cooperate. Player 1: Cooperate, Player 2: Cooperate. Player 1: Cooperate, Player 2: Cooperate. Player 1: Cooperate, Player 2: Cooperate. Player 1: Cooperate, Player 2: Cooperate. Player 1: Cooperate, Player 2: Cooperate. Player 1: Cooperate, Player 2: Cooperate. Player 1: Cooperate, Player 2: Cooperate. Player 1: Cooperate, Player 2: Cooperate. Player 1: Cooperate, Player 2: Cooperate. Player 1: Cooperate, Player 2: Cooperate. Player 1: Cooperate, Player 2: Cooperate. Player 1:  Cooper\n"
     ]
    },
    {
     "name": "stderr",
     "output_type": "stream",
     "text": [
      "INFO:LLM_IPD:model 1 action: Cooperate\n",
      "INFO:LLM_IPD:model 2 action: Cooperate\n",
      "INFO:LLM_IPD:Round: 15\n"
     ]
    },
    {
     "name": "stdout",
     "output_type": "stream",
     "text": [
      "model  2  output:  You are playing multiple rounds of prisoner's dilemma.You are Player 2. Do you choose to 'Cooperate' or 'Defect'? Game history: . Player 2: Cooperate, Player 1: Cooperate. Player 2: Cooperate, Player 1: Cooperate. Player 2: Cooperate, Player 1: Cooperate. Player 2: Cooperate, Player 1: Cooperate. Player 2: Cooperate, Player 1: Cooperate. Player 2: Cooperate, Player 1: Cooperate. Player 2: Cooperate, Player 1: Cooperate. Player 2: Cooperate, Player 1: Cooperate. Player 2: Cooperate, Player 1: Cooperate. Player 2: Cooperate, Player 1: Cooperate. Player 2: Cooperate, Player 1: Cooperate. Player 2: Cooperate, Player 1: Cooperate. Player 2: Cooperate, Player 1: Cooperate. Player 2: Cooperate, Player 1: Cooperate. Player 2:   Cooper\n"
     ]
    },
    {
     "name": "stderr",
     "output_type": "stream",
     "text": [
      "The attention mask and the pad token id were not set. As a consequence, you may observe unexpected behavior. Please pass your input's `attention_mask` to obtain reliable results.\n",
      "Setting `pad_token_id` to `eos_token_id`:2 for open-end generation.\n"
     ]
    },
    {
     "name": "stdout",
     "output_type": "stream",
     "text": [
      "model  1  output:  You are playing multiple rounds of prisoner's dilemma.You are Player 1. Do you choose to 'Cooperate' or 'Defect'? Game history: . Player 1: Cooperate, Player 2: Cooperate. Player 1: Cooperate, Player 2: Cooperate. Player 1: Cooperate, Player 2: Cooperate. Player 1: Cooperate, Player 2: Cooperate. Player 1: Cooperate, Player 2: Cooperate. Player 1: Cooperate, Player 2: Cooperate. Player 1: Cooperate, Player 2: Cooperate. Player 1: Cooperate, Player 2: Cooperate. Player 1: Cooperate, Player 2: Cooperate. Player 1: Cooperate, Player 2: Cooperate. Player 1: Cooperate, Player 2: Cooperate. Player 1: Cooperate, Player 2: Cooperate. Player 1: Cooperate, Player 2: Cooperate. Player 1: Cooperate, Player 2: Cooperate. Player 1: Cooperate, Player 2: Cooperate. Player 1:  Cooper\n"
     ]
    },
    {
     "name": "stderr",
     "output_type": "stream",
     "text": [
      "INFO:LLM_IPD:model 1 action: Cooperate\n",
      "INFO:LLM_IPD:model 2 action: Cooperate\n",
      "INFO:LLM_IPD:Round: 16\n"
     ]
    },
    {
     "name": "stdout",
     "output_type": "stream",
     "text": [
      "model  2  output:  You are playing multiple rounds of prisoner's dilemma.You are Player 2. Do you choose to 'Cooperate' or 'Defect'? Game history: . Player 2: Cooperate, Player 1: Cooperate. Player 2: Cooperate, Player 1: Cooperate. Player 2: Cooperate, Player 1: Cooperate. Player 2: Cooperate, Player 1: Cooperate. Player 2: Cooperate, Player 1: Cooperate. Player 2: Cooperate, Player 1: Cooperate. Player 2: Cooperate, Player 1: Cooperate. Player 2: Cooperate, Player 1: Cooperate. Player 2: Cooperate, Player 1: Cooperate. Player 2: Cooperate, Player 1: Cooperate. Player 2: Cooperate, Player 1: Cooperate. Player 2: Cooperate, Player 1: Cooperate. Player 2: Cooperate, Player 1: Cooperate. Player 2: Cooperate, Player 1: Cooperate. Player 2: Cooperate, Player 1: Cooperate. Player 2:   Cooper\n"
     ]
    },
    {
     "name": "stderr",
     "output_type": "stream",
     "text": [
      "The attention mask and the pad token id were not set. As a consequence, you may observe unexpected behavior. Please pass your input's `attention_mask` to obtain reliable results.\n",
      "Setting `pad_token_id` to `eos_token_id`:2 for open-end generation.\n"
     ]
    },
    {
     "name": "stdout",
     "output_type": "stream",
     "text": [
      "model  1  output:  You are playing multiple rounds of prisoner's dilemma.You are Player 1. Do you choose to 'Cooperate' or 'Defect'? Game history: . Player 1: Cooperate, Player 2: Cooperate. Player 1: Cooperate, Player 2: Cooperate. Player 1: Cooperate, Player 2: Cooperate. Player 1: Cooperate, Player 2: Cooperate. Player 1: Cooperate, Player 2: Cooperate. Player 1: Cooperate, Player 2: Cooperate. Player 1: Cooperate, Player 2: Cooperate. Player 1: Cooperate, Player 2: Cooperate. Player 1: Cooperate, Player 2: Cooperate. Player 1: Cooperate, Player 2: Cooperate. Player 1: Cooperate, Player 2: Cooperate. Player 1: Cooperate, Player 2: Cooperate. Player 1: Cooperate, Player 2: Cooperate. Player 1: Cooperate, Player 2: Cooperate. Player 1: Cooperate, Player 2: Cooperate. Player 1: Cooperate, Player 2: Cooperate. Player 1:  Cooper\n"
     ]
    },
    {
     "name": "stderr",
     "output_type": "stream",
     "text": [
      "INFO:LLM_IPD:model 1 action: Cooperate\n",
      "INFO:LLM_IPD:model 2 action: Cooperate\n",
      "INFO:LLM_IPD:Round: 17\n"
     ]
    },
    {
     "name": "stdout",
     "output_type": "stream",
     "text": [
      "model  2  output:  You are playing multiple rounds of prisoner's dilemma.You are Player 2. Do you choose to 'Cooperate' or 'Defect'? Game history: . Player 2: Cooperate, Player 1: Cooperate. Player 2: Cooperate, Player 1: Cooperate. Player 2: Cooperate, Player 1: Cooperate. Player 2: Cooperate, Player 1: Cooperate. Player 2: Cooperate, Player 1: Cooperate. Player 2: Cooperate, Player 1: Cooperate. Player 2: Cooperate, Player 1: Cooperate. Player 2: Cooperate, Player 1: Cooperate. Player 2: Cooperate, Player 1: Cooperate. Player 2: Cooperate, Player 1: Cooperate. Player 2: Cooperate, Player 1: Cooperate. Player 2: Cooperate, Player 1: Cooperate. Player 2: Cooperate, Player 1: Cooperate. Player 2: Cooperate, Player 1: Cooperate. Player 2: Cooperate, Player 1: Cooperate. Player 2: Cooperate, Player 1: Cooperate. Player 2:   Cooper\n"
     ]
    },
    {
     "name": "stderr",
     "output_type": "stream",
     "text": [
      "The attention mask and the pad token id were not set. As a consequence, you may observe unexpected behavior. Please pass your input's `attention_mask` to obtain reliable results.\n",
      "Setting `pad_token_id` to `eos_token_id`:2 for open-end generation.\n"
     ]
    },
    {
     "name": "stdout",
     "output_type": "stream",
     "text": [
      "model  1  output:  You are playing multiple rounds of prisoner's dilemma.You are Player 1. Do you choose to 'Cooperate' or 'Defect'? Game history: . Player 1: Cooperate, Player 2: Cooperate. Player 1: Cooperate, Player 2: Cooperate. Player 1: Cooperate, Player 2: Cooperate. Player 1: Cooperate, Player 2: Cooperate. Player 1: Cooperate, Player 2: Cooperate. Player 1: Cooperate, Player 2: Cooperate. Player 1: Cooperate, Player 2: Cooperate. Player 1: Cooperate, Player 2: Cooperate. Player 1: Cooperate, Player 2: Cooperate. Player 1: Cooperate, Player 2: Cooperate. Player 1: Cooperate, Player 2: Cooperate. Player 1: Cooperate, Player 2: Cooperate. Player 1: Cooperate, Player 2: Cooperate. Player 1: Cooperate, Player 2: Cooperate. Player 1: Cooperate, Player 2: Cooperate. Player 1: Cooperate, Player 2: Cooperate. Player 1: Cooperate, Player 2: Cooperate. Player 1:  Cooper\n"
     ]
    },
    {
     "name": "stderr",
     "output_type": "stream",
     "text": [
      "INFO:LLM_IPD:model 1 action: Cooperate\n",
      "INFO:LLM_IPD:model 2 action: Cooperate\n",
      "INFO:LLM_IPD:Round: 18\n"
     ]
    },
    {
     "name": "stdout",
     "output_type": "stream",
     "text": [
      "model  2  output:  You are playing multiple rounds of prisoner's dilemma.You are Player 2. Do you choose to 'Cooperate' or 'Defect'? Game history: . Player 2: Cooperate, Player 1: Cooperate. Player 2: Cooperate, Player 1: Cooperate. Player 2: Cooperate, Player 1: Cooperate. Player 2: Cooperate, Player 1: Cooperate. Player 2: Cooperate, Player 1: Cooperate. Player 2: Cooperate, Player 1: Cooperate. Player 2: Cooperate, Player 1: Cooperate. Player 2: Cooperate, Player 1: Cooperate. Player 2: Cooperate, Player 1: Cooperate. Player 2: Cooperate, Player 1: Cooperate. Player 2: Cooperate, Player 1: Cooperate. Player 2: Cooperate, Player 1: Cooperate. Player 2: Cooperate, Player 1: Cooperate. Player 2: Cooperate, Player 1: Cooperate. Player 2: Cooperate, Player 1: Cooperate. Player 2: Cooperate, Player 1: Cooperate. Player 2: Cooperate, Player 1: Cooperate. Player 2:   Cooper\n"
     ]
    },
    {
     "name": "stderr",
     "output_type": "stream",
     "text": [
      "The attention mask and the pad token id were not set. As a consequence, you may observe unexpected behavior. Please pass your input's `attention_mask` to obtain reliable results.\n",
      "Setting `pad_token_id` to `eos_token_id`:2 for open-end generation.\n"
     ]
    },
    {
     "name": "stdout",
     "output_type": "stream",
     "text": [
      "model  1  output:  You are playing multiple rounds of prisoner's dilemma.You are Player 1. Do you choose to 'Cooperate' or 'Defect'? Game history: . Player 1: Cooperate, Player 2: Cooperate. Player 1: Cooperate, Player 2: Cooperate. Player 1: Cooperate, Player 2: Cooperate. Player 1: Cooperate, Player 2: Cooperate. Player 1: Cooperate, Player 2: Cooperate. Player 1: Cooperate, Player 2: Cooperate. Player 1: Cooperate, Player 2: Cooperate. Player 1: Cooperate, Player 2: Cooperate. Player 1: Cooperate, Player 2: Cooperate. Player 1: Cooperate, Player 2: Cooperate. Player 1: Cooperate, Player 2: Cooperate. Player 1: Cooperate, Player 2: Cooperate. Player 1: Cooperate, Player 2: Cooperate. Player 1: Cooperate, Player 2: Cooperate. Player 1: Cooperate, Player 2: Cooperate. Player 1: Cooperate, Player 2: Cooperate. Player 1: Cooperate, Player 2: Cooperate. Player 1: Cooperate, Player 2: Cooperate. Player 1:  Cooper\n"
     ]
    },
    {
     "name": "stderr",
     "output_type": "stream",
     "text": [
      "INFO:LLM_IPD:model 1 action: Cooperate\n",
      "INFO:LLM_IPD:model 2 action: Cooperate\n",
      "INFO:LLM_IPD:Round: 19\n"
     ]
    },
    {
     "name": "stdout",
     "output_type": "stream",
     "text": [
      "model  2  output:  You are playing multiple rounds of prisoner's dilemma.You are Player 2. Do you choose to 'Cooperate' or 'Defect'? Game history: . Player 2: Cooperate, Player 1: Cooperate. Player 2: Cooperate, Player 1: Cooperate. Player 2: Cooperate, Player 1: Cooperate. Player 2: Cooperate, Player 1: Cooperate. Player 2: Cooperate, Player 1: Cooperate. Player 2: Cooperate, Player 1: Cooperate. Player 2: Cooperate, Player 1: Cooperate. Player 2: Cooperate, Player 1: Cooperate. Player 2: Cooperate, Player 1: Cooperate. Player 2: Cooperate, Player 1: Cooperate. Player 2: Cooperate, Player 1: Cooperate. Player 2: Cooperate, Player 1: Cooperate. Player 2: Cooperate, Player 1: Cooperate. Player 2: Cooperate, Player 1: Cooperate. Player 2: Cooperate, Player 1: Cooperate. Player 2: Cooperate, Player 1: Cooperate. Player 2: Cooperate, Player 1: Cooperate. Player 2: Cooperate, Player 1: Cooperate. Player 2:   Cooper\n"
     ]
    },
    {
     "name": "stderr",
     "output_type": "stream",
     "text": [
      "The attention mask and the pad token id were not set. As a consequence, you may observe unexpected behavior. Please pass your input's `attention_mask` to obtain reliable results.\n",
      "Setting `pad_token_id` to `eos_token_id`:2 for open-end generation.\n"
     ]
    },
    {
     "name": "stdout",
     "output_type": "stream",
     "text": [
      "model  1  output:  You are playing multiple rounds of prisoner's dilemma.You are Player 1. Do you choose to 'Cooperate' or 'Defect'? Game history: . Player 1: Cooperate, Player 2: Cooperate. Player 1: Cooperate, Player 2: Cooperate. Player 1: Cooperate, Player 2: Cooperate. Player 1: Cooperate, Player 2: Cooperate. Player 1: Cooperate, Player 2: Cooperate. Player 1: Cooperate, Player 2: Cooperate. Player 1: Cooperate, Player 2: Cooperate. Player 1: Cooperate, Player 2: Cooperate. Player 1: Cooperate, Player 2: Cooperate. Player 1: Cooperate, Player 2: Cooperate. Player 1: Cooperate, Player 2: Cooperate. Player 1: Cooperate, Player 2: Cooperate. Player 1: Cooperate, Player 2: Cooperate. Player 1: Cooperate, Player 2: Cooperate. Player 1: Cooperate, Player 2: Cooperate. Player 1: Cooperate, Player 2: Cooperate. Player 1: Cooperate, Player 2: Cooperate. Player 1: Cooperate, Player 2: Cooperate. Player 1: Cooperate, Player 2: Cooperate. Player 1:  Cooper\n"
     ]
    },
    {
     "name": "stderr",
     "output_type": "stream",
     "text": [
      "INFO:LLM_IPD:model 1 action: Cooperate\n",
      "INFO:LLM_IPD:model 2 action: Cooperate\n",
      "INFO:LLM_IPD:Game: 8\n",
      "INFO:LLM_IPD:Round: 0\n"
     ]
    },
    {
     "name": "stdout",
     "output_type": "stream",
     "text": [
      "model  2  output:  You are playing multiple rounds of prisoner's dilemma.You are Player 2. Do you choose to 'Cooperate' or 'Defect'? Game history: . Player 2: Cooperate, Player 1: Cooperate. Player 2: Cooperate, Player 1: Cooperate. Player 2: Cooperate, Player 1: Cooperate. Player 2: Cooperate, Player 1: Cooperate. Player 2: Cooperate, Player 1: Cooperate. Player 2: Cooperate, Player 1: Cooperate. Player 2: Cooperate, Player 1: Cooperate. Player 2: Cooperate, Player 1: Cooperate. Player 2: Cooperate, Player 1: Cooperate. Player 2: Cooperate, Player 1: Cooperate. Player 2: Cooperate, Player 1: Cooperate. Player 2: Cooperate, Player 1: Cooperate. Player 2: Cooperate, Player 1: Cooperate. Player 2: Cooperate, Player 1: Cooperate. Player 2: Cooperate, Player 1: Cooperate. Player 2: Cooperate, Player 1: Cooperate. Player 2: Cooperate, Player 1: Cooperate. Player 2: Cooperate, Player 1: Cooperate. Player 2: Cooperate, Player 1: Cooperate. Player 2:   Cooper\n"
     ]
    },
    {
     "name": "stderr",
     "output_type": "stream",
     "text": [
      "The attention mask and the pad token id were not set. As a consequence, you may observe unexpected behavior. Please pass your input's `attention_mask` to obtain reliable results.\n",
      "Setting `pad_token_id` to `eos_token_id`:2 for open-end generation.\n"
     ]
    },
    {
     "name": "stdout",
     "output_type": "stream",
     "text": [
      "model  1  output:  You are playing multiple rounds of prisoner's dilemma.You are Player 1. Do you choose to 'Cooperate' or 'Defect'? Game history: . Player 1:  Cooper\n"
     ]
    },
    {
     "name": "stderr",
     "output_type": "stream",
     "text": [
      "INFO:LLM_IPD:model 1 action: Cooperate\n",
      "INFO:LLM_IPD:model 2 action: Cooperate\n",
      "INFO:LLM_IPD:Round: 1\n"
     ]
    },
    {
     "name": "stdout",
     "output_type": "stream",
     "text": [
      "model  2  output:  You are playing multiple rounds of prisoner's dilemma.You are Player 2. Do you choose to 'Cooperate' or 'Defect'? Game history: . Player 2:   Player\n"
     ]
    },
    {
     "name": "stderr",
     "output_type": "stream",
     "text": [
      "The attention mask and the pad token id were not set. As a consequence, you may observe unexpected behavior. Please pass your input's `attention_mask` to obtain reliable results.\n",
      "Setting `pad_token_id` to `eos_token_id`:2 for open-end generation.\n"
     ]
    },
    {
     "name": "stdout",
     "output_type": "stream",
     "text": [
      "model  1  output:  You are playing multiple rounds of prisoner's dilemma.You are Player 1. Do you choose to 'Cooperate' or 'Defect'? Game history: . Player 1: Cooperate, Player 2: Cooperate. Player 1:  Cooper\n"
     ]
    },
    {
     "name": "stderr",
     "output_type": "stream",
     "text": [
      "INFO:LLM_IPD:model 1 action: Cooperate\n",
      "INFO:LLM_IPD:model 2 action: Cooperate\n",
      "INFO:LLM_IPD:Round: 2\n"
     ]
    },
    {
     "name": "stdout",
     "output_type": "stream",
     "text": [
      "model  2  output:  You are playing multiple rounds of prisoner's dilemma.You are Player 2. Do you choose to 'Cooperate' or 'Defect'? Game history: . Player 2: Cooperate, Player 1: Cooperate. Player 2:  ‎\n"
     ]
    },
    {
     "name": "stderr",
     "output_type": "stream",
     "text": [
      "The attention mask and the pad token id were not set. As a consequence, you may observe unexpected behavior. Please pass your input's `attention_mask` to obtain reliable results.\n",
      "Setting `pad_token_id` to `eos_token_id`:2 for open-end generation.\n"
     ]
    },
    {
     "name": "stdout",
     "output_type": "stream",
     "text": [
      "model  1  output:  You are playing multiple rounds of prisoner's dilemma.You are Player 1. Do you choose to 'Cooperate' or 'Defect'? Game history: . Player 1: Cooperate, Player 2: Cooperate. Player 1: Cooperate, Player 2: Cooperate. Player 1:  Cooper\n"
     ]
    },
    {
     "name": "stderr",
     "output_type": "stream",
     "text": [
      "INFO:LLM_IPD:model 1 action: Cooperate\n",
      "INFO:LLM_IPD:model 2 action: Cooperate\n",
      "INFO:LLM_IPD:Round: 3\n"
     ]
    },
    {
     "name": "stdout",
     "output_type": "stream",
     "text": [
      "model  2  output:  You are playing multiple rounds of prisoner's dilemma.You are Player 2. Do you choose to 'Cooperate' or 'Defect'? Game history: . Player 2: Cooperate, Player 1: Cooperate. Player 2: Cooperate, Player 1: Cooperate. Player 2:  ‎\n"
     ]
    },
    {
     "name": "stderr",
     "output_type": "stream",
     "text": [
      "The attention mask and the pad token id were not set. As a consequence, you may observe unexpected behavior. Please pass your input's `attention_mask` to obtain reliable results.\n",
      "Setting `pad_token_id` to `eos_token_id`:2 for open-end generation.\n"
     ]
    },
    {
     "name": "stdout",
     "output_type": "stream",
     "text": [
      "model  1  output:  You are playing multiple rounds of prisoner's dilemma.You are Player 1. Do you choose to 'Cooperate' or 'Defect'? Game history: . Player 1: Cooperate, Player 2: Cooperate. Player 1: Cooperate, Player 2: Cooperate. Player 1: Cooperate, Player 2: Cooperate. Player 1:  Cooper\n"
     ]
    },
    {
     "name": "stderr",
     "output_type": "stream",
     "text": [
      "INFO:LLM_IPD:model 1 action: Cooperate\n",
      "INFO:LLM_IPD:model 2 action: Cooperate\n",
      "INFO:LLM_IPD:Round: 4\n"
     ]
    },
    {
     "name": "stdout",
     "output_type": "stream",
     "text": [
      "model  2  output:  You are playing multiple rounds of prisoner's dilemma.You are Player 2. Do you choose to 'Cooperate' or 'Defect'? Game history: . Player 2: Cooperate, Player 1: Cooperate. Player 2: Cooperate, Player 1: Cooperate. Player 2: Cooperate, Player 1: Cooperate. Player 2:  ‎\n"
     ]
    },
    {
     "name": "stderr",
     "output_type": "stream",
     "text": [
      "The attention mask and the pad token id were not set. As a consequence, you may observe unexpected behavior. Please pass your input's `attention_mask` to obtain reliable results.\n",
      "Setting `pad_token_id` to `eos_token_id`:2 for open-end generation.\n"
     ]
    },
    {
     "name": "stdout",
     "output_type": "stream",
     "text": [
      "model  1  output:  You are playing multiple rounds of prisoner's dilemma.You are Player 1. Do you choose to 'Cooperate' or 'Defect'? Game history: . Player 1: Cooperate, Player 2: Cooperate. Player 1: Cooperate, Player 2: Cooperate. Player 1: Cooperate, Player 2: Cooperate. Player 1: Cooperate, Player 2: Cooperate. Player 1:  Cooper\n"
     ]
    },
    {
     "name": "stderr",
     "output_type": "stream",
     "text": [
      "INFO:LLM_IPD:model 1 action: Cooperate\n",
      "INFO:LLM_IPD:model 2 action: Cooperate\n",
      "INFO:LLM_IPD:Round: 5\n"
     ]
    },
    {
     "name": "stdout",
     "output_type": "stream",
     "text": [
      "model  2  output:  You are playing multiple rounds of prisoner's dilemma.You are Player 2. Do you choose to 'Cooperate' or 'Defect'? Game history: . Player 2: Cooperate, Player 1: Cooperate. Player 2: Cooperate, Player 1: Cooperate. Player 2: Cooperate, Player 1: Cooperate. Player 2: Cooperate, Player 1: Cooperate. Player 2:  ‎\n"
     ]
    },
    {
     "name": "stderr",
     "output_type": "stream",
     "text": [
      "The attention mask and the pad token id were not set. As a consequence, you may observe unexpected behavior. Please pass your input's `attention_mask` to obtain reliable results.\n",
      "Setting `pad_token_id` to `eos_token_id`:2 for open-end generation.\n"
     ]
    },
    {
     "name": "stdout",
     "output_type": "stream",
     "text": [
      "model  1  output:  You are playing multiple rounds of prisoner's dilemma.You are Player 1. Do you choose to 'Cooperate' or 'Defect'? Game history: . Player 1: Cooperate, Player 2: Cooperate. Player 1: Cooperate, Player 2: Cooperate. Player 1: Cooperate, Player 2: Cooperate. Player 1: Cooperate, Player 2: Cooperate. Player 1: Cooperate, Player 2: Cooperate. Player 1:  Cooper\n"
     ]
    },
    {
     "name": "stderr",
     "output_type": "stream",
     "text": [
      "INFO:LLM_IPD:model 1 action: Cooperate\n",
      "INFO:LLM_IPD:model 2 action: Cooperate\n",
      "INFO:LLM_IPD:Round: 6\n"
     ]
    },
    {
     "name": "stdout",
     "output_type": "stream",
     "text": [
      "model  2  output:  You are playing multiple rounds of prisoner's dilemma.You are Player 2. Do you choose to 'Cooperate' or 'Defect'? Game history: . Player 2: Cooperate, Player 1: Cooperate. Player 2: Cooperate, Player 1: Cooperate. Player 2: Cooperate, Player 1: Cooperate. Player 2: Cooperate, Player 1: Cooperate. Player 2: Cooperate, Player 1: Cooperate. Player 2:   The\n"
     ]
    },
    {
     "name": "stderr",
     "output_type": "stream",
     "text": [
      "The attention mask and the pad token id were not set. As a consequence, you may observe unexpected behavior. Please pass your input's `attention_mask` to obtain reliable results.\n",
      "Setting `pad_token_id` to `eos_token_id`:2 for open-end generation.\n"
     ]
    },
    {
     "name": "stdout",
     "output_type": "stream",
     "text": [
      "model  1  output:  You are playing multiple rounds of prisoner's dilemma.You are Player 1. Do you choose to 'Cooperate' or 'Defect'? Game history: . Player 1: Cooperate, Player 2: Cooperate. Player 1: Cooperate, Player 2: Cooperate. Player 1: Cooperate, Player 2: Cooperate. Player 1: Cooperate, Player 2: Cooperate. Player 1: Cooperate, Player 2: Cooperate. Player 1: Cooperate, Player 2: Cooperate. Player 1:  Cooper\n"
     ]
    },
    {
     "name": "stderr",
     "output_type": "stream",
     "text": [
      "INFO:LLM_IPD:model 1 action: Cooperate\n",
      "INFO:LLM_IPD:model 2 action: Cooperate\n",
      "INFO:LLM_IPD:Round: 7\n"
     ]
    },
    {
     "name": "stdout",
     "output_type": "stream",
     "text": [
      "model  2  output:  You are playing multiple rounds of prisoner's dilemma.You are Player 2. Do you choose to 'Cooperate' or 'Defect'? Game history: . Player 2: Cooperate, Player 1: Cooperate. Player 2: Cooperate, Player 1: Cooperate. Player 2: Cooperate, Player 1: Cooperate. Player 2: Cooperate, Player 1: Cooperate. Player 2: Cooperate, Player 1: Cooperate. Player 2: Cooperate, Player 1: Cooperate. Player 2:   The\n"
     ]
    },
    {
     "name": "stderr",
     "output_type": "stream",
     "text": [
      "The attention mask and the pad token id were not set. As a consequence, you may observe unexpected behavior. Please pass your input's `attention_mask` to obtain reliable results.\n",
      "Setting `pad_token_id` to `eos_token_id`:2 for open-end generation.\n"
     ]
    },
    {
     "name": "stdout",
     "output_type": "stream",
     "text": [
      "model  1  output:  You are playing multiple rounds of prisoner's dilemma.You are Player 1. Do you choose to 'Cooperate' or 'Defect'? Game history: . Player 1: Cooperate, Player 2: Cooperate. Player 1: Cooperate, Player 2: Cooperate. Player 1: Cooperate, Player 2: Cooperate. Player 1: Cooperate, Player 2: Cooperate. Player 1: Cooperate, Player 2: Cooperate. Player 1: Cooperate, Player 2: Cooperate. Player 1: Cooperate, Player 2: Cooperate. Player 1:  Cooper\n"
     ]
    },
    {
     "name": "stderr",
     "output_type": "stream",
     "text": [
      "INFO:LLM_IPD:model 1 action: Cooperate\n",
      "INFO:LLM_IPD:model 2 action: Cooperate\n",
      "INFO:LLM_IPD:Round: 8\n"
     ]
    },
    {
     "name": "stdout",
     "output_type": "stream",
     "text": [
      "model  2  output:  You are playing multiple rounds of prisoner's dilemma.You are Player 2. Do you choose to 'Cooperate' or 'Defect'? Game history: . Player 2: Cooperate, Player 1: Cooperate. Player 2: Cooperate, Player 1: Cooperate. Player 2: Cooperate, Player 1: Cooperate. Player 2: Cooperate, Player 1: Cooperate. Player 2: Cooperate, Player 1: Cooperate. Player 2: Cooperate, Player 1: Cooperate. Player 2: Cooperate, Player 1: Cooperate. Player 2:   Cooper\n"
     ]
    },
    {
     "name": "stderr",
     "output_type": "stream",
     "text": [
      "The attention mask and the pad token id were not set. As a consequence, you may observe unexpected behavior. Please pass your input's `attention_mask` to obtain reliable results.\n",
      "Setting `pad_token_id` to `eos_token_id`:2 for open-end generation.\n"
     ]
    },
    {
     "name": "stdout",
     "output_type": "stream",
     "text": [
      "model  1  output:  You are playing multiple rounds of prisoner's dilemma.You are Player 1. Do you choose to 'Cooperate' or 'Defect'? Game history: . Player 1: Cooperate, Player 2: Cooperate. Player 1: Cooperate, Player 2: Cooperate. Player 1: Cooperate, Player 2: Cooperate. Player 1: Cooperate, Player 2: Cooperate. Player 1: Cooperate, Player 2: Cooperate. Player 1: Cooperate, Player 2: Cooperate. Player 1: Cooperate, Player 2: Cooperate. Player 1: Cooperate, Player 2: Cooperate. Player 1:  Cooper\n"
     ]
    },
    {
     "name": "stderr",
     "output_type": "stream",
     "text": [
      "INFO:LLM_IPD:model 1 action: Cooperate\n",
      "INFO:LLM_IPD:model 2 action: Cooperate\n",
      "INFO:LLM_IPD:Round: 9\n"
     ]
    },
    {
     "name": "stdout",
     "output_type": "stream",
     "text": [
      "model  2  output:  You are playing multiple rounds of prisoner's dilemma.You are Player 2. Do you choose to 'Cooperate' or 'Defect'? Game history: . Player 2: Cooperate, Player 1: Cooperate. Player 2: Cooperate, Player 1: Cooperate. Player 2: Cooperate, Player 1: Cooperate. Player 2: Cooperate, Player 1: Cooperate. Player 2: Cooperate, Player 1: Cooperate. Player 2: Cooperate, Player 1: Cooperate. Player 2: Cooperate, Player 1: Cooperate. Player 2: Cooperate, Player 1: Cooperate. Player 2:   Cooper\n"
     ]
    },
    {
     "name": "stderr",
     "output_type": "stream",
     "text": [
      "The attention mask and the pad token id were not set. As a consequence, you may observe unexpected behavior. Please pass your input's `attention_mask` to obtain reliable results.\n",
      "Setting `pad_token_id` to `eos_token_id`:2 for open-end generation.\n"
     ]
    },
    {
     "name": "stdout",
     "output_type": "stream",
     "text": [
      "model  1  output:  You are playing multiple rounds of prisoner's dilemma.You are Player 1. Do you choose to 'Cooperate' or 'Defect'? Game history: . Player 1: Cooperate, Player 2: Cooperate. Player 1: Cooperate, Player 2: Cooperate. Player 1: Cooperate, Player 2: Cooperate. Player 1: Cooperate, Player 2: Cooperate. Player 1: Cooperate, Player 2: Cooperate. Player 1: Cooperate, Player 2: Cooperate. Player 1: Cooperate, Player 2: Cooperate. Player 1: Cooperate, Player 2: Cooperate. Player 1: Cooperate, Player 2: Cooperate. Player 1:  Cooper\n"
     ]
    },
    {
     "name": "stderr",
     "output_type": "stream",
     "text": [
      "INFO:LLM_IPD:model 1 action: Cooperate\n",
      "INFO:LLM_IPD:model 2 action: Cooperate\n",
      "INFO:LLM_IPD:Round: 10\n"
     ]
    },
    {
     "name": "stdout",
     "output_type": "stream",
     "text": [
      "model  2  output:  You are playing multiple rounds of prisoner's dilemma.You are Player 2. Do you choose to 'Cooperate' or 'Defect'? Game history: . Player 2: Cooperate, Player 1: Cooperate. Player 2: Cooperate, Player 1: Cooperate. Player 2: Cooperate, Player 1: Cooperate. Player 2: Cooperate, Player 1: Cooperate. Player 2: Cooperate, Player 1: Cooperate. Player 2: Cooperate, Player 1: Cooperate. Player 2: Cooperate, Player 1: Cooperate. Player 2: Cooperate, Player 1: Cooperate. Player 2: Cooperate, Player 1: Cooperate. Player 2:   Cooper\n"
     ]
    },
    {
     "name": "stderr",
     "output_type": "stream",
     "text": [
      "The attention mask and the pad token id were not set. As a consequence, you may observe unexpected behavior. Please pass your input's `attention_mask` to obtain reliable results.\n",
      "Setting `pad_token_id` to `eos_token_id`:2 for open-end generation.\n"
     ]
    },
    {
     "name": "stdout",
     "output_type": "stream",
     "text": [
      "model  1  output:  You are playing multiple rounds of prisoner's dilemma.You are Player 1. Do you choose to 'Cooperate' or 'Defect'? Game history: . Player 1: Cooperate, Player 2: Cooperate. Player 1: Cooperate, Player 2: Cooperate. Player 1: Cooperate, Player 2: Cooperate. Player 1: Cooperate, Player 2: Cooperate. Player 1: Cooperate, Player 2: Cooperate. Player 1: Cooperate, Player 2: Cooperate. Player 1: Cooperate, Player 2: Cooperate. Player 1: Cooperate, Player 2: Cooperate. Player 1: Cooperate, Player 2: Cooperate. Player 1: Cooperate, Player 2: Cooperate. Player 1:  Cooper\n"
     ]
    },
    {
     "name": "stderr",
     "output_type": "stream",
     "text": [
      "INFO:LLM_IPD:model 1 action: Cooperate\n",
      "INFO:LLM_IPD:model 2 action: Cooperate\n",
      "INFO:LLM_IPD:Round: 11\n"
     ]
    },
    {
     "name": "stdout",
     "output_type": "stream",
     "text": [
      "model  2  output:  You are playing multiple rounds of prisoner's dilemma.You are Player 2. Do you choose to 'Cooperate' or 'Defect'? Game history: . Player 2: Cooperate, Player 1: Cooperate. Player 2: Cooperate, Player 1: Cooperate. Player 2: Cooperate, Player 1: Cooperate. Player 2: Cooperate, Player 1: Cooperate. Player 2: Cooperate, Player 1: Cooperate. Player 2: Cooperate, Player 1: Cooperate. Player 2: Cooperate, Player 1: Cooperate. Player 2: Cooperate, Player 1: Cooperate. Player 2: Cooperate, Player 1: Cooperate. Player 2: Cooperate, Player 1: Cooperate. Player 2:   Cooper\n"
     ]
    },
    {
     "name": "stderr",
     "output_type": "stream",
     "text": [
      "The attention mask and the pad token id were not set. As a consequence, you may observe unexpected behavior. Please pass your input's `attention_mask` to obtain reliable results.\n",
      "Setting `pad_token_id` to `eos_token_id`:2 for open-end generation.\n"
     ]
    },
    {
     "name": "stdout",
     "output_type": "stream",
     "text": [
      "model  1  output:  You are playing multiple rounds of prisoner's dilemma.You are Player 1. Do you choose to 'Cooperate' or 'Defect'? Game history: . Player 1: Cooperate, Player 2: Cooperate. Player 1: Cooperate, Player 2: Cooperate. Player 1: Cooperate, Player 2: Cooperate. Player 1: Cooperate, Player 2: Cooperate. Player 1: Cooperate, Player 2: Cooperate. Player 1: Cooperate, Player 2: Cooperate. Player 1: Cooperate, Player 2: Cooperate. Player 1: Cooperate, Player 2: Cooperate. Player 1: Cooperate, Player 2: Cooperate. Player 1: Cooperate, Player 2: Cooperate. Player 1: Cooperate, Player 2: Cooperate. Player 1:  Cooper\n"
     ]
    },
    {
     "name": "stderr",
     "output_type": "stream",
     "text": [
      "INFO:LLM_IPD:model 1 action: Cooperate\n",
      "INFO:LLM_IPD:model 2 action: Cooperate\n",
      "INFO:LLM_IPD:Round: 12\n"
     ]
    },
    {
     "name": "stdout",
     "output_type": "stream",
     "text": [
      "model  2  output:  You are playing multiple rounds of prisoner's dilemma.You are Player 2. Do you choose to 'Cooperate' or 'Defect'? Game history: . Player 2: Cooperate, Player 1: Cooperate. Player 2: Cooperate, Player 1: Cooperate. Player 2: Cooperate, Player 1: Cooperate. Player 2: Cooperate, Player 1: Cooperate. Player 2: Cooperate, Player 1: Cooperate. Player 2: Cooperate, Player 1: Cooperate. Player 2: Cooperate, Player 1: Cooperate. Player 2: Cooperate, Player 1: Cooperate. Player 2: Cooperate, Player 1: Cooperate. Player 2: Cooperate, Player 1: Cooperate. Player 2: Cooperate, Player 1: Cooperate. Player 2:   Cooper\n"
     ]
    },
    {
     "name": "stderr",
     "output_type": "stream",
     "text": [
      "The attention mask and the pad token id were not set. As a consequence, you may observe unexpected behavior. Please pass your input's `attention_mask` to obtain reliable results.\n",
      "Setting `pad_token_id` to `eos_token_id`:2 for open-end generation.\n"
     ]
    },
    {
     "name": "stdout",
     "output_type": "stream",
     "text": [
      "model  1  output:  You are playing multiple rounds of prisoner's dilemma.You are Player 1. Do you choose to 'Cooperate' or 'Defect'? Game history: . Player 1: Cooperate, Player 2: Cooperate. Player 1: Cooperate, Player 2: Cooperate. Player 1: Cooperate, Player 2: Cooperate. Player 1: Cooperate, Player 2: Cooperate. Player 1: Cooperate, Player 2: Cooperate. Player 1: Cooperate, Player 2: Cooperate. Player 1: Cooperate, Player 2: Cooperate. Player 1: Cooperate, Player 2: Cooperate. Player 1: Cooperate, Player 2: Cooperate. Player 1: Cooperate, Player 2: Cooperate. Player 1: Cooperate, Player 2: Cooperate. Player 1: Cooperate, Player 2: Cooperate. Player 1:  Cooper\n"
     ]
    },
    {
     "name": "stderr",
     "output_type": "stream",
     "text": [
      "INFO:LLM_IPD:model 1 action: Cooperate\n",
      "INFO:LLM_IPD:model 2 action: Cooperate\n",
      "INFO:LLM_IPD:Round: 13\n"
     ]
    },
    {
     "name": "stdout",
     "output_type": "stream",
     "text": [
      "model  2  output:  You are playing multiple rounds of prisoner's dilemma.You are Player 2. Do you choose to 'Cooperate' or 'Defect'? Game history: . Player 2: Cooperate, Player 1: Cooperate. Player 2: Cooperate, Player 1: Cooperate. Player 2: Cooperate, Player 1: Cooperate. Player 2: Cooperate, Player 1: Cooperate. Player 2: Cooperate, Player 1: Cooperate. Player 2: Cooperate, Player 1: Cooperate. Player 2: Cooperate, Player 1: Cooperate. Player 2: Cooperate, Player 1: Cooperate. Player 2: Cooperate, Player 1: Cooperate. Player 2: Cooperate, Player 1: Cooperate. Player 2: Cooperate, Player 1: Cooperate. Player 2: Cooperate, Player 1: Cooperate. Player 2:   Cooper\n"
     ]
    },
    {
     "name": "stderr",
     "output_type": "stream",
     "text": [
      "The attention mask and the pad token id were not set. As a consequence, you may observe unexpected behavior. Please pass your input's `attention_mask` to obtain reliable results.\n",
      "Setting `pad_token_id` to `eos_token_id`:2 for open-end generation.\n"
     ]
    },
    {
     "name": "stdout",
     "output_type": "stream",
     "text": [
      "model  1  output:  You are playing multiple rounds of prisoner's dilemma.You are Player 1. Do you choose to 'Cooperate' or 'Defect'? Game history: . Player 1: Cooperate, Player 2: Cooperate. Player 1: Cooperate, Player 2: Cooperate. Player 1: Cooperate, Player 2: Cooperate. Player 1: Cooperate, Player 2: Cooperate. Player 1: Cooperate, Player 2: Cooperate. Player 1: Cooperate, Player 2: Cooperate. Player 1: Cooperate, Player 2: Cooperate. Player 1: Cooperate, Player 2: Cooperate. Player 1: Cooperate, Player 2: Cooperate. Player 1: Cooperate, Player 2: Cooperate. Player 1: Cooperate, Player 2: Cooperate. Player 1: Cooperate, Player 2: Cooperate. Player 1: Cooperate, Player 2: Cooperate. Player 1:  Cooper\n"
     ]
    },
    {
     "name": "stderr",
     "output_type": "stream",
     "text": [
      "INFO:LLM_IPD:model 1 action: Cooperate\n",
      "INFO:LLM_IPD:model 2 action: Cooperate\n",
      "INFO:LLM_IPD:Round: 14\n"
     ]
    },
    {
     "name": "stdout",
     "output_type": "stream",
     "text": [
      "model  2  output:  You are playing multiple rounds of prisoner's dilemma.You are Player 2. Do you choose to 'Cooperate' or 'Defect'? Game history: . Player 2: Cooperate, Player 1: Cooperate. Player 2: Cooperate, Player 1: Cooperate. Player 2: Cooperate, Player 1: Cooperate. Player 2: Cooperate, Player 1: Cooperate. Player 2: Cooperate, Player 1: Cooperate. Player 2: Cooperate, Player 1: Cooperate. Player 2: Cooperate, Player 1: Cooperate. Player 2: Cooperate, Player 1: Cooperate. Player 2: Cooperate, Player 1: Cooperate. Player 2: Cooperate, Player 1: Cooperate. Player 2: Cooperate, Player 1: Cooperate. Player 2: Cooperate, Player 1: Cooperate. Player 2: Cooperate, Player 1: Cooperate. Player 2:   Cooper\n"
     ]
    },
    {
     "name": "stderr",
     "output_type": "stream",
     "text": [
      "The attention mask and the pad token id were not set. As a consequence, you may observe unexpected behavior. Please pass your input's `attention_mask` to obtain reliable results.\n",
      "Setting `pad_token_id` to `eos_token_id`:2 for open-end generation.\n"
     ]
    },
    {
     "name": "stdout",
     "output_type": "stream",
     "text": [
      "model  1  output:  You are playing multiple rounds of prisoner's dilemma.You are Player 1. Do you choose to 'Cooperate' or 'Defect'? Game history: . Player 1: Cooperate, Player 2: Cooperate. Player 1: Cooperate, Player 2: Cooperate. Player 1: Cooperate, Player 2: Cooperate. Player 1: Cooperate, Player 2: Cooperate. Player 1: Cooperate, Player 2: Cooperate. Player 1: Cooperate, Player 2: Cooperate. Player 1: Cooperate, Player 2: Cooperate. Player 1: Cooperate, Player 2: Cooperate. Player 1: Cooperate, Player 2: Cooperate. Player 1: Cooperate, Player 2: Cooperate. Player 1: Cooperate, Player 2: Cooperate. Player 1: Cooperate, Player 2: Cooperate. Player 1: Cooperate, Player 2: Cooperate. Player 1: Cooperate, Player 2: Cooperate. Player 1:  Cooper\n"
     ]
    },
    {
     "name": "stderr",
     "output_type": "stream",
     "text": [
      "INFO:LLM_IPD:model 1 action: Cooperate\n",
      "INFO:LLM_IPD:model 2 action: Cooperate\n",
      "INFO:LLM_IPD:Round: 15\n"
     ]
    },
    {
     "name": "stdout",
     "output_type": "stream",
     "text": [
      "model  2  output:  You are playing multiple rounds of prisoner's dilemma.You are Player 2. Do you choose to 'Cooperate' or 'Defect'? Game history: . Player 2: Cooperate, Player 1: Cooperate. Player 2: Cooperate, Player 1: Cooperate. Player 2: Cooperate, Player 1: Cooperate. Player 2: Cooperate, Player 1: Cooperate. Player 2: Cooperate, Player 1: Cooperate. Player 2: Cooperate, Player 1: Cooperate. Player 2: Cooperate, Player 1: Cooperate. Player 2: Cooperate, Player 1: Cooperate. Player 2: Cooperate, Player 1: Cooperate. Player 2: Cooperate, Player 1: Cooperate. Player 2: Cooperate, Player 1: Cooperate. Player 2: Cooperate, Player 1: Cooperate. Player 2: Cooperate, Player 1: Cooperate. Player 2: Cooperate, Player 1: Cooperate. Player 2:   Cooper\n"
     ]
    },
    {
     "name": "stderr",
     "output_type": "stream",
     "text": [
      "The attention mask and the pad token id were not set. As a consequence, you may observe unexpected behavior. Please pass your input's `attention_mask` to obtain reliable results.\n",
      "Setting `pad_token_id` to `eos_token_id`:2 for open-end generation.\n"
     ]
    },
    {
     "name": "stdout",
     "output_type": "stream",
     "text": [
      "model  1  output:  You are playing multiple rounds of prisoner's dilemma.You are Player 1. Do you choose to 'Cooperate' or 'Defect'? Game history: . Player 1: Cooperate, Player 2: Cooperate. Player 1: Cooperate, Player 2: Cooperate. Player 1: Cooperate, Player 2: Cooperate. Player 1: Cooperate, Player 2: Cooperate. Player 1: Cooperate, Player 2: Cooperate. Player 1: Cooperate, Player 2: Cooperate. Player 1: Cooperate, Player 2: Cooperate. Player 1: Cooperate, Player 2: Cooperate. Player 1: Cooperate, Player 2: Cooperate. Player 1: Cooperate, Player 2: Cooperate. Player 1: Cooperate, Player 2: Cooperate. Player 1: Cooperate, Player 2: Cooperate. Player 1: Cooperate, Player 2: Cooperate. Player 1: Cooperate, Player 2: Cooperate. Player 1: Cooperate, Player 2: Cooperate. Player 1:  Cooper\n"
     ]
    },
    {
     "name": "stderr",
     "output_type": "stream",
     "text": [
      "INFO:LLM_IPD:model 1 action: Cooperate\n",
      "INFO:LLM_IPD:model 2 action: Cooperate\n",
      "INFO:LLM_IPD:Round: 16\n"
     ]
    },
    {
     "name": "stdout",
     "output_type": "stream",
     "text": [
      "model  2  output:  You are playing multiple rounds of prisoner's dilemma.You are Player 2. Do you choose to 'Cooperate' or 'Defect'? Game history: . Player 2: Cooperate, Player 1: Cooperate. Player 2: Cooperate, Player 1: Cooperate. Player 2: Cooperate, Player 1: Cooperate. Player 2: Cooperate, Player 1: Cooperate. Player 2: Cooperate, Player 1: Cooperate. Player 2: Cooperate, Player 1: Cooperate. Player 2: Cooperate, Player 1: Cooperate. Player 2: Cooperate, Player 1: Cooperate. Player 2: Cooperate, Player 1: Cooperate. Player 2: Cooperate, Player 1: Cooperate. Player 2: Cooperate, Player 1: Cooperate. Player 2: Cooperate, Player 1: Cooperate. Player 2: Cooperate, Player 1: Cooperate. Player 2: Cooperate, Player 1: Cooperate. Player 2: Cooperate, Player 1: Cooperate. Player 2:   Cooper\n"
     ]
    },
    {
     "name": "stderr",
     "output_type": "stream",
     "text": [
      "The attention mask and the pad token id were not set. As a consequence, you may observe unexpected behavior. Please pass your input's `attention_mask` to obtain reliable results.\n",
      "Setting `pad_token_id` to `eos_token_id`:2 for open-end generation.\n"
     ]
    },
    {
     "name": "stdout",
     "output_type": "stream",
     "text": [
      "model  1  output:  You are playing multiple rounds of prisoner's dilemma.You are Player 1. Do you choose to 'Cooperate' or 'Defect'? Game history: . Player 1: Cooperate, Player 2: Cooperate. Player 1: Cooperate, Player 2: Cooperate. Player 1: Cooperate, Player 2: Cooperate. Player 1: Cooperate, Player 2: Cooperate. Player 1: Cooperate, Player 2: Cooperate. Player 1: Cooperate, Player 2: Cooperate. Player 1: Cooperate, Player 2: Cooperate. Player 1: Cooperate, Player 2: Cooperate. Player 1: Cooperate, Player 2: Cooperate. Player 1: Cooperate, Player 2: Cooperate. Player 1: Cooperate, Player 2: Cooperate. Player 1: Cooperate, Player 2: Cooperate. Player 1: Cooperate, Player 2: Cooperate. Player 1: Cooperate, Player 2: Cooperate. Player 1: Cooperate, Player 2: Cooperate. Player 1: Cooperate, Player 2: Cooperate. Player 1:  Cooper\n"
     ]
    },
    {
     "name": "stderr",
     "output_type": "stream",
     "text": [
      "INFO:LLM_IPD:model 1 action: Cooperate\n",
      "INFO:LLM_IPD:model 2 action: Cooperate\n",
      "INFO:LLM_IPD:Round: 17\n"
     ]
    },
    {
     "name": "stdout",
     "output_type": "stream",
     "text": [
      "model  2  output:  You are playing multiple rounds of prisoner's dilemma.You are Player 2. Do you choose to 'Cooperate' or 'Defect'? Game history: . Player 2: Cooperate, Player 1: Cooperate. Player 2: Cooperate, Player 1: Cooperate. Player 2: Cooperate, Player 1: Cooperate. Player 2: Cooperate, Player 1: Cooperate. Player 2: Cooperate, Player 1: Cooperate. Player 2: Cooperate, Player 1: Cooperate. Player 2: Cooperate, Player 1: Cooperate. Player 2: Cooperate, Player 1: Cooperate. Player 2: Cooperate, Player 1: Cooperate. Player 2: Cooperate, Player 1: Cooperate. Player 2: Cooperate, Player 1: Cooperate. Player 2: Cooperate, Player 1: Cooperate. Player 2: Cooperate, Player 1: Cooperate. Player 2: Cooperate, Player 1: Cooperate. Player 2: Cooperate, Player 1: Cooperate. Player 2: Cooperate, Player 1: Cooperate. Player 2:   Cooper\n"
     ]
    },
    {
     "name": "stderr",
     "output_type": "stream",
     "text": [
      "The attention mask and the pad token id were not set. As a consequence, you may observe unexpected behavior. Please pass your input's `attention_mask` to obtain reliable results.\n",
      "Setting `pad_token_id` to `eos_token_id`:2 for open-end generation.\n"
     ]
    },
    {
     "name": "stdout",
     "output_type": "stream",
     "text": [
      "model  1  output:  You are playing multiple rounds of prisoner's dilemma.You are Player 1. Do you choose to 'Cooperate' or 'Defect'? Game history: . Player 1: Cooperate, Player 2: Cooperate. Player 1: Cooperate, Player 2: Cooperate. Player 1: Cooperate, Player 2: Cooperate. Player 1: Cooperate, Player 2: Cooperate. Player 1: Cooperate, Player 2: Cooperate. Player 1: Cooperate, Player 2: Cooperate. Player 1: Cooperate, Player 2: Cooperate. Player 1: Cooperate, Player 2: Cooperate. Player 1: Cooperate, Player 2: Cooperate. Player 1: Cooperate, Player 2: Cooperate. Player 1: Cooperate, Player 2: Cooperate. Player 1: Cooperate, Player 2: Cooperate. Player 1: Cooperate, Player 2: Cooperate. Player 1: Cooperate, Player 2: Cooperate. Player 1: Cooperate, Player 2: Cooperate. Player 1: Cooperate, Player 2: Cooperate. Player 1: Cooperate, Player 2: Cooperate. Player 1:  Cooper\n"
     ]
    },
    {
     "name": "stderr",
     "output_type": "stream",
     "text": [
      "INFO:LLM_IPD:model 1 action: Cooperate\n",
      "INFO:LLM_IPD:model 2 action: Cooperate\n",
      "INFO:LLM_IPD:Round: 18\n"
     ]
    },
    {
     "name": "stdout",
     "output_type": "stream",
     "text": [
      "model  2  output:  You are playing multiple rounds of prisoner's dilemma.You are Player 2. Do you choose to 'Cooperate' or 'Defect'? Game history: . Player 2: Cooperate, Player 1: Cooperate. Player 2: Cooperate, Player 1: Cooperate. Player 2: Cooperate, Player 1: Cooperate. Player 2: Cooperate, Player 1: Cooperate. Player 2: Cooperate, Player 1: Cooperate. Player 2: Cooperate, Player 1: Cooperate. Player 2: Cooperate, Player 1: Cooperate. Player 2: Cooperate, Player 1: Cooperate. Player 2: Cooperate, Player 1: Cooperate. Player 2: Cooperate, Player 1: Cooperate. Player 2: Cooperate, Player 1: Cooperate. Player 2: Cooperate, Player 1: Cooperate. Player 2: Cooperate, Player 1: Cooperate. Player 2: Cooperate, Player 1: Cooperate. Player 2: Cooperate, Player 1: Cooperate. Player 2: Cooperate, Player 1: Cooperate. Player 2: Cooperate, Player 1: Cooperate. Player 2:   Cooper\n"
     ]
    },
    {
     "name": "stderr",
     "output_type": "stream",
     "text": [
      "The attention mask and the pad token id were not set. As a consequence, you may observe unexpected behavior. Please pass your input's `attention_mask` to obtain reliable results.\n",
      "Setting `pad_token_id` to `eos_token_id`:2 for open-end generation.\n"
     ]
    },
    {
     "name": "stdout",
     "output_type": "stream",
     "text": [
      "model  1  output:  You are playing multiple rounds of prisoner's dilemma.You are Player 1. Do you choose to 'Cooperate' or 'Defect'? Game history: . Player 1: Cooperate, Player 2: Cooperate. Player 1: Cooperate, Player 2: Cooperate. Player 1: Cooperate, Player 2: Cooperate. Player 1: Cooperate, Player 2: Cooperate. Player 1: Cooperate, Player 2: Cooperate. Player 1: Cooperate, Player 2: Cooperate. Player 1: Cooperate, Player 2: Cooperate. Player 1: Cooperate, Player 2: Cooperate. Player 1: Cooperate, Player 2: Cooperate. Player 1: Cooperate, Player 2: Cooperate. Player 1: Cooperate, Player 2: Cooperate. Player 1: Cooperate, Player 2: Cooperate. Player 1: Cooperate, Player 2: Cooperate. Player 1: Cooperate, Player 2: Cooperate. Player 1: Cooperate, Player 2: Cooperate. Player 1: Cooperate, Player 2: Cooperate. Player 1: Cooperate, Player 2: Cooperate. Player 1: Cooperate, Player 2: Cooperate. Player 1:  Cooper\n"
     ]
    },
    {
     "name": "stderr",
     "output_type": "stream",
     "text": [
      "INFO:LLM_IPD:model 1 action: Cooperate\n",
      "INFO:LLM_IPD:model 2 action: Cooperate\n",
      "INFO:LLM_IPD:Round: 19\n"
     ]
    },
    {
     "name": "stdout",
     "output_type": "stream",
     "text": [
      "model  2  output:  You are playing multiple rounds of prisoner's dilemma.You are Player 2. Do you choose to 'Cooperate' or 'Defect'? Game history: . Player 2: Cooperate, Player 1: Cooperate. Player 2: Cooperate, Player 1: Cooperate. Player 2: Cooperate, Player 1: Cooperate. Player 2: Cooperate, Player 1: Cooperate. Player 2: Cooperate, Player 1: Cooperate. Player 2: Cooperate, Player 1: Cooperate. Player 2: Cooperate, Player 1: Cooperate. Player 2: Cooperate, Player 1: Cooperate. Player 2: Cooperate, Player 1: Cooperate. Player 2: Cooperate, Player 1: Cooperate. Player 2: Cooperate, Player 1: Cooperate. Player 2: Cooperate, Player 1: Cooperate. Player 2: Cooperate, Player 1: Cooperate. Player 2: Cooperate, Player 1: Cooperate. Player 2: Cooperate, Player 1: Cooperate. Player 2: Cooperate, Player 1: Cooperate. Player 2: Cooperate, Player 1: Cooperate. Player 2: Cooperate, Player 1: Cooperate. Player 2:   Cooper\n"
     ]
    },
    {
     "name": "stderr",
     "output_type": "stream",
     "text": [
      "The attention mask and the pad token id were not set. As a consequence, you may observe unexpected behavior. Please pass your input's `attention_mask` to obtain reliable results.\n",
      "Setting `pad_token_id` to `eos_token_id`:2 for open-end generation.\n"
     ]
    },
    {
     "name": "stdout",
     "output_type": "stream",
     "text": [
      "model  1  output:  You are playing multiple rounds of prisoner's dilemma.You are Player 1. Do you choose to 'Cooperate' or 'Defect'? Game history: . Player 1: Cooperate, Player 2: Cooperate. Player 1: Cooperate, Player 2: Cooperate. Player 1: Cooperate, Player 2: Cooperate. Player 1: Cooperate, Player 2: Cooperate. Player 1: Cooperate, Player 2: Cooperate. Player 1: Cooperate, Player 2: Cooperate. Player 1: Cooperate, Player 2: Cooperate. Player 1: Cooperate, Player 2: Cooperate. Player 1: Cooperate, Player 2: Cooperate. Player 1: Cooperate, Player 2: Cooperate. Player 1: Cooperate, Player 2: Cooperate. Player 1: Cooperate, Player 2: Cooperate. Player 1: Cooperate, Player 2: Cooperate. Player 1: Cooperate, Player 2: Cooperate. Player 1: Cooperate, Player 2: Cooperate. Player 1: Cooperate, Player 2: Cooperate. Player 1: Cooperate, Player 2: Cooperate. Player 1: Cooperate, Player 2: Cooperate. Player 1: Cooperate, Player 2: Cooperate. Player 1:  Cooper\n"
     ]
    },
    {
     "name": "stderr",
     "output_type": "stream",
     "text": [
      "INFO:LLM_IPD:model 1 action: Cooperate\n",
      "INFO:LLM_IPD:model 2 action: Cooperate\n",
      "INFO:LLM_IPD:Game: 9\n",
      "INFO:LLM_IPD:Round: 0\n"
     ]
    },
    {
     "name": "stdout",
     "output_type": "stream",
     "text": [
      "model  2  output:  You are playing multiple rounds of prisoner's dilemma.You are Player 2. Do you choose to 'Cooperate' or 'Defect'? Game history: . Player 2: Cooperate, Player 1: Cooperate. Player 2: Cooperate, Player 1: Cooperate. Player 2: Cooperate, Player 1: Cooperate. Player 2: Cooperate, Player 1: Cooperate. Player 2: Cooperate, Player 1: Cooperate. Player 2: Cooperate, Player 1: Cooperate. Player 2: Cooperate, Player 1: Cooperate. Player 2: Cooperate, Player 1: Cooperate. Player 2: Cooperate, Player 1: Cooperate. Player 2: Cooperate, Player 1: Cooperate. Player 2: Cooperate, Player 1: Cooperate. Player 2: Cooperate, Player 1: Cooperate. Player 2: Cooperate, Player 1: Cooperate. Player 2: Cooperate, Player 1: Cooperate. Player 2: Cooperate, Player 1: Cooperate. Player 2: Cooperate, Player 1: Cooperate. Player 2: Cooperate, Player 1: Cooperate. Player 2: Cooperate, Player 1: Cooperate. Player 2: Cooperate, Player 1: Cooperate. Player 2:   Cooper\n"
     ]
    },
    {
     "name": "stderr",
     "output_type": "stream",
     "text": [
      "The attention mask and the pad token id were not set. As a consequence, you may observe unexpected behavior. Please pass your input's `attention_mask` to obtain reliable results.\n",
      "Setting `pad_token_id` to `eos_token_id`:2 for open-end generation.\n"
     ]
    },
    {
     "name": "stdout",
     "output_type": "stream",
     "text": [
      "model  1  output:  You are playing multiple rounds of prisoner's dilemma.You are Player 1. Do you choose to 'Cooperate' or 'Defect'? Game history: . Player 1:  Cooper\n"
     ]
    },
    {
     "name": "stderr",
     "output_type": "stream",
     "text": [
      "INFO:LLM_IPD:model 1 action: Cooperate\n",
      "INFO:LLM_IPD:model 2 action: Cooperate\n",
      "INFO:LLM_IPD:Round: 1\n"
     ]
    },
    {
     "name": "stdout",
     "output_type": "stream",
     "text": [
      "model  2  output:  You are playing multiple rounds of prisoner's dilemma.You are Player 2. Do you choose to 'Cooperate' or 'Defect'? Game history: . Player 2:   Player\n"
     ]
    },
    {
     "name": "stderr",
     "output_type": "stream",
     "text": [
      "The attention mask and the pad token id were not set. As a consequence, you may observe unexpected behavior. Please pass your input's `attention_mask` to obtain reliable results.\n",
      "Setting `pad_token_id` to `eos_token_id`:2 for open-end generation.\n"
     ]
    },
    {
     "name": "stdout",
     "output_type": "stream",
     "text": [
      "model  1  output:  You are playing multiple rounds of prisoner's dilemma.You are Player 1. Do you choose to 'Cooperate' or 'Defect'? Game history: . Player 1: Cooperate, Player 2: Cooperate. Player 1:  Cooper\n"
     ]
    },
    {
     "name": "stderr",
     "output_type": "stream",
     "text": [
      "INFO:LLM_IPD:model 1 action: Cooperate\n",
      "INFO:LLM_IPD:model 2 action: Cooperate\n",
      "INFO:LLM_IPD:Round: 2\n"
     ]
    },
    {
     "name": "stdout",
     "output_type": "stream",
     "text": [
      "model  2  output:  You are playing multiple rounds of prisoner's dilemma.You are Player 2. Do you choose to 'Cooperate' or 'Defect'? Game history: . Player 2: Cooperate, Player 1: Cooperate. Player 2:  ‎\n"
     ]
    },
    {
     "name": "stderr",
     "output_type": "stream",
     "text": [
      "The attention mask and the pad token id were not set. As a consequence, you may observe unexpected behavior. Please pass your input's `attention_mask` to obtain reliable results.\n",
      "Setting `pad_token_id` to `eos_token_id`:2 for open-end generation.\n"
     ]
    },
    {
     "name": "stdout",
     "output_type": "stream",
     "text": [
      "model  1  output:  You are playing multiple rounds of prisoner's dilemma.You are Player 1. Do you choose to 'Cooperate' or 'Defect'? Game history: . Player 1: Cooperate, Player 2: Cooperate. Player 1: Cooperate, Player 2: Cooperate. Player 1:  Cooper\n"
     ]
    },
    {
     "name": "stderr",
     "output_type": "stream",
     "text": [
      "INFO:LLM_IPD:model 1 action: Cooperate\n",
      "INFO:LLM_IPD:model 2 action: Cooperate\n",
      "INFO:LLM_IPD:Round: 3\n"
     ]
    },
    {
     "name": "stdout",
     "output_type": "stream",
     "text": [
      "model  2  output:  You are playing multiple rounds of prisoner's dilemma.You are Player 2. Do you choose to 'Cooperate' or 'Defect'? Game history: . Player 2: Cooperate, Player 1: Cooperate. Player 2: Cooperate, Player 1: Cooperate. Player 2:  ‎\n"
     ]
    },
    {
     "name": "stderr",
     "output_type": "stream",
     "text": [
      "The attention mask and the pad token id were not set. As a consequence, you may observe unexpected behavior. Please pass your input's `attention_mask` to obtain reliable results.\n",
      "Setting `pad_token_id` to `eos_token_id`:2 for open-end generation.\n"
     ]
    },
    {
     "name": "stdout",
     "output_type": "stream",
     "text": [
      "model  1  output:  You are playing multiple rounds of prisoner's dilemma.You are Player 1. Do you choose to 'Cooperate' or 'Defect'? Game history: . Player 1: Cooperate, Player 2: Cooperate. Player 1: Cooperate, Player 2: Cooperate. Player 1: Cooperate, Player 2: Cooperate. Player 1:  Cooper\n"
     ]
    },
    {
     "name": "stderr",
     "output_type": "stream",
     "text": [
      "INFO:LLM_IPD:model 1 action: Cooperate\n",
      "INFO:LLM_IPD:model 2 action: Cooperate\n",
      "INFO:LLM_IPD:Round: 4\n"
     ]
    },
    {
     "name": "stdout",
     "output_type": "stream",
     "text": [
      "model  2  output:  You are playing multiple rounds of prisoner's dilemma.You are Player 2. Do you choose to 'Cooperate' or 'Defect'? Game history: . Player 2: Cooperate, Player 1: Cooperate. Player 2: Cooperate, Player 1: Cooperate. Player 2: Cooperate, Player 1: Cooperate. Player 2:  ‎\n"
     ]
    },
    {
     "name": "stderr",
     "output_type": "stream",
     "text": [
      "The attention mask and the pad token id were not set. As a consequence, you may observe unexpected behavior. Please pass your input's `attention_mask` to obtain reliable results.\n",
      "Setting `pad_token_id` to `eos_token_id`:2 for open-end generation.\n"
     ]
    },
    {
     "name": "stdout",
     "output_type": "stream",
     "text": [
      "model  1  output:  You are playing multiple rounds of prisoner's dilemma.You are Player 1. Do you choose to 'Cooperate' or 'Defect'? Game history: . Player 1: Cooperate, Player 2: Cooperate. Player 1: Cooperate, Player 2: Cooperate. Player 1: Cooperate, Player 2: Cooperate. Player 1: Cooperate, Player 2: Cooperate. Player 1:  Cooper\n"
     ]
    },
    {
     "name": "stderr",
     "output_type": "stream",
     "text": [
      "INFO:LLM_IPD:model 1 action: Cooperate\n",
      "INFO:LLM_IPD:model 2 action: Cooperate\n",
      "INFO:LLM_IPD:Round: 5\n"
     ]
    },
    {
     "name": "stdout",
     "output_type": "stream",
     "text": [
      "model  2  output:  You are playing multiple rounds of prisoner's dilemma.You are Player 2. Do you choose to 'Cooperate' or 'Defect'? Game history: . Player 2: Cooperate, Player 1: Cooperate. Player 2: Cooperate, Player 1: Cooperate. Player 2: Cooperate, Player 1: Cooperate. Player 2: Cooperate, Player 1: Cooperate. Player 2:  ‎\n"
     ]
    },
    {
     "name": "stderr",
     "output_type": "stream",
     "text": [
      "The attention mask and the pad token id were not set. As a consequence, you may observe unexpected behavior. Please pass your input's `attention_mask` to obtain reliable results.\n",
      "Setting `pad_token_id` to `eos_token_id`:2 for open-end generation.\n"
     ]
    },
    {
     "name": "stdout",
     "output_type": "stream",
     "text": [
      "model  1  output:  You are playing multiple rounds of prisoner's dilemma.You are Player 1. Do you choose to 'Cooperate' or 'Defect'? Game history: . Player 1: Cooperate, Player 2: Cooperate. Player 1: Cooperate, Player 2: Cooperate. Player 1: Cooperate, Player 2: Cooperate. Player 1: Cooperate, Player 2: Cooperate. Player 1: Cooperate, Player 2: Cooperate. Player 1:  Cooper\n"
     ]
    },
    {
     "name": "stderr",
     "output_type": "stream",
     "text": [
      "INFO:LLM_IPD:model 1 action: Cooperate\n",
      "INFO:LLM_IPD:model 2 action: Cooperate\n",
      "INFO:LLM_IPD:Round: 6\n"
     ]
    },
    {
     "name": "stdout",
     "output_type": "stream",
     "text": [
      "model  2  output:  You are playing multiple rounds of prisoner's dilemma.You are Player 2. Do you choose to 'Cooperate' or 'Defect'? Game history: . Player 2: Cooperate, Player 1: Cooperate. Player 2: Cooperate, Player 1: Cooperate. Player 2: Cooperate, Player 1: Cooperate. Player 2: Cooperate, Player 1: Cooperate. Player 2: Cooperate, Player 1: Cooperate. Player 2:   The\n"
     ]
    },
    {
     "name": "stderr",
     "output_type": "stream",
     "text": [
      "The attention mask and the pad token id were not set. As a consequence, you may observe unexpected behavior. Please pass your input's `attention_mask` to obtain reliable results.\n",
      "Setting `pad_token_id` to `eos_token_id`:2 for open-end generation.\n"
     ]
    },
    {
     "name": "stdout",
     "output_type": "stream",
     "text": [
      "model  1  output:  You are playing multiple rounds of prisoner's dilemma.You are Player 1. Do you choose to 'Cooperate' or 'Defect'? Game history: . Player 1: Cooperate, Player 2: Cooperate. Player 1: Cooperate, Player 2: Cooperate. Player 1: Cooperate, Player 2: Cooperate. Player 1: Cooperate, Player 2: Cooperate. Player 1: Cooperate, Player 2: Cooperate. Player 1: Cooperate, Player 2: Cooperate. Player 1:  Cooper\n"
     ]
    },
    {
     "name": "stderr",
     "output_type": "stream",
     "text": [
      "INFO:LLM_IPD:model 1 action: Cooperate\n",
      "INFO:LLM_IPD:model 2 action: Cooperate\n",
      "INFO:LLM_IPD:Round: 7\n"
     ]
    },
    {
     "name": "stdout",
     "output_type": "stream",
     "text": [
      "model  2  output:  You are playing multiple rounds of prisoner's dilemma.You are Player 2. Do you choose to 'Cooperate' or 'Defect'? Game history: . Player 2: Cooperate, Player 1: Cooperate. Player 2: Cooperate, Player 1: Cooperate. Player 2: Cooperate, Player 1: Cooperate. Player 2: Cooperate, Player 1: Cooperate. Player 2: Cooperate, Player 1: Cooperate. Player 2: Cooperate, Player 1: Cooperate. Player 2:   The\n"
     ]
    },
    {
     "name": "stderr",
     "output_type": "stream",
     "text": [
      "The attention mask and the pad token id were not set. As a consequence, you may observe unexpected behavior. Please pass your input's `attention_mask` to obtain reliable results.\n",
      "Setting `pad_token_id` to `eos_token_id`:2 for open-end generation.\n"
     ]
    },
    {
     "name": "stdout",
     "output_type": "stream",
     "text": [
      "model  1  output:  You are playing multiple rounds of prisoner's dilemma.You are Player 1. Do you choose to 'Cooperate' or 'Defect'? Game history: . Player 1: Cooperate, Player 2: Cooperate. Player 1: Cooperate, Player 2: Cooperate. Player 1: Cooperate, Player 2: Cooperate. Player 1: Cooperate, Player 2: Cooperate. Player 1: Cooperate, Player 2: Cooperate. Player 1: Cooperate, Player 2: Cooperate. Player 1: Cooperate, Player 2: Cooperate. Player 1:  Cooper\n"
     ]
    },
    {
     "name": "stderr",
     "output_type": "stream",
     "text": [
      "INFO:LLM_IPD:model 1 action: Cooperate\n",
      "INFO:LLM_IPD:model 2 action: Cooperate\n",
      "INFO:LLM_IPD:Round: 8\n"
     ]
    },
    {
     "name": "stdout",
     "output_type": "stream",
     "text": [
      "model  2  output:  You are playing multiple rounds of prisoner's dilemma.You are Player 2. Do you choose to 'Cooperate' or 'Defect'? Game history: . Player 2: Cooperate, Player 1: Cooperate. Player 2: Cooperate, Player 1: Cooperate. Player 2: Cooperate, Player 1: Cooperate. Player 2: Cooperate, Player 1: Cooperate. Player 2: Cooperate, Player 1: Cooperate. Player 2: Cooperate, Player 1: Cooperate. Player 2: Cooperate, Player 1: Cooperate. Player 2:   Cooper\n"
     ]
    },
    {
     "name": "stderr",
     "output_type": "stream",
     "text": [
      "The attention mask and the pad token id were not set. As a consequence, you may observe unexpected behavior. Please pass your input's `attention_mask` to obtain reliable results.\n",
      "Setting `pad_token_id` to `eos_token_id`:2 for open-end generation.\n"
     ]
    },
    {
     "name": "stdout",
     "output_type": "stream",
     "text": [
      "model  1  output:  You are playing multiple rounds of prisoner's dilemma.You are Player 1. Do you choose to 'Cooperate' or 'Defect'? Game history: . Player 1: Cooperate, Player 2: Cooperate. Player 1: Cooperate, Player 2: Cooperate. Player 1: Cooperate, Player 2: Cooperate. Player 1: Cooperate, Player 2: Cooperate. Player 1: Cooperate, Player 2: Cooperate. Player 1: Cooperate, Player 2: Cooperate. Player 1: Cooperate, Player 2: Cooperate. Player 1: Cooperate, Player 2: Cooperate. Player 1:  Cooper\n"
     ]
    },
    {
     "name": "stderr",
     "output_type": "stream",
     "text": [
      "INFO:LLM_IPD:model 1 action: Cooperate\n",
      "INFO:LLM_IPD:model 2 action: Cooperate\n",
      "INFO:LLM_IPD:Round: 9\n"
     ]
    },
    {
     "name": "stdout",
     "output_type": "stream",
     "text": [
      "model  2  output:  You are playing multiple rounds of prisoner's dilemma.You are Player 2. Do you choose to 'Cooperate' or 'Defect'? Game history: . Player 2: Cooperate, Player 1: Cooperate. Player 2: Cooperate, Player 1: Cooperate. Player 2: Cooperate, Player 1: Cooperate. Player 2: Cooperate, Player 1: Cooperate. Player 2: Cooperate, Player 1: Cooperate. Player 2: Cooperate, Player 1: Cooperate. Player 2: Cooperate, Player 1: Cooperate. Player 2: Cooperate, Player 1: Cooperate. Player 2:   Cooper\n"
     ]
    },
    {
     "name": "stderr",
     "output_type": "stream",
     "text": [
      "The attention mask and the pad token id were not set. As a consequence, you may observe unexpected behavior. Please pass your input's `attention_mask` to obtain reliable results.\n",
      "Setting `pad_token_id` to `eos_token_id`:2 for open-end generation.\n"
     ]
    },
    {
     "name": "stdout",
     "output_type": "stream",
     "text": [
      "model  1  output:  You are playing multiple rounds of prisoner's dilemma.You are Player 1. Do you choose to 'Cooperate' or 'Defect'? Game history: . Player 1: Cooperate, Player 2: Cooperate. Player 1: Cooperate, Player 2: Cooperate. Player 1: Cooperate, Player 2: Cooperate. Player 1: Cooperate, Player 2: Cooperate. Player 1: Cooperate, Player 2: Cooperate. Player 1: Cooperate, Player 2: Cooperate. Player 1: Cooperate, Player 2: Cooperate. Player 1: Cooperate, Player 2: Cooperate. Player 1: Cooperate, Player 2: Cooperate. Player 1:  Cooper\n"
     ]
    },
    {
     "name": "stderr",
     "output_type": "stream",
     "text": [
      "INFO:LLM_IPD:model 1 action: Cooperate\n",
      "INFO:LLM_IPD:model 2 action: Cooperate\n",
      "INFO:LLM_IPD:Round: 10\n"
     ]
    },
    {
     "name": "stdout",
     "output_type": "stream",
     "text": [
      "model  2  output:  You are playing multiple rounds of prisoner's dilemma.You are Player 2. Do you choose to 'Cooperate' or 'Defect'? Game history: . Player 2: Cooperate, Player 1: Cooperate. Player 2: Cooperate, Player 1: Cooperate. Player 2: Cooperate, Player 1: Cooperate. Player 2: Cooperate, Player 1: Cooperate. Player 2: Cooperate, Player 1: Cooperate. Player 2: Cooperate, Player 1: Cooperate. Player 2: Cooperate, Player 1: Cooperate. Player 2: Cooperate, Player 1: Cooperate. Player 2: Cooperate, Player 1: Cooperate. Player 2:   Cooper\n"
     ]
    },
    {
     "name": "stderr",
     "output_type": "stream",
     "text": [
      "The attention mask and the pad token id were not set. As a consequence, you may observe unexpected behavior. Please pass your input's `attention_mask` to obtain reliable results.\n",
      "Setting `pad_token_id` to `eos_token_id`:2 for open-end generation.\n"
     ]
    },
    {
     "name": "stdout",
     "output_type": "stream",
     "text": [
      "model  1  output:  You are playing multiple rounds of prisoner's dilemma.You are Player 1. Do you choose to 'Cooperate' or 'Defect'? Game history: . Player 1: Cooperate, Player 2: Cooperate. Player 1: Cooperate, Player 2: Cooperate. Player 1: Cooperate, Player 2: Cooperate. Player 1: Cooperate, Player 2: Cooperate. Player 1: Cooperate, Player 2: Cooperate. Player 1: Cooperate, Player 2: Cooperate. Player 1: Cooperate, Player 2: Cooperate. Player 1: Cooperate, Player 2: Cooperate. Player 1: Cooperate, Player 2: Cooperate. Player 1: Cooperate, Player 2: Cooperate. Player 1:  Cooper\n"
     ]
    },
    {
     "name": "stderr",
     "output_type": "stream",
     "text": [
      "INFO:LLM_IPD:model 1 action: Cooperate\n",
      "INFO:LLM_IPD:model 2 action: Cooperate\n",
      "INFO:LLM_IPD:Round: 11\n"
     ]
    },
    {
     "name": "stdout",
     "output_type": "stream",
     "text": [
      "model  2  output:  You are playing multiple rounds of prisoner's dilemma.You are Player 2. Do you choose to 'Cooperate' or 'Defect'? Game history: . Player 2: Cooperate, Player 1: Cooperate. Player 2: Cooperate, Player 1: Cooperate. Player 2: Cooperate, Player 1: Cooperate. Player 2: Cooperate, Player 1: Cooperate. Player 2: Cooperate, Player 1: Cooperate. Player 2: Cooperate, Player 1: Cooperate. Player 2: Cooperate, Player 1: Cooperate. Player 2: Cooperate, Player 1: Cooperate. Player 2: Cooperate, Player 1: Cooperate. Player 2: Cooperate, Player 1: Cooperate. Player 2:   Cooper\n"
     ]
    },
    {
     "name": "stderr",
     "output_type": "stream",
     "text": [
      "The attention mask and the pad token id were not set. As a consequence, you may observe unexpected behavior. Please pass your input's `attention_mask` to obtain reliable results.\n",
      "Setting `pad_token_id` to `eos_token_id`:2 for open-end generation.\n"
     ]
    },
    {
     "name": "stdout",
     "output_type": "stream",
     "text": [
      "model  1  output:  You are playing multiple rounds of prisoner's dilemma.You are Player 1. Do you choose to 'Cooperate' or 'Defect'? Game history: . Player 1: Cooperate, Player 2: Cooperate. Player 1: Cooperate, Player 2: Cooperate. Player 1: Cooperate, Player 2: Cooperate. Player 1: Cooperate, Player 2: Cooperate. Player 1: Cooperate, Player 2: Cooperate. Player 1: Cooperate, Player 2: Cooperate. Player 1: Cooperate, Player 2: Cooperate. Player 1: Cooperate, Player 2: Cooperate. Player 1: Cooperate, Player 2: Cooperate. Player 1: Cooperate, Player 2: Cooperate. Player 1: Cooperate, Player 2: Cooperate. Player 1:  Cooper\n"
     ]
    },
    {
     "name": "stderr",
     "output_type": "stream",
     "text": [
      "INFO:LLM_IPD:model 1 action: Cooperate\n",
      "INFO:LLM_IPD:model 2 action: Cooperate\n",
      "INFO:LLM_IPD:Round: 12\n"
     ]
    },
    {
     "name": "stdout",
     "output_type": "stream",
     "text": [
      "model  2  output:  You are playing multiple rounds of prisoner's dilemma.You are Player 2. Do you choose to 'Cooperate' or 'Defect'? Game history: . Player 2: Cooperate, Player 1: Cooperate. Player 2: Cooperate, Player 1: Cooperate. Player 2: Cooperate, Player 1: Cooperate. Player 2: Cooperate, Player 1: Cooperate. Player 2: Cooperate, Player 1: Cooperate. Player 2: Cooperate, Player 1: Cooperate. Player 2: Cooperate, Player 1: Cooperate. Player 2: Cooperate, Player 1: Cooperate. Player 2: Cooperate, Player 1: Cooperate. Player 2: Cooperate, Player 1: Cooperate. Player 2: Cooperate, Player 1: Cooperate. Player 2:   Cooper\n"
     ]
    },
    {
     "name": "stderr",
     "output_type": "stream",
     "text": [
      "The attention mask and the pad token id were not set. As a consequence, you may observe unexpected behavior. Please pass your input's `attention_mask` to obtain reliable results.\n",
      "Setting `pad_token_id` to `eos_token_id`:2 for open-end generation.\n"
     ]
    },
    {
     "name": "stdout",
     "output_type": "stream",
     "text": [
      "model  1  output:  You are playing multiple rounds of prisoner's dilemma.You are Player 1. Do you choose to 'Cooperate' or 'Defect'? Game history: . Player 1: Cooperate, Player 2: Cooperate. Player 1: Cooperate, Player 2: Cooperate. Player 1: Cooperate, Player 2: Cooperate. Player 1: Cooperate, Player 2: Cooperate. Player 1: Cooperate, Player 2: Cooperate. Player 1: Cooperate, Player 2: Cooperate. Player 1: Cooperate, Player 2: Cooperate. Player 1: Cooperate, Player 2: Cooperate. Player 1: Cooperate, Player 2: Cooperate. Player 1: Cooperate, Player 2: Cooperate. Player 1: Cooperate, Player 2: Cooperate. Player 1: Cooperate, Player 2: Cooperate. Player 1:  Cooper\n"
     ]
    },
    {
     "name": "stderr",
     "output_type": "stream",
     "text": [
      "INFO:LLM_IPD:model 1 action: Cooperate\n",
      "INFO:LLM_IPD:model 2 action: Cooperate\n",
      "INFO:LLM_IPD:Round: 13\n"
     ]
    },
    {
     "name": "stdout",
     "output_type": "stream",
     "text": [
      "model  2  output:  You are playing multiple rounds of prisoner's dilemma.You are Player 2. Do you choose to 'Cooperate' or 'Defect'? Game history: . Player 2: Cooperate, Player 1: Cooperate. Player 2: Cooperate, Player 1: Cooperate. Player 2: Cooperate, Player 1: Cooperate. Player 2: Cooperate, Player 1: Cooperate. Player 2: Cooperate, Player 1: Cooperate. Player 2: Cooperate, Player 1: Cooperate. Player 2: Cooperate, Player 1: Cooperate. Player 2: Cooperate, Player 1: Cooperate. Player 2: Cooperate, Player 1: Cooperate. Player 2: Cooperate, Player 1: Cooperate. Player 2: Cooperate, Player 1: Cooperate. Player 2: Cooperate, Player 1: Cooperate. Player 2:   Cooper\n"
     ]
    },
    {
     "name": "stderr",
     "output_type": "stream",
     "text": [
      "The attention mask and the pad token id were not set. As a consequence, you may observe unexpected behavior. Please pass your input's `attention_mask` to obtain reliable results.\n",
      "Setting `pad_token_id` to `eos_token_id`:2 for open-end generation.\n"
     ]
    },
    {
     "name": "stdout",
     "output_type": "stream",
     "text": [
      "model  1  output:  You are playing multiple rounds of prisoner's dilemma.You are Player 1. Do you choose to 'Cooperate' or 'Defect'? Game history: . Player 1: Cooperate, Player 2: Cooperate. Player 1: Cooperate, Player 2: Cooperate. Player 1: Cooperate, Player 2: Cooperate. Player 1: Cooperate, Player 2: Cooperate. Player 1: Cooperate, Player 2: Cooperate. Player 1: Cooperate, Player 2: Cooperate. Player 1: Cooperate, Player 2: Cooperate. Player 1: Cooperate, Player 2: Cooperate. Player 1: Cooperate, Player 2: Cooperate. Player 1: Cooperate, Player 2: Cooperate. Player 1: Cooperate, Player 2: Cooperate. Player 1: Cooperate, Player 2: Cooperate. Player 1: Cooperate, Player 2: Cooperate. Player 1:  Cooper\n"
     ]
    },
    {
     "name": "stderr",
     "output_type": "stream",
     "text": [
      "INFO:LLM_IPD:model 1 action: Cooperate\n",
      "INFO:LLM_IPD:model 2 action: Cooperate\n",
      "INFO:LLM_IPD:Round: 14\n"
     ]
    },
    {
     "name": "stdout",
     "output_type": "stream",
     "text": [
      "model  2  output:  You are playing multiple rounds of prisoner's dilemma.You are Player 2. Do you choose to 'Cooperate' or 'Defect'? Game history: . Player 2: Cooperate, Player 1: Cooperate. Player 2: Cooperate, Player 1: Cooperate. Player 2: Cooperate, Player 1: Cooperate. Player 2: Cooperate, Player 1: Cooperate. Player 2: Cooperate, Player 1: Cooperate. Player 2: Cooperate, Player 1: Cooperate. Player 2: Cooperate, Player 1: Cooperate. Player 2: Cooperate, Player 1: Cooperate. Player 2: Cooperate, Player 1: Cooperate. Player 2: Cooperate, Player 1: Cooperate. Player 2: Cooperate, Player 1: Cooperate. Player 2: Cooperate, Player 1: Cooperate. Player 2: Cooperate, Player 1: Cooperate. Player 2:   Cooper\n"
     ]
    },
    {
     "name": "stderr",
     "output_type": "stream",
     "text": [
      "The attention mask and the pad token id were not set. As a consequence, you may observe unexpected behavior. Please pass your input's `attention_mask` to obtain reliable results.\n",
      "Setting `pad_token_id` to `eos_token_id`:2 for open-end generation.\n"
     ]
    },
    {
     "name": "stdout",
     "output_type": "stream",
     "text": [
      "model  1  output:  You are playing multiple rounds of prisoner's dilemma.You are Player 1. Do you choose to 'Cooperate' or 'Defect'? Game history: . Player 1: Cooperate, Player 2: Cooperate. Player 1: Cooperate, Player 2: Cooperate. Player 1: Cooperate, Player 2: Cooperate. Player 1: Cooperate, Player 2: Cooperate. Player 1: Cooperate, Player 2: Cooperate. Player 1: Cooperate, Player 2: Cooperate. Player 1: Cooperate, Player 2: Cooperate. Player 1: Cooperate, Player 2: Cooperate. Player 1: Cooperate, Player 2: Cooperate. Player 1: Cooperate, Player 2: Cooperate. Player 1: Cooperate, Player 2: Cooperate. Player 1: Cooperate, Player 2: Cooperate. Player 1: Cooperate, Player 2: Cooperate. Player 1: Cooperate, Player 2: Cooperate. Player 1:  Cooper\n"
     ]
    },
    {
     "name": "stderr",
     "output_type": "stream",
     "text": [
      "INFO:LLM_IPD:model 1 action: Cooperate\n",
      "INFO:LLM_IPD:model 2 action: Cooperate\n",
      "INFO:LLM_IPD:Round: 15\n"
     ]
    },
    {
     "name": "stdout",
     "output_type": "stream",
     "text": [
      "model  2  output:  You are playing multiple rounds of prisoner's dilemma.You are Player 2. Do you choose to 'Cooperate' or 'Defect'? Game history: . Player 2: Cooperate, Player 1: Cooperate. Player 2: Cooperate, Player 1: Cooperate. Player 2: Cooperate, Player 1: Cooperate. Player 2: Cooperate, Player 1: Cooperate. Player 2: Cooperate, Player 1: Cooperate. Player 2: Cooperate, Player 1: Cooperate. Player 2: Cooperate, Player 1: Cooperate. Player 2: Cooperate, Player 1: Cooperate. Player 2: Cooperate, Player 1: Cooperate. Player 2: Cooperate, Player 1: Cooperate. Player 2: Cooperate, Player 1: Cooperate. Player 2: Cooperate, Player 1: Cooperate. Player 2: Cooperate, Player 1: Cooperate. Player 2: Cooperate, Player 1: Cooperate. Player 2:   Cooper\n"
     ]
    },
    {
     "name": "stderr",
     "output_type": "stream",
     "text": [
      "The attention mask and the pad token id were not set. As a consequence, you may observe unexpected behavior. Please pass your input's `attention_mask` to obtain reliable results.\n",
      "Setting `pad_token_id` to `eos_token_id`:2 for open-end generation.\n"
     ]
    },
    {
     "name": "stdout",
     "output_type": "stream",
     "text": [
      "model  1  output:  You are playing multiple rounds of prisoner's dilemma.You are Player 1. Do you choose to 'Cooperate' or 'Defect'? Game history: . Player 1: Cooperate, Player 2: Cooperate. Player 1: Cooperate, Player 2: Cooperate. Player 1: Cooperate, Player 2: Cooperate. Player 1: Cooperate, Player 2: Cooperate. Player 1: Cooperate, Player 2: Cooperate. Player 1: Cooperate, Player 2: Cooperate. Player 1: Cooperate, Player 2: Cooperate. Player 1: Cooperate, Player 2: Cooperate. Player 1: Cooperate, Player 2: Cooperate. Player 1: Cooperate, Player 2: Cooperate. Player 1: Cooperate, Player 2: Cooperate. Player 1: Cooperate, Player 2: Cooperate. Player 1: Cooperate, Player 2: Cooperate. Player 1: Cooperate, Player 2: Cooperate. Player 1: Cooperate, Player 2: Cooperate. Player 1:  Cooper\n"
     ]
    },
    {
     "name": "stderr",
     "output_type": "stream",
     "text": [
      "INFO:LLM_IPD:model 1 action: Cooperate\n",
      "INFO:LLM_IPD:model 2 action: Cooperate\n",
      "INFO:LLM_IPD:Round: 16\n"
     ]
    },
    {
     "name": "stdout",
     "output_type": "stream",
     "text": [
      "model  2  output:  You are playing multiple rounds of prisoner's dilemma.You are Player 2. Do you choose to 'Cooperate' or 'Defect'? Game history: . Player 2: Cooperate, Player 1: Cooperate. Player 2: Cooperate, Player 1: Cooperate. Player 2: Cooperate, Player 1: Cooperate. Player 2: Cooperate, Player 1: Cooperate. Player 2: Cooperate, Player 1: Cooperate. Player 2: Cooperate, Player 1: Cooperate. Player 2: Cooperate, Player 1: Cooperate. Player 2: Cooperate, Player 1: Cooperate. Player 2: Cooperate, Player 1: Cooperate. Player 2: Cooperate, Player 1: Cooperate. Player 2: Cooperate, Player 1: Cooperate. Player 2: Cooperate, Player 1: Cooperate. Player 2: Cooperate, Player 1: Cooperate. Player 2: Cooperate, Player 1: Cooperate. Player 2: Cooperate, Player 1: Cooperate. Player 2:   Cooper\n"
     ]
    },
    {
     "name": "stderr",
     "output_type": "stream",
     "text": [
      "The attention mask and the pad token id were not set. As a consequence, you may observe unexpected behavior. Please pass your input's `attention_mask` to obtain reliable results.\n",
      "Setting `pad_token_id` to `eos_token_id`:2 for open-end generation.\n"
     ]
    },
    {
     "name": "stdout",
     "output_type": "stream",
     "text": [
      "model  1  output:  You are playing multiple rounds of prisoner's dilemma.You are Player 1. Do you choose to 'Cooperate' or 'Defect'? Game history: . Player 1: Cooperate, Player 2: Cooperate. Player 1: Cooperate, Player 2: Cooperate. Player 1: Cooperate, Player 2: Cooperate. Player 1: Cooperate, Player 2: Cooperate. Player 1: Cooperate, Player 2: Cooperate. Player 1: Cooperate, Player 2: Cooperate. Player 1: Cooperate, Player 2: Cooperate. Player 1: Cooperate, Player 2: Cooperate. Player 1: Cooperate, Player 2: Cooperate. Player 1: Cooperate, Player 2: Cooperate. Player 1: Cooperate, Player 2: Cooperate. Player 1: Cooperate, Player 2: Cooperate. Player 1: Cooperate, Player 2: Cooperate. Player 1: Cooperate, Player 2: Cooperate. Player 1: Cooperate, Player 2: Cooperate. Player 1: Cooperate, Player 2: Cooperate. Player 1:  Cooper\n"
     ]
    },
    {
     "name": "stderr",
     "output_type": "stream",
     "text": [
      "INFO:LLM_IPD:model 1 action: Cooperate\n",
      "INFO:LLM_IPD:model 2 action: Cooperate\n",
      "INFO:LLM_IPD:Round: 17\n"
     ]
    },
    {
     "name": "stdout",
     "output_type": "stream",
     "text": [
      "model  2  output:  You are playing multiple rounds of prisoner's dilemma.You are Player 2. Do you choose to 'Cooperate' or 'Defect'? Game history: . Player 2: Cooperate, Player 1: Cooperate. Player 2: Cooperate, Player 1: Cooperate. Player 2: Cooperate, Player 1: Cooperate. Player 2: Cooperate, Player 1: Cooperate. Player 2: Cooperate, Player 1: Cooperate. Player 2: Cooperate, Player 1: Cooperate. Player 2: Cooperate, Player 1: Cooperate. Player 2: Cooperate, Player 1: Cooperate. Player 2: Cooperate, Player 1: Cooperate. Player 2: Cooperate, Player 1: Cooperate. Player 2: Cooperate, Player 1: Cooperate. Player 2: Cooperate, Player 1: Cooperate. Player 2: Cooperate, Player 1: Cooperate. Player 2: Cooperate, Player 1: Cooperate. Player 2: Cooperate, Player 1: Cooperate. Player 2: Cooperate, Player 1: Cooperate. Player 2:   Cooper\n"
     ]
    },
    {
     "name": "stderr",
     "output_type": "stream",
     "text": [
      "The attention mask and the pad token id were not set. As a consequence, you may observe unexpected behavior. Please pass your input's `attention_mask` to obtain reliable results.\n",
      "Setting `pad_token_id` to `eos_token_id`:2 for open-end generation.\n"
     ]
    },
    {
     "name": "stdout",
     "output_type": "stream",
     "text": [
      "model  1  output:  You are playing multiple rounds of prisoner's dilemma.You are Player 1. Do you choose to 'Cooperate' or 'Defect'? Game history: . Player 1: Cooperate, Player 2: Cooperate. Player 1: Cooperate, Player 2: Cooperate. Player 1: Cooperate, Player 2: Cooperate. Player 1: Cooperate, Player 2: Cooperate. Player 1: Cooperate, Player 2: Cooperate. Player 1: Cooperate, Player 2: Cooperate. Player 1: Cooperate, Player 2: Cooperate. Player 1: Cooperate, Player 2: Cooperate. Player 1: Cooperate, Player 2: Cooperate. Player 1: Cooperate, Player 2: Cooperate. Player 1: Cooperate, Player 2: Cooperate. Player 1: Cooperate, Player 2: Cooperate. Player 1: Cooperate, Player 2: Cooperate. Player 1: Cooperate, Player 2: Cooperate. Player 1: Cooperate, Player 2: Cooperate. Player 1: Cooperate, Player 2: Cooperate. Player 1: Cooperate, Player 2: Cooperate. Player 1:  Cooper\n"
     ]
    },
    {
     "name": "stderr",
     "output_type": "stream",
     "text": [
      "INFO:LLM_IPD:model 1 action: Cooperate\n",
      "INFO:LLM_IPD:model 2 action: Cooperate\n",
      "INFO:LLM_IPD:Round: 18\n"
     ]
    },
    {
     "name": "stdout",
     "output_type": "stream",
     "text": [
      "model  2  output:  You are playing multiple rounds of prisoner's dilemma.You are Player 2. Do you choose to 'Cooperate' or 'Defect'? Game history: . Player 2: Cooperate, Player 1: Cooperate. Player 2: Cooperate, Player 1: Cooperate. Player 2: Cooperate, Player 1: Cooperate. Player 2: Cooperate, Player 1: Cooperate. Player 2: Cooperate, Player 1: Cooperate. Player 2: Cooperate, Player 1: Cooperate. Player 2: Cooperate, Player 1: Cooperate. Player 2: Cooperate, Player 1: Cooperate. Player 2: Cooperate, Player 1: Cooperate. Player 2: Cooperate, Player 1: Cooperate. Player 2: Cooperate, Player 1: Cooperate. Player 2: Cooperate, Player 1: Cooperate. Player 2: Cooperate, Player 1: Cooperate. Player 2: Cooperate, Player 1: Cooperate. Player 2: Cooperate, Player 1: Cooperate. Player 2: Cooperate, Player 1: Cooperate. Player 2: Cooperate, Player 1: Cooperate. Player 2:   Cooper\n"
     ]
    },
    {
     "name": "stderr",
     "output_type": "stream",
     "text": [
      "The attention mask and the pad token id were not set. As a consequence, you may observe unexpected behavior. Please pass your input's `attention_mask` to obtain reliable results.\n",
      "Setting `pad_token_id` to `eos_token_id`:2 for open-end generation.\n"
     ]
    },
    {
     "name": "stdout",
     "output_type": "stream",
     "text": [
      "model  1  output:  You are playing multiple rounds of prisoner's dilemma.You are Player 1. Do you choose to 'Cooperate' or 'Defect'? Game history: . Player 1: Cooperate, Player 2: Cooperate. Player 1: Cooperate, Player 2: Cooperate. Player 1: Cooperate, Player 2: Cooperate. Player 1: Cooperate, Player 2: Cooperate. Player 1: Cooperate, Player 2: Cooperate. Player 1: Cooperate, Player 2: Cooperate. Player 1: Cooperate, Player 2: Cooperate. Player 1: Cooperate, Player 2: Cooperate. Player 1: Cooperate, Player 2: Cooperate. Player 1: Cooperate, Player 2: Cooperate. Player 1: Cooperate, Player 2: Cooperate. Player 1: Cooperate, Player 2: Cooperate. Player 1: Cooperate, Player 2: Cooperate. Player 1: Cooperate, Player 2: Cooperate. Player 1: Cooperate, Player 2: Cooperate. Player 1: Cooperate, Player 2: Cooperate. Player 1: Cooperate, Player 2: Cooperate. Player 1: Cooperate, Player 2: Cooperate. Player 1:  Cooper\n"
     ]
    },
    {
     "name": "stderr",
     "output_type": "stream",
     "text": [
      "INFO:LLM_IPD:model 1 action: Cooperate\n",
      "INFO:LLM_IPD:model 2 action: Cooperate\n",
      "INFO:LLM_IPD:Round: 19\n"
     ]
    },
    {
     "name": "stdout",
     "output_type": "stream",
     "text": [
      "model  2  output:  You are playing multiple rounds of prisoner's dilemma.You are Player 2. Do you choose to 'Cooperate' or 'Defect'? Game history: . Player 2: Cooperate, Player 1: Cooperate. Player 2: Cooperate, Player 1: Cooperate. Player 2: Cooperate, Player 1: Cooperate. Player 2: Cooperate, Player 1: Cooperate. Player 2: Cooperate, Player 1: Cooperate. Player 2: Cooperate, Player 1: Cooperate. Player 2: Cooperate, Player 1: Cooperate. Player 2: Cooperate, Player 1: Cooperate. Player 2: Cooperate, Player 1: Cooperate. Player 2: Cooperate, Player 1: Cooperate. Player 2: Cooperate, Player 1: Cooperate. Player 2: Cooperate, Player 1: Cooperate. Player 2: Cooperate, Player 1: Cooperate. Player 2: Cooperate, Player 1: Cooperate. Player 2: Cooperate, Player 1: Cooperate. Player 2: Cooperate, Player 1: Cooperate. Player 2: Cooperate, Player 1: Cooperate. Player 2: Cooperate, Player 1: Cooperate. Player 2:   Cooper\n"
     ]
    },
    {
     "name": "stderr",
     "output_type": "stream",
     "text": [
      "The attention mask and the pad token id were not set. As a consequence, you may observe unexpected behavior. Please pass your input's `attention_mask` to obtain reliable results.\n",
      "Setting `pad_token_id` to `eos_token_id`:2 for open-end generation.\n"
     ]
    },
    {
     "name": "stdout",
     "output_type": "stream",
     "text": [
      "model  1  output:  You are playing multiple rounds of prisoner's dilemma.You are Player 1. Do you choose to 'Cooperate' or 'Defect'? Game history: . Player 1: Cooperate, Player 2: Cooperate. Player 1: Cooperate, Player 2: Cooperate. Player 1: Cooperate, Player 2: Cooperate. Player 1: Cooperate, Player 2: Cooperate. Player 1: Cooperate, Player 2: Cooperate. Player 1: Cooperate, Player 2: Cooperate. Player 1: Cooperate, Player 2: Cooperate. Player 1: Cooperate, Player 2: Cooperate. Player 1: Cooperate, Player 2: Cooperate. Player 1: Cooperate, Player 2: Cooperate. Player 1: Cooperate, Player 2: Cooperate. Player 1: Cooperate, Player 2: Cooperate. Player 1: Cooperate, Player 2: Cooperate. Player 1: Cooperate, Player 2: Cooperate. Player 1: Cooperate, Player 2: Cooperate. Player 1: Cooperate, Player 2: Cooperate. Player 1: Cooperate, Player 2: Cooperate. Player 1: Cooperate, Player 2: Cooperate. Player 1: Cooperate, Player 2: Cooperate. Player 1:  Cooper\n"
     ]
    },
    {
     "name": "stderr",
     "output_type": "stream",
     "text": [
      "INFO:LLM_IPD:model 1 action: Cooperate\n",
      "INFO:LLM_IPD:model 2 action: Cooperate\n"
     ]
    },
    {
     "name": "stdout",
     "output_type": "stream",
     "text": [
      "model  2  output:  You are playing multiple rounds of prisoner's dilemma.You are Player 2. Do you choose to 'Cooperate' or 'Defect'? Game history: . Player 2: Cooperate, Player 1: Cooperate. Player 2: Cooperate, Player 1: Cooperate. Player 2: Cooperate, Player 1: Cooperate. Player 2: Cooperate, Player 1: Cooperate. Player 2: Cooperate, Player 1: Cooperate. Player 2: Cooperate, Player 1: Cooperate. Player 2: Cooperate, Player 1: Cooperate. Player 2: Cooperate, Player 1: Cooperate. Player 2: Cooperate, Player 1: Cooperate. Player 2: Cooperate, Player 1: Cooperate. Player 2: Cooperate, Player 1: Cooperate. Player 2: Cooperate, Player 1: Cooperate. Player 2: Cooperate, Player 1: Cooperate. Player 2: Cooperate, Player 1: Cooperate. Player 2: Cooperate, Player 1: Cooperate. Player 2: Cooperate, Player 1: Cooperate. Player 2: Cooperate, Player 1: Cooperate. Player 2: Cooperate, Player 1: Cooperate. Player 2: Cooperate, Player 1: Cooperate. Player 2:   Cooper\n"
     ]
    }
   ],
   "source": [
    "num_rounds = 20\n",
    "num_games = 10\n",
    "sv_game_history = {}\n",
    "\n",
    "for game_id in range(num_games):\n",
    "    # game_history = \"\"\n",
    "    sv_game_history[game_id] = {}\n",
    "    logger.info(\"Game: \" + str(game_id))\n",
    "    for round_id in range(num_rounds):\n",
    "        logger.info(\"Round: \" + str(round_id))\n",
    "\n",
    "        model1_info = model1.next_action_hf()\n",
    "        model2_info = model2.next_action_hf()#next_action_classic()\n",
    "\n",
    "        logger.info(\"model 1 action: \" + model1_info['raw_logits']['action'])\n",
    "        logger.info(\"model 2 action: \" + model2_info['raw_logits']['action'])\n",
    "\n",
    "        # save game hist\n",
    "        sv_game_history[game_id][round_id] = {'p1':model1_info,'p2':model2_info}\n",
    "\n",
    "        # update game histories for individual models\n",
    "        model1.add_to_hist(round_id, model1_info['raw_logits']['action'], model2_info['raw_logits']['action'])\n",
    "        model2.add_to_hist(round_id, model2_info['raw_logits']['action'], model1_info['raw_logits']['action'])\n",
    "\n",
    "    model1.reset()\n",
    "    model2.reset()"
   ]
  },
  {
   "cell_type": "code",
   "execution_count": 5,
   "metadata": {},
   "outputs": [],
   "source": [
    "import json\n",
    "output_dirname = \"/home/gunala/LLMDialGen/games/scripts/prompt4/\"\n",
    "output_fname = \"gemma7b_VS_mistral7b\"\n",
    "with open(output_dirname + output_fname,'w+') as outf:\n",
    "    json.dump(sv_game_history,outf)"
   ]
  }
 ],
 "metadata": {
  "kernelspec": {
   "display_name": "DialGenEnv",
   "language": "python",
   "name": "python3"
  },
  "language_info": {
   "codemirror_mode": {
    "name": "ipython",
    "version": 3
   },
   "file_extension": ".py",
   "mimetype": "text/x-python",
   "name": "python",
   "nbconvert_exporter": "python",
   "pygments_lexer": "ipython3",
   "version": "3.11.7"
  }
 },
 "nbformat": 4,
 "nbformat_minor": 2
}
