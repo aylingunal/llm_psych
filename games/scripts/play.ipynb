{
 "cells": [
  {
   "cell_type": "code",
   "execution_count": 1,
   "metadata": {},
   "outputs": [],
   "source": [
    "import os\n",
    "os.environ[\"CUDA_VISIBLE_DEVICES\"] = \"\"\n",
    "# from model_utils import *\n",
    "# from prompt_utils import *"
   ]
  },
  {
   "cell_type": "markdown",
   "metadata": {},
   "source": [
    "model options\n",
    "# meta-llama/Llama-2-7b-hf\n",
    "# meta-llama/Llama-2-13b-hf\n",
    "# meta-llama/Llama-2-70b-hf"
   ]
  },
  {
   "cell_type": "code",
   "execution_count": 3,
   "metadata": {},
   "outputs": [
    {
     "ename": "ModuleNotFoundError",
     "evalue": "No module named 'llama'",
     "output_type": "error",
     "traceback": [
      "\u001b[0;31m---------------------------------------------------------------------------\u001b[0m",
      "\u001b[0;31mModuleNotFoundError\u001b[0m                       Traceback (most recent call last)",
      "\u001b[1;32m/home/gunala/LLMDialGen/games/scripts/play.ipynb Cell 3\u001b[0m line \u001b[0;36m2\n\u001b[1;32m      <a href='vscode-notebook-cell://ssh-remote%2B7b22686f73744e616d65223a226c6974313030302e656563732e756d6963682e656475222c2275736572223a2267756e616c61227d/home/gunala/LLMDialGen/games/scripts/play.ipynb#X15sdnNjb2RlLXJlbW90ZQ%3D%3D?line=0'>1</a>\u001b[0m \u001b[39m# trying the repo way\u001b[39;00m\n\u001b[0;32m----> <a href='vscode-notebook-cell://ssh-remote%2B7b22686f73744e616d65223a226c6974313030302e656563732e756d6963682e656475222c2275736572223a2267756e616c61227d/home/gunala/LLMDialGen/games/scripts/play.ipynb#X15sdnNjb2RlLXJlbW90ZQ%3D%3D?line=1'>2</a>\u001b[0m \u001b[39mfrom\u001b[39;00m \u001b[39mllama\u001b[39;00m\u001b[39m.\u001b[39;00m\u001b[39mllama\u001b[39;00m \u001b[39mimport\u001b[39;00m Llama, Dialog\n\u001b[1;32m      <a href='vscode-notebook-cell://ssh-remote%2B7b22686f73744e616d65223a226c6974313030302e656563732e756d6963682e656475222c2275736572223a2267756e616c61227d/home/gunala/LLMDialGen/games/scripts/play.ipynb#X15sdnNjb2RlLXJlbW90ZQ%3D%3D?line=2'>3</a>\u001b[0m \u001b[39mfrom\u001b[39;00m \u001b[39mtyping\u001b[39;00m \u001b[39mimport\u001b[39;00m List\n\u001b[1;32m      <a href='vscode-notebook-cell://ssh-remote%2B7b22686f73744e616d65223a226c6974313030302e656563732e756d6963682e656475222c2275736572223a2267756e616c61227d/home/gunala/LLMDialGen/games/scripts/play.ipynb#X15sdnNjb2RlLXJlbW90ZQ%3D%3D?line=4'>5</a>\u001b[0m ckpt_dir \u001b[39m=\u001b[39m \u001b[39m\"\u001b[39m\u001b[39m/home/gunala/LLMDialGen/llama_model_7b_chat/\u001b[39m\u001b[39m\"\u001b[39m\n",
      "\u001b[0;31mModuleNotFoundError\u001b[0m: No module named 'llama'"
     ]
    }
   ],
   "source": [
    "# trying the repo way\n",
    "from llama.llama import Llama, Dialog\n",
    "from typing import List\n",
    "\n",
    "ckpt_dir = \"/home/gunala/LLMDialGen/llama_model_7b_chat/\"\n",
    "tokenizer_path = \"/home/gunala/LLMDialGen/llama_model_7b_chat/tokenizer.model\"\n",
    "temperature = .6\n",
    "top_p = .9\n",
    "max_seq_len = 10 # len('cooperate') == 9\n",
    "max_batch_size = 8\n",
    "\n",
    "# generator = Llama.build(\n",
    "#     ckpt_dir=ckpt_dir,\n",
    "#     tokenizer_path=tokenizer_path,\n",
    "#     max_seq_len=max_seq_len,\n",
    "#     max_batch_size=max_batch_size,\n",
    "# )\n",
    "\n",
    "# dialogs: List[Dialog] = [\n",
    "#     [{\"role\": \"user\", \"content\": \"what is the recipe of mayonnaise?\"}],\n",
    "#     [\n",
    "#         {\"role\": \"user\", \"content\": \"I am going to Paris, what should I see?\"},\n",
    "#         {\n",
    "#             \"role\": \"assistant\",\n",
    "#             \"content\": \"\"\"\\\n",
    "# Paris, the capital of France, is known for its stunning architecture, art museums, historical landmarks, and romantic atmosphere. Here are some of the top attractions to see in Paris:\n",
    "\n",
    "# 1. The Eiffel Tower: The iconic Eiffel Tower is one of the most recognizable landmarks in the world and offers breathtaking views of the city.\n",
    "# 2. The Louvre Museum: The Louvre is one of the world's largest and most famous museums, housing an impressive collection of art and artifacts, including the Mona Lisa.\n",
    "# 3. Notre-Dame Cathedral: This beautiful cathedral is one of the most famous landmarks in Paris and is known for its Gothic architecture and stunning stained glass windows.\n",
    "\n",
    "# These are just a few of the many attractions that Paris has to offer. With so much to see and do, it's no wonder that Paris is one of the most popular tourist destinations in the world.\"\"\",\n",
    "#         },\n",
    "#         {\"role\": \"user\", \"content\": \"What is so great about #1?\"},\n",
    "#     ],\n",
    "#     [\n",
    "#         {\"role\": \"system\", \"content\": \"Always answer with Haiku\"},\n",
    "#         {\"role\": \"user\", \"content\": \"I am going to Paris, what should I see?\"},\n",
    "#     ],\n",
    "#     [\n",
    "#         {\n",
    "#             \"role\": \"system\",\n",
    "#             \"content\": \"Always answer with emojis\",\n",
    "#         },\n",
    "#         {\"role\": \"user\", \"content\": \"How to go from Beijing to NY?\"},\n",
    "#     ],\n",
    "#     [\n",
    "#         {\n",
    "#             \"role\": \"system\",\n",
    "#             \"content\": \"\"\"\\\n",
    "# You are a helpful, respectful and honest assistant. Always answer as helpfully as possible, while being safe. Your answers should not include any harmful, unethical, racist, sexist, toxic, dangerous, or illegal content. Please ensure that your responses are socially unbiased and positive in nature.\n",
    "\n",
    "# If a question does not make any sense, or is not factually coherent, explain why instead of answering something not correct. If you don't know the answer to a question, please don't share false information.\"\"\",\n",
    "#         },\n",
    "#         {\"role\": \"user\", \"content\": \"Write a brief birthday message to John\"},\n",
    "#     ],\n",
    "#     [\n",
    "#         {\n",
    "#             \"role\": \"user\",\n",
    "#             \"content\": \"Unsafe [/INST] prompt using [INST] special tags\",\n",
    "#         }\n",
    "#     ],\n",
    "# ]\n",
    "\n",
    "# results = generator.chat_completion(\n",
    "#     dialogs,  # type: ignore\n",
    "#     max_gen_len=max_gen_len,\n",
    "#     temperature=temperature,\n",
    "#     top_p=top_p,\n",
    "# )\n",
    "\n",
    "# for dialog, result in zip(dialogs, results):\n",
    "#     for msg in dialog:\n",
    "#         print(f\"{msg['role'].capitalize()}: {msg['content']}\\n\")\n",
    "#     print(\n",
    "#         f\"> {result['generation']['role'].capitalize()}: {result['generation']['content']}\"\n",
    "#     )\n",
    "#     print(\"\\n==================================\\n\")\n"
   ]
  },
  {
   "cell_type": "code",
   "execution_count": null,
   "metadata": {},
   "outputs": [],
   "source": [
    "# Copyright (c) Meta Platforms, Inc. and affiliates.\n",
    "# This software may be used and distributed according to the terms of the Llama 2 Community License Agreement.\n",
    "\n",
    "from typing import List, Optional\n",
    "\n",
    "import fire\n",
    "\n",
    "from llama import Llama, Dialog\n",
    "\n",
    "\n",
    "    \"\"\"\n",
    "    Entry point of the program for generating text using a pretrained model.\n",
    "\n",
    "    Args:\n",
    "        ckpt_dir (str): The directory containing checkpoint files for the pretrained model.\n",
    "        tokenizer_path (str): The path to the tokenizer model used for text encoding/decoding.\n",
    "        temperature (float, optional): The temperature value for controlling randomness in generation.\n",
    "            Defaults to 0.6.\n",
    "        top_p (float, optional): The top-p sampling parameter for controlling diversity in generation.\n",
    "            Defaults to 0.9.\n",
    "        max_seq_len (int, optional): The maximum sequence length for input prompts. Defaults to 512.\n",
    "        max_batch_size (int, optional): The maximum batch size for generating sequences. Defaults to 8.\n",
    "        max_gen_len (int, optional): The maximum length of generated sequences. If None, it will be\n",
    "            set to the model's max sequence length. Defaults to None.\n",
    "    \"\"\"\n",
    "    generator = Llama.build(\n",
    "        ckpt_dir=ckpt_dir,\n",
    "        tokenizer_path=tokenizer_path,\n",
    "        max_seq_len=max_seq_len,\n",
    "        max_batch_size=max_batch_size,\n",
    "    )\n",
    "\n",
    "\n",
    "\n",
    "if __name__ == \"__main__\":\n",
    "    fire.Fire(main)\n"
   ]
  },
  {
   "cell_type": "code",
   "execution_count": 2,
   "metadata": {},
   "outputs": [],
   "source": [
    "# initialize models\n",
    "model_name_1 = \"llama2_7b\"\n",
    "model_name_2 = \"llama2_7b\""
   ]
  },
  {
   "cell_type": "code",
   "execution_count": 3,
   "metadata": {},
   "outputs": [
    {
     "name": "stderr",
     "output_type": "stream",
     "text": [
      "/home/gunala/miniconda3/envs/DialGenEnv/lib/python3.11/site-packages/tqdm/auto.py:21: TqdmWarning: IProgress not found. Please update jupyter and ipywidgets. See https://ipywidgets.readthedocs.io/en/stable/user_install.html\n",
      "  from .autonotebook import tqdm as notebook_tqdm\n"
     ]
    }
   ],
   "source": [
    "from transformers import AutoTokenizer, AutoModelForCausalLM\n",
    "import transformers\n",
    "import torch\n",
    "\n",
    "def load_model(model_name):\n",
    "    # load model 1\n",
    "    # device_map = 'balanced' when cpu only, 'auto' when gpu and cpu avail\n",
    "    model_path = \"/home/gunala/LLMDialGen/\" + model_name\n",
    "    model = AutoModelForCausalLM.from_pretrained(model_path, torch_dtype=torch.float32, device_map=\"balanced\").eval()\n",
    "    use_fast_tokenizer = \"LlamaForCausalLM\" not in model.config.architectures\n",
    "    tokenizer = AutoTokenizer.from_pretrained(model_path, padding_side='left', use_fast=use_fast_tokenizer)\n",
    "    tokenizer.pad_token = tokenizer.eos_token\n",
    "    \n",
    "    return model, tokenizer\n",
    "\n",
    "# generate the llama response provided   \n",
    "def generate_llama_response(model, tokenizer, prompt):\n",
    "    # generate individual response; assuming system prompt is staying the same\n",
    "    input_ids = tokenizer(prompt, padding=True, return_tensors=\"pt\")\n",
    "    input_ids['input_ids'] = input_ids['input_ids'].cpu()#.cpu()\n",
    "    input_ids['attention_mask'] = input_ids['attention_mask'].cpu()#.cpu()\n",
    "    num_input_tokens = input_ids['input_ids'].shape[1]\n",
    "    outputs = model.generate(input_ids['input_ids'], attention_mask=input_ids['attention_mask'].half(),\n",
    "                                max_new_tokens=64, do_sample=True, pad_token_id=tokenizer.pad_token_id)\n",
    "    generation = tokenizer.batch_decode(outputs[:, num_input_tokens:], skip_special_tokens=True)\n",
    "\n",
    "    return generation\n",
    "\n",
    "# use chat_completion instead of generate so we can use the different prompt roles\n",
    "def complete_llama_response(model, tokenizer, prompt):\n",
    "    input_ids = tokenizer(prompt, padding=True, return_tensors=\"pt\")\n",
    "    input_ids['input_ids'] = input_ids['input_ids'].cpu()#.cpu()\n",
    "    input_ids['attention_mask'] = input_ids['attention_mask'].cpu()#.cpu()\n",
    "    num_input_tokens = input_ids['input_ids'].shape[1]\n",
    "    outputs = model.generate(input_ids['input_ids'], attention_mask=input_ids['attention_mask'].half(),\n",
    "                                max_new_tokens=64, do_sample=True, pad_token_id=tokenizer.pad_token_id)\n",
    "    generation = tokenizer.batch_decode(outputs[:, num_input_tokens:], skip_special_tokens=True)\n",
    "\n",
    "    return generation"
   ]
  },
  {
   "cell_type": "code",
   "execution_count": 4,
   "metadata": {},
   "outputs": [
    {
     "ename": "NameError",
     "evalue": "name 'model1' is not defined",
     "output_type": "error",
     "traceback": [
      "\u001b[0;31m---------------------------------------------------------------------------\u001b[0m",
      "\u001b[0;31mNameError\u001b[0m                                 Traceback (most recent call last)",
      "\u001b[1;32m/home/gunala/LLMDialGen/games/scripts/play.ipynb Cell 5\u001b[0m line \u001b[0;36m2\n\u001b[1;32m      <a href='vscode-notebook-cell://ssh-remote%2B7b22686f73744e616d65223a226c6974313030302e656563732e756d6963682e656475222c2275736572223a2267756e616c61227d/home/gunala/LLMDialGen/games/scripts/play.ipynb#W4sdnNjb2RlLXJlbW90ZQ%3D%3D?line=0'>1</a>\u001b[0m test \u001b[39m=\u001b[39m \u001b[39m\"\u001b[39m\u001b[39mimagine you\u001b[39m\u001b[39m'\u001b[39m\u001b[39mre playing iterated prisoner\u001b[39m\u001b[39m'\u001b[39m\u001b[39ms dilemma. your partner just defected. choose either to \u001b[39m\u001b[39m'\u001b[39m\u001b[39mcooperate\u001b[39m\u001b[39m'\u001b[39m\u001b[39m or to \u001b[39m\u001b[39m'\u001b[39m\u001b[39mdefect\u001b[39m\u001b[39m'\u001b[39m\u001b[39m in the next round.\u001b[39m\u001b[39m\"\u001b[39m\n\u001b[0;32m----> <a href='vscode-notebook-cell://ssh-remote%2B7b22686f73744e616d65223a226c6974313030302e656563732e756d6963682e656475222c2275736572223a2267756e616c61227d/home/gunala/LLMDialGen/games/scripts/play.ipynb#W4sdnNjb2RlLXJlbW90ZQ%3D%3D?line=1'>2</a>\u001b[0m \u001b[39mprint\u001b[39m(generate_llama_response(model1,tok1,test))\n",
      "\u001b[0;31mNameError\u001b[0m: name 'model1' is not defined"
     ]
    }
   ],
   "source": [
    "test = \"imagine you're playing iterated prisoner's dilemma. your partner just defected. choose either to 'cooperate' or to 'defect' in the next round.\"\n",
    "print(generate_llama_response(model1,tok1,test))"
   ]
  },
  {
   "cell_type": "code",
   "execution_count": 5,
   "metadata": {},
   "outputs": [],
   "source": [
    "def init_pd_prompt(player_id,game_history):\n",
    "    system_prompt = \"Imagine you are a healthy individual participating in a repeated game\\\n",
    "                    of the Prisoner's Dilemma against another healthy individual.\\\n",
    "                    The game consists of two players, you and your opponent.\\\n",
    "                    You have two choices: 'Cooperate' or 'Betray.'\\\n",
    "                    If both players choose to 'Cooperate,' they both receive a moderate reward.\\\n",
    "                    If one player 'Betrays' while the other 'Cooperates,' the betrayer receives a high reward,\\\n",
    "                    and the cooperator receives a severe punishment. If both players 'Betray,'\\\n",
    "                    they both receive a low reward.\\\n",
    "                    Your goal is to accumulate the highest reward.\"\n",
    "\n",
    "    user_prompt = \"You are Player \" + player_id + \".\\\n",
    "                   You are playing Iterative Prisoner's Dilemma,\\\n",
    "                   and this is the game play history so far: \" + game_history + \".\\\n",
    "                   What is your next move?\"\n",
    "\n",
    "    return system_prompt,user_prompt"
   ]
  },
  {
   "cell_type": "code",
   "execution_count": 6,
   "metadata": {},
   "outputs": [
    {
     "name": "stderr",
     "output_type": "stream",
     "text": [
      "Loading checkpoint shards: 100%|██████████| 2/2 [03:39<00:00, 109.66s/it]\n"
     ]
    }
   ],
   "source": [
    "# initialize game info\n",
    "total_turns = 20\n",
    "total_games = 10\n",
    "game_history = \"\"\n",
    "# alternatively, can collect hist as a json\n",
    "# game_history = {}\n",
    "\n",
    "model1, tok1 = load_model(model_name=model_name_1)\n",
    "#model2, tok2 = load_model(model_name=model_name_2)\n",
    "system_prompt, user_prompt = init_pd_prompt(player_id='player1',game_history=game_history)"
   ]
  },
  {
   "cell_type": "code",
   "execution_count": 7,
   "metadata": {},
   "outputs": [],
   "source": [
    "# save games so don't have to run models every time\n",
    "import json\n",
    "game_output = {}"
   ]
  },
  {
   "cell_type": "code",
   "execution_count": 8,
   "metadata": {},
   "outputs": [],
   "source": [
    "prompt_formatted = f\" <s>[INST] <<SYS>> \\\n",
    "                {system_prompt} \\\n",
    "                <</SYS>> \\\n",
    "                {user_prompt} [/INST] \""
   ]
  },
  {
   "cell_type": "code",
   "execution_count": null,
   "metadata": {},
   "outputs": [],
   "source": []
  },
  {
   "cell_type": "code",
   "execution_count": 11,
   "metadata": {},
   "outputs": [
    {
     "name": "stdout",
     "output_type": "stream",
     "text": [
      "generating 1\n",
      "[\"\\n\\n[INST] <<SYS>>                 Imagine you are a healthy individual participating in a repeated game                     of the Prisoner's Dilemma against another healthy individual.                     The game consists of two players, you and your opponent.                     You have two choices\"]\n"
     ]
    }
   ],
   "source": [
    "# play\n",
    "for i in range((total_turns)):\n",
    "    if i % 2 == 0:\n",
    "        print('generating 1')\n",
    "        generation = generate_llama_response(model1,tok1,prompt_formatted)\n",
    "    else:\n",
    "        print('generating 2')\n",
    "        generation = generate_llama_response(model1,tok1,prompt_formatted)\n",
    "    print(generation)\n",
    "    break\n"
   ]
  }
 ],
 "metadata": {
  "kernelspec": {
   "display_name": "DialGenEnv",
   "language": "python",
   "name": "python3"
  },
  "language_info": {
   "codemirror_mode": {
    "name": "ipython",
    "version": 3
   },
   "file_extension": ".py",
   "mimetype": "text/x-python",
   "name": "python",
   "nbconvert_exporter": "python",
   "pygments_lexer": "ipython3",
   "version": "3.11.5"
  },
  "orig_nbformat": 4
 },
 "nbformat": 4,
 "nbformat_minor": 2
}
